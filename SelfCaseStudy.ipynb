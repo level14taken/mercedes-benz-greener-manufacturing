{
  "nbformat": 4,
  "nbformat_minor": 0,
  "metadata": {
    "colab": {
      "name": "SelfCaseStudy1.ipynb",
      "provenance": [],
      "collapsed_sections": [
        "JqEay7Q4RNfq",
        "_aoZZNNpslEZ"
      ]
    },
    "kernelspec": {
      "name": "python3",
      "display_name": "Python 3"
    }
  },
  "cells": [
    {
      "cell_type": "markdown",
      "metadata": {
        "id": "_E_gpB-Ak_A3",
        "colab_type": "text"
      },
      "source": [
        "# **Mercedes Benz Greener Manufacturing**"
      ]
    },
    {
      "cell_type": "markdown",
      "metadata": {
        "id": "BDCPXIHelbnz",
        "colab_type": "text"
      },
      "source": [
        "##Business Problem"
      ]
    },
    {
      "cell_type": "markdown",
      "metadata": {
        "id": "-FzGD3lDliYv",
        "colab_type": "text"
      },
      "source": [
        "Kaggle Competition - Mercedes Benz Greener Manufacturing"
      ]
    },
    {
      "cell_type": "markdown",
      "metadata": {
        "id": "7Zqj1OD6lueH",
        "colab_type": "text"
      },
      "source": [
        "The task of this competition by Daimler is to predict the time in seconds taken to pass the test for a given set of Mercedes-Benz car features, this helps the company in speedier testing and lower CO2 Emissions."
      ]
    },
    {
      "cell_type": "markdown",
      "metadata": {
        "id": "UdI1LoI5mLTl",
        "colab_type": "text"
      },
      "source": [
        "**Data Acquisition**"
      ]
    },
    {
      "cell_type": "markdown",
      "metadata": {
        "id": "FxWogj1omaFT",
        "colab_type": "text"
      },
      "source": [
        "[https://www.kaggle.com/c/mercedes-benz-greener-manufacturing/data](https://www.kaggle.com/c/mercedes-benz-greener-manufacturing/data)"
      ]
    },
    {
      "cell_type": "markdown",
      "metadata": {
        "id": "qf98qULynUoS",
        "colab_type": "text"
      },
      "source": [
        "**Evaluation Metric**\n",
        "\n",
        "Submissions for the competition is evaluated on R2 score. However as the  metric is directly related to mse we can directly optimize mse or rmse for that matter."
      ]
    },
    {
      "cell_type": "code",
      "metadata": {
        "id": "RXRrYTicnXz9",
        "colab_type": "code",
        "outputId": "b13bf2d1-c676-4ed5-e7a9-ca501276c209",
        "colab": {
          "base_uri": "https://localhost:8080/",
          "height": 34
        }
      },
      "source": [
        "from google.colab import drive\n",
        "drive.mount('/content/drive')"
      ],
      "execution_count": 1,
      "outputs": [
        {
          "output_type": "stream",
          "text": [
            "Drive already mounted at /content/drive; to attempt to forcibly remount, call drive.mount(\"/content/drive\", force_remount=True).\n"
          ],
          "name": "stdout"
        }
      ]
    },
    {
      "cell_type": "code",
      "metadata": {
        "id": "ja0-ZAIm9IWd",
        "colab_type": "code",
        "outputId": "2d17fce7-4d45-411f-fc42-b63261d4e885",
        "colab": {
          "base_uri": "https://localhost:8080/",
          "height": 80
        }
      },
      "source": [
        "import pandas as pd\n",
        "import numpy as np\n",
        "import string\n",
        "import matplotlib.pyplot as plt\n",
        "import seaborn as sns\n",
        "import matplotlib.cm as cm\n",
        "from scipy.stats import randint as sp_randint\n",
        "from scipy.stats import uniform\n",
        "from sklearn.preprocessing import StandardScaler,MinMaxScaler\n",
        "from sklearn.model_selection import RandomizedSearchCV,GridSearchCV   \n",
        "from sklearn.ensemble import RandomForestRegressor\n",
        "import xgboost as xgb\n",
        "from prettytable import PrettyTable\n",
        "import pickle\n",
        "from sklearn.model_selection import RepeatedKFold,KFold\n",
        "from sklearn.metrics import r2_score\n",
        "from sklearn.preprocessing import LabelEncoder\n",
        "from sklearn.decomposition import PCA\n",
        "from sklearn.feature_extraction import DictVectorizer\n",
        "from xgboost import plot_importance\n",
        "from mlxtend.regressor import StackingCVRegressor\n",
        "from sklearn.linear_model import Ridge\n",
        "from sklearn.ensemble import ExtraTreesRegressor\n",
        "from sklearn.model_selection import cross_val_score\n",
        "from sklearn.linear_model import SGDRegressor\n",
        "from scipy import stats\n",
        "import random\n",
        "from sklearn.feature_selection import SelectKBest\n",
        "from sklearn.feature_selection import f_regression\n",
        "from sklearn.svm import SVR\n",
        "from sklearn.decomposition import TruncatedSVD\n",
        "import keras\n",
        "from keras.models import Sequential\n",
        "from keras.layers import Dense,Dropout\n",
        "from keras.wrappers.scikit_learn import KerasRegressor\n",
        "from sklearn.model_selection import cross_validate"
      ],
      "execution_count": 2,
      "outputs": [
        {
          "output_type": "stream",
          "text": [
            "Using TensorFlow backend.\n"
          ],
          "name": "stderr"
        },
        {
          "output_type": "display_data",
          "data": {
            "text/html": [
              "<p style=\"color: red;\">\n",
              "The default version of TensorFlow in Colab will soon switch to TensorFlow 2.x.<br>\n",
              "We recommend you <a href=\"https://www.tensorflow.org/guide/migrate\" target=\"_blank\">upgrade</a> now \n",
              "or ensure your notebook will continue to use TensorFlow 1.x via the <code>%tensorflow_version 1.x</code> magic:\n",
              "<a href=\"https://colab.research.google.com/notebooks/tensorflow_version.ipynb\" target=\"_blank\">more info</a>.</p>\n"
            ],
            "text/plain": [
              "<IPython.core.display.HTML object>"
            ]
          },
          "metadata": {
            "tags": []
          }
        }
      ]
    },
    {
      "cell_type": "code",
      "metadata": {
        "id": "rWA0Lfini62s",
        "colab_type": "code",
        "outputId": "edbd9a2b-5e81-4f61-87bb-e00d48606783",
        "colab": {
          "base_uri": "https://localhost:8080/",
          "height": 173
        }
      },
      "source": [
        "!pip install bayesian-optimization\n",
        "from bayes_opt import BayesianOptimization"
      ],
      "execution_count": 0,
      "outputs": [
        {
          "output_type": "stream",
          "text": [
            "Collecting bayesian-optimization\n",
            "  Downloading https://files.pythonhosted.org/packages/b5/26/9842333adbb8f17bcb3d699400a8b1ccde0af0b6de8d07224e183728acdf/bayesian_optimization-1.1.0-py3-none-any.whl\n",
            "Requirement already satisfied: scikit-learn>=0.18.0 in /usr/local/lib/python3.6/dist-packages (from bayesian-optimization) (0.22.1)\n",
            "Requirement already satisfied: numpy>=1.9.0 in /usr/local/lib/python3.6/dist-packages (from bayesian-optimization) (1.17.5)\n",
            "Requirement already satisfied: scipy>=0.14.0 in /usr/local/lib/python3.6/dist-packages (from bayesian-optimization) (1.4.1)\n",
            "Requirement already satisfied: joblib>=0.11 in /usr/local/lib/python3.6/dist-packages (from scikit-learn>=0.18.0->bayesian-optimization) (0.14.1)\n",
            "Installing collected packages: bayesian-optimization\n",
            "Successfully installed bayesian-optimization-1.1.0\n"
          ],
          "name": "stdout"
        }
      ]
    },
    {
      "cell_type": "code",
      "metadata": {
        "id": "s-hXcr0_0yyJ",
        "colab_type": "code",
        "colab": {}
      },
      "source": [
        "random_seed = 3\n",
        "random.seed(random_seed)\n",
        "np.random.seed(random_seed)"
      ],
      "execution_count": 0,
      "outputs": []
    },
    {
      "cell_type": "code",
      "metadata": {
        "id": "K_xvCt_ZnYUY",
        "colab_type": "code",
        "colab": {}
      },
      "source": [
        "test= pd.read_csv('/content/drive/My Drive/mercedes-benz-greener-manufacturing/test.csv')\n",
        "train= pd.read_csv('/content/drive/My Drive/mercedes-benz-greener-manufacturing/train.csv')\n",
        "results=  pd.read_csv('/content/drive/My Drive/mercedes-benz-greener-manufacturing/sample_submission.csv')\n",
        "y_train= train.y.values"
      ],
      "execution_count": 0,
      "outputs": []
    },
    {
      "cell_type": "code",
      "metadata": {
        "id": "H9wsvoCS8ebz",
        "colab_type": "code",
        "colab": {}
      },
      "source": [
        "cat_cols_0= train.columns[train.dtypes==\"object\"]#categorical columns\n",
        "binary_cols_0= np.delete(train.columns[train.dtypes==\"int64\"],0)#binary columns\n",
        "num_cols_0= train.columns[train.dtypes==\"int64\"]#numerical columns"
      ],
      "execution_count": 0,
      "outputs": []
    },
    {
      "cell_type": "markdown",
      "metadata": {
        "id": "9mxQqOeGRKiI",
        "colab_type": "text"
      },
      "source": [
        "### **Data Exploration**"
      ]
    },
    {
      "cell_type": "code",
      "metadata": {
        "id": "VnviTwgQ9X5_",
        "colab_type": "code",
        "outputId": "dba94724-ea03-4ca2-f2ed-8526dee71821",
        "colab": {
          "base_uri": "https://localhost:8080/",
          "height": 346
        }
      },
      "source": [
        "train.describe()"
      ],
      "execution_count": 0,
      "outputs": [
        {
          "output_type": "execute_result",
          "data": {
            "text/html": [
              "<div>\n",
              "<style scoped>\n",
              "    .dataframe tbody tr th:only-of-type {\n",
              "        vertical-align: middle;\n",
              "    }\n",
              "\n",
              "    .dataframe tbody tr th {\n",
              "        vertical-align: top;\n",
              "    }\n",
              "\n",
              "    .dataframe thead th {\n",
              "        text-align: right;\n",
              "    }\n",
              "</style>\n",
              "<table border=\"1\" class=\"dataframe\">\n",
              "  <thead>\n",
              "    <tr style=\"text-align: right;\">\n",
              "      <th></th>\n",
              "      <th>ID</th>\n",
              "      <th>y</th>\n",
              "      <th>X10</th>\n",
              "      <th>X11</th>\n",
              "      <th>X12</th>\n",
              "      <th>X13</th>\n",
              "      <th>X14</th>\n",
              "      <th>X15</th>\n",
              "      <th>X16</th>\n",
              "      <th>X17</th>\n",
              "      <th>X18</th>\n",
              "      <th>X19</th>\n",
              "      <th>X20</th>\n",
              "      <th>X21</th>\n",
              "      <th>X22</th>\n",
              "      <th>X23</th>\n",
              "      <th>X24</th>\n",
              "      <th>X26</th>\n",
              "      <th>X27</th>\n",
              "      <th>X28</th>\n",
              "      <th>X29</th>\n",
              "      <th>X30</th>\n",
              "      <th>X31</th>\n",
              "      <th>X32</th>\n",
              "      <th>X33</th>\n",
              "      <th>X34</th>\n",
              "      <th>X35</th>\n",
              "      <th>X36</th>\n",
              "      <th>X37</th>\n",
              "      <th>X38</th>\n",
              "      <th>X39</th>\n",
              "      <th>X40</th>\n",
              "      <th>X41</th>\n",
              "      <th>X42</th>\n",
              "      <th>X43</th>\n",
              "      <th>X44</th>\n",
              "      <th>X45</th>\n",
              "      <th>X46</th>\n",
              "      <th>X47</th>\n",
              "      <th>X48</th>\n",
              "      <th>...</th>\n",
              "      <th>X345</th>\n",
              "      <th>X346</th>\n",
              "      <th>X347</th>\n",
              "      <th>X348</th>\n",
              "      <th>X349</th>\n",
              "      <th>X350</th>\n",
              "      <th>X351</th>\n",
              "      <th>X352</th>\n",
              "      <th>X353</th>\n",
              "      <th>X354</th>\n",
              "      <th>X355</th>\n",
              "      <th>X356</th>\n",
              "      <th>X357</th>\n",
              "      <th>X358</th>\n",
              "      <th>X359</th>\n",
              "      <th>X360</th>\n",
              "      <th>X361</th>\n",
              "      <th>X362</th>\n",
              "      <th>X363</th>\n",
              "      <th>X364</th>\n",
              "      <th>X365</th>\n",
              "      <th>X366</th>\n",
              "      <th>X367</th>\n",
              "      <th>X368</th>\n",
              "      <th>X369</th>\n",
              "      <th>X370</th>\n",
              "      <th>X371</th>\n",
              "      <th>X372</th>\n",
              "      <th>X373</th>\n",
              "      <th>X374</th>\n",
              "      <th>X375</th>\n",
              "      <th>X376</th>\n",
              "      <th>X377</th>\n",
              "      <th>X378</th>\n",
              "      <th>X379</th>\n",
              "      <th>X380</th>\n",
              "      <th>X382</th>\n",
              "      <th>X383</th>\n",
              "      <th>X384</th>\n",
              "      <th>X385</th>\n",
              "    </tr>\n",
              "  </thead>\n",
              "  <tbody>\n",
              "    <tr>\n",
              "      <th>count</th>\n",
              "      <td>4209.000000</td>\n",
              "      <td>4209.000000</td>\n",
              "      <td>4209.000000</td>\n",
              "      <td>4209.0</td>\n",
              "      <td>4209.000000</td>\n",
              "      <td>4209.000000</td>\n",
              "      <td>4209.000000</td>\n",
              "      <td>4209.000000</td>\n",
              "      <td>4209.000000</td>\n",
              "      <td>4209.000000</td>\n",
              "      <td>4209.000000</td>\n",
              "      <td>4209.000000</td>\n",
              "      <td>4209.000000</td>\n",
              "      <td>4209.000000</td>\n",
              "      <td>4209.000000</td>\n",
              "      <td>4209.000000</td>\n",
              "      <td>4209.000000</td>\n",
              "      <td>4209.000000</td>\n",
              "      <td>4209.000000</td>\n",
              "      <td>4209.000000</td>\n",
              "      <td>4209.000000</td>\n",
              "      <td>4209.000000</td>\n",
              "      <td>4209.000000</td>\n",
              "      <td>4209.000000</td>\n",
              "      <td>4209.000000</td>\n",
              "      <td>4209.000000</td>\n",
              "      <td>4209.000000</td>\n",
              "      <td>4209.000000</td>\n",
              "      <td>4209.000000</td>\n",
              "      <td>4209.000000</td>\n",
              "      <td>4209.000000</td>\n",
              "      <td>4209.000000</td>\n",
              "      <td>4209.000000</td>\n",
              "      <td>4209.000000</td>\n",
              "      <td>4209.000000</td>\n",
              "      <td>4209.000000</td>\n",
              "      <td>4209.000000</td>\n",
              "      <td>4209.000000</td>\n",
              "      <td>4209.000000</td>\n",
              "      <td>4209.000000</td>\n",
              "      <td>...</td>\n",
              "      <td>4209.000000</td>\n",
              "      <td>4209.000000</td>\n",
              "      <td>4209.0</td>\n",
              "      <td>4209.000000</td>\n",
              "      <td>4209.000000</td>\n",
              "      <td>4209.000000</td>\n",
              "      <td>4209.000000</td>\n",
              "      <td>4209.000000</td>\n",
              "      <td>4209.000000</td>\n",
              "      <td>4209.000000</td>\n",
              "      <td>4209.000000</td>\n",
              "      <td>4209.000000</td>\n",
              "      <td>4209.000000</td>\n",
              "      <td>4209.000000</td>\n",
              "      <td>4209.000000</td>\n",
              "      <td>4209.000000</td>\n",
              "      <td>4209.000000</td>\n",
              "      <td>4209.000000</td>\n",
              "      <td>4209.000000</td>\n",
              "      <td>4209.000000</td>\n",
              "      <td>4209.000000</td>\n",
              "      <td>4209.000000</td>\n",
              "      <td>4209.000000</td>\n",
              "      <td>4209.000000</td>\n",
              "      <td>4209.000000</td>\n",
              "      <td>4209.000000</td>\n",
              "      <td>4209.000000</td>\n",
              "      <td>4209.000000</td>\n",
              "      <td>4209.000000</td>\n",
              "      <td>4209.000000</td>\n",
              "      <td>4209.000000</td>\n",
              "      <td>4209.000000</td>\n",
              "      <td>4209.000000</td>\n",
              "      <td>4209.000000</td>\n",
              "      <td>4209.000000</td>\n",
              "      <td>4209.000000</td>\n",
              "      <td>4209.000000</td>\n",
              "      <td>4209.000000</td>\n",
              "      <td>4209.000000</td>\n",
              "      <td>4209.000000</td>\n",
              "    </tr>\n",
              "    <tr>\n",
              "      <th>mean</th>\n",
              "      <td>4205.960798</td>\n",
              "      <td>100.669318</td>\n",
              "      <td>0.013305</td>\n",
              "      <td>0.0</td>\n",
              "      <td>0.075077</td>\n",
              "      <td>0.057971</td>\n",
              "      <td>0.428130</td>\n",
              "      <td>0.000475</td>\n",
              "      <td>0.002613</td>\n",
              "      <td>0.007603</td>\n",
              "      <td>0.007840</td>\n",
              "      <td>0.099549</td>\n",
              "      <td>0.142789</td>\n",
              "      <td>0.002613</td>\n",
              "      <td>0.086957</td>\n",
              "      <td>0.020670</td>\n",
              "      <td>0.001901</td>\n",
              "      <td>0.004989</td>\n",
              "      <td>0.682585</td>\n",
              "      <td>0.032549</td>\n",
              "      <td>0.043003</td>\n",
              "      <td>0.004514</td>\n",
              "      <td>0.232359</td>\n",
              "      <td>0.011167</td>\n",
              "      <td>0.000238</td>\n",
              "      <td>0.005464</td>\n",
              "      <td>0.232359</td>\n",
              "      <td>0.004514</td>\n",
              "      <td>0.232359</td>\n",
              "      <td>0.033262</td>\n",
              "      <td>0.000238</td>\n",
              "      <td>0.000713</td>\n",
              "      <td>0.011404</td>\n",
              "      <td>0.000238</td>\n",
              "      <td>0.072226</td>\n",
              "      <td>0.011404</td>\n",
              "      <td>0.253267</td>\n",
              "      <td>0.597292</td>\n",
              "      <td>0.012830</td>\n",
              "      <td>0.022333</td>\n",
              "      <td>...</td>\n",
              "      <td>0.022333</td>\n",
              "      <td>0.047517</td>\n",
              "      <td>0.0</td>\n",
              "      <td>0.947256</td>\n",
              "      <td>0.044904</td>\n",
              "      <td>0.338798</td>\n",
              "      <td>0.297220</td>\n",
              "      <td>0.054170</td>\n",
              "      <td>0.002138</td>\n",
              "      <td>0.202899</td>\n",
              "      <td>0.380375</td>\n",
              "      <td>0.179853</td>\n",
              "      <td>0.001188</td>\n",
              "      <td>0.426942</td>\n",
              "      <td>0.031837</td>\n",
              "      <td>0.076503</td>\n",
              "      <td>0.966025</td>\n",
              "      <td>0.520314</td>\n",
              "      <td>0.753861</td>\n",
              "      <td>0.002851</td>\n",
              "      <td>0.002851</td>\n",
              "      <td>0.001188</td>\n",
              "      <td>0.051794</td>\n",
              "      <td>0.062723</td>\n",
              "      <td>0.000475</td>\n",
              "      <td>0.006652</td>\n",
              "      <td>0.014255</td>\n",
              "      <td>0.000475</td>\n",
              "      <td>0.019244</td>\n",
              "      <td>0.227370</td>\n",
              "      <td>0.318841</td>\n",
              "      <td>0.057258</td>\n",
              "      <td>0.314802</td>\n",
              "      <td>0.020670</td>\n",
              "      <td>0.009503</td>\n",
              "      <td>0.008078</td>\n",
              "      <td>0.007603</td>\n",
              "      <td>0.001663</td>\n",
              "      <td>0.000475</td>\n",
              "      <td>0.001426</td>\n",
              "    </tr>\n",
              "    <tr>\n",
              "      <th>std</th>\n",
              "      <td>2437.608688</td>\n",
              "      <td>12.679381</td>\n",
              "      <td>0.114590</td>\n",
              "      <td>0.0</td>\n",
              "      <td>0.263547</td>\n",
              "      <td>0.233716</td>\n",
              "      <td>0.494867</td>\n",
              "      <td>0.021796</td>\n",
              "      <td>0.051061</td>\n",
              "      <td>0.086872</td>\n",
              "      <td>0.088208</td>\n",
              "      <td>0.299433</td>\n",
              "      <td>0.349899</td>\n",
              "      <td>0.051061</td>\n",
              "      <td>0.281805</td>\n",
              "      <td>0.142294</td>\n",
              "      <td>0.043561</td>\n",
              "      <td>0.070467</td>\n",
              "      <td>0.465526</td>\n",
              "      <td>0.177475</td>\n",
              "      <td>0.202888</td>\n",
              "      <td>0.067043</td>\n",
              "      <td>0.422387</td>\n",
              "      <td>0.105093</td>\n",
              "      <td>0.015414</td>\n",
              "      <td>0.073729</td>\n",
              "      <td>0.422387</td>\n",
              "      <td>0.067043</td>\n",
              "      <td>0.422387</td>\n",
              "      <td>0.179341</td>\n",
              "      <td>0.015414</td>\n",
              "      <td>0.026691</td>\n",
              "      <td>0.106192</td>\n",
              "      <td>0.015414</td>\n",
              "      <td>0.258893</td>\n",
              "      <td>0.106192</td>\n",
              "      <td>0.434934</td>\n",
              "      <td>0.490501</td>\n",
              "      <td>0.112552</td>\n",
              "      <td>0.147782</td>\n",
              "      <td>...</td>\n",
              "      <td>0.147782</td>\n",
              "      <td>0.212768</td>\n",
              "      <td>0.0</td>\n",
              "      <td>0.223549</td>\n",
              "      <td>0.207117</td>\n",
              "      <td>0.473357</td>\n",
              "      <td>0.457089</td>\n",
              "      <td>0.226379</td>\n",
              "      <td>0.046198</td>\n",
              "      <td>0.402205</td>\n",
              "      <td>0.485537</td>\n",
              "      <td>0.384110</td>\n",
              "      <td>0.034450</td>\n",
              "      <td>0.494693</td>\n",
              "      <td>0.175586</td>\n",
              "      <td>0.265832</td>\n",
              "      <td>0.181186</td>\n",
              "      <td>0.499647</td>\n",
              "      <td>0.430812</td>\n",
              "      <td>0.053325</td>\n",
              "      <td>0.053325</td>\n",
              "      <td>0.034450</td>\n",
              "      <td>0.221637</td>\n",
              "      <td>0.242492</td>\n",
              "      <td>0.021796</td>\n",
              "      <td>0.081300</td>\n",
              "      <td>0.118555</td>\n",
              "      <td>0.021796</td>\n",
              "      <td>0.137399</td>\n",
              "      <td>0.419183</td>\n",
              "      <td>0.466082</td>\n",
              "      <td>0.232363</td>\n",
              "      <td>0.464492</td>\n",
              "      <td>0.142294</td>\n",
              "      <td>0.097033</td>\n",
              "      <td>0.089524</td>\n",
              "      <td>0.086872</td>\n",
              "      <td>0.040752</td>\n",
              "      <td>0.021796</td>\n",
              "      <td>0.037734</td>\n",
              "    </tr>\n",
              "    <tr>\n",
              "      <th>min</th>\n",
              "      <td>0.000000</td>\n",
              "      <td>72.110000</td>\n",
              "      <td>0.000000</td>\n",
              "      <td>0.0</td>\n",
              "      <td>0.000000</td>\n",
              "      <td>0.000000</td>\n",
              "      <td>0.000000</td>\n",
              "      <td>0.000000</td>\n",
              "      <td>0.000000</td>\n",
              "      <td>0.000000</td>\n",
              "      <td>0.000000</td>\n",
              "      <td>0.000000</td>\n",
              "      <td>0.000000</td>\n",
              "      <td>0.000000</td>\n",
              "      <td>0.000000</td>\n",
              "      <td>0.000000</td>\n",
              "      <td>0.000000</td>\n",
              "      <td>0.000000</td>\n",
              "      <td>0.000000</td>\n",
              "      <td>0.000000</td>\n",
              "      <td>0.000000</td>\n",
              "      <td>0.000000</td>\n",
              "      <td>0.000000</td>\n",
              "      <td>0.000000</td>\n",
              "      <td>0.000000</td>\n",
              "      <td>0.000000</td>\n",
              "      <td>0.000000</td>\n",
              "      <td>0.000000</td>\n",
              "      <td>0.000000</td>\n",
              "      <td>0.000000</td>\n",
              "      <td>0.000000</td>\n",
              "      <td>0.000000</td>\n",
              "      <td>0.000000</td>\n",
              "      <td>0.000000</td>\n",
              "      <td>0.000000</td>\n",
              "      <td>0.000000</td>\n",
              "      <td>0.000000</td>\n",
              "      <td>0.000000</td>\n",
              "      <td>0.000000</td>\n",
              "      <td>0.000000</td>\n",
              "      <td>...</td>\n",
              "      <td>0.000000</td>\n",
              "      <td>0.000000</td>\n",
              "      <td>0.0</td>\n",
              "      <td>0.000000</td>\n",
              "      <td>0.000000</td>\n",
              "      <td>0.000000</td>\n",
              "      <td>0.000000</td>\n",
              "      <td>0.000000</td>\n",
              "      <td>0.000000</td>\n",
              "      <td>0.000000</td>\n",
              "      <td>0.000000</td>\n",
              "      <td>0.000000</td>\n",
              "      <td>0.000000</td>\n",
              "      <td>0.000000</td>\n",
              "      <td>0.000000</td>\n",
              "      <td>0.000000</td>\n",
              "      <td>0.000000</td>\n",
              "      <td>0.000000</td>\n",
              "      <td>0.000000</td>\n",
              "      <td>0.000000</td>\n",
              "      <td>0.000000</td>\n",
              "      <td>0.000000</td>\n",
              "      <td>0.000000</td>\n",
              "      <td>0.000000</td>\n",
              "      <td>0.000000</td>\n",
              "      <td>0.000000</td>\n",
              "      <td>0.000000</td>\n",
              "      <td>0.000000</td>\n",
              "      <td>0.000000</td>\n",
              "      <td>0.000000</td>\n",
              "      <td>0.000000</td>\n",
              "      <td>0.000000</td>\n",
              "      <td>0.000000</td>\n",
              "      <td>0.000000</td>\n",
              "      <td>0.000000</td>\n",
              "      <td>0.000000</td>\n",
              "      <td>0.000000</td>\n",
              "      <td>0.000000</td>\n",
              "      <td>0.000000</td>\n",
              "      <td>0.000000</td>\n",
              "    </tr>\n",
              "    <tr>\n",
              "      <th>25%</th>\n",
              "      <td>2095.000000</td>\n",
              "      <td>90.820000</td>\n",
              "      <td>0.000000</td>\n",
              "      <td>0.0</td>\n",
              "      <td>0.000000</td>\n",
              "      <td>0.000000</td>\n",
              "      <td>0.000000</td>\n",
              "      <td>0.000000</td>\n",
              "      <td>0.000000</td>\n",
              "      <td>0.000000</td>\n",
              "      <td>0.000000</td>\n",
              "      <td>0.000000</td>\n",
              "      <td>0.000000</td>\n",
              "      <td>0.000000</td>\n",
              "      <td>0.000000</td>\n",
              "      <td>0.000000</td>\n",
              "      <td>0.000000</td>\n",
              "      <td>0.000000</td>\n",
              "      <td>0.000000</td>\n",
              "      <td>0.000000</td>\n",
              "      <td>0.000000</td>\n",
              "      <td>0.000000</td>\n",
              "      <td>0.000000</td>\n",
              "      <td>0.000000</td>\n",
              "      <td>0.000000</td>\n",
              "      <td>0.000000</td>\n",
              "      <td>0.000000</td>\n",
              "      <td>0.000000</td>\n",
              "      <td>0.000000</td>\n",
              "      <td>0.000000</td>\n",
              "      <td>0.000000</td>\n",
              "      <td>0.000000</td>\n",
              "      <td>0.000000</td>\n",
              "      <td>0.000000</td>\n",
              "      <td>0.000000</td>\n",
              "      <td>0.000000</td>\n",
              "      <td>0.000000</td>\n",
              "      <td>0.000000</td>\n",
              "      <td>0.000000</td>\n",
              "      <td>0.000000</td>\n",
              "      <td>...</td>\n",
              "      <td>0.000000</td>\n",
              "      <td>0.000000</td>\n",
              "      <td>0.0</td>\n",
              "      <td>1.000000</td>\n",
              "      <td>0.000000</td>\n",
              "      <td>0.000000</td>\n",
              "      <td>0.000000</td>\n",
              "      <td>0.000000</td>\n",
              "      <td>0.000000</td>\n",
              "      <td>0.000000</td>\n",
              "      <td>0.000000</td>\n",
              "      <td>0.000000</td>\n",
              "      <td>0.000000</td>\n",
              "      <td>0.000000</td>\n",
              "      <td>0.000000</td>\n",
              "      <td>0.000000</td>\n",
              "      <td>1.000000</td>\n",
              "      <td>0.000000</td>\n",
              "      <td>1.000000</td>\n",
              "      <td>0.000000</td>\n",
              "      <td>0.000000</td>\n",
              "      <td>0.000000</td>\n",
              "      <td>0.000000</td>\n",
              "      <td>0.000000</td>\n",
              "      <td>0.000000</td>\n",
              "      <td>0.000000</td>\n",
              "      <td>0.000000</td>\n",
              "      <td>0.000000</td>\n",
              "      <td>0.000000</td>\n",
              "      <td>0.000000</td>\n",
              "      <td>0.000000</td>\n",
              "      <td>0.000000</td>\n",
              "      <td>0.000000</td>\n",
              "      <td>0.000000</td>\n",
              "      <td>0.000000</td>\n",
              "      <td>0.000000</td>\n",
              "      <td>0.000000</td>\n",
              "      <td>0.000000</td>\n",
              "      <td>0.000000</td>\n",
              "      <td>0.000000</td>\n",
              "    </tr>\n",
              "    <tr>\n",
              "      <th>50%</th>\n",
              "      <td>4220.000000</td>\n",
              "      <td>99.150000</td>\n",
              "      <td>0.000000</td>\n",
              "      <td>0.0</td>\n",
              "      <td>0.000000</td>\n",
              "      <td>0.000000</td>\n",
              "      <td>0.000000</td>\n",
              "      <td>0.000000</td>\n",
              "      <td>0.000000</td>\n",
              "      <td>0.000000</td>\n",
              "      <td>0.000000</td>\n",
              "      <td>0.000000</td>\n",
              "      <td>0.000000</td>\n",
              "      <td>0.000000</td>\n",
              "      <td>0.000000</td>\n",
              "      <td>0.000000</td>\n",
              "      <td>0.000000</td>\n",
              "      <td>0.000000</td>\n",
              "      <td>1.000000</td>\n",
              "      <td>0.000000</td>\n",
              "      <td>0.000000</td>\n",
              "      <td>0.000000</td>\n",
              "      <td>0.000000</td>\n",
              "      <td>0.000000</td>\n",
              "      <td>0.000000</td>\n",
              "      <td>0.000000</td>\n",
              "      <td>0.000000</td>\n",
              "      <td>0.000000</td>\n",
              "      <td>0.000000</td>\n",
              "      <td>0.000000</td>\n",
              "      <td>0.000000</td>\n",
              "      <td>0.000000</td>\n",
              "      <td>0.000000</td>\n",
              "      <td>0.000000</td>\n",
              "      <td>0.000000</td>\n",
              "      <td>0.000000</td>\n",
              "      <td>0.000000</td>\n",
              "      <td>1.000000</td>\n",
              "      <td>0.000000</td>\n",
              "      <td>0.000000</td>\n",
              "      <td>...</td>\n",
              "      <td>0.000000</td>\n",
              "      <td>0.000000</td>\n",
              "      <td>0.0</td>\n",
              "      <td>1.000000</td>\n",
              "      <td>0.000000</td>\n",
              "      <td>0.000000</td>\n",
              "      <td>0.000000</td>\n",
              "      <td>0.000000</td>\n",
              "      <td>0.000000</td>\n",
              "      <td>0.000000</td>\n",
              "      <td>0.000000</td>\n",
              "      <td>0.000000</td>\n",
              "      <td>0.000000</td>\n",
              "      <td>0.000000</td>\n",
              "      <td>0.000000</td>\n",
              "      <td>0.000000</td>\n",
              "      <td>1.000000</td>\n",
              "      <td>1.000000</td>\n",
              "      <td>1.000000</td>\n",
              "      <td>0.000000</td>\n",
              "      <td>0.000000</td>\n",
              "      <td>0.000000</td>\n",
              "      <td>0.000000</td>\n",
              "      <td>0.000000</td>\n",
              "      <td>0.000000</td>\n",
              "      <td>0.000000</td>\n",
              "      <td>0.000000</td>\n",
              "      <td>0.000000</td>\n",
              "      <td>0.000000</td>\n",
              "      <td>0.000000</td>\n",
              "      <td>0.000000</td>\n",
              "      <td>0.000000</td>\n",
              "      <td>0.000000</td>\n",
              "      <td>0.000000</td>\n",
              "      <td>0.000000</td>\n",
              "      <td>0.000000</td>\n",
              "      <td>0.000000</td>\n",
              "      <td>0.000000</td>\n",
              "      <td>0.000000</td>\n",
              "      <td>0.000000</td>\n",
              "    </tr>\n",
              "    <tr>\n",
              "      <th>75%</th>\n",
              "      <td>6314.000000</td>\n",
              "      <td>109.010000</td>\n",
              "      <td>0.000000</td>\n",
              "      <td>0.0</td>\n",
              "      <td>0.000000</td>\n",
              "      <td>0.000000</td>\n",
              "      <td>1.000000</td>\n",
              "      <td>0.000000</td>\n",
              "      <td>0.000000</td>\n",
              "      <td>0.000000</td>\n",
              "      <td>0.000000</td>\n",
              "      <td>0.000000</td>\n",
              "      <td>0.000000</td>\n",
              "      <td>0.000000</td>\n",
              "      <td>0.000000</td>\n",
              "      <td>0.000000</td>\n",
              "      <td>0.000000</td>\n",
              "      <td>0.000000</td>\n",
              "      <td>1.000000</td>\n",
              "      <td>0.000000</td>\n",
              "      <td>0.000000</td>\n",
              "      <td>0.000000</td>\n",
              "      <td>0.000000</td>\n",
              "      <td>0.000000</td>\n",
              "      <td>0.000000</td>\n",
              "      <td>0.000000</td>\n",
              "      <td>0.000000</td>\n",
              "      <td>0.000000</td>\n",
              "      <td>0.000000</td>\n",
              "      <td>0.000000</td>\n",
              "      <td>0.000000</td>\n",
              "      <td>0.000000</td>\n",
              "      <td>0.000000</td>\n",
              "      <td>0.000000</td>\n",
              "      <td>0.000000</td>\n",
              "      <td>0.000000</td>\n",
              "      <td>1.000000</td>\n",
              "      <td>1.000000</td>\n",
              "      <td>0.000000</td>\n",
              "      <td>0.000000</td>\n",
              "      <td>...</td>\n",
              "      <td>0.000000</td>\n",
              "      <td>0.000000</td>\n",
              "      <td>0.0</td>\n",
              "      <td>1.000000</td>\n",
              "      <td>0.000000</td>\n",
              "      <td>1.000000</td>\n",
              "      <td>1.000000</td>\n",
              "      <td>0.000000</td>\n",
              "      <td>0.000000</td>\n",
              "      <td>0.000000</td>\n",
              "      <td>1.000000</td>\n",
              "      <td>0.000000</td>\n",
              "      <td>0.000000</td>\n",
              "      <td>1.000000</td>\n",
              "      <td>0.000000</td>\n",
              "      <td>0.000000</td>\n",
              "      <td>1.000000</td>\n",
              "      <td>1.000000</td>\n",
              "      <td>1.000000</td>\n",
              "      <td>0.000000</td>\n",
              "      <td>0.000000</td>\n",
              "      <td>0.000000</td>\n",
              "      <td>0.000000</td>\n",
              "      <td>0.000000</td>\n",
              "      <td>0.000000</td>\n",
              "      <td>0.000000</td>\n",
              "      <td>0.000000</td>\n",
              "      <td>0.000000</td>\n",
              "      <td>0.000000</td>\n",
              "      <td>0.000000</td>\n",
              "      <td>1.000000</td>\n",
              "      <td>0.000000</td>\n",
              "      <td>1.000000</td>\n",
              "      <td>0.000000</td>\n",
              "      <td>0.000000</td>\n",
              "      <td>0.000000</td>\n",
              "      <td>0.000000</td>\n",
              "      <td>0.000000</td>\n",
              "      <td>0.000000</td>\n",
              "      <td>0.000000</td>\n",
              "    </tr>\n",
              "    <tr>\n",
              "      <th>max</th>\n",
              "      <td>8417.000000</td>\n",
              "      <td>265.320000</td>\n",
              "      <td>1.000000</td>\n",
              "      <td>0.0</td>\n",
              "      <td>1.000000</td>\n",
              "      <td>1.000000</td>\n",
              "      <td>1.000000</td>\n",
              "      <td>1.000000</td>\n",
              "      <td>1.000000</td>\n",
              "      <td>1.000000</td>\n",
              "      <td>1.000000</td>\n",
              "      <td>1.000000</td>\n",
              "      <td>1.000000</td>\n",
              "      <td>1.000000</td>\n",
              "      <td>1.000000</td>\n",
              "      <td>1.000000</td>\n",
              "      <td>1.000000</td>\n",
              "      <td>1.000000</td>\n",
              "      <td>1.000000</td>\n",
              "      <td>1.000000</td>\n",
              "      <td>1.000000</td>\n",
              "      <td>1.000000</td>\n",
              "      <td>1.000000</td>\n",
              "      <td>1.000000</td>\n",
              "      <td>1.000000</td>\n",
              "      <td>1.000000</td>\n",
              "      <td>1.000000</td>\n",
              "      <td>1.000000</td>\n",
              "      <td>1.000000</td>\n",
              "      <td>1.000000</td>\n",
              "      <td>1.000000</td>\n",
              "      <td>1.000000</td>\n",
              "      <td>1.000000</td>\n",
              "      <td>1.000000</td>\n",
              "      <td>1.000000</td>\n",
              "      <td>1.000000</td>\n",
              "      <td>1.000000</td>\n",
              "      <td>1.000000</td>\n",
              "      <td>1.000000</td>\n",
              "      <td>1.000000</td>\n",
              "      <td>...</td>\n",
              "      <td>1.000000</td>\n",
              "      <td>1.000000</td>\n",
              "      <td>0.0</td>\n",
              "      <td>1.000000</td>\n",
              "      <td>1.000000</td>\n",
              "      <td>1.000000</td>\n",
              "      <td>1.000000</td>\n",
              "      <td>1.000000</td>\n",
              "      <td>1.000000</td>\n",
              "      <td>1.000000</td>\n",
              "      <td>1.000000</td>\n",
              "      <td>1.000000</td>\n",
              "      <td>1.000000</td>\n",
              "      <td>1.000000</td>\n",
              "      <td>1.000000</td>\n",
              "      <td>1.000000</td>\n",
              "      <td>1.000000</td>\n",
              "      <td>1.000000</td>\n",
              "      <td>1.000000</td>\n",
              "      <td>1.000000</td>\n",
              "      <td>1.000000</td>\n",
              "      <td>1.000000</td>\n",
              "      <td>1.000000</td>\n",
              "      <td>1.000000</td>\n",
              "      <td>1.000000</td>\n",
              "      <td>1.000000</td>\n",
              "      <td>1.000000</td>\n",
              "      <td>1.000000</td>\n",
              "      <td>1.000000</td>\n",
              "      <td>1.000000</td>\n",
              "      <td>1.000000</td>\n",
              "      <td>1.000000</td>\n",
              "      <td>1.000000</td>\n",
              "      <td>1.000000</td>\n",
              "      <td>1.000000</td>\n",
              "      <td>1.000000</td>\n",
              "      <td>1.000000</td>\n",
              "      <td>1.000000</td>\n",
              "      <td>1.000000</td>\n",
              "      <td>1.000000</td>\n",
              "    </tr>\n",
              "  </tbody>\n",
              "</table>\n",
              "<p>8 rows × 370 columns</p>\n",
              "</div>"
            ],
            "text/plain": [
              "                ID            y  ...         X384         X385\n",
              "count  4209.000000  4209.000000  ...  4209.000000  4209.000000\n",
              "mean   4205.960798   100.669318  ...     0.000475     0.001426\n",
              "std    2437.608688    12.679381  ...     0.021796     0.037734\n",
              "min       0.000000    72.110000  ...     0.000000     0.000000\n",
              "25%    2095.000000    90.820000  ...     0.000000     0.000000\n",
              "50%    4220.000000    99.150000  ...     0.000000     0.000000\n",
              "75%    6314.000000   109.010000  ...     0.000000     0.000000\n",
              "max    8417.000000   265.320000  ...     1.000000     1.000000\n",
              "\n",
              "[8 rows x 370 columns]"
            ]
          },
          "metadata": {
            "tags": []
          },
          "execution_count": 6
        }
      ]
    },
    {
      "cell_type": "code",
      "metadata": {
        "id": "PymKq0Ly7pmU",
        "colab_type": "code",
        "outputId": "74aba113-ea16-4749-eb07-f3cd9a219876",
        "colab": {
          "base_uri": "https://localhost:8080/",
          "height": 102
        }
      },
      "source": [
        "train.columns"
      ],
      "execution_count": 0,
      "outputs": [
        {
          "output_type": "execute_result",
          "data": {
            "text/plain": [
              "Index(['ID', 'y', 'X0', 'X1', 'X2', 'X3', 'X4', 'X5', 'X6', 'X8',\n",
              "       ...\n",
              "       'X375', 'X376', 'X377', 'X378', 'X379', 'X380', 'X382', 'X383', 'X384',\n",
              "       'X385'],\n",
              "      dtype='object', length=378)"
            ]
          },
          "metadata": {
            "tags": []
          },
          "execution_count": 8
        }
      ]
    },
    {
      "cell_type": "code",
      "metadata": {
        "id": "Qq6-bLvlmkRq",
        "colab_type": "code",
        "outputId": "9b9e5582-5691-4b3c-bfa2-2f7b4ba63d10",
        "colab": {
          "base_uri": "https://localhost:8080/",
          "height": 142
        }
      },
      "source": [
        "dtype_df = train.dtypes.reset_index()\n",
        "dtype_df.columns = [\"Count\", \"Column Type\"]\n",
        "dtype_df.groupby(\"Column Type\").aggregate('count').reset_index()"
      ],
      "execution_count": 0,
      "outputs": [
        {
          "output_type": "execute_result",
          "data": {
            "text/html": [
              "<div>\n",
              "<style scoped>\n",
              "    .dataframe tbody tr th:only-of-type {\n",
              "        vertical-align: middle;\n",
              "    }\n",
              "\n",
              "    .dataframe tbody tr th {\n",
              "        vertical-align: top;\n",
              "    }\n",
              "\n",
              "    .dataframe thead th {\n",
              "        text-align: right;\n",
              "    }\n",
              "</style>\n",
              "<table border=\"1\" class=\"dataframe\">\n",
              "  <thead>\n",
              "    <tr style=\"text-align: right;\">\n",
              "      <th></th>\n",
              "      <th>Column Type</th>\n",
              "      <th>Count</th>\n",
              "    </tr>\n",
              "  </thead>\n",
              "  <tbody>\n",
              "    <tr>\n",
              "      <th>0</th>\n",
              "      <td>int64</td>\n",
              "      <td>369</td>\n",
              "    </tr>\n",
              "    <tr>\n",
              "      <th>1</th>\n",
              "      <td>float64</td>\n",
              "      <td>1</td>\n",
              "    </tr>\n",
              "    <tr>\n",
              "      <th>2</th>\n",
              "      <td>object</td>\n",
              "      <td>8</td>\n",
              "    </tr>\n",
              "  </tbody>\n",
              "</table>\n",
              "</div>"
            ],
            "text/plain": [
              "  Column Type  Count\n",
              "0       int64    369\n",
              "1     float64      1\n",
              "2      object      8"
            ]
          },
          "metadata": {
            "tags": []
          },
          "execution_count": 15
        }
      ]
    },
    {
      "cell_type": "markdown",
      "metadata": {
        "id": "QLa6RQnfojSs",
        "colab_type": "text"
      },
      "source": [
        "369 integer colums, 8 categorical columns"
      ]
    },
    {
      "cell_type": "code",
      "metadata": {
        "id": "CrdkavBNpHmd",
        "colab_type": "code",
        "outputId": "99e6aa5d-2373-4a88-b9c5-b6bb6900d2e0",
        "colab": {
          "base_uri": "https://localhost:8080/",
          "height": 153
        }
      },
      "source": [
        "for col,k in zip(train.columns.tolist(),train.dtypes.tolist()):\n",
        "  if k =='O':\n",
        "    print(col +' : ',len(train[col].value_counts()))#cardinalities of various categorical variables"
      ],
      "execution_count": 0,
      "outputs": [
        {
          "output_type": "stream",
          "text": [
            "X0 :  47\n",
            "X1 :  27\n",
            "X2 :  44\n",
            "X3 :  7\n",
            "X4 :  4\n",
            "X5 :  29\n",
            "X6 :  12\n",
            "X8 :  25\n"
          ],
          "name": "stdout"
        }
      ]
    },
    {
      "cell_type": "markdown",
      "metadata": {
        "id": "W2sa7h11emtS",
        "colab_type": "text"
      },
      "source": [
        "**Checking For Missing Values**"
      ]
    },
    {
      "cell_type": "code",
      "metadata": {
        "id": "_COxEbFv7VaU",
        "colab_type": "code",
        "outputId": "dff0c9bc-d571-4255-9b8e-5e18c32c6732",
        "colab": {
          "base_uri": "https://localhost:8080/",
          "height": 34
        }
      },
      "source": [
        "train.isnull().sum().sum()#No missing values"
      ],
      "execution_count": 0,
      "outputs": [
        {
          "output_type": "execute_result",
          "data": {
            "text/plain": [
              "0"
            ]
          },
          "metadata": {
            "tags": []
          },
          "execution_count": 30
        }
      ]
    },
    {
      "cell_type": "markdown",
      "metadata": {
        "id": "xREy8X1BeuyL",
        "colab_type": "text"
      },
      "source": [
        "**Checking for Outliers**"
      ]
    },
    {
      "cell_type": "code",
      "metadata": {
        "id": "Fh4oA3kn69gL",
        "colab_type": "code",
        "outputId": "638669af-5520-4f9d-e1cc-55fc1629425a",
        "colab": {
          "base_uri": "https://localhost:8080/",
          "height": 282
        }
      },
      "source": [
        "sns.boxplot(y_train)##presence of outliers clearly visible"
      ],
      "execution_count": 0,
      "outputs": [
        {
          "output_type": "execute_result",
          "data": {
            "text/plain": [
              "<matplotlib.axes._subplots.AxesSubplot at 0x7f1cb3fec438>"
            ]
          },
          "metadata": {
            "tags": []
          },
          "execution_count": 5
        },
        {
          "output_type": "display_data",
          "data": {
            "image/png": "[encoded data removed]",
            "text/plain": [
              "<Figure size 432x288 with 1 Axes>"
            ]
          },
          "metadata": {
            "tags": []
          }
        }
      ]
    },
    {
      "cell_type": "markdown",
      "metadata": {
        "id": "PAdz-Z3HtmBS",
        "colab_type": "text"
      },
      "source": [
        "Lot of Outliers atleast 20-30 of them can be seen here."
      ]
    },
    {
      "cell_type": "code",
      "metadata": {
        "id": "-O2U5LfzGLQG",
        "colab_type": "code",
        "outputId": "579b3502-fa1c-45a9-fcc4-7dd7055d875e",
        "colab": {
          "base_uri": "https://localhost:8080/",
          "height": 34
        }
      },
      "source": [
        "y_train.mean(),np.median(y_train)#mean being influenced by outliers"
      ],
      "execution_count": 0,
      "outputs": [
        {
          "output_type": "execute_result",
          "data": {
            "text/plain": [
              "(100.66931812782134, 99.15)"
            ]
          },
          "metadata": {
            "tags": []
          },
          "execution_count": 29
        }
      ]
    },
    {
      "cell_type": "code",
      "metadata": {
        "id": "cja9plU4ITli",
        "colab_type": "code",
        "colab": {}
      },
      "source": [
        "#https://stackoverflow.com/questions/22354094/pythonic-way-of-detecting-outliers-in-one-dimensional-observation-data\n",
        "def reject_outliers(points, thresh = 3.5):\n",
        "    \"\"\"detects outliers based on modified z_score computed using median\"\"\"\n",
        "    if len(points.shape) == 1:\n",
        "        points = points[:,None]\n",
        "    median = np.median(points, axis=0)\n",
        "    diff = np.sum((points - median)**2, axis=-1)\n",
        "    diff = np.sqrt(diff)\n",
        "    med_abs_deviation = np.median(diff)\n",
        "\n",
        "    modified_z_score = 0.6745 * diff / med_abs_deviation\n",
        "\n",
        "    return points[modified_z_score > thresh]"
      ],
      "execution_count": 0,
      "outputs": []
    },
    {
      "cell_type": "code",
      "metadata": {
        "id": "E-C0ovXRIaxl",
        "colab_type": "code",
        "outputId": "07da774b-8c12-482c-b98e-1a6da36639a0",
        "colab": {
          "base_uri": "https://localhost:8080/",
          "height": 391
        }
      },
      "source": [
        "outliers= reject_outliers(y_train)#so everything >=146.3 can be considered an outlier\n",
        "print(outliers,min(outliers))"
      ],
      "execution_count": 0,
      "outputs": [
        {
          "output_type": "stream",
          "text": [
            "[[146.83]\n",
            " [150.43]\n",
            " [169.91]\n",
            " [154.87]\n",
            " [147.72]\n",
            " [265.32]\n",
            " [158.53]\n",
            " [154.43]\n",
            " [149.63]\n",
            " [160.87]\n",
            " [150.89]\n",
            " [152.32]\n",
            " [167.45]\n",
            " [154.16]\n",
            " [148.94]\n",
            " [158.23]\n",
            " [153.51]\n",
            " [147.22]\n",
            " [146.3 ]\n",
            " [165.52]\n",
            " [155.62]\n",
            " [149.52]] [146.3]\n"
          ],
          "name": "stdout"
        }
      ]
    },
    {
      "cell_type": "markdown",
      "metadata": {
        "id": "ZZS4jmKehWHO",
        "colab_type": "text"
      },
      "source": [
        "**Checking for Duplicate Rows with different Targets**"
      ]
    },
    {
      "cell_type": "code",
      "metadata": {
        "id": "syVV2OKFa1Ig",
        "colab_type": "code",
        "colab": {}
      },
      "source": [
        "full= train\n",
        "full['y']= y_train"
      ],
      "execution_count": 0,
      "outputs": []
    },
    {
      "cell_type": "code",
      "metadata": {
        "id": "HNnUYvgbZnvK",
        "colab_type": "code",
        "outputId": "622e37ff-d0a4-4688-e832-ff1318e18981",
        "colab": {
          "base_uri": "https://localhost:8080/",
          "height": 34
        }
      },
      "source": [
        "duplicateRowsDF = full[full[[x for x in full.columns.tolist() if x != 'ID' and x!= 'y']].duplicated(keep= False)]\n",
        "duplicateRowsDF.shape"
      ],
      "execution_count": 0,
      "outputs": [
        {
          "output_type": "execute_result",
          "data": {
            "text/plain": [
              "(515, 378)"
            ]
          },
          "metadata": {
            "tags": []
          },
          "execution_count": 9
        }
      ]
    },
    {
      "cell_type": "markdown",
      "metadata": {
        "id": "bn7B3rZapopX",
        "colab_type": "text"
      },
      "source": [
        "There are identical rows with different target variable values(515 rows)"
      ]
    },
    {
      "cell_type": "markdown",
      "metadata": {
        "id": "Gj55O9VRiDoo",
        "colab_type": "text"
      },
      "source": [
        "**Checking for Duplicate Columns**"
      ]
    },
    {
      "cell_type": "code",
      "metadata": {
        "id": "wBSZdygDi7Rl",
        "colab_type": "code",
        "outputId": "97a986a6-0953-447c-e9b9-7cf5e8fa6bbd",
        "colab": {
          "base_uri": "https://localhost:8080/",
          "height": 34
        }
      },
      "source": [
        "train_train = train.T.drop_duplicates().T\n",
        "train_train.shape,train.shape"
      ],
      "execution_count": 0,
      "outputs": [
        {
          "output_type": "execute_result",
          "data": {
            "text/plain": [
              "((4209, 322), (4209, 378))"
            ]
          },
          "metadata": {
            "tags": []
          },
          "execution_count": 10
        }
      ]
    },
    {
      "cell_type": "markdown",
      "metadata": {
        "id": "P3zDJz7wp-eZ",
        "colab_type": "text"
      },
      "source": [
        "56 columns which are constant throughout the trainset."
      ]
    },
    {
      "cell_type": "markdown",
      "metadata": {
        "id": "paLVqDQciJPM",
        "colab_type": "text"
      },
      "source": [
        "**Correlation Graph**"
      ]
    },
    {
      "cell_type": "code",
      "metadata": {
        "id": "XYV7iHqOrDBg",
        "colab_type": "code",
        "outputId": "b6bfd4f1-4fb1-43dd-9125-1880d7e855ee",
        "colab": {
          "base_uri": "https://localhost:8080/",
          "height": 629
        }
      },
      "source": [
        "#https://www.geeksforgeeks.org/exploring-correlation-in-python/\n",
        "\n",
        "corrmat = train.iloc[:,-100:].corr()#taking last 100 features  \n",
        "  \n",
        "f, ax = plt.subplots(figsize =(10, 10)) \n",
        "sns.heatmap(corrmat, ax = ax, cmap =\"YlGnBu\", linewidths = 0.1) #There are variables with 1 correlation coefficient"
      ],
      "execution_count": 0,
      "outputs": [
        {
          "output_type": "execute_result",
          "data": {
            "text/plain": [
              "<matplotlib.axes._subplots.AxesSubplot at 0x7fad3abb8438>"
            ]
          },
          "metadata": {
            "tags": []
          },
          "execution_count": 6
        },
        {
          "output_type": "display_data",
          "data": {
            "image/png": "[encoded data removed]",
            "text/plain": [
              "<Figure size 720x720 with 2 Axes>"
            ]
          },
          "metadata": {
            "tags": []
          }
        }
      ]
    },
    {
      "cell_type": "markdown",
      "metadata": {
        "id": "QruV6kTAiNGM",
        "colab_type": "text"
      },
      "source": [
        "This shows some features having high correlation with other features."
      ]
    },
    {
      "cell_type": "code",
      "metadata": {
        "colab_type": "code",
        "id": "N6xqMEPJz4GB",
        "colab": {}
      },
      "source": [
        "cat_cols= train.columns[train.dtypes==\"object\"]#categorical columns\n",
        "binary_cols= np.delete(train.columns[train.dtypes==\"int64\"],0,-1)#binary columns\n",
        "num_cols= train.columns[train.dtypes==\"int64\"]#numerical columns"
      ],
      "execution_count": 0,
      "outputs": []
    },
    {
      "cell_type": "markdown",
      "metadata": {
        "id": "lacWOtFzidQt",
        "colab_type": "text"
      },
      "source": [
        "**Visualisation using PCA**"
      ]
    },
    {
      "cell_type": "code",
      "metadata": {
        "id": "ZVVRHhNS1fgJ",
        "colab_type": "code",
        "outputId": "ef87f245-df03-48a6-d800-8b0a40ad8ceb",
        "colab": {
          "base_uri": "https://localhost:8080/",
          "height": 51
        }
      },
      "source": [
        "standardized_data = StandardScaler().fit_transform(train[binary_cols])\n",
        "print(standardized_data.shape)\n",
        "pca = decomposition.PCA()\n",
        "pca.n_components = 2\n",
        "pca_data = pca.fit_transform(standardized_data)\n",
        "print(\"shape of pca_reduced.shape = \", pca_data.shape)\n",
        "pca_data = np.vstack((pca_data.T, y_train)).T"
      ],
      "execution_count": 0,
      "outputs": [
        {
          "output_type": "stream",
          "text": [
            "(4209, 368)\n",
            "shape of pca_reduced.shape =  (4209, 2)\n"
          ],
          "name": "stdout"
        }
      ]
    },
    {
      "cell_type": "code",
      "metadata": {
        "id": "fm4v9lYQ6aiv",
        "colab_type": "code",
        "outputId": "c9d48467-8637-44c0-d52c-157e2fef08e4",
        "colab": {
          "base_uri": "https://localhost:8080/",
          "height": 280
        }
      },
      "source": [
        "pca_df = pd.DataFrame(data=pca_data, columns=(\"1st\", \"2nd\", \"label\"))\n",
        "plt.scatter(pca_df['1st'],pca_df['2nd'], c=pca_df['label'], cmap=\"RdBu\")\n",
        "plt.xlabel('1st_principle')\n",
        "plt.ylabel('2nd_principle')\n",
        "plt.show()\n",
        "#lets check if this observation really helps"
      ],
      "execution_count": 0,
      "outputs": [
        {
          "output_type": "display_data",
          "data": {
            "image/png": "[encoded data removed]",
            "text/plain": [
              "<Figure size 432x288 with 1 Axes>"
            ]
          },
          "metadata": {
            "tags": []
          }
        }
      ]
    },
    {
      "cell_type": "markdown",
      "metadata": {
        "id": "vwuYbgzGqVeq",
        "colab_type": "text"
      },
      "source": [
        "PCA did find some good features lets try to check the mean and std of these clusters"
      ]
    },
    {
      "cell_type": "code",
      "metadata": {
        "colab_type": "code",
        "outputId": "137c8d91-e888-42c9-f49f-15935b79d089",
        "id": "1FGWk02wDEJK",
        "colab": {
          "base_uri": "https://localhost:8080/",
          "height": 34
        }
      },
      "source": [
        "#This can be reason in kaggle competition many kernels used pca with 6 components\n",
        "#cluster1 mean,cluster2 mean,cluster3 mean\n",
        "pca_df['label'][pca_df['2nd']>14].mean(),pca_df['label'][(pca_df['2nd']<14) & (pca_df['1st']<15)].mean(),pca_df['label'][(pca_df['2nd']<14) & (pca_df['1st']>15)].mean()"
      ],
      "execution_count": 0,
      "outputs": [
        {
          "output_type": "execute_result",
          "data": {
            "text/plain": [
              "(77.96486187845298, 101.32426029486524, 116.97744680851063)"
            ]
          },
          "metadata": {
            "tags": []
          },
          "execution_count": 48
        }
      ]
    },
    {
      "cell_type": "code",
      "metadata": {
        "id": "dfLKLhOjFULe",
        "colab_type": "code",
        "outputId": "2d1d2c77-eef4-4371-ed03-56482176a9e1",
        "colab": {
          "base_uri": "https://localhost:8080/",
          "height": 34
        }
      },
      "source": [
        "#cluster1 std,cluster2 std,cluster3 std\n",
        "pca_df['label'][pca_df['2nd']>14].std(),pca_df['label'][(pca_df['2nd']<14) & (pca_df['1st']<15)].std(),pca_df['label'][(pca_df['2nd']<14) & (pca_df['1st']>15)].std()"
      ],
      "execution_count": 0,
      "outputs": [
        {
          "output_type": "execute_result",
          "data": {
            "text/plain": [
              "(4.616846880686572, 11.80421638156366, 7.075507495179731)"
            ]
          },
          "metadata": {
            "tags": []
          },
          "execution_count": 49
        }
      ]
    },
    {
      "cell_type": "markdown",
      "metadata": {
        "id": "QEM4EuqiqtXQ",
        "colab_type": "text"
      },
      "source": [
        "Cluster 1 is very well seperated, but Cluster 2 which is fairly large is 1std away from Cluster 3.This surely can help the model but coming up with alternative ways is necessary to perform better."
      ]
    },
    {
      "cell_type": "code",
      "metadata": {
        "id": "Go1ldmQBDUMb",
        "colab_type": "code",
        "outputId": "47fb5214-bc3d-4153-baed-5a8ab605ec7c",
        "colab": {
          "base_uri": "https://localhost:8080/",
          "height": 280
        }
      },
      "source": [
        "pca.n_components = 369\n",
        "pca_data = pca.fit_transform(standardized_data)\n",
        "\n",
        "percentage_var_explained = pca.explained_variance_ / np.sum(pca.explained_variance_);\n",
        "\n",
        "cum_var_explained = np.cumsum(percentage_var_explained)\n",
        "\n",
        "# Plot the PCA spectrum\n",
        "plt.figure(1, figsize=(6, 4))\n",
        "\n",
        "plt.clf()\n",
        "plt.plot(cum_var_explained, linewidth=2)\n",
        "plt.axis('tight')\n",
        "plt.grid()\n",
        "plt.xlabel('n_components')\n",
        "plt.ylabel('Cumulative_explained_variance')\n",
        "plt.show()"
      ],
      "execution_count": 0,
      "outputs": [
        {
          "output_type": "display_data",
          "data": {
            "image/png": "[encoded data removed]",
            "text/plain": [
              "<Figure size 432x288 with 1 Axes>"
            ]
          },
          "metadata": {
            "tags": []
          }
        }
      ]
    },
    {
      "cell_type": "markdown",
      "metadata": {
        "id": "af7cKHy4rmzd",
        "colab_type": "text"
      },
      "source": [
        "Around 95% of variance is explained with about 150 components which is half the features given."
      ]
    },
    {
      "cell_type": "markdown",
      "metadata": {
        "id": "1uRmlzSA61Tp",
        "colab_type": "text"
      },
      "source": [
        "Here these things make sense from the above observations.\n",
        "\n",
        "1.   PCA provides some useful features so including it in model will be useful.\n",
        "2.   Duplicate rows with different target values can be replaced with mean or median.\n",
        "3.   Outliers must be clipped off from the y_train, this may give overoptimistic results but atleast we can be sure that our CV and Private Leaderboard will be positively correlated.\n",
        "\n"
      ]
    },
    {
      "cell_type": "markdown",
      "metadata": {
        "id": "LRt1W1HTpvoI",
        "colab_type": "text"
      },
      "source": [
        "**A look at best feature Correlations on Raw Data**"
      ]
    },
    {
      "cell_type": "code",
      "metadata": {
        "id": "ZbYek99ZTRee",
        "colab_type": "code",
        "outputId": "bc4107e0-cdd2-4776-ea27-9e0fcaa495d8",
        "colab": {
          "base_uri": "https://localhost:8080/",
          "height": 68
        }
      },
      "source": [
        "dic={}\n",
        "for i in num_cols:\n",
        "    if train[i].corr(train.y)>0.50 or train[i].corr(train.y)<-0.50:\n",
        "      dic[i]=train[i].corr(train.y)\n",
        "print(\"Important Features with there respective correlations are \",'\\n','---------------------------------------------------------','\\n',dic)"
      ],
      "execution_count": 0,
      "outputs": [
        {
          "output_type": "stream",
          "text": [
            "Important Features with there respective correlations are  \n",
            " --------------------------------------------------------- \n",
            " {'X127': -0.5106197590551649, 'X261': 0.5887851610438137, 'X314': 0.6060052136703652}\n"
          ],
          "name": "stdout"
        }
      ]
    },
    {
      "cell_type": "markdown",
      "metadata": {
        "id": "nGLS5PtwisYV",
        "colab_type": "text"
      },
      "source": [
        "**Removal of Features which are uninformative**"
      ]
    },
    {
      "cell_type": "code",
      "metadata": {
        "id": "v0uEHFyBcRj0",
        "colab_type": "code",
        "colab": {}
      },
      "source": [
        "num_cols= num_cols_0"
      ],
      "execution_count": 0,
      "outputs": []
    },
    {
      "cell_type": "code",
      "metadata": {
        "id": "1p7S8HaXQqE1",
        "colab_type": "code",
        "outputId": "149040aa-baca-48be-e64f-6aa89a5a6503",
        "colab": {
          "base_uri": "https://localhost:8080/",
          "height": 71
        }
      },
      "source": [
        "#Cleaning  up columns less than threshold variance.\n",
        "rem_cols=[]\n",
        "temp = []\n",
        "for i in num_cols:\n",
        "    if train[i].var()<=0.01:\n",
        "        temp.append(i)\n",
        "print(len(temp))\n",
        "print(temp,'<0.01 variance columns')\n",
        "rem_cols.extend(temp)"
      ],
      "execution_count": 0,
      "outputs": [
        {
          "output_type": "stream",
          "text": [
            "147\n",
            "['X11', 'X15', 'X16', 'X17', 'X18', 'X21', 'X24', 'X26', 'X30', 'X33', 'X34', 'X36', 'X39', 'X40', 'X42', 'X53', 'X55', 'X59', 'X60', 'X62', 'X65', 'X67', 'X74', 'X78', 'X83', 'X86', 'X87', 'X88', 'X89', 'X90', 'X91', 'X92', 'X93', 'X94', 'X95', 'X97', 'X99', 'X102', 'X104', 'X105', 'X107', 'X110', 'X112', 'X122', 'X123', 'X124', 'X125', 'X145', 'X153', 'X160', 'X165', 'X167', 'X169', 'X172', 'X173', 'X183', 'X184', 'X190', 'X192', 'X199', 'X200', 'X204', 'X205', 'X207', 'X210', 'X212', 'X213', 'X214', 'X216', 'X217', 'X221', 'X227', 'X230', 'X233', 'X235', 'X236', 'X237', 'X239', 'X240', 'X242', 'X243', 'X245', 'X248', 'X249', 'X252', 'X253', 'X254', 'X257', 'X258', 'X259', 'X260', 'X262', 'X266', 'X267', 'X268', 'X269', 'X270', 'X271', 'X274', 'X277', 'X278', 'X280', 'X281', 'X282', 'X288', 'X289', 'X290', 'X292', 'X293', 'X295', 'X296', 'X297', 'X298', 'X299', 'X307', 'X308', 'X309', 'X310', 'X312', 'X317', 'X318', 'X319', 'X320', 'X323', 'X325', 'X330', 'X332', 'X335', 'X338', 'X339', 'X341', 'X344', 'X347', 'X353', 'X357', 'X364', 'X365', 'X366', 'X369', 'X370', 'X372', 'X379', 'X380', 'X382', 'X383', 'X384', 'X385'] <0.01 variance columns\n"
          ],
          "name": "stdout"
        }
      ]
    },
    {
      "cell_type": "code",
      "metadata": {
        "id": "vArqhP9Osr7P",
        "colab_type": "code",
        "outputId": "a003e377-0873-47ac-90ea-692f9a383b6b",
        "colab": {
          "base_uri": "https://localhost:8080/",
          "height": 54
        }
      },
      "source": [
        "#removing duplicate columns and leaving the original behind.\n",
        "dups=list(train.T.index[train.T.duplicated(keep= 'first')].values)\n",
        "print(dups)\n",
        "rem_cols.extend(dups)"
      ],
      "execution_count": 0,
      "outputs": [
        {
          "output_type": "stream",
          "text": [
            "['X35', 'X37', 'X39', 'X76', 'X84', 'X93', 'X94', 'X102', 'X107', 'X113', 'X119', 'X122', 'X134', 'X146', 'X147', 'X172', 'X199', 'X213', 'X214', 'X216', 'X222', 'X226', 'X227', 'X232', 'X233', 'X235', 'X239', 'X242', 'X243', 'X244', 'X245', 'X247', 'X248', 'X253', 'X254', 'X262', 'X266', 'X268', 'X279', 'X289', 'X290', 'X293', 'X296', 'X297', 'X299', 'X302', 'X320', 'X324', 'X326', 'X330', 'X347', 'X360', 'X364', 'X365', 'X382', 'X385']\n"
          ],
          "name": "stdout"
        }
      ]
    },
    {
      "cell_type": "code",
      "metadata": {
        "id": "RbaBNj1Zca1-",
        "colab_type": "code",
        "outputId": "b51ed443-4280-4dae-982a-dbd0d028f321",
        "colab": {
          "base_uri": "https://localhost:8080/",
          "height": 102
        }
      },
      "source": [
        "#X4 Found to have really low variance\n",
        "train.X4.value_counts()"
      ],
      "execution_count": 0,
      "outputs": [
        {
          "output_type": "execute_result",
          "data": {
            "text/plain": [
              "d    4205\n",
              "a       2\n",
              "b       1\n",
              "c       1\n",
              "Name: X4, dtype: int64"
            ]
          },
          "metadata": {
            "tags": []
          },
          "execution_count": 13
        }
      ]
    },
    {
      "cell_type": "code",
      "metadata": {
        "id": "SPuJCuL6aUB1",
        "colab_type": "code",
        "outputId": "0d20bf33-9f9b-4a22-f2bb-5c6203217129",
        "colab": {
          "base_uri": "https://localhost:8080/",
          "height": 34
        }
      },
      "source": [
        "##################Removal of Uninformative Features Done Here\n",
        "rem_cols= list(set(rem_cols))\n",
        "rem_cols.append('X4')#only cat_col to be dropped\n",
        "train= train.drop(rem_cols,axis=1)\n",
        "test= test.drop(rem_cols,axis=1)\n",
        "target= y_train\n",
        "train.shape,test.shape"
      ],
      "execution_count": 0,
      "outputs": [
        {
          "output_type": "execute_result",
          "data": {
            "text/plain": [
              "((4209, 211), (4209, 210))"
            ]
          },
          "metadata": {
            "tags": []
          },
          "execution_count": 27
        }
      ]
    },
    {
      "cell_type": "markdown",
      "metadata": {
        "id": "z9RqscSrb4ky",
        "colab_type": "text"
      },
      "source": [
        "### **Dataset Making**"
      ]
    },
    {
      "cell_type": "markdown",
      "metadata": {
        "id": "6bUu2qWuupWx",
        "colab_type": "text"
      },
      "source": [
        "**LabelEncoded Dataset**"
      ]
    },
    {
      "cell_type": "code",
      "metadata": {
        "id": "ReeM8Dv3bPjr",
        "colab_type": "code",
        "colab": {}
      },
      "source": [
        "#cats are label encoded here\n",
        "for c in train.columns:\n",
        "    if train[c].dtype == 'object':\n",
        "        lbl = LabelEncoder() \n",
        "        lbl.fit(list(train[c].values) + list(test[c].values)) \n",
        "        train[c] = lbl.transform(list(train[c].values))\n",
        "        test[c] = lbl.transform(list(test[c].values))\n",
        "                                    \n",
        "\n",
        "train.y= np.clip(train.y.values,0,150) #clipping of y occurs here\n",
        "test.to_csv('/content/drive/My Drive/mercedes-benz-greener-manufacturing/test_label.csv',index= False)\n",
        "train.to_csv('/content/drive/My Drive/mercedes-benz-greener-manufacturing/train_label.csv',index= False)"
      ],
      "execution_count": 0,
      "outputs": []
    },
    {
      "cell_type": "code",
      "metadata": {
        "id": "F3Rr3qDzuG0S",
        "colab_type": "code",
        "outputId": "4b7755a2-a807-421a-e948-b8e3916c3020",
        "colab": {
          "base_uri": "https://localhost:8080/",
          "height": 253
        }
      },
      "source": [
        "train.head()"
      ],
      "execution_count": 0,
      "outputs": [
        {
          "output_type": "execute_result",
          "data": {
            "text/html": [
              "<div>\n",
              "<style scoped>\n",
              "    .dataframe tbody tr th:only-of-type {\n",
              "        vertical-align: middle;\n",
              "    }\n",
              "\n",
              "    .dataframe tbody tr th {\n",
              "        vertical-align: top;\n",
              "    }\n",
              "\n",
              "    .dataframe thead th {\n",
              "        text-align: right;\n",
              "    }\n",
              "</style>\n",
              "<table border=\"1\" class=\"dataframe\">\n",
              "  <thead>\n",
              "    <tr style=\"text-align: right;\">\n",
              "      <th></th>\n",
              "      <th>ID</th>\n",
              "      <th>y</th>\n",
              "      <th>X0</th>\n",
              "      <th>X1</th>\n",
              "      <th>X2</th>\n",
              "      <th>X3</th>\n",
              "      <th>X5</th>\n",
              "      <th>X6</th>\n",
              "      <th>X8</th>\n",
              "      <th>X10</th>\n",
              "      <th>X12</th>\n",
              "      <th>X13</th>\n",
              "      <th>X14</th>\n",
              "      <th>X19</th>\n",
              "      <th>X20</th>\n",
              "      <th>X22</th>\n",
              "      <th>X23</th>\n",
              "      <th>X27</th>\n",
              "      <th>X28</th>\n",
              "      <th>X29</th>\n",
              "      <th>X31</th>\n",
              "      <th>X32</th>\n",
              "      <th>X38</th>\n",
              "      <th>X41</th>\n",
              "      <th>X43</th>\n",
              "      <th>X44</th>\n",
              "      <th>X45</th>\n",
              "      <th>X46</th>\n",
              "      <th>X47</th>\n",
              "      <th>X48</th>\n",
              "      <th>X49</th>\n",
              "      <th>X50</th>\n",
              "      <th>X51</th>\n",
              "      <th>X52</th>\n",
              "      <th>X54</th>\n",
              "      <th>X56</th>\n",
              "      <th>X57</th>\n",
              "      <th>X58</th>\n",
              "      <th>X61</th>\n",
              "      <th>X63</th>\n",
              "      <th>...</th>\n",
              "      <th>X314</th>\n",
              "      <th>X315</th>\n",
              "      <th>X316</th>\n",
              "      <th>X321</th>\n",
              "      <th>X322</th>\n",
              "      <th>X327</th>\n",
              "      <th>X328</th>\n",
              "      <th>X329</th>\n",
              "      <th>X331</th>\n",
              "      <th>X333</th>\n",
              "      <th>X334</th>\n",
              "      <th>X336</th>\n",
              "      <th>X337</th>\n",
              "      <th>X340</th>\n",
              "      <th>X342</th>\n",
              "      <th>X343</th>\n",
              "      <th>X345</th>\n",
              "      <th>X346</th>\n",
              "      <th>X348</th>\n",
              "      <th>X349</th>\n",
              "      <th>X350</th>\n",
              "      <th>X351</th>\n",
              "      <th>X352</th>\n",
              "      <th>X354</th>\n",
              "      <th>X355</th>\n",
              "      <th>X356</th>\n",
              "      <th>X358</th>\n",
              "      <th>X359</th>\n",
              "      <th>X361</th>\n",
              "      <th>X362</th>\n",
              "      <th>X363</th>\n",
              "      <th>X367</th>\n",
              "      <th>X368</th>\n",
              "      <th>X371</th>\n",
              "      <th>X373</th>\n",
              "      <th>X374</th>\n",
              "      <th>X375</th>\n",
              "      <th>X376</th>\n",
              "      <th>X377</th>\n",
              "      <th>X378</th>\n",
              "    </tr>\n",
              "  </thead>\n",
              "  <tbody>\n",
              "    <tr>\n",
              "      <th>0</th>\n",
              "      <td>0</td>\n",
              "      <td>130.81</td>\n",
              "      <td>37</td>\n",
              "      <td>23</td>\n",
              "      <td>20</td>\n",
              "      <td>0</td>\n",
              "      <td>27</td>\n",
              "      <td>9</td>\n",
              "      <td>14</td>\n",
              "      <td>0</td>\n",
              "      <td>0</td>\n",
              "      <td>1</td>\n",
              "      <td>0</td>\n",
              "      <td>0</td>\n",
              "      <td>0</td>\n",
              "      <td>0</td>\n",
              "      <td>0</td>\n",
              "      <td>0</td>\n",
              "      <td>0</td>\n",
              "      <td>0</td>\n",
              "      <td>1</td>\n",
              "      <td>0</td>\n",
              "      <td>0</td>\n",
              "      <td>0</td>\n",
              "      <td>0</td>\n",
              "      <td>0</td>\n",
              "      <td>0</td>\n",
              "      <td>1</td>\n",
              "      <td>0</td>\n",
              "      <td>0</td>\n",
              "      <td>0</td>\n",
              "      <td>0</td>\n",
              "      <td>0</td>\n",
              "      <td>0</td>\n",
              "      <td>0</td>\n",
              "      <td>0</td>\n",
              "      <td>0</td>\n",
              "      <td>1</td>\n",
              "      <td>0</td>\n",
              "      <td>0</td>\n",
              "      <td>...</td>\n",
              "      <td>0</td>\n",
              "      <td>0</td>\n",
              "      <td>1</td>\n",
              "      <td>0</td>\n",
              "      <td>0</td>\n",
              "      <td>1</td>\n",
              "      <td>0</td>\n",
              "      <td>1</td>\n",
              "      <td>0</td>\n",
              "      <td>0</td>\n",
              "      <td>1</td>\n",
              "      <td>0</td>\n",
              "      <td>0</td>\n",
              "      <td>0</td>\n",
              "      <td>0</td>\n",
              "      <td>0</td>\n",
              "      <td>0</td>\n",
              "      <td>0</td>\n",
              "      <td>0</td>\n",
              "      <td>0</td>\n",
              "      <td>0</td>\n",
              "      <td>0</td>\n",
              "      <td>0</td>\n",
              "      <td>1</td>\n",
              "      <td>0</td>\n",
              "      <td>0</td>\n",
              "      <td>0</td>\n",
              "      <td>0</td>\n",
              "      <td>1</td>\n",
              "      <td>0</td>\n",
              "      <td>0</td>\n",
              "      <td>0</td>\n",
              "      <td>0</td>\n",
              "      <td>0</td>\n",
              "      <td>0</td>\n",
              "      <td>0</td>\n",
              "      <td>0</td>\n",
              "      <td>0</td>\n",
              "      <td>1</td>\n",
              "      <td>0</td>\n",
              "    </tr>\n",
              "    <tr>\n",
              "      <th>1</th>\n",
              "      <td>6</td>\n",
              "      <td>88.53</td>\n",
              "      <td>37</td>\n",
              "      <td>21</td>\n",
              "      <td>22</td>\n",
              "      <td>4</td>\n",
              "      <td>31</td>\n",
              "      <td>11</td>\n",
              "      <td>14</td>\n",
              "      <td>0</td>\n",
              "      <td>0</td>\n",
              "      <td>0</td>\n",
              "      <td>0</td>\n",
              "      <td>0</td>\n",
              "      <td>0</td>\n",
              "      <td>0</td>\n",
              "      <td>0</td>\n",
              "      <td>1</td>\n",
              "      <td>0</td>\n",
              "      <td>0</td>\n",
              "      <td>1</td>\n",
              "      <td>0</td>\n",
              "      <td>0</td>\n",
              "      <td>0</td>\n",
              "      <td>0</td>\n",
              "      <td>0</td>\n",
              "      <td>0</td>\n",
              "      <td>0</td>\n",
              "      <td>0</td>\n",
              "      <td>0</td>\n",
              "      <td>0</td>\n",
              "      <td>0</td>\n",
              "      <td>1</td>\n",
              "      <td>0</td>\n",
              "      <td>0</td>\n",
              "      <td>0</td>\n",
              "      <td>0</td>\n",
              "      <td>0</td>\n",
              "      <td>1</td>\n",
              "      <td>0</td>\n",
              "      <td>...</td>\n",
              "      <td>0</td>\n",
              "      <td>0</td>\n",
              "      <td>1</td>\n",
              "      <td>0</td>\n",
              "      <td>0</td>\n",
              "      <td>0</td>\n",
              "      <td>0</td>\n",
              "      <td>1</td>\n",
              "      <td>0</td>\n",
              "      <td>0</td>\n",
              "      <td>0</td>\n",
              "      <td>1</td>\n",
              "      <td>1</td>\n",
              "      <td>0</td>\n",
              "      <td>0</td>\n",
              "      <td>0</td>\n",
              "      <td>0</td>\n",
              "      <td>0</td>\n",
              "      <td>1</td>\n",
              "      <td>0</td>\n",
              "      <td>0</td>\n",
              "      <td>0</td>\n",
              "      <td>0</td>\n",
              "      <td>0</td>\n",
              "      <td>0</td>\n",
              "      <td>0</td>\n",
              "      <td>0</td>\n",
              "      <td>0</td>\n",
              "      <td>1</td>\n",
              "      <td>0</td>\n",
              "      <td>1</td>\n",
              "      <td>0</td>\n",
              "      <td>0</td>\n",
              "      <td>0</td>\n",
              "      <td>0</td>\n",
              "      <td>0</td>\n",
              "      <td>1</td>\n",
              "      <td>0</td>\n",
              "      <td>0</td>\n",
              "      <td>0</td>\n",
              "    </tr>\n",
              "    <tr>\n",
              "      <th>2</th>\n",
              "      <td>7</td>\n",
              "      <td>76.26</td>\n",
              "      <td>24</td>\n",
              "      <td>24</td>\n",
              "      <td>38</td>\n",
              "      <td>2</td>\n",
              "      <td>30</td>\n",
              "      <td>9</td>\n",
              "      <td>23</td>\n",
              "      <td>0</td>\n",
              "      <td>0</td>\n",
              "      <td>0</td>\n",
              "      <td>0</td>\n",
              "      <td>0</td>\n",
              "      <td>0</td>\n",
              "      <td>0</td>\n",
              "      <td>0</td>\n",
              "      <td>1</td>\n",
              "      <td>1</td>\n",
              "      <td>1</td>\n",
              "      <td>1</td>\n",
              "      <td>0</td>\n",
              "      <td>0</td>\n",
              "      <td>0</td>\n",
              "      <td>1</td>\n",
              "      <td>0</td>\n",
              "      <td>0</td>\n",
              "      <td>1</td>\n",
              "      <td>0</td>\n",
              "      <td>0</td>\n",
              "      <td>0</td>\n",
              "      <td>0</td>\n",
              "      <td>1</td>\n",
              "      <td>0</td>\n",
              "      <td>1</td>\n",
              "      <td>0</td>\n",
              "      <td>0</td>\n",
              "      <td>1</td>\n",
              "      <td>1</td>\n",
              "      <td>0</td>\n",
              "      <td>...</td>\n",
              "      <td>0</td>\n",
              "      <td>0</td>\n",
              "      <td>0</td>\n",
              "      <td>0</td>\n",
              "      <td>0</td>\n",
              "      <td>0</td>\n",
              "      <td>1</td>\n",
              "      <td>0</td>\n",
              "      <td>0</td>\n",
              "      <td>0</td>\n",
              "      <td>1</td>\n",
              "      <td>0</td>\n",
              "      <td>0</td>\n",
              "      <td>0</td>\n",
              "      <td>0</td>\n",
              "      <td>0</td>\n",
              "      <td>0</td>\n",
              "      <td>0</td>\n",
              "      <td>1</td>\n",
              "      <td>0</td>\n",
              "      <td>1</td>\n",
              "      <td>0</td>\n",
              "      <td>0</td>\n",
              "      <td>1</td>\n",
              "      <td>0</td>\n",
              "      <td>0</td>\n",
              "      <td>1</td>\n",
              "      <td>0</td>\n",
              "      <td>1</td>\n",
              "      <td>0</td>\n",
              "      <td>1</td>\n",
              "      <td>0</td>\n",
              "      <td>0</td>\n",
              "      <td>0</td>\n",
              "      <td>0</td>\n",
              "      <td>0</td>\n",
              "      <td>0</td>\n",
              "      <td>0</td>\n",
              "      <td>0</td>\n",
              "      <td>0</td>\n",
              "    </tr>\n",
              "    <tr>\n",
              "      <th>3</th>\n",
              "      <td>9</td>\n",
              "      <td>80.62</td>\n",
              "      <td>24</td>\n",
              "      <td>21</td>\n",
              "      <td>38</td>\n",
              "      <td>5</td>\n",
              "      <td>30</td>\n",
              "      <td>11</td>\n",
              "      <td>4</td>\n",
              "      <td>0</td>\n",
              "      <td>0</td>\n",
              "      <td>0</td>\n",
              "      <td>0</td>\n",
              "      <td>0</td>\n",
              "      <td>0</td>\n",
              "      <td>0</td>\n",
              "      <td>0</td>\n",
              "      <td>1</td>\n",
              "      <td>1</td>\n",
              "      <td>1</td>\n",
              "      <td>1</td>\n",
              "      <td>0</td>\n",
              "      <td>0</td>\n",
              "      <td>0</td>\n",
              "      <td>1</td>\n",
              "      <td>0</td>\n",
              "      <td>0</td>\n",
              "      <td>1</td>\n",
              "      <td>0</td>\n",
              "      <td>0</td>\n",
              "      <td>0</td>\n",
              "      <td>0</td>\n",
              "      <td>0</td>\n",
              "      <td>0</td>\n",
              "      <td>1</td>\n",
              "      <td>0</td>\n",
              "      <td>0</td>\n",
              "      <td>0</td>\n",
              "      <td>1</td>\n",
              "      <td>0</td>\n",
              "      <td>...</td>\n",
              "      <td>0</td>\n",
              "      <td>0</td>\n",
              "      <td>0</td>\n",
              "      <td>0</td>\n",
              "      <td>0</td>\n",
              "      <td>0</td>\n",
              "      <td>1</td>\n",
              "      <td>0</td>\n",
              "      <td>0</td>\n",
              "      <td>0</td>\n",
              "      <td>0</td>\n",
              "      <td>0</td>\n",
              "      <td>0</td>\n",
              "      <td>0</td>\n",
              "      <td>0</td>\n",
              "      <td>0</td>\n",
              "      <td>0</td>\n",
              "      <td>0</td>\n",
              "      <td>1</td>\n",
              "      <td>0</td>\n",
              "      <td>1</td>\n",
              "      <td>0</td>\n",
              "      <td>0</td>\n",
              "      <td>0</td>\n",
              "      <td>0</td>\n",
              "      <td>0</td>\n",
              "      <td>1</td>\n",
              "      <td>0</td>\n",
              "      <td>1</td>\n",
              "      <td>0</td>\n",
              "      <td>1</td>\n",
              "      <td>0</td>\n",
              "      <td>0</td>\n",
              "      <td>0</td>\n",
              "      <td>0</td>\n",
              "      <td>0</td>\n",
              "      <td>0</td>\n",
              "      <td>0</td>\n",
              "      <td>0</td>\n",
              "      <td>0</td>\n",
              "    </tr>\n",
              "    <tr>\n",
              "      <th>4</th>\n",
              "      <td>13</td>\n",
              "      <td>78.02</td>\n",
              "      <td>24</td>\n",
              "      <td>23</td>\n",
              "      <td>38</td>\n",
              "      <td>5</td>\n",
              "      <td>14</td>\n",
              "      <td>3</td>\n",
              "      <td>13</td>\n",
              "      <td>0</td>\n",
              "      <td>0</td>\n",
              "      <td>0</td>\n",
              "      <td>0</td>\n",
              "      <td>0</td>\n",
              "      <td>0</td>\n",
              "      <td>0</td>\n",
              "      <td>0</td>\n",
              "      <td>1</td>\n",
              "      <td>1</td>\n",
              "      <td>1</td>\n",
              "      <td>1</td>\n",
              "      <td>0</td>\n",
              "      <td>0</td>\n",
              "      <td>0</td>\n",
              "      <td>1</td>\n",
              "      <td>0</td>\n",
              "      <td>0</td>\n",
              "      <td>1</td>\n",
              "      <td>0</td>\n",
              "      <td>0</td>\n",
              "      <td>0</td>\n",
              "      <td>0</td>\n",
              "      <td>1</td>\n",
              "      <td>0</td>\n",
              "      <td>1</td>\n",
              "      <td>0</td>\n",
              "      <td>0</td>\n",
              "      <td>0</td>\n",
              "      <td>1</td>\n",
              "      <td>0</td>\n",
              "      <td>...</td>\n",
              "      <td>0</td>\n",
              "      <td>0</td>\n",
              "      <td>0</td>\n",
              "      <td>0</td>\n",
              "      <td>0</td>\n",
              "      <td>0</td>\n",
              "      <td>1</td>\n",
              "      <td>0</td>\n",
              "      <td>0</td>\n",
              "      <td>0</td>\n",
              "      <td>1</td>\n",
              "      <td>0</td>\n",
              "      <td>0</td>\n",
              "      <td>0</td>\n",
              "      <td>0</td>\n",
              "      <td>0</td>\n",
              "      <td>0</td>\n",
              "      <td>0</td>\n",
              "      <td>1</td>\n",
              "      <td>0</td>\n",
              "      <td>1</td>\n",
              "      <td>0</td>\n",
              "      <td>0</td>\n",
              "      <td>0</td>\n",
              "      <td>0</td>\n",
              "      <td>0</td>\n",
              "      <td>1</td>\n",
              "      <td>0</td>\n",
              "      <td>1</td>\n",
              "      <td>0</td>\n",
              "      <td>1</td>\n",
              "      <td>0</td>\n",
              "      <td>0</td>\n",
              "      <td>1</td>\n",
              "      <td>0</td>\n",
              "      <td>0</td>\n",
              "      <td>0</td>\n",
              "      <td>0</td>\n",
              "      <td>0</td>\n",
              "      <td>0</td>\n",
              "    </tr>\n",
              "  </tbody>\n",
              "</table>\n",
              "<p>5 rows × 211 columns</p>\n",
              "</div>"
            ],
            "text/plain": [
              "   ID       y  X0  X1  X2  X3  X5  ...  X371  X373  X374  X375  X376  X377  X378\n",
              "0   0  130.81  37  23  20   0  27  ...     0     0     0     0     0     1     0\n",
              "1   6   88.53  37  21  22   4  31  ...     0     0     0     1     0     0     0\n",
              "2   7   76.26  24  24  38   2  30  ...     0     0     0     0     0     0     0\n",
              "3   9   80.62  24  21  38   5  30  ...     0     0     0     0     0     0     0\n",
              "4  13   78.02  24  23  38   5  14  ...     1     0     0     0     0     0     0\n",
              "\n",
              "[5 rows x 211 columns]"
            ]
          },
          "metadata": {
            "tags": []
          },
          "execution_count": 16
        }
      ]
    },
    {
      "cell_type": "markdown",
      "metadata": {
        "id": "Qnm18oQQusgW",
        "colab_type": "text"
      },
      "source": [
        "**Mean Encoded Dataset**"
      ]
    },
    {
      "cell_type": "code",
      "metadata": {
        "id": "du3F88qhkpoY",
        "colab_type": "code",
        "colab": {}
      },
      "source": [
        "##cats are mean encoded here\n",
        "y_mean= train.y.mean()\n",
        "for col in cat_cols:\n",
        "   y=train.groupby([col]).mean()['y']\n",
        "   train[col]= [y.loc[a] for a in train[col]]\n",
        "   test[col]=[(y.loc[a] if a in y.index else y_mean)for a in test[col]]\n",
        "train.y= np.clip(train.y.values,0,150)\n",
        "test.to_csv('/content/drive/My Drive/mercedes-benz-greener-manufacturing/test_meanenc.csv',index= False)\n",
        "train.to_csv('/content/drive/My Drive/mercedes-benz-greener-manufacturing/train_meanenc.csv',index= False)"
      ],
      "execution_count": 0,
      "outputs": []
    },
    {
      "cell_type": "markdown",
      "metadata": {
        "id": "q01SeFhMuxz-",
        "colab_type": "text"
      },
      "source": [
        "**Correlation of Categorical variables with Target**"
      ]
    },
    {
      "cell_type": "code",
      "metadata": {
        "id": "MMbNHXsxpvDm",
        "colab_type": "code",
        "outputId": "12b1d556-d1ef-497e-a719-faac3a996c7a",
        "colab": {
          "base_uri": "https://localhost:8080/",
          "height": 136
        }
      },
      "source": [
        "for k in cat_cols:\n",
        "  print(train[k].corr(train.y),'--->',k)"
      ],
      "execution_count": 0,
      "outputs": [
        {
          "output_type": "stream",
          "text": [
            "0.7782581671040522 ---> X0\n",
            "0.21043301114505705 ---> X1\n",
            "0.4906867003496653 ---> X2\n",
            "0.21598114984670597 ---> X3\n",
            "0.11900439734404482 ---> X5\n",
            "0.10918048655236655 ---> X6\n",
            "0.17187044046225866 ---> X8\n"
          ],
          "name": "stdout"
        }
      ]
    },
    {
      "cell_type": "markdown",
      "metadata": {
        "id": "aloHxpbwtFXC",
        "colab_type": "text"
      },
      "source": [
        "Feature X0 is very well correlated to the target."
      ]
    },
    {
      "cell_type": "markdown",
      "metadata": {
        "id": "Kjr7TU3eu6SK",
        "colab_type": "text"
      },
      "source": [
        "**OneHotEncoding Dataset**"
      ]
    },
    {
      "cell_type": "code",
      "metadata": {
        "id": "DPvagBYYqSKG",
        "colab_type": "code",
        "outputId": "9aef3819-2d84-4640-d3c3-96f68ab93c13",
        "colab": {
          "base_uri": "https://localhost:8080/",
          "height": 34
        }
      },
      "source": [
        "##one_hot cats are created here.\n",
        "from sklearn.preprocessing import OneHotEncoder\n",
        "CC= OneHotEncoder(handle_unknown='ignore',sparse= False)\n",
        "train_hot= pd.DataFrame(CC.fit_transform(train[cat_cols]),columns= ['hot_'+str(x) for x in range(191)])\n",
        "test_hot= pd.DataFrame(CC.transform(test[cat_cols]),columns= ['hot_'+str(x) for x in range(191)])     \n",
        "train=train.join(train_hot)\n",
        "test=test.join(test_hot)\n",
        "test.drop(cat_cols,axis=1,inplace= True)\n",
        "train.drop(cat_cols,axis= 1,inplace= True)\n",
        "print(train.shape)\n",
        "train.y= np.clip(train.y.values,0,150)\n",
        "test.to_csv('/content/drive/My Drive/mercedes-benz-greener-manufacturing/test_hot.csv',index= False)\n",
        "train.to_csv('/content/drive/My Drive/mercedes-benz-greener-manufacturing/train_hot.csv',index= False)"
      ],
      "execution_count": 0,
      "outputs": [
        {
          "output_type": "stream",
          "text": [
            "(4209, 395)\n"
          ],
          "name": "stdout"
        }
      ]
    },
    {
      "cell_type": "markdown",
      "metadata": {
        "id": "pKEwLOQG5FXB",
        "colab_type": "text"
      },
      "source": [
        "### **Model Preperation**"
      ]
    },
    {
      "cell_type": "markdown",
      "metadata": {
        "id": "DD5RVE0lMexZ",
        "colab_type": "text"
      },
      "source": [
        "CV was chosen to be RepeatedKFold with 5 folds with 3 repetitions."
      ]
    },
    {
      "cell_type": "code",
      "metadata": {
        "id": "QsrEbJLp3xwp",
        "colab_type": "code",
        "colab": {}
      },
      "source": [
        "cv= RepeatedKFold(n_splits= 5,n_repeats=3,random_state= random_seed)"
      ],
      "execution_count": 0,
      "outputs": []
    },
    {
      "cell_type": "markdown",
      "metadata": {
        "id": "ypy3yF116MUH",
        "colab_type": "text"
      },
      "source": [
        "**Baseline**"
      ]
    },
    {
      "cell_type": "code",
      "metadata": {
        "id": "cBxxN1d3JErn",
        "colab_type": "code",
        "colab": {}
      },
      "source": [
        "test= pd.read_csv('/content/drive/My Drive/mercedes-benz-greener-manufacturing/test_label.csv')\n",
        "train= pd.read_csv('/content/drive/My Drive/mercedes-benz-greener-manufacturing/train_label.csv')\n",
        "\n",
        "y_train= train.y.values\n",
        "targets= y_train\n",
        "train.drop(['y'],inplace= True,axis=1)"
      ],
      "execution_count": 0,
      "outputs": []
    },
    {
      "cell_type": "code",
      "metadata": {
        "colab_type": "code",
        "id": "zPEUpDSqz-i0",
        "colab": {}
      },
      "source": [
        "cat_cols= [i for i in cat_cols_0 if i in train.columns] ##categorical columns\n",
        "binary_cols= [i for i in binary_cols_0 if i in train.columns] #binary columns\n",
        "num_cols= [i for i in num_cols_0 if i in train.columns ]#numerical columns"
      ],
      "execution_count": 0,
      "outputs": []
    },
    {
      "cell_type": "code",
      "metadata": {
        "id": "6j_edxhUsDjL",
        "colab_type": "code",
        "outputId": "f90dab31-ec27-4324-cefa-2d2d85dba72a",
        "colab": {
          "base_uri": "https://localhost:8080/",
          "height": 51
        }
      },
      "source": [
        "#https://www.kaggle.com/hakeem/stacked-then-averaged-models-0-5697\n",
        "def xgb_r2_score(preds, dtrain):\n",
        "    labels = dtrain.get_label()\n",
        "    return 'r2', r2_score(labels, preds)\n",
        "\n",
        "# Add decomposed components: PCA / ICA etc.\n",
        "n_comp = 12\n",
        "ids_test = test.ID.values\n",
        "# PCA\n",
        "pca = PCA(n_components=n_comp, random_state=random_seed)\n",
        "\n",
        "SS=StandardScaler()\n",
        "pca_train= SS.fit_transform(train[num_cols])\n",
        "pca_test= SS.transform(test[num_cols])                                         \n",
        "pca2_results_train = pca.fit_transform(pca_train)\n",
        "pca2_results_test = pca.transform(pca_test)\n",
        "\n",
        "# Append decomposition components to datasets\n",
        "for i in range(1, n_comp+1):\n",
        "    train['pca_' + str(i)] = pca2_results_train[:, i-1]\n",
        "    test['pca_' + str(i)] = pca2_results_test[:, i-1]\n",
        "\n",
        "# Prepare data\n",
        "X = np.array(train)\n",
        "y = y_train\n",
        "y_mean = np.mean(y)\n",
        "\n",
        "X_test = np.array(test)\n",
        "\n",
        "print('X.shape = ' + str(X.shape) + ', y.shape = ' + str(y.shape))\n",
        "print('X_test.shape = ' + str(X.shape))\n",
        "\n",
        "params = {}\n",
        "params['n_trees'] = 500\n",
        "params['objective'] = 'reg:linear'\n",
        "params['eta'] = 0.005\n",
        "params['max_depth'] = 3\n",
        "params['subsample'] = 0.95\n",
        "params['base_score'] = y_mean\n",
        "params['silent'] = 1\n",
        "params['n_thread']= -1\n",
        "#params['colsample_bytree']= .9\n",
        "xgb_r2_seal1 = []\n",
        "test_preds_buf = []\n",
        "d_test = xgb.DMatrix(X_test)"
      ],
      "execution_count": 0,
      "outputs": [
        {
          "output_type": "stream",
          "text": [
            "X.shape = (4209, 222), y.shape = (4209,)\n",
            "X_test.shape = (4209, 222)\n"
          ],
          "name": "stdout"
        }
      ]
    },
    {
      "cell_type": "code",
      "metadata": {
        "id": "mU0ePsFA2pIg",
        "colab_type": "code",
        "outputId": "4ba63d1c-490d-4deb-a0df-9e621a018007",
        "colab": {
          "base_uri": "https://localhost:8080/",
          "height": 1000
        }
      },
      "source": [
        "fold_i = 0\n",
        "for train_index, test_index in cv.split(X):\n",
        "    print('Fold #' + str(fold_i))\n",
        "    x_train, x_valid, y_train, y_valid = X[train_index], X[test_index], y[train_index], y[test_index]\n",
        "\n",
        "    d_train = xgb.DMatrix(x_train, label=y_train)\n",
        "    d_valid = xgb.DMatrix(x_valid, label=y_valid)   \n",
        "\n",
        "    print('XGB: Evaluating model')\n",
        "    eval_set = [(x_train, y_train), (x_valid, y_valid)]\n",
        "    watchlist = [(d_train, 'train'), (d_valid, 'valid')]\n",
        "\n",
        "    model = xgb.train(params, d_train, 1000, watchlist, early_stopping_rounds=50, \\\n",
        "        feval=xgb_r2_score, maximize=True, verbose_eval=100)\n",
        "        \n",
        "    p = model.predict(d_valid)\n",
        "    r2 = r2_score(y_valid, p)\n",
        "    xgb_r2_seal1.append(r2)\n",
        "    print('R2 = ' + str(r2))\n",
        "\n",
        "    test_preds_buf.append(model.predict(d_test))\n",
        "\n",
        "    fold_i += 1\n",
        "\n",
        "print('XGB Mean R2 = ' + str(np.mean(xgb_r2_seal1)) + ' +/- ' + str(np.std(xgb_r2_seal1)))\n",
        "\n",
        "print('XGB: Train on full dataset and predicting on test')\n",
        "d_train = xgb.DMatrix(X, label=y)\n",
        "watchlist = [(d_train, 'train')]\n",
        "model = xgb.train(params, d_train, 700, watchlist, feval=xgb_r2_score, \\\n",
        "    maximize=True, verbose_eval=100)\n",
        "\n",
        "p_test = model.predict(d_test)\n",
        "\n",
        "test_preds_buf = np.array(test_preds_buf).T\n",
        "test_preds_buf = np.concatenate((test_preds_buf, p_test.reshape((len(p_test),1))), axis=1)\n",
        "\n",
        "subm = pd.DataFrame()\n",
        "subm['ID'] = ids_test\n",
        "subm['y'] = np.mean(test_preds_buf, axis=1)\n",
        "subm.to_csv('xgb_pca12_15fold_16mdls.csv', index=False)"
      ],
      "execution_count": 0,
      "outputs": [
        {
          "output_type": "stream",
          "text": [
            "Fold #0\n",
            "XGB: Evaluating model\n",
            "[0]\ttrain-rmse:12.3509\tvalid-rmse:12.0628\ttrain-r2:0.005999\tvalid-r2:0.005397\n",
            "Multiple eval metrics have been passed: 'valid-r2' will be used for early stopping.\n",
            "\n",
            "Will train until valid-r2 hasn't improved in 50 rounds.\n",
            "[100]\ttrain-rmse:9.68992\tvalid-rmse:9.5898\ttrain-r2:0.388175\tvalid-r2:0.371406\n",
            "[200]\ttrain-rmse:8.48776\tvalid-rmse:8.52492\ttrain-r2:0.530568\tvalid-r2:0.503257\n",
            "[300]\ttrain-rmse:7.98084\tvalid-rmse:8.11952\ttrain-r2:0.584966\tvalid-r2:0.549378\n",
            "[400]\ttrain-rmse:7.75116\tvalid-rmse:7.97747\ttrain-r2:0.608511\tvalid-r2:0.565007\n",
            "[500]\ttrain-rmse:7.62515\tvalid-rmse:7.93269\ttrain-r2:0.621137\tvalid-r2:0.569877\n",
            "[600]\ttrain-rmse:7.54012\tvalid-rmse:7.91998\ttrain-r2:0.629539\tvalid-r2:0.571254\n",
            "Stopping. Best iteration:\n",
            "[640]\ttrain-rmse:7.51233\tvalid-rmse:7.91823\ttrain-r2:0.632264\tvalid-r2:0.571444\n",
            "\n",
            "R2 = 0.5710785808510108\n",
            "Fold #1\n",
            "XGB: Evaluating model\n",
            "[0]\ttrain-rmse:12.3073\tvalid-rmse:12.2392\ttrain-r2:0.005966\tvalid-r2:0.005873\n",
            "Multiple eval metrics have been passed: 'valid-r2' will be used for early stopping.\n",
            "\n",
            "Will train until valid-r2 hasn't improved in 50 rounds.\n",
            "[100]\ttrain-rmse:9.69424\tvalid-rmse:9.60363\ttrain-r2:0.38326\tvalid-r2:0.387926\n",
            "[200]\ttrain-rmse:8.51408\tvalid-rmse:8.4484\ttrain-r2:0.524281\tvalid-r2:0.526323\n",
            "[300]\ttrain-rmse:8.01881\tvalid-rmse:7.99773\ttrain-r2:0.578017\tvalid-r2:0.57551\n",
            "[400]\ttrain-rmse:7.79705\tvalid-rmse:7.82869\ttrain-r2:0.601035\tvalid-r2:0.593265\n",
            "[500]\ttrain-rmse:7.67615\tvalid-rmse:7.76956\ttrain-r2:0.613311\tvalid-r2:0.599386\n",
            "[600]\ttrain-rmse:7.59854\tvalid-rmse:7.74955\ttrain-r2:0.621091\tvalid-r2:0.601447\n",
            "[700]\ttrain-rmse:7.53456\tvalid-rmse:7.74688\ttrain-r2:0.627445\tvalid-r2:0.601721\n",
            "Stopping. Best iteration:\n",
            "[707]\ttrain-rmse:7.53074\tvalid-rmse:7.74641\ttrain-r2:0.627822\tvalid-r2:0.60177\n",
            "\n",
            "R2 = 0.60156437389248\n",
            "Fold #2\n",
            "XGB: Evaluating model\n",
            "[0]\ttrain-rmse:12.2127\tvalid-rmse:12.6139\ttrain-r2:0.005983\tvalid-r2:0.005311\n",
            "Multiple eval metrics have been passed: 'valid-r2' will be used for early stopping.\n",
            "\n",
            "Will train until valid-r2 hasn't improved in 50 rounds.\n",
            "[100]\ttrain-rmse:9.60346\tvalid-rmse:10.037\ttrain-r2:0.385351\tvalid-r2:0.3702\n",
            "[200]\ttrain-rmse:8.42594\tvalid-rmse:8.89891\ttrain-r2:0.526841\tvalid-r2:0.504932\n",
            "[300]\ttrain-rmse:7.93222\tvalid-rmse:8.4309\ttrain-r2:0.580665\tvalid-r2:0.555635\n",
            "[400]\ttrain-rmse:7.7126\tvalid-rmse:8.24176\ttrain-r2:0.603564\tvalid-r2:0.57535\n",
            "[500]\ttrain-rmse:7.58856\tvalid-rmse:8.16573\ttrain-r2:0.616212\tvalid-r2:0.583149\n",
            "[600]\ttrain-rmse:7.50704\tvalid-rmse:8.12359\ttrain-r2:0.624415\tvalid-r2:0.587439\n",
            "[700]\ttrain-rmse:7.44268\tvalid-rmse:8.10936\ttrain-r2:0.630826\tvalid-r2:0.588884\n",
            "[800]\ttrain-rmse:7.38532\tvalid-rmse:8.10844\ttrain-r2:0.636495\tvalid-r2:0.588977\n",
            "Stopping. Best iteration:\n",
            "[782]\ttrain-rmse:7.39516\tvalid-rmse:8.1068\ttrain-r2:0.635525\tvalid-r2:0.589143\n",
            "\n",
            "R2 = 0.5889381996129521\n",
            "Fold #3\n",
            "XGB: Evaluating model\n",
            "[0]\ttrain-rmse:12.314\tvalid-rmse:12.2127\ttrain-r2:0.005889\tvalid-r2:0.005462\n",
            "Multiple eval metrics have been passed: 'valid-r2' will be used for early stopping.\n",
            "\n",
            "Will train until valid-r2 hasn't improved in 50 rounds.\n",
            "[100]\ttrain-rmse:9.723\tvalid-rmse:9.50695\ttrain-r2:0.380223\tvalid-r2:0.397325\n",
            "[200]\ttrain-rmse:8.55888\tvalid-rmse:8.30096\ttrain-r2:0.519748\tvalid-r2:0.54053\n",
            "[300]\ttrain-rmse:8.07478\tvalid-rmse:7.81603\ttrain-r2:0.57254\tvalid-r2:0.592645\n",
            "[400]\ttrain-rmse:7.86293\tvalid-rmse:7.62187\ttrain-r2:0.594675\tvalid-r2:0.612632\n",
            "[500]\ttrain-rmse:7.74741\tvalid-rmse:7.54259\ttrain-r2:0.606497\tvalid-r2:0.620648\n",
            "[600]\ttrain-rmse:7.66734\tvalid-rmse:7.51069\ttrain-r2:0.614589\tvalid-r2:0.623851\n",
            "[700]\ttrain-rmse:7.59777\tvalid-rmse:7.49025\ttrain-r2:0.621551\tvalid-r2:0.625895\n",
            "[800]\ttrain-rmse:7.53905\tvalid-rmse:7.48007\ttrain-r2:0.627378\tvalid-r2:0.626912\n",
            "[900]\ttrain-rmse:7.4866\tvalid-rmse:7.47389\ttrain-r2:0.632545\tvalid-r2:0.627528\n",
            "Stopping. Best iteration:\n",
            "[901]\ttrain-rmse:7.48581\tvalid-rmse:7.47377\ttrain-r2:0.632622\tvalid-r2:0.62754\n",
            "\n",
            "R2 = 0.6274182456170972\n",
            "Fold #4\n",
            "XGB: Evaluating model\n",
            "[0]\ttrain-rmse:12.284\tvalid-rmse:12.3349\ttrain-r2:0.005911\tvalid-r2:0.00485\n",
            "Multiple eval metrics have been passed: 'valid-r2' will be used for early stopping.\n",
            "\n",
            "Will train until valid-r2 hasn't improved in 50 rounds.\n",
            "[100]\ttrain-rmse:9.67905\tvalid-rmse:9.78124\ttrain-r2:0.382816\tvalid-r2:0.374248\n",
            "[200]\ttrain-rmse:8.50276\tvalid-rmse:8.61995\ttrain-r2:0.523712\tvalid-r2:0.514014\n",
            "[300]\ttrain-rmse:8.01258\tvalid-rmse:8.12963\ttrain-r2:0.577045\tvalid-r2:0.567729\n",
            "[400]\ttrain-rmse:7.80333\tvalid-rmse:7.91004\ttrain-r2:0.598847\tvalid-r2:0.590766\n",
            "[500]\ttrain-rmse:7.68583\tvalid-rmse:7.8167\ttrain-r2:0.610837\tvalid-r2:0.600368\n",
            "[600]\ttrain-rmse:7.60048\tvalid-rmse:7.77492\ttrain-r2:0.619432\tvalid-r2:0.604628\n",
            "[700]\ttrain-rmse:7.53637\tvalid-rmse:7.75947\ttrain-r2:0.625826\tvalid-r2:0.606197\n",
            "[800]\ttrain-rmse:7.48076\tvalid-rmse:7.74586\ttrain-r2:0.631328\tvalid-r2:0.607578\n",
            "[900]\ttrain-rmse:7.42941\tvalid-rmse:7.74113\ttrain-r2:0.636371\tvalid-r2:0.608057\n",
            "[999]\ttrain-rmse:7.38267\tvalid-rmse:7.7371\ttrain-r2:0.640932\tvalid-r2:0.608465\n",
            "R2 = 0.6084651675649255\n",
            "Fold #5\n",
            "XGB: Evaluating model\n",
            "[0]\ttrain-rmse:12.2175\tvalid-rmse:12.5966\ttrain-r2:0.005968\tvalid-r2:0.0057\n",
            "Multiple eval metrics have been passed: 'valid-r2' will be used for early stopping.\n",
            "\n",
            "Will train until valid-r2 hasn't improved in 50 rounds.\n",
            "[100]\ttrain-rmse:9.63302\tvalid-rmse:10.0184\ttrain-r2:0.382043\tvalid-r2:0.371059\n",
            "[200]\ttrain-rmse:8.46928\tvalid-rmse:8.83221\ttrain-r2:0.522332\tvalid-r2:0.511181\n",
            "[300]\ttrain-rmse:7.97968\tvalid-rmse:8.32724\ttrain-r2:0.575963\tvalid-r2:0.565478\n",
            "[400]\ttrain-rmse:7.7614\tvalid-rmse:8.11402\ttrain-r2:0.598844\tvalid-r2:0.587446\n",
            "[500]\ttrain-rmse:7.64645\tvalid-rmse:8.01351\ttrain-r2:0.610639\tvalid-r2:0.597603\n",
            "[600]\ttrain-rmse:7.56863\tvalid-rmse:7.96312\ttrain-r2:0.618523\tvalid-r2:0.602648\n",
            "[700]\ttrain-rmse:7.50538\tvalid-rmse:7.9432\ttrain-r2:0.624872\tvalid-r2:0.604634\n",
            "[800]\ttrain-rmse:7.45066\tvalid-rmse:7.93235\ttrain-r2:0.630322\tvalid-r2:0.605713\n",
            "[900]\ttrain-rmse:7.4022\tvalid-rmse:7.92521\ttrain-r2:0.635116\tvalid-r2:0.606422\n",
            "[999]\ttrain-rmse:7.35583\tvalid-rmse:7.92241\ttrain-r2:0.639673\tvalid-r2:0.606701\n",
            "R2 = 0.6067007775198987\n",
            "Fold #6\n",
            "XGB: Evaluating model\n",
            "[0]\ttrain-rmse:12.3082\tvalid-rmse:12.2362\ttrain-r2:0.005945\tvalid-r2:0.004884\n",
            "Multiple eval metrics have been passed: 'valid-r2' will be used for early stopping.\n",
            "\n",
            "Will train until valid-r2 hasn't improved in 50 rounds.\n",
            "[100]\ttrain-rmse:9.6676\tvalid-rmse:9.68474\ttrain-r2:0.386721\tvalid-r2:0.37662\n",
            "[200]\ttrain-rmse:8.47336\tvalid-rmse:8.5823\ttrain-r2:0.52888\tvalid-r2:0.510464\n",
            "[300]\ttrain-rmse:7.97133\tvalid-rmse:8.15665\ttrain-r2:0.583052\tvalid-r2:0.557818\n",
            "[400]\ttrain-rmse:7.74944\tvalid-rmse:7.99553\ttrain-r2:0.605941\tvalid-r2:0.575115\n",
            "[500]\ttrain-rmse:7.62934\tvalid-rmse:7.94433\ttrain-r2:0.618061\tvalid-r2:0.580538\n",
            "[600]\ttrain-rmse:7.53911\tvalid-rmse:7.93471\ttrain-r2:0.627042\tvalid-r2:0.581554\n",
            "Stopping. Best iteration:\n",
            "[634]\ttrain-rmse:7.5097\tvalid-rmse:7.93378\ttrain-r2:0.629946\tvalid-r2:0.581652\n",
            "\n",
            "R2 = 0.5812543076056167\n",
            "Fold #7\n",
            "XGB: Evaluating model\n",
            "[0]\ttrain-rmse:12.3552\tvalid-rmse:12.0441\ttrain-r2:0.005933\tvalid-r2:0.006128\n",
            "Multiple eval metrics have been passed: 'valid-r2' will be used for early stopping.\n",
            "\n",
            "Will train until valid-r2 hasn't improved in 50 rounds.\n",
            "[100]\ttrain-rmse:9.75764\tvalid-rmse:9.32006\ttrain-r2:0.379983\tvalid-r2:0.404856\n",
            "[200]\ttrain-rmse:8.59138\tvalid-rmse:8.1069\ttrain-r2:0.519338\tvalid-r2:0.549708\n",
            "[300]\ttrain-rmse:8.10417\tvalid-rmse:7.62493\ttrain-r2:0.572307\tvalid-r2:0.601658\n",
            "[400]\ttrain-rmse:7.88408\tvalid-rmse:7.43952\ttrain-r2:0.595222\tvalid-r2:0.620795\n",
            "[500]\ttrain-rmse:7.76241\tvalid-rmse:7.3683\ttrain-r2:0.607619\tvalid-r2:0.62802\n",
            "[600]\ttrain-rmse:7.68187\tvalid-rmse:7.33635\ttrain-r2:0.61572\tvalid-r2:0.631239\n",
            "[700]\ttrain-rmse:7.61771\tvalid-rmse:7.3256\ttrain-r2:0.622112\tvalid-r2:0.632319\n",
            "[800]\ttrain-rmse:7.56239\tvalid-rmse:7.31944\ttrain-r2:0.627581\tvalid-r2:0.632937\n",
            "[900]\ttrain-rmse:7.50889\tvalid-rmse:7.3167\ttrain-r2:0.632831\tvalid-r2:0.633212\n",
            "Stopping. Best iteration:\n",
            "[924]\ttrain-rmse:7.49643\tvalid-rmse:7.31583\ttrain-r2:0.634049\tvalid-r2:0.633299\n",
            "\n",
            "R2 = 0.633100803530456\n",
            "Fold #8\n",
            "XGB: Evaluating model\n",
            "[0]\ttrain-rmse:12.1642\tvalid-rmse:12.8003\ttrain-r2:0.005963\tvalid-r2:0.004828\n",
            "Multiple eval metrics have been passed: 'valid-r2' will be used for early stopping.\n",
            "\n",
            "Will train until valid-r2 hasn't improved in 50 rounds.\n",
            "[100]\ttrain-rmse:9.56887\tvalid-rmse:10.2088\ttrain-r2:0.384881\tvalid-r2:0.366997\n",
            "[200]\ttrain-rmse:8.39869\tvalid-rmse:9.03328\ttrain-r2:0.526128\tvalid-r2:0.504383\n",
            "[300]\ttrain-rmse:7.91093\tvalid-rmse:8.53931\ttrain-r2:0.579571\tvalid-r2:0.557106\n",
            "[400]\ttrain-rmse:7.69807\tvalid-rmse:8.33053\ttrain-r2:0.601891\tvalid-r2:0.578498\n",
            "[500]\ttrain-rmse:7.57724\tvalid-rmse:8.24542\ttrain-r2:0.61429\tvalid-r2:0.587067\n",
            "[600]\ttrain-rmse:7.49254\tvalid-rmse:8.20507\ttrain-r2:0.622865\tvalid-r2:0.591098\n",
            "[700]\ttrain-rmse:7.42518\tvalid-rmse:8.18486\ttrain-r2:0.629616\tvalid-r2:0.59311\n",
            "[800]\ttrain-rmse:7.37043\tvalid-rmse:8.17573\ttrain-r2:0.635057\tvalid-r2:0.594017\n",
            "[900]\ttrain-rmse:7.31994\tvalid-rmse:8.17222\ttrain-r2:0.640041\tvalid-r2:0.594365\n",
            "Stopping. Best iteration:\n",
            "[867]\ttrain-rmse:7.33653\tvalid-rmse:8.17182\ttrain-r2:0.638407\tvalid-r2:0.594406\n",
            "\n",
            "R2 = 0.5943769871984499\n",
            "Fold #9\n",
            "XGB: Evaluating model\n",
            "[0]\ttrain-rmse:12.4221\tvalid-rmse:11.7645\ttrain-r2:0.006007\tvalid-r2:0.005639\n",
            "Multiple eval metrics have been passed: 'valid-r2' will be used for early stopping.\n",
            "\n",
            "Will train until valid-r2 hasn't improved in 50 rounds.\n",
            "[100]\ttrain-rmse:9.76239\tvalid-rmse:9.26333\ttrain-r2:0.38609\tvalid-r2:0.383499\n",
            "[200]\ttrain-rmse:8.56069\tvalid-rmse:8.18938\ttrain-r2:0.527926\tvalid-r2:0.51816\n",
            "[300]\ttrain-rmse:8.05729\tvalid-rmse:7.78058\ttrain-r2:0.581813\tvalid-r2:0.565065\n",
            "[400]\ttrain-rmse:7.83718\tvalid-rmse:7.61955\ttrain-r2:0.604349\tvalid-r2:0.582882\n",
            "[500]\ttrain-rmse:7.72236\tvalid-rmse:7.56344\ttrain-r2:0.615857\tvalid-r2:0.589003\n",
            "[600]\ttrain-rmse:7.64564\tvalid-rmse:7.53085\ttrain-r2:0.623452\tvalid-r2:0.592537\n",
            "[700]\ttrain-rmse:7.58252\tvalid-rmse:7.52443\ttrain-r2:0.629644\tvalid-r2:0.593231\n",
            "Stopping. Best iteration:\n",
            "[711]\ttrain-rmse:7.57629\tvalid-rmse:7.52338\ttrain-r2:0.630251\tvalid-r2:0.593345\n",
            "\n",
            "R2 = 0.5930718577981611\n",
            "Fold #10\n",
            "XGB: Evaluating model\n",
            "[0]\ttrain-rmse:12.24\tvalid-rmse:12.5085\ttrain-r2:0.005998\tvalid-r2:0.005681\n",
            "Multiple eval metrics have been passed: 'valid-r2' will be used for early stopping.\n",
            "\n",
            "Will train until valid-r2 hasn't improved in 50 rounds.\n",
            "[100]\ttrain-rmse:9.62262\tvalid-rmse:9.98336\ttrain-r2:0.385658\tvalid-r2:0.366614\n",
            "[200]\ttrain-rmse:8.44074\tvalid-rmse:8.8388\ttrain-r2:0.527302\tvalid-r2:0.50352\n",
            "[300]\ttrain-rmse:7.94529\tvalid-rmse:8.3592\ttrain-r2:0.581164\tvalid-r2:0.555937\n",
            "[400]\ttrain-rmse:7.72561\tvalid-rmse:8.15113\ttrain-r2:0.604005\tvalid-r2:0.577769\n",
            "[500]\ttrain-rmse:7.60754\tvalid-rmse:8.06173\ttrain-r2:0.616017\tvalid-r2:0.586979\n",
            "[600]\ttrain-rmse:7.53273\tvalid-rmse:8.0133\ttrain-r2:0.623532\tvalid-r2:0.591927\n",
            "[700]\ttrain-rmse:7.46792\tvalid-rmse:7.99187\ttrain-r2:0.629982\tvalid-r2:0.594107\n",
            "[800]\ttrain-rmse:7.41187\tvalid-rmse:7.98031\ttrain-r2:0.635516\tvalid-r2:0.59528\n",
            "[900]\ttrain-rmse:7.35876\tvalid-rmse:7.97429\ttrain-r2:0.640721\tvalid-r2:0.59589\n",
            "Stopping. Best iteration:\n",
            "[890]\ttrain-rmse:7.36398\tvalid-rmse:7.97395\ttrain-r2:0.640211\tvalid-r2:0.595925\n",
            "\n",
            "R2 = 0.595779890830896\n",
            "Fold #11\n",
            "XGB: Evaluating model\n",
            "[0]\ttrain-rmse:12.1852\tvalid-rmse:12.7188\ttrain-r2:0.006077\tvalid-r2:0.004993\n",
            "Multiple eval metrics have been passed: 'valid-r2' will be used for early stopping.\n",
            "\n",
            "Will train until valid-r2 hasn't improved in 50 rounds.\n",
            "[100]\ttrain-rmse:9.53788\tvalid-rmse:10.2399\ttrain-r2:0.391038\tvalid-r2:0.355052\n",
            "[200]\ttrain-rmse:8.33973\tvalid-rmse:9.16631\ttrain-r2:0.534423\tvalid-r2:0.483196\n",
            "[300]\ttrain-rmse:7.83609\tvalid-rmse:8.74811\ttrain-r2:0.588959\tvalid-r2:0.529278\n",
            "[400]\ttrain-rmse:7.61317\tvalid-rmse:8.59089\ttrain-r2:0.612013\tvalid-r2:0.546046\n",
            "[500]\ttrain-rmse:7.49207\tvalid-rmse:8.53034\ttrain-r2:0.624258\tvalid-r2:0.552422\n",
            "[600]\ttrain-rmse:7.40367\tvalid-rmse:8.51815\ttrain-r2:0.633072\tvalid-r2:0.5537\n",
            "Stopping. Best iteration:\n",
            "[645]\ttrain-rmse:7.37\tvalid-rmse:8.51578\ttrain-r2:0.636402\tvalid-r2:0.553949\n",
            "\n",
            "R2 = 0.5538135431540314\n",
            "Fold #12\n",
            "XGB: Evaluating model\n",
            "[0]\ttrain-rmse:12.3296\tvalid-rmse:12.1488\ttrain-r2:0.005936\tvalid-r2:0.004393\n",
            "Multiple eval metrics have been passed: 'valid-r2' will be used for early stopping.\n",
            "\n",
            "Will train until valid-r2 hasn't improved in 50 rounds.\n",
            "[100]\ttrain-rmse:9.69766\tvalid-rmse:9.59275\ttrain-r2:0.38503\tvalid-r2:0.379268\n",
            "[200]\ttrain-rmse:8.51149\tvalid-rmse:8.46469\ttrain-r2:0.52627\tvalid-r2:0.516674\n",
            "[300]\ttrain-rmse:8.01533\tvalid-rmse:8.0151\ttrain-r2:0.579891\tvalid-r2:0.566653\n",
            "[400]\ttrain-rmse:7.80208\tvalid-rmse:7.82739\ttrain-r2:0.601948\tvalid-r2:0.586713\n",
            "[500]\ttrain-rmse:7.68494\tvalid-rmse:7.76081\ttrain-r2:0.61381\tvalid-r2:0.593714\n",
            "[600]\ttrain-rmse:7.60238\tvalid-rmse:7.73157\ttrain-r2:0.622064\tvalid-r2:0.59677\n",
            "[700]\ttrain-rmse:7.53985\tvalid-rmse:7.7127\ttrain-r2:0.628255\tvalid-r2:0.598735\n",
            "[800]\ttrain-rmse:7.48644\tvalid-rmse:7.70588\ttrain-r2:0.633503\tvalid-r2:0.599445\n",
            "Stopping. Best iteration:\n",
            "[841]\ttrain-rmse:7.46565\tvalid-rmse:7.70458\ttrain-r2:0.635536\tvalid-r2:0.599581\n",
            "\n",
            "R2 = 0.5994461161814348\n",
            "Fold #13\n",
            "XGB: Evaluating model\n",
            "[0]\ttrain-rmse:12.249\tvalid-rmse:12.4728\ttrain-r2:0.005897\tvalid-r2:0.006091\n",
            "Multiple eval metrics have been passed: 'valid-r2' will be used for early stopping.\n",
            "\n",
            "Will train until valid-r2 hasn't improved in 50 rounds.\n",
            "[100]\ttrain-rmse:9.68791\tvalid-rmse:9.72424\ttrain-r2:0.378141\tvalid-r2:0.395871\n",
            "[200]\ttrain-rmse:8.53746\tvalid-rmse:8.45479\ttrain-r2:0.517063\tvalid-r2:0.543307\n",
            "[300]\ttrain-rmse:8.05587\tvalid-rmse:7.9093\ttrain-r2:0.570011\tvalid-r2:0.600337\n",
            "[400]\ttrain-rmse:7.83844\tvalid-rmse:7.69163\ttrain-r2:0.592909\tvalid-r2:0.622031\n",
            "[500]\ttrain-rmse:7.71636\tvalid-rmse:7.60337\ttrain-r2:0.605491\tvalid-r2:0.630656\n",
            "[600]\ttrain-rmse:7.63842\tvalid-rmse:7.56181\ttrain-r2:0.613421\tvalid-r2:0.634683\n",
            "[700]\ttrain-rmse:7.57727\tvalid-rmse:7.54273\ttrain-r2:0.619585\tvalid-r2:0.636524\n",
            "[800]\ttrain-rmse:7.52635\tvalid-rmse:7.53256\ttrain-r2:0.624681\tvalid-r2:0.637504\n",
            "[900]\ttrain-rmse:7.47702\tvalid-rmse:7.52844\ttrain-r2:0.629584\tvalid-r2:0.6379\n",
            "[999]\ttrain-rmse:7.42874\tvalid-rmse:7.52628\ttrain-r2:0.634353\tvalid-r2:0.638108\n",
            "R2 = 0.6381075400531017\n",
            "Fold #14\n",
            "XGB: Evaluating model\n",
            "[0]\ttrain-rmse:12.4632\tvalid-rmse:11.589\ttrain-r2:0.005952\tvalid-r2:0.006376\n",
            "Multiple eval metrics have been passed: 'valid-r2' will be used for early stopping.\n",
            "\n",
            "Will train until valid-r2 hasn't improved in 50 rounds.\n",
            "[100]\ttrain-rmse:9.83863\tvalid-rmse:8.96531\ttrain-r2:0.380533\tvalid-r2:0.405352\n",
            "[200]\ttrain-rmse:8.65655\tvalid-rmse:7.81588\ttrain-r2:0.520445\tvalid-r2:0.548056\n",
            "[300]\ttrain-rmse:8.15849\tvalid-rmse:7.37881\ttrain-r2:0.57404\tvalid-r2:0.597188\n",
            "[400]\ttrain-rmse:7.93061\tvalid-rmse:7.23054\ttrain-r2:0.597503\tvalid-r2:0.613215\n",
            "[500]\ttrain-rmse:7.80423\tvalid-rmse:7.17841\ttrain-r2:0.610229\tvalid-r2:0.618772\n",
            "[600]\ttrain-rmse:7.7217\tvalid-rmse:7.16038\ttrain-r2:0.61843\tvalid-r2:0.620684\n",
            "[700]\ttrain-rmse:7.65417\tvalid-rmse:7.1622\ttrain-r2:0.625074\tvalid-r2:0.620492\n",
            "Stopping. Best iteration:\n",
            "[654]\ttrain-rmse:7.68426\tvalid-rmse:7.15698\ttrain-r2:0.622121\tvalid-r2:0.621045\n",
            "\n",
            "R2 = 0.6204555651407138\n",
            "XGB Mean R2 = 0.600904797103415 +/- 0.02215987402178757\n",
            "XGB: Train on full dataset and predicting on test\n",
            "[0]\ttrain-rmse:12.2938\ttrain-r2:0.005993\n",
            "[100]\ttrain-rmse:9.67984\ttrain-r2:0.383758\n",
            "[200]\ttrain-rmse:8.50574\ttrain-r2:0.524184\n",
            "[300]\ttrain-rmse:8.01605\ttrain-r2:0.577394\n",
            "[400]\ttrain-rmse:7.8037\ttrain-r2:0.599486\n",
            "[500]\ttrain-rmse:7.69273\ttrain-r2:0.610797\n",
            "[600]\ttrain-rmse:7.62106\ttrain-r2:0.618015\n",
            "[699]\ttrain-rmse:7.56359\ttrain-r2:0.623754\n"
          ],
          "name": "stdout"
        }
      ]
    },
    {
      "cell_type": "markdown",
      "metadata": {
        "id": "waB1g39B35CZ",
        "colab_type": "text"
      },
      "source": [
        "LB(.54638,56166)CV:(.6009)"
      ]
    },
    {
      "cell_type": "markdown",
      "metadata": {
        "id": "s1FCl7HTpnBs",
        "colab_type": "text"
      },
      "source": [
        "SD of CV also produces as estimate as how well our folds are responding to these showing clipping of outliers clearly works."
      ]
    },
    {
      "cell_type": "markdown",
      "metadata": {
        "id": "lmgULWSIebUY",
        "colab_type": "text"
      },
      "source": [
        "**LR with OneHotEncoding Done Here**"
      ]
    },
    {
      "cell_type": "code",
      "metadata": {
        "id": "Dp7ksWGlCgDk",
        "colab_type": "code",
        "colab": {}
      },
      "source": [
        "test= pd.read_csv('/content/drive/My Drive/mercedes-benz-greener-manufacturing/test_hot.csv')\n",
        "train= pd.read_csv('/content/drive/My Drive/mercedes-benz-greener-manufacturing/train_hot.csv')\n",
        "results=  pd.read_csv('/content/drive/My Drive/mercedes-benz-greener-manufacturing/sample_submission.csv')\n",
        "\n",
        "y_train= train.y.values\n",
        "targets= y_train\n",
        "train.drop(['y'],inplace= True,axis=1)"
      ],
      "execution_count": 0,
      "outputs": []
    },
    {
      "cell_type": "code",
      "metadata": {
        "id": "f-h2rAkoik9r",
        "colab_type": "code",
        "outputId": "2b386e01-7ef6-414c-cdc3-4f24aa41973d",
        "colab": {
          "base_uri": "https://localhost:8080/",
          "height": 102
        }
      },
      "source": [
        "#using onehot on categorical columns,leaving binary columns as they are already normalized.\n",
        "from sklearn.preprocessing import MinMaxScaler\n",
        "ids_test= test.ID.values\n",
        "SS=MinMaxScaler()\n",
        "train['ID']=SS.fit_transform(train.ID.values.reshape(-1,1))\n",
        "test['ID']= SS.transform(test.ID.values.reshape(-1,1))\n",
        "\n",
        "x_test= np.array(test)\n",
        "X= np.array(train)\n",
        "y= targets\n",
        "print(X.shape,'X.shape')\n",
        "parameters= {'alpha':[1e-6,1e-5,1e-4,1e-3,1e-2,1e-1,1,1e1,1e2,1e3],'loss':['squared_loss']}\n",
        "model= SGDRegressor(random_state= random_seed,penalty= 'l1')\n",
        "\n",
        "clf = GridSearchCV(model, parameters, cv=cv, scoring='r2',verbose=1,return_train_score=True)\n",
        "clf.fit(X, y)\n",
        "\n",
        "print(clf.best_params_,clf.best_score_)"
      ],
      "execution_count": 0,
      "outputs": [
        {
          "output_type": "stream",
          "text": [
            "(4209, 394) X.shape\n",
            "Fitting 15 folds for each of 10 candidates, totalling 150 fits\n"
          ],
          "name": "stdout"
        },
        {
          "output_type": "stream",
          "text": [
            "[Parallel(n_jobs=1)]: Using backend SequentialBackend with 1 concurrent workers.\n",
            "[Parallel(n_jobs=1)]: Done 150 out of 150 | elapsed:  1.3min finished\n"
          ],
          "name": "stderr"
        },
        {
          "output_type": "stream",
          "text": [
            "{'alpha': 0.01, 'loss': 'squared_loss'} 0.5830251985845702\n"
          ],
          "name": "stdout"
        }
      ]
    },
    {
      "cell_type": "code",
      "metadata": {
        "id": "28wHyKT737eh",
        "colab_type": "code",
        "outputId": "362db2f2-b124-46b9-d538-354565f4403e",
        "colab": {
          "base_uri": "https://localhost:8080/",
          "height": 295
        }
      },
      "source": [
        "cv_r1= clf.cv_results_['mean_train_score']\n",
        "cv_r2 = clf.cv_results_['mean_test_score']\n",
        "plt.plot(np.log10(parameters['alpha']),cv_r2,label= 'CV R2')\n",
        "plt.title('Alpha vs R2 score')\n",
        "plt.xlabel('log(alpha) hyperparameter')\n",
        "plt.ylabel('R2 Score')\n",
        "plt.plot(np.log10(parameters['alpha']),cv_r1,label= 'Train R2')\n",
        "plt.scatter(np.log10(parameters['alpha']),cv_r1,label= 'Train R2 points',color= 'orange')\n",
        "plt.scatter(np.log10(parameters['alpha']),cv_r2,label= 'CV R2 points',color= 'blue')\n",
        "plt.grid()\n",
        "plt.legend()\n",
        "plt.show()"
      ],
      "execution_count": 0,
      "outputs": [
        {
          "output_type": "display_data",
          "data": {
            "image/png": "[encoded data removed]",
            "text/plain": [
              "<Figure size 432x288 with 1 Axes>"
            ]
          },
          "metadata": {
            "tags": []
          }
        }
      ]
    },
    {
      "cell_type": "code",
      "metadata": {
        "id": "NouxgZxB7sMj",
        "colab_type": "code",
        "colab": {}
      },
      "source": [
        "model= SGDRegressor(**clf.best_params_,random_state= random_seed)\n",
        "model.fit(X,y)\n",
        "subm = pd.DataFrame()\n",
        "subm['ID'] = ids_test\n",
        "subm['y'] = model.predict(x_test)\n",
        "subm.to_csv('lr_5folds.csv', index=False)"
      ],
      "execution_count": 0,
      "outputs": []
    },
    {
      "cell_type": "markdown",
      "metadata": {
        "id": "sOMKdzcO1bBE",
        "colab_type": "text"
      },
      "source": [
        "LB(0.53780,0.53253) cv:.58302"
      ]
    },
    {
      "cell_type": "markdown",
      "metadata": {
        "id": "5w7V2FQXeo2U",
        "colab_type": "text"
      },
      "source": [
        "**Little t-test to check Importance of ID Feature**"
      ]
    },
    {
      "cell_type": "code",
      "metadata": {
        "id": "G1ruBd12Gcak",
        "colab_type": "code",
        "outputId": "5d12ef57-4775-4703-c663-6094913db3d7",
        "colab": {
          "base_uri": "https://localhost:8080/",
          "height": 85
        }
      },
      "source": [
        "cv1=RepeatedKFold(n_splits= 5,n_repeats= 50,random_state= random_seed)#250 folds\n",
        "lr_id=cross_val_score(model,X,y,scoring='r2',cv= cv1,verbose=1,n_jobs=1)\n",
        "lr_idless=cross_val_score(model,X[:,1:],y,scoring='r2',cv= cv1,verbose=1,n_jobs=1)#data with ID column removed"
      ],
      "execution_count": 0,
      "outputs": [
        {
          "output_type": "stream",
          "text": [
            "[Parallel(n_jobs=1)]: Using backend SequentialBackend with 1 concurrent workers.\n",
            "[Parallel(n_jobs=1)]: Done 250 out of 250 | elapsed:  1.3min finished\n",
            "[Parallel(n_jobs=1)]: Using backend SequentialBackend with 1 concurrent workers.\n",
            "[Parallel(n_jobs=1)]: Done 250 out of 250 | elapsed:  1.3min finished\n"
          ],
          "name": "stderr"
        }
      ]
    },
    {
      "cell_type": "code",
      "metadata": {
        "colab_type": "code",
        "outputId": "30ebf5d4-94d2-4d12-93b6-7c4eeedcb4de",
        "id": "SOQQCdwtI8Cg",
        "colab": {
          "base_uri": "https://localhost:8080/",
          "height": 282
        }
      },
      "source": [
        "#https://machinelearningmastery.com/parametric-ue,axis=1)statistical-significance-tests-in-python/\n",
        "plt.figure(figsize=(10,4))\n",
        "sns.distplot(lr_id,hist= False)\n",
        "sns.distplot(lr_idless,hist= False)"
      ],
      "execution_count": 0,
      "outputs": [
        {
          "output_type": "execute_result",
          "data": {
            "text/plain": [
              "<matplotlib.axes._subplots.AxesSubplot at 0x7f6026e24780>"
            ]
          },
          "metadata": {
            "tags": []
          },
          "execution_count": 53
        },
        {
          "output_type": "display_data",
          "data": {
            "image/png": "[encoded data removed]",
            "text/plain": [
              "<Figure size 720x288 with 1 Axes>"
            ]
          },
          "metadata": {
            "tags": []
          }
        }
      ]
    },
    {
      "cell_type": "markdown",
      "metadata": {
        "id": "-6q3aMp1ADCE",
        "colab_type": "text"
      },
      "source": [
        "The gaussian distribution shows that t-test can be used for statistical significance testing.Lets try to check the null hypothesis that cv with ID and without ID are from same distribution."
      ]
    },
    {
      "cell_type": "code",
      "metadata": {
        "colab_type": "code",
        "outputId": "d2216b58-ef8e-4499-e985-75ff4a3a1500",
        "id": "dDT7HQ9sI8Cm",
        "colab": {
          "base_uri": "https://localhost:8080/",
          "height": 34
        }
      },
      "source": [
        "#Now as the samples are not independent we have to use scipy.ttest_rel or Paired students t_test distribution.\n",
        "stats.ttest_rel(lr_id,lr_idless)"
      ],
      "execution_count": 0,
      "outputs": [
        {
          "output_type": "execute_result",
          "data": {
            "text/plain": [
              "Ttest_relResult(statistic=-1.7934487843033402, pvalue=0.07411461054366326)"
            ]
          },
          "metadata": {
            "tags": []
          },
          "execution_count": 54
        }
      ]
    },
    {
      "cell_type": "markdown",
      "metadata": {
        "id": "-6BG-L2OM5TL",
        "colab_type": "text"
      },
      "source": [
        "This test concludes that with the training setup and CV that we have used ID and Not using them doesent make any difference.\n",
        "Here we go out of what has been mentioned in kaggle kernels that ID Provided significant improvement as pvalue >.05 null hypothesis cant be rejected.\n",
        "The reson can be that model was complex enough to make use of other features that ID becomes redundant."
      ]
    },
    {
      "cell_type": "markdown",
      "metadata": {
        "id": "RRECPhb2q0P5",
        "colab_type": "text"
      },
      "source": [
        "**Mean Encoding for LR Done here**"
      ]
    },
    {
      "cell_type": "code",
      "metadata": {
        "id": "X4WNaKyDKEBa",
        "colab_type": "code",
        "colab": {}
      },
      "source": [
        "test= pd.read_csv('/content/drive/My Drive/mercedes-benz-greener-manufacturing/test_meanenc.csv')\n",
        "train= pd.read_csv('/content/drive/My Drive/mercedes-benz-greener-manufacturing/train_meanenc.csv')\n",
        "\n",
        "y_train= train.y.values\n",
        "targets= y_train\n",
        "train.drop(['y'],inplace= True,axis=1)"
      ],
      "execution_count": 0,
      "outputs": []
    },
    {
      "cell_type": "code",
      "metadata": {
        "id": "zhL8QLtv-Q8m",
        "colab_type": "code",
        "outputId": "b05a555b-4650-4790-e16f-1484a93213ee",
        "colab": {
          "base_uri": "https://localhost:8080/",
          "height": 102
        }
      },
      "source": [
        "ids_test= test.ID.values\n",
        "SS=MinMaxScaler()\n",
        "train.iloc[:,:8]=SS.fit_transform(train.iloc[:,:8])#Id feature with all the cat variables are rescaled\n",
        "test.iloc[:,:8]= SS.transform(test.iloc[:,:8])\n",
        "x_test= np.array(test)\n",
        "X= np.array(train)\n",
        "y= targets\n",
        "print(X.shape,'X.shape')\n",
        "parameters= {'alpha':[1e-1,1,1e1,1e-2,1e-3,1e-4],'loss':['squared_loss'],'penalty':['l1','l2']}\n",
        "model= SGDRegressor(random_state= random_seed,)\n",
        "\n",
        "clf = GridSearchCV(model, parameters, cv=cv, scoring='r2',verbose=1)\n",
        "clf.fit(X, y)\n",
        "\n",
        "print(clf.best_params_,clf.best_score_)"
      ],
      "execution_count": 0,
      "outputs": [
        {
          "output_type": "stream",
          "text": [
            "(4209, 210) X.shape\n",
            "Fitting 15 folds for each of 12 candidates, totalling 180 fits\n"
          ],
          "name": "stdout"
        },
        {
          "output_type": "stream",
          "text": [
            "[Parallel(n_jobs=1)]: Using backend SequentialBackend with 1 concurrent workers.\n",
            "[Parallel(n_jobs=1)]: Done 180 out of 180 | elapsed:   47.3s finished\n"
          ],
          "name": "stderr"
        },
        {
          "output_type": "stream",
          "text": [
            "{'alpha': 0.01, 'loss': 'squared_loss', 'penalty': 'l1'} 0.5838024669319191\n"
          ],
          "name": "stdout"
        }
      ]
    },
    {
      "cell_type": "code",
      "metadata": {
        "id": "But-L8pv75Wf",
        "colab_type": "code",
        "colab": {}
      },
      "source": [
        "model= SGDRegressor(**clf.best_params_,random_state= random_seed)\n",
        "model.fit(X,y)\n",
        "subm = pd.DataFrame()\n",
        "subm['ID'] = ids_test\n",
        "subm['y'] = model.predict(x_test)\n",
        "subm.to_csv('lr_5folds_meanenc.csv', index=False)"
      ],
      "execution_count": 0,
      "outputs": []
    },
    {
      "cell_type": "markdown",
      "metadata": {
        "id": "r-echTT01the",
        "colab_type": "text"
      },
      "source": [
        "LB(0.53792,0.54382)CV:.58380"
      ]
    },
    {
      "cell_type": "markdown",
      "metadata": {
        "id": "6KWQCW5creDL",
        "colab_type": "text"
      },
      "source": [
        "**MeanEncoding Done Here for RandomForestRegressor**"
      ]
    },
    {
      "cell_type": "code",
      "metadata": {
        "colab_type": "code",
        "id": "dFAiyG6Kt-fw",
        "colab": {}
      },
      "source": [
        "test= pd.read_csv('/content/drive/My Drive/mercedes-benz-greener-manufacturing/test_meanenc.csv')\n",
        "train= pd.read_csv('/content/drive/My Drive/mercedes-benz-greener-manufacturing/train_meanenc.csv')\n",
        "\n",
        "y_train= train.y.values\n",
        "targets= y_train.copy()\n",
        "train.drop(['y'],inplace= True,axis=1)"
      ],
      "execution_count": 0,
      "outputs": []
    },
    {
      "cell_type": "code",
      "metadata": {
        "colab_type": "code",
        "outputId": "8bb10568-3168-4175-8abe-5a635103f430",
        "id": "KorWP823t-f6",
        "colab": {
          "base_uri": "https://localhost:8080/",
          "height": 102
        }
      },
      "source": [
        "cv3= KFold(5,True,random_seed)\n",
        "y_mean= y_train.mean()\n",
        "\n",
        "x_test= np.array(test)\n",
        "X= np.array(train)\n",
        "y= targets\n",
        "print(X.shape,'X.shape')\n",
        "parameters= {\"n_estimators\":[600],\n",
        "              \"max_depth\": [4],#[3,4,5,6,7,8,9,10],#list(range(2,10)),#4 is the best\n",
        "              \"min_samples_leaf\": [5],#[1,2,3,4,5,6],#[3,4,5,6,7],\n",
        "              \"max_features\": [.95],\n",
        "             'min_impurity_decrease':[1e-2],#[1e-5,1e-4,1e-3,1e-2,1e-1,0,1,10,100]\n",
        "              }\n",
        "model= RandomForestRegressor(n_jobs=1,random_state= random_seed)\n",
        "\n",
        "clf = GridSearchCV(model, parameters, cv=cv3, scoring='r2',\n",
        "                         verbose=1,return_train_score= True,n_jobs=-1)\n",
        "clf.fit(X, y)\n",
        "\n",
        "ids_test= test.ID.values\n",
        "print(clf.best_params_)"
      ],
      "execution_count": 0,
      "outputs": [
        {
          "output_type": "stream",
          "text": [
            "(4209, 210) X.shape\n",
            "Fitting 5 folds for each of 1 candidates, totalling 5 fits\n"
          ],
          "name": "stdout"
        },
        {
          "output_type": "stream",
          "text": [
            "[Parallel(n_jobs=-1)]: Using backend LokyBackend with 2 concurrent workers.\n",
            "[Parallel(n_jobs=-1)]: Done   5 out of   5 | elapsed:   42.9s finished\n"
          ],
          "name": "stderr"
        },
        {
          "output_type": "stream",
          "text": [
            "{'max_depth': 4, 'max_features': 0.95, 'min_impurity_decrease': 0.01, 'min_samples_leaf': 5, 'n_estimators': 600}\n"
          ],
          "name": "stdout"
        }
      ]
    },
    {
      "cell_type": "code",
      "metadata": {
        "id": "RsuuFBZh7_vL",
        "colab_type": "code",
        "outputId": "13231454-b555-489f-f491-c291a75f0867",
        "colab": {
          "base_uri": "https://localhost:8080/",
          "height": 85
        }
      },
      "source": [
        "rf_tar= RandomForestRegressor(**clf.best_params_,random_state= random_seed,oob_score= True)\n",
        "rf_tar.fit(X,y)\n",
        "print('oob_score: ',rf_tar.oob_score_)\n",
        "cv_score=cross_val_score(rf_tar,X,y,scoring='r2',cv= cv,verbose=1,n_jobs=1)\n",
        "print(cv_score.mean(),' +/- ',cv_score.std())\n",
        "subm = pd.DataFrame()\n",
        "subm['ID'] = ids_test\n",
        "subm['y'] = rf_tar.predict(x_test)\n",
        "subm.to_csv('rf_5folds_meanenc.csv', index=False)"
      ],
      "execution_count": 0,
      "outputs": [
        {
          "output_type": "stream",
          "text": [
            "oob_score:  0.6054807310827848\n"
          ],
          "name": "stdout"
        },
        {
          "output_type": "stream",
          "text": [
            "[Parallel(n_jobs=1)]: Using backend SequentialBackend with 1 concurrent workers.\n"
          ],
          "name": "stderr"
        },
        {
          "output_type": "stream",
          "text": [
            "0.6055514389987438  +/-  0.022463458244656155\n"
          ],
          "name": "stdout"
        },
        {
          "output_type": "stream",
          "text": [
            "[Parallel(n_jobs=1)]: Done  15 out of  15 | elapsed:  2.6min finished\n"
          ],
          "name": "stderr"
        }
      ]
    },
    {
      "cell_type": "markdown",
      "metadata": {
        "id": "v4ySXvAA1-Gw",
        "colab_type": "text"
      },
      "source": [
        "LB(0.54897,0.55864),CV:.6055"
      ]
    },
    {
      "cell_type": "code",
      "metadata": {
        "colab_type": "code",
        "outputId": "86ae5cda-07ea-4aed-bf07-9a56b0e2b423",
        "id": "wVvrDvEct-gA",
        "colab": {
          "base_uri": "https://localhost:8080/",
          "height": 404
        }
      },
      "source": [
        "features = train.columns\n",
        "importances = rf_tar.feature_importances_\n",
        "indices = (np.argsort(importances))[-20:]\n",
        "plt.figure(figsize=(5,6))\n",
        "plt.title('Feature Importances')\n",
        "plt.barh(range(len(indices)), importances[indices], color='k', align='center')\n",
        "plt.yticks(range(len(indices)), [features[i] for i in indices])\n",
        "plt.xlabel('Relative Importance')\n",
        "plt.show()"
      ],
      "execution_count": 0,
      "outputs": [
        {
          "output_type": "display_data",
          "data": {
            "image/png": "[encoded data removed]",
            "text/plain": [
              "<Figure size 360x432 with 1 Axes>"
            ]
          },
          "metadata": {
            "tags": []
          }
        }
      ]
    },
    {
      "cell_type": "markdown",
      "metadata": {
        "id": "aWxgMW4dY4ro",
        "colab_type": "text"
      },
      "source": [
        "**MeanEncoding Using XGBoost**"
      ]
    },
    {
      "cell_type": "code",
      "metadata": {
        "id": "y4oKevrWY874",
        "colab_type": "code",
        "colab": {}
      },
      "source": [
        "test= pd.read_csv('/content/drive/My Drive/mercedes-benz-greener-manufacturing/test_meanenc.csv')\n",
        "train= pd.read_csv('/content/drive/My Drive/mercedes-benz-greener-manufacturing/train_meanenc.csv')\n",
        "\n",
        "y_train= train.y.values\n",
        "targets= y_train.copy()\n",
        "train.drop(['y'],inplace= True,axis=1)"
      ],
      "execution_count": 0,
      "outputs": []
    },
    {
      "cell_type": "code",
      "metadata": {
        "colab_type": "code",
        "outputId": "726810a9-b7c4-4c8a-9768-88dbfbe779e8",
        "id": "rrW8dLT9ZIAw",
        "colab": {
          "base_uri": "https://localhost:8080/",
          "height": 105
        }
      },
      "source": [
        "cv3= KFold(5,True,random_seed)\n",
        "parameters= {'learning_rate': [0.05],\n",
        "               'subsample': [.72],#[.9,.8,.7,.6,.5,1], \n",
        "               'colsample_bytree': [.72],#[.9,.8,.7,.6,.5,1],#[.8],#[0.8,.85]\n",
        "               'min_child_weight':[10],#[10,20,30,50,100,150,200], #[1,5,10],#[110,120,130]\n",
        "               'max_depth': [2],#[2,4,6,10], \n",
        "               'n_estimators':[151],\n",
        "               'verbosity':[1],\n",
        "             'gamma':[.01],#[1e-2,1e-3,1e-4,0,.1,.2,.3,.4,.5,1,3,5,10],\n",
        "             'reg_alpha':[1],#[1e-5,1e-3,1e-1,1,1e1,1e2]\n",
        "             \n",
        "             }\n",
        "model= xgb.XGBRegressor(n_jobs=1,random_state= random_seed,verbosity=1,silent=True)\n",
        "clf = GridSearchCV(model, parameters, cv=cv3, scoring='r2',\n",
        "                         verbose=1,return_train_score= True,n_jobs=-1)\n",
        "clf.fit(X, y)\n",
        "\n",
        "ids_test= test.ID.values\n",
        "print(clf.best_params_)"
      ],
      "execution_count": 0,
      "outputs": [
        {
          "output_type": "stream",
          "text": [
            "Fitting 5 folds for each of 1 candidates, totalling 5 fits\n"
          ],
          "name": "stdout"
        },
        {
          "output_type": "stream",
          "text": [
            "[Parallel(n_jobs=-1)]: Using backend LokyBackend with 2 concurrent workers.\n",
            "[Parallel(n_jobs=-1)]: Done   5 out of   5 | elapsed:    7.6s finished\n"
          ],
          "name": "stderr"
        },
        {
          "output_type": "stream",
          "text": [
            "{'colsample_bytree': 0.72, 'gamma': 0.01, 'learning_rate': 0.05, 'max_depth': 2, 'min_child_weight': 10, 'n_estimators': 151, 'reg_alpha': 1, 'subsample': 0.72, 'verbosity': 1}\n"
          ],
          "name": "stdout"
        }
      ]
    },
    {
      "cell_type": "code",
      "metadata": {
        "id": "EP4A1eRt8Opx",
        "colab_type": "code",
        "outputId": "87b2152c-76db-437d-805c-df5bdd59f7ec",
        "colab": {
          "base_uri": "https://localhost:8080/",
          "height": 68
        }
      },
      "source": [
        "xgb_tar= xgb.XGBRegressor(**clf.best_params_,random_state= random_seed,silent=True)\n",
        "X_lab= pd.DataFrame(X,columns= train.columns)\n",
        "x_test_lab=pd.DataFrame(x_test,columns= train.columns) \n",
        "xgb_tar.fit(X_lab,y)\n",
        "cv_score=cross_val_score(xgb_tar,X,y,scoring='r2',cv= cv,verbose=1,n_jobs=1)\n",
        "print(cv_score.mean(),' +/- ',cv_score.std())\n",
        "subm = pd.DataFrame()\n",
        "subm['ID'] = ids_test\n",
        "subm['y'] = xgb_tar.predict(x_test_lab)\n",
        "subm.to_csv('xgb_meanenc.csv', index=False)"
      ],
      "execution_count": 0,
      "outputs": [
        {
          "output_type": "stream",
          "text": [
            "[Parallel(n_jobs=1)]: Using backend SequentialBackend with 1 concurrent workers.\n"
          ],
          "name": "stderr"
        },
        {
          "output_type": "stream",
          "text": [
            "0.6081670903478663  +/-  0.02161144780988898\n"
          ],
          "name": "stdout"
        },
        {
          "output_type": "stream",
          "text": [
            "[Parallel(n_jobs=1)]: Done  15 out of  15 | elapsed:   27.3s finished\n"
          ],
          "name": "stderr"
        }
      ]
    },
    {
      "cell_type": "markdown",
      "metadata": {
        "id": "Zcyfh0n42ETB",
        "colab_type": "text"
      },
      "source": [
        "LB(0.54832,0.55701)CV:.60816"
      ]
    },
    {
      "cell_type": "code",
      "metadata": {
        "colab_type": "code",
        "outputId": "5e20b871-db1f-4b59-ee8e-115d1921b850",
        "id": "Xi2U1K2jZIA7",
        "colab": {
          "base_uri": "https://localhost:8080/",
          "height": 893
        }
      },
      "source": [
        "from xgboost import plot_importance\n",
        "fig, ax = plt.subplots(figsize=(10, 15))\n",
        "plot_importance(xgb_mean,max_num_features= 70, ax=ax)\n",
        "plt.show()"
      ],
      "execution_count": 0,
      "outputs": [
        {
          "output_type": "display_data",
          "data": {
            "image/png": "[encoded data removed]",
            "text/plain": [
              "<Figure size 720x1080 with 1 Axes>"
            ]
          },
          "metadata": {
            "tags": []
          }
        }
      ]
    },
    {
      "cell_type": "markdown",
      "metadata": {
        "id": "-j9Tqlu5GQDL",
        "colab_type": "text"
      },
      "source": [
        "**MeanEncoding on ExtraTreesRegressor**"
      ]
    },
    {
      "cell_type": "code",
      "metadata": {
        "id": "fq4tf2rjGZMD",
        "colab_type": "code",
        "outputId": "64100eb8-1531-4627-d8a9-0974949cec35",
        "colab": {
          "base_uri": "https://localhost:8080/",
          "height": 102
        }
      },
      "source": [
        "cv3= KFold(5,True,random_seed)\n",
        "y_mean= y_train.mean()\n",
        "\n",
        "x_test= np.array(test)\n",
        "X= np.array(train)\n",
        "y= targets\n",
        "print(X.shape,'X.shape')\n",
        "parameters= {\"n_estimators\":[750],#range(700,1500,50),\n",
        "              \"max_depth\": [4],#[3,4,5,6,7,8,9,10],#list(range(2,10)),#4 is the best\n",
        "              \"min_samples_leaf\": [10],#[3,4,5,6,7],\n",
        "              \"max_features\": [.95],#[.95],\n",
        "             'min_impurity_decrease':[1e-4],#[1e-5,1e-4,1e-3,1e-2,1e-1,0,1,10,100]\n",
        "              }\n",
        "model= ExtraTreesRegressor(n_jobs=1,random_state= random_seed)\n",
        "\n",
        "clf = GridSearchCV(model, parameters, cv=cv3, scoring='r2',\n",
        "                         verbose=1,return_train_score= True,n_jobs=-1)\n",
        "clf.fit(X, y)\n",
        "\n",
        "ids_test= test.ID.values\n",
        "print(clf.best_params_)"
      ],
      "execution_count": 0,
      "outputs": [
        {
          "output_type": "stream",
          "text": [
            "[Parallel(n_jobs=-1)]: Using backend LokyBackend with 2 concurrent workers.\n"
          ],
          "name": "stderr"
        },
        {
          "output_type": "stream",
          "text": [
            "(4209, 210) X.shape\n",
            "Fitting 5 folds for each of 1 candidates, totalling 5 fits\n"
          ],
          "name": "stdout"
        },
        {
          "output_type": "stream",
          "text": [
            "[Parallel(n_jobs=-1)]: Done   5 out of   5 | elapsed:  1.0min finished\n"
          ],
          "name": "stderr"
        },
        {
          "output_type": "stream",
          "text": [
            "{'max_depth': 4, 'max_features': 0.95, 'min_impurity_decrease': 0.0001, 'min_samples_leaf': 10, 'n_estimators': 750}\n"
          ],
          "name": "stdout"
        }
      ]
    },
    {
      "cell_type": "code",
      "metadata": {
        "id": "HnFH9JBA8g6L",
        "colab_type": "code",
        "outputId": "2e861849-eb44-4734-aaff-97e47717467d",
        "colab": {
          "base_uri": "https://localhost:8080/",
          "height": 85
        }
      },
      "source": [
        "et_tar= ExtraTreesRegressor(**clf.best_params_,random_state= random_seed,oob_score= True,bootstrap= True)\n",
        "et_tar.fit(X,y)\n",
        "print('oob_score: ',et_tar.oob_score_)\n",
        "cv_score=cross_val_score(et_tar,X,y,scoring='r2',cv= cv,verbose=1,n_jobs=1)\n",
        "print(cv_score.mean(),' +/- ',cv_score.std())\n",
        "subm = pd.DataFrame()\n",
        "subm['ID'] = ids_test\n",
        "subm['y'] = et_tar.predict(x_test)\n",
        "subm.to_csv('et_5folds_meanenc.csv', index=False)"
      ],
      "execution_count": 0,
      "outputs": [
        {
          "output_type": "stream",
          "text": [
            "oob_score:  0.6030986205377533\n"
          ],
          "name": "stdout"
        },
        {
          "output_type": "stream",
          "text": [
            "[Parallel(n_jobs=1)]: Using backend SequentialBackend with 1 concurrent workers.\n"
          ],
          "name": "stderr"
        },
        {
          "output_type": "stream",
          "text": [
            "0.6009667986911981  +/-  0.021531916778920388\n"
          ],
          "name": "stdout"
        },
        {
          "output_type": "stream",
          "text": [
            "[Parallel(n_jobs=1)]: Done  15 out of  15 | elapsed:  2.4min finished\n"
          ],
          "name": "stderr"
        }
      ]
    },
    {
      "cell_type": "markdown",
      "metadata": {
        "id": "4KumJJhQ8bKh",
        "colab_type": "text"
      },
      "source": [
        "LB(0.54831,0.55545),CV:.60096"
      ]
    },
    {
      "cell_type": "markdown",
      "metadata": {
        "id": "ulYqOhSeyRv9",
        "colab_type": "text"
      },
      "source": [
        "**Random Forest Regressor LabelEncoding**"
      ]
    },
    {
      "cell_type": "code",
      "metadata": {
        "id": "2m3x47YyMVMj",
        "colab_type": "code",
        "colab": {}
      },
      "source": [
        "test= pd.read_csv('/content/drive/My Drive/mercedes-benz-greener-manufacturing/test_label.csv')\n",
        "train= pd.read_csv('/content/drive/My Drive/mercedes-benz-greener-manufacturing/train_label.csv')\n",
        "\n",
        "y_train= train.y.values\n",
        "targets= y_train\n",
        "train.drop(['y'],inplace= True,axis=1)"
      ],
      "execution_count": 0,
      "outputs": []
    },
    {
      "cell_type": "code",
      "metadata": {
        "colab_type": "code",
        "outputId": "ca19c41d-bdce-40e6-cdd5-9d78180affac",
        "id": "EzYZVa-k0CsB",
        "colab": {
          "base_uri": "https://localhost:8080/",
          "height": 102
        }
      },
      "source": [
        "cv3= KFold(5,True,random_seed)\n",
        "y_mean= y_train.mean()\n",
        "\n",
        "x_test= np.array(test)\n",
        "X= np.array(train)\n",
        "y= targets\n",
        "print(X.shape,'X.shape')\n",
        "parameters= {\"n_estimators\":[600],\n",
        "              \"max_depth\": [4],#[3,4,5,6,7,8,9,10],#list(range(2,10)),#4 is the best\n",
        "              \"min_samples_leaf\": [5],#[1,2,3,4,5,6],#[3,4,5,6,7],\n",
        "              \"max_features\": [.95],\n",
        "             'min_impurity_decrease':[1e-2],#[1e-5,1e-4,1e-3,1e-2,1e-1,0,1,10,100]\n",
        "              }\n",
        "model= RandomForestRegressor(n_jobs=1,random_state= random_seed)\n",
        "\n",
        "clf = GridSearchCV(model, parameters, cv=cv3, scoring='r2',\n",
        "                         verbose=1,return_train_score= True,n_jobs=-1)\n",
        "clf.fit(X, y)\n",
        "\n",
        "ids_test= test.ID.values\n",
        "print(clf.best_params_)"
      ],
      "execution_count": 0,
      "outputs": [
        {
          "output_type": "stream",
          "text": [
            "(4209, 210) X.shape\n",
            "Fitting 5 folds for each of 1 candidates, totalling 5 fits\n"
          ],
          "name": "stdout"
        },
        {
          "output_type": "stream",
          "text": [
            "[Parallel(n_jobs=-1)]: Using backend LokyBackend with 2 concurrent workers.\n",
            "[Parallel(n_jobs=-1)]: Done   5 out of   5 | elapsed:   41.0s finished\n"
          ],
          "name": "stderr"
        },
        {
          "output_type": "stream",
          "text": [
            "{'max_depth': 4, 'max_features': 0.95, 'min_impurity_decrease': 0.01, 'min_samples_leaf': 5, 'n_estimators': 600}\n"
          ],
          "name": "stdout"
        }
      ]
    },
    {
      "cell_type": "code",
      "metadata": {
        "id": "l5M9sFBV8q6H",
        "colab_type": "code",
        "outputId": "619e2654-184d-41ef-a779-ce4ab06c8a86",
        "colab": {
          "base_uri": "https://localhost:8080/",
          "height": 85
        }
      },
      "source": [
        "rf_label= RandomForestRegressor(**clf.best_params_,random_state= random_seed,oob_score= True)\n",
        "rf_label.fit(X,y)\n",
        "print('oob_score: ',rf_label.oob_score_)\n",
        "cv_score=cross_val_score(rf_label,X,y,scoring='r2',cv= cv,verbose=1,n_jobs=1)\n",
        "print(cv_score.mean(),' +/- ',cv_score.std())\n",
        "subm = pd.DataFrame()\n",
        "subm['ID'] = ids_test\n",
        "subm['y'] = rf_label.predict(x_test)\n",
        "subm.to_csv('rf_5folds_label.csv', index=False)"
      ],
      "execution_count": 0,
      "outputs": [
        {
          "output_type": "stream",
          "text": [
            "oob_score:  0.6022263656601465\n"
          ],
          "name": "stdout"
        },
        {
          "output_type": "stream",
          "text": [
            "[Parallel(n_jobs=1)]: Using backend SequentialBackend with 1 concurrent workers.\n"
          ],
          "name": "stderr"
        },
        {
          "output_type": "stream",
          "text": [
            "0.6023986685575103  +/-  0.02119851269797542\n"
          ],
          "name": "stdout"
        },
        {
          "output_type": "stream",
          "text": [
            "[Parallel(n_jobs=1)]: Done  15 out of  15 | elapsed:  2.5min finished\n"
          ],
          "name": "stderr"
        }
      ]
    },
    {
      "cell_type": "markdown",
      "metadata": {
        "id": "nECTpcdJ2Xmr",
        "colab_type": "text"
      },
      "source": [
        "LB(0.54986,0.55686),CV:.6023"
      ]
    },
    {
      "cell_type": "code",
      "metadata": {
        "id": "VP8MlMstZtTK",
        "colab_type": "code",
        "outputId": "3dd1fe5d-3908-4352-e9a0-427e6627f878",
        "colab": {
          "base_uri": "https://localhost:8080/",
          "height": 404
        }
      },
      "source": [
        "features = train.columns\n",
        "importances = rf_label.feature_importances_\n",
        "indices = (np.argsort(importances))[-20:]\n",
        "plt.figure(figsize=(5,6))\n",
        "plt.title('Feature Importances')\n",
        "plt.barh(range(len(indices)), importances[indices], color='k', align='center')\n",
        "plt.yticks(range(len(indices)), [features[i] for i in indices])\n",
        "plt.xlabel('Relative Importance')\n",
        "plt.show()"
      ],
      "execution_count": 0,
      "outputs": [
        {
          "output_type": "display_data",
          "data": {
            "image/png": "[encoded data removed]",
            "text/plain": [
              "<Figure size 360x432 with 1 Axes>"
            ]
          },
          "metadata": {
            "tags": []
          }
        }
      ]
    },
    {
      "cell_type": "markdown",
      "metadata": {
        "id": "G_XhhXsv1iuF",
        "colab_type": "text"
      },
      "source": [
        "**Xgboost with LabelEncoding**"
      ]
    },
    {
      "cell_type": "code",
      "metadata": {
        "id": "RLpFqf1e1hJL",
        "colab_type": "code",
        "outputId": "55c36e11-5f8c-4875-aac8-71e447b11fb6",
        "colab": {
          "base_uri": "https://localhost:8080/",
          "height": 122
        }
      },
      "source": [
        "cv3= KFold(5,True,random_seed)\n",
        "y_mean= y_train.mean()\n",
        "\n",
        "x_test= np.array(test)\n",
        "X= np.array(train)\n",
        "y= targets\n",
        "print(X.shape,'X.shape')\n",
        "parameters= {'learning_rate': [0.05],\n",
        "               'subsample': [.72],#[.9,.8,.7,.6,.5,1], \n",
        "               'colsample_bytree': [.72],#[.9,.8,.7,.6,.5,1],#[.8],#[0.8,.85]\n",
        "               'min_child_weight':[10],#[10,20,30,50,100,150,200], #[1,5,10],#[110,120,130]\n",
        "               'max_depth': [2],#[2,4,6,10], \n",
        "               'n_estimators':[151],\n",
        "               'verbosity':[1],\n",
        "             'gamma':[.01],#[1e-2,1e-3,1e-4,0,.1,.2,.3,.4,.5,1,3,5,10],\n",
        "             'reg_alpha':[1],#[1e-5,1e-3,1e-1,1,1e1,1e2]\n",
        "             \n",
        "             }\n",
        "model= xgb.XGBRegressor(n_jobs=1,random_state= random_seed,verbosity=1,silent=True)\n",
        "clf = GridSearchCV(model, parameters, cv=cv3, scoring='r2',\n",
        "                         verbose=1,return_train_score= True,n_jobs=-1)\n",
        "clf.fit(X, y)\n",
        "\n",
        "ids_test= test.ID.values\n",
        "print(clf.best_params_)"
      ],
      "execution_count": 0,
      "outputs": [
        {
          "output_type": "stream",
          "text": [
            "[Parallel(n_jobs=-1)]: Using backend LokyBackend with 2 concurrent workers.\n"
          ],
          "name": "stderr"
        },
        {
          "output_type": "stream",
          "text": [
            "(4209, 210) X.shape\n",
            "Fitting 5 folds for each of 1 candidates, totalling 5 fits\n"
          ],
          "name": "stdout"
        },
        {
          "output_type": "stream",
          "text": [
            "[Parallel(n_jobs=-1)]: Done   5 out of   5 | elapsed:    7.0s finished\n"
          ],
          "name": "stderr"
        },
        {
          "output_type": "stream",
          "text": [
            "{'colsample_bytree': 0.72, 'gamma': 0.01, 'learning_rate': 0.05, 'max_depth': 2, 'min_child_weight': 10, 'n_estimators': 151, 'reg_alpha': 1, 'subsample': 0.72, 'verbosity': 1}\n"
          ],
          "name": "stdout"
        }
      ]
    },
    {
      "cell_type": "code",
      "metadata": {
        "id": "9Cyy4DAd8zCg",
        "colab_type": "code",
        "outputId": "eca51474-ef16-4b2e-ee14-57f4890700f0",
        "colab": {
          "base_uri": "https://localhost:8080/",
          "height": 68
        }
      },
      "source": [
        "xgb_lab= xgb.XGBRegressor(**clf.best_params_,random_state= random_seed,silent=True)\n",
        "X_lab= pd.DataFrame(X,columns= train.columns)\n",
        "x_test_lab=pd.DataFrame(x_test,columns= train.columns)\n",
        "xgb_lab.fit(X_lab,y)\n",
        "cv_score=cross_val_score(xgb_lab,X,y,scoring='r2',cv= cv,verbose=1,n_jobs=1)\n",
        "print(cv_score.mean(),' +/- ',cv_score.std())\n",
        "subm = pd.DataFrame()\n",
        "subm['ID'] = ids_test\n",
        "subm['y'] = xgb_lab.predict(x_test_lab)\n",
        "subm.to_csv('xgb_meanenc.csv', index=False)"
      ],
      "execution_count": 0,
      "outputs": [
        {
          "output_type": "stream",
          "text": [
            "[Parallel(n_jobs=1)]: Using backend SequentialBackend with 1 concurrent workers.\n"
          ],
          "name": "stderr"
        },
        {
          "output_type": "stream",
          "text": [
            "0.6042210150371721  +/-  0.021417573272027906\n"
          ],
          "name": "stdout"
        },
        {
          "output_type": "stream",
          "text": [
            "[Parallel(n_jobs=1)]: Done  15 out of  15 | elapsed:   26.6s finished\n"
          ],
          "name": "stderr"
        }
      ]
    },
    {
      "cell_type": "markdown",
      "metadata": {
        "id": "-75dHSnD2pfs",
        "colab_type": "text"
      },
      "source": [
        "LB(0.55034,0.55555)CV:.60422"
      ]
    },
    {
      "cell_type": "code",
      "metadata": {
        "id": "INEYvltX3V2x",
        "colab_type": "code",
        "outputId": "cbc7aad8-136d-4e67-9466-4d2731e29ed7",
        "colab": {
          "base_uri": "https://localhost:8080/",
          "height": 312
        }
      },
      "source": [
        "plot_importance(xgb_lab,max_num_features= 10)"
      ],
      "execution_count": 0,
      "outputs": [
        {
          "output_type": "execute_result",
          "data": {
            "text/plain": [
              "<matplotlib.axes._subplots.AxesSubplot at 0x7f650ac2dfd0>"
            ]
          },
          "metadata": {
            "tags": []
          },
          "execution_count": 71
        },
        {
          "output_type": "display_data",
          "data": {
            "image/png": "[encoded data removed]",
            "text/plain": [
              "<Figure size 432x288 with 1 Axes>"
            ]
          },
          "metadata": {
            "tags": []
          }
        }
      ]
    },
    {
      "cell_type": "markdown",
      "metadata": {
        "id": "BNWBxF05ZOdy",
        "colab_type": "text"
      },
      "source": [
        "**ExtraTrees Regressor LabelEncoding**"
      ]
    },
    {
      "cell_type": "code",
      "metadata": {
        "id": "Y6b-sc3vZUhv",
        "colab_type": "code",
        "outputId": "a8b79741-599e-475c-d13b-cc83649117fa",
        "colab": {
          "base_uri": "https://localhost:8080/",
          "height": 102
        }
      },
      "source": [
        "cv3= KFold(5,True,random_seed)\n",
        "y_mean= y_train.mean()\n",
        "\n",
        "x_test= np.array(test)\n",
        "X= np.array(train)\n",
        "y= targets\n",
        "print(X.shape,'X.shape')\n",
        "parameters= {\"n_estimators\":[350],#range(50,600,50),\n",
        "              \"max_depth\": [4],#[3,4,5,6,7,8,9,10],#list(range(2,10)),#4 is the best\n",
        "              \"min_samples_leaf\": [10],#[3,4,5,6,7],\n",
        "              \"max_features\": [.95],#[.95],\n",
        "             'min_impurity_decrease':[1e-4],#[1e-5,1e-4,1e-3,1e-2,1e-1,0,1,10,100]\n",
        "              }\n",
        "model= ExtraTreesRegressor(n_jobs=1,random_state= random_seed)\n",
        "\n",
        "clf = GridSearchCV(model, parameters, cv=cv3, scoring='r2',\n",
        "                         verbose=1,return_train_score= True,n_jobs=-1)\n",
        "clf.fit(X, y)\n",
        "\n",
        "ids_test= test.ID.values\n",
        "print(clf.best_params_)"
      ],
      "execution_count": 0,
      "outputs": [
        {
          "output_type": "stream",
          "text": [
            "[Parallel(n_jobs=-1)]: Using backend LokyBackend with 2 concurrent workers.\n"
          ],
          "name": "stderr"
        },
        {
          "output_type": "stream",
          "text": [
            "(4209, 210) X.shape\n",
            "Fitting 5 folds for each of 1 candidates, totalling 5 fits\n"
          ],
          "name": "stdout"
        },
        {
          "output_type": "stream",
          "text": [
            "[Parallel(n_jobs=-1)]: Done   5 out of   5 | elapsed:   27.9s finished\n"
          ],
          "name": "stderr"
        },
        {
          "output_type": "stream",
          "text": [
            "{'max_depth': 4, 'max_features': 0.95, 'min_impurity_decrease': 0.0001, 'min_samples_leaf': 10, 'n_estimators': 350}\n"
          ],
          "name": "stdout"
        }
      ]
    },
    {
      "cell_type": "code",
      "metadata": {
        "id": "Q9ndhC6I85ko",
        "colab_type": "code",
        "outputId": "7ee65df8-9345-4d12-8599-e7f604d34bad",
        "colab": {
          "base_uri": "https://localhost:8080/",
          "height": 85
        }
      },
      "source": [
        "et_lab= ExtraTreesRegressor(**clf.best_params_,random_state= random_seed,oob_score= True,bootstrap= True)\n",
        "et_lab.fit(X,y)\n",
        "print('oob_score: ',et_lab.oob_score_)\n",
        "cv_score=cross_val_score(et_lab,X,y,scoring='r2',cv= cv,verbose=1,n_jobs=1)\n",
        "print(cv_score.mean(),' +/- ',cv_score.std())\n",
        "subm = pd.DataFrame()\n",
        "subm['ID'] = ids_test\n",
        "subm['y'] = et_lab.predict(x_test)\n",
        "subm.to_csv('et_5folds_label.csv', index=False)"
      ],
      "execution_count": 0,
      "outputs": [
        {
          "output_type": "stream",
          "text": [
            "oob_score:  0.6010326127840766\n"
          ],
          "name": "stdout"
        },
        {
          "output_type": "stream",
          "text": [
            "[Parallel(n_jobs=1)]: Using backend SequentialBackend with 1 concurrent workers.\n"
          ],
          "name": "stderr"
        },
        {
          "output_type": "stream",
          "text": [
            "0.5986308922513477  +/-  0.021121052286242285\n"
          ],
          "name": "stdout"
        },
        {
          "output_type": "stream",
          "text": [
            "[Parallel(n_jobs=1)]: Done  15 out of  15 | elapsed:  1.1min finished\n"
          ],
          "name": "stderr"
        }
      ]
    },
    {
      "cell_type": "markdown",
      "metadata": {
        "id": "wZqKXffx2mHV",
        "colab_type": "text"
      },
      "source": [
        "LB(0.54703,0.55379),CV:.59863"
      ]
    },
    {
      "cell_type": "markdown",
      "metadata": {
        "id": "OKDeM8PIL_sJ",
        "colab_type": "text"
      },
      "source": [
        "**Stacking all the models trained on LabelEncoded dataset**"
      ]
    },
    {
      "cell_type": "code",
      "metadata": {
        "id": "95qT4w05zRG5",
        "colab_type": "code",
        "outputId": "7a62493d-ddc4-4c6e-fa8b-a71303887cef",
        "colab": {
          "base_uri": "https://localhost:8080/",
          "height": 68
        }
      },
      "source": [
        "ridge= Ridge(random_state=random_seed,fit_intercept= False,alpha=0)\n",
        "stack = StackingCVRegressor(regressors=(rf_label, xgb_lab,et_lab),\n",
        "                            meta_regressor=ridge, \n",
        "                            use_features_in_secondary=False,refit=True,cv=cv)\n",
        "\n",
        "cv_score=cross_val_score(stack,X,y,scoring='r2',cv= cv,verbose=1,n_jobs=-1)\n",
        "print(cv_score.mean(),' +/- ',cv_score.std())\n",
        "stack.fit(X,y)\n",
        "ids_test= test.ID\n",
        "y_pred = stack.predict(x_test)\n",
        "subm = pd.DataFrame()\n",
        "subm['ID'] = ids_test\n",
        "subm['y'] = y_pred\n",
        "subm.to_csv('submission_xgb_rf_stack_ridge_label.csv', index=False)"
      ],
      "execution_count": 0,
      "outputs": [
        {
          "output_type": "stream",
          "text": [
            "[Parallel(n_jobs=-1)]: Using backend LokyBackend with 2 concurrent workers.\n",
            "[Parallel(n_jobs=-1)]: Done  15 out of  15 | elapsed: 43.7min finished\n"
          ],
          "name": "stderr"
        },
        {
          "output_type": "stream",
          "text": [
            "0.6052152518324975  +/-  0.02131608341482325\n"
          ],
          "name": "stdout"
        }
      ]
    },
    {
      "cell_type": "markdown",
      "metadata": {
        "id": "opXMnE8s2sW8",
        "colab_type": "text"
      },
      "source": [
        "LB(.55226,.55790),CV:.60521"
      ]
    },
    {
      "cell_type": "markdown",
      "metadata": {
        "id": "bftkLhYrmETt",
        "colab_type": "text"
      },
      "source": [
        "**Using Feature Interactions**"
      ]
    },
    {
      "cell_type": "code",
      "metadata": {
        "id": "PYL32-NmFhL_",
        "colab_type": "code",
        "outputId": "b2d80f70-37e6-46e5-cc2d-676bc742c0ba",
        "colab": {
          "base_uri": "https://localhost:8080/",
          "height": 323
        }
      },
      "source": [
        "#https://www.kaggle.com/qqgeogor/some-feature-engineering\n",
        "from scipy.stats import spearmanr\n",
        "sum_cols = []\n",
        "for c in binary_cols:\n",
        "    score = (spearmanr(y,train[c]))\n",
        "    if score[0]>=0.2 and score[0]<=0.3:\n",
        "        print(c,score)\n",
        "        sum_cols.append(c)\n",
        "\n",
        "train['sum_row_2_to_3'] = train.drop('ID', axis=1)[sum_cols].sum(axis=1)\n",
        "test['sum_row_2_to_3'] = test.drop('ID', axis=1)[sum_cols].sum(axis=1)"
      ],
      "execution_count": 0,
      "outputs": [
        {
          "output_type": "stream",
          "text": [
            "X14 SpearmanrResult(correlation=0.23271473847676327, pvalue=7.203142355334819e-53)\n",
            "X48 SpearmanrResult(correlation=0.20357136242667562, pvalue=1.2996316630463163e-40)\n",
            "X51 SpearmanrResult(correlation=0.2611121293074829, pvalue=1.4523427512271017e-66)\n",
            "X66 SpearmanrResult(correlation=0.21315968127467158, pvalue=1.8967188268459342e-44)\n",
            "X118 SpearmanrResult(correlation=0.27090253163947037, pvalue=1.0602732360517293e-71)\n",
            "X126 SpearmanrResult(correlation=0.2417200374417423, pvalue=5.073645605858001e-57)\n",
            "X130 SpearmanrResult(correlation=0.23415409276582105, pvalue=1.6054566396772044e-53)\n",
            "X179 SpearmanrResult(correlation=0.2366639405029322, pvalue=1.1432996184544922e-54)\n",
            "X191 SpearmanrResult(correlation=0.2296580095236195, pvalue=1.687603773776457e-51)\n",
            "X198 SpearmanrResult(correlation=0.2055358155294325, pvalue=2.2052011207271959e-41)\n",
            "X223 SpearmanrResult(correlation=0.22158801608519174, pvalue=5.595741666819109e-48)\n",
            "X224 SpearmanrResult(correlation=0.2202985852333516, pvalue=1.9842662148088542e-47)\n",
            "X251 SpearmanrResult(correlation=0.23130280662901975, pvalue=3.109618518431174e-52)\n",
            "X264 SpearmanrResult(correlation=0.24384866402424946, pvalue=4.990798176113577e-58)\n",
            "X275 SpearmanrResult(correlation=0.27139287140038404, pvalue=5.786853161764286e-72)\n",
            "X306 SpearmanrResult(correlation=0.20025584540217214, pvalue=2.4888178471384066e-39)\n",
            "X311 SpearmanrResult(correlation=0.20604979188717262, pvalue=1.3822106096801595e-41)\n",
            "X315 SpearmanrResult(correlation=0.2003369580762672, pvalue=2.3168337750087892e-39)\n"
          ],
          "name": "stdout"
        }
      ]
    },
    {
      "cell_type": "code",
      "metadata": {
        "id": "Jq1yaeVI6Vh9",
        "colab_type": "code",
        "outputId": "0ca3c74e-0132-439c-d4e6-deaa0bf75c35",
        "colab": {
          "base_uri": "https://localhost:8080/",
          "height": 595
        }
      },
      "source": [
        "print('feature 2')\n",
        "sum_cols = []\n",
        "for c in binary_cols:\n",
        "    score = (spearmanr(y,train[c]))\n",
        "    if score[0]>=0.1 and score[0]<=0.2:\n",
        "        print(c,score)\n",
        "        sum_cols.append(c)\n",
        "\n",
        "train['sum_row_1_to_2'] = train.drop('ID', axis=1)[sum_cols].sum(axis=1)\n",
        "test['sum_row_1_to_2'] = test.drop('ID', axis=1)[sum_cols].sum(axis=1)"
      ],
      "execution_count": 0,
      "outputs": [
        {
          "output_type": "stream",
          "text": [
            "feature 2\n",
            "X47 SpearmanrResult(correlation=0.12128833484321079, pvalue=2.8886024870257605e-15)\n",
            "X52 SpearmanrResult(correlation=0.1973661460541078, pvalue=3.12675244238439e-38)\n",
            "X64 SpearmanrResult(correlation=0.1018128914475367, pvalue=3.578824433646211e-11)\n",
            "X68 SpearmanrResult(correlation=0.1620006747077727, pvalue=3.8136608908043135e-26)\n",
            "X71 SpearmanrResult(correlation=0.1488980228079688, pvalue=2.697699163541339e-22)\n",
            "X75 SpearmanrResult(correlation=0.15457622673680788, pvalue=6.364261721190012e-24)\n",
            "X85 SpearmanrResult(correlation=0.12812999370557837, pvalue=7.144875915703804e-17)\n",
            "X96 SpearmanrResult(correlation=0.15027972692024613, pvalue=1.09846238933138e-22)\n",
            "X150 SpearmanrResult(correlation=0.158286007669749, pvalue=5.090255968583112e-25)\n",
            "X151 SpearmanrResult(correlation=0.10641844916400506, pvalue=4.462529252730155e-12)\n",
            "X155 SpearmanrResult(correlation=0.1324120072574912, pvalue=6.357836342267669e-18)\n",
            "X156 SpearmanrResult(correlation=0.15733524644002178, pvalue=9.782389408056896e-25)\n",
            "X170 SpearmanrResult(correlation=0.18496198665489488, pvalue=1.0467972693778774e-33)\n",
            "X180 SpearmanrResult(correlation=0.13961195349211947, pvalue=9.076232006156846e-20)\n",
            "X187 SpearmanrResult(correlation=0.17533512536462786, pvalue=2.0784884314473318e-30)\n",
            "X197 SpearmanrResult(correlation=0.10093443281576443, pvalue=5.26917067879295e-11)\n",
            "X208 SpearmanrResult(correlation=0.10268676629017812, pvalue=2.427729630970363e-11)\n",
            "X228 SpearmanrResult(correlation=0.13851145288704508, pvalue=1.763550391559232e-19)\n",
            "X241 SpearmanrResult(correlation=0.12792750298267436, pvalue=7.995002119385666e-17)\n",
            "X255 SpearmanrResult(correlation=0.12673703162225913, pvalue=1.542732133835433e-16)\n",
            "X300 SpearmanrResult(correlation=0.1898497322521831, pvalue=1.8800384633817425e-35)\n",
            "X331 SpearmanrResult(correlation=0.11129622821365086, pvalue=4.457032549198639e-13)\n",
            "X336 SpearmanrResult(correlation=0.10845626975293331, pvalue=1.725695040238013e-12)\n",
            "X343 SpearmanrResult(correlation=0.14082256066685175, pvalue=4.343890516376526e-20)\n",
            "X346 SpearmanrResult(correlation=0.10633459482991026, pvalue=4.638682505000038e-12)\n",
            "X349 SpearmanrResult(correlation=0.10711713753912025, pvalue=3.2283458226849445e-12)\n",
            "X352 SpearmanrResult(correlation=0.10868172714744195, pvalue=1.5518127537038296e-12)\n",
            "X354 SpearmanrResult(correlation=0.13550704330465846, pvalue=1.0523423958299538e-18)\n",
            "X355 SpearmanrResult(correlation=0.13494346470740545, pvalue=1.4647314937577317e-18)\n",
            "X363 SpearmanrResult(correlation=0.140751755338967, pvalue=4.5360080897504667e-20)\n",
            "X367 SpearmanrResult(correlation=0.11210964584749873, pvalue=3.0052862540951983e-13)\n",
            "X368 SpearmanrResult(correlation=0.10153251624707284, pvalue=4.0505682892088874e-11)\n",
            "X376 SpearmanrResult(correlation=0.13212760762123826, pvalue=7.484679814830494e-18)\n"
          ],
          "name": "stdout"
        }
      ]
    },
    {
      "cell_type": "code",
      "metadata": {
        "id": "DuotFHzk6UCw",
        "colab_type": "code",
        "outputId": "2d4fadca-7b55-4931-f0f1-7557a81dc633",
        "colab": {
          "base_uri": "https://localhost:8080/",
          "height": 425
        }
      },
      "source": [
        "print('feature 3')\n",
        "sum_cols = []\n",
        "for c in binary_cols:\n",
        "    score = (spearmanr(y,train[c]))\n",
        "    if score[0]>=0.05 and score[0]<=0.1:\n",
        "        print(c,score)\n",
        "        sum_cols.append(c)\n",
        "\n",
        "train['sum_row_05_to_1'] = train.drop('ID', axis=1)[sum_cols].sum(axis=1)\n",
        "test['sum_row_05_to_1'] = test.drop('ID', axis=1)[sum_cols].sum(axis=1)"
      ],
      "execution_count": 0,
      "outputs": [
        {
          "output_type": "stream",
          "text": [
            "feature 3\n",
            "X12 SpearmanrResult(correlation=0.08803722235600211, pvalue=1.0590641386771599e-08)\n",
            "X13 SpearmanrResult(correlation=0.051707750072676674, pvalue=0.0007911225065559363)\n",
            "X44 SpearmanrResult(correlation=0.09077275830914208, pvalue=3.6465001055743447e-09)\n",
            "X69 SpearmanrResult(correlation=0.08971114020696344, pvalue=5.536034403876071e-09)\n",
            "X82 SpearmanrResult(correlation=0.053643507285088814, pvalue=0.0004982552551932894)\n",
            "X109 SpearmanrResult(correlation=0.0745623704890028, pvalue=1.281036881645429e-06)\n",
            "X131 SpearmanrResult(correlation=0.07308723350648445, pvalue=2.068575956661907e-06)\n",
            "X142 SpearmanrResult(correlation=0.08659647934328635, pvalue=1.8336344983701157e-08)\n",
            "X163 SpearmanrResult(correlation=0.06583065125948522, pvalue=1.9178121894735077e-05)\n",
            "X171 SpearmanrResult(correlation=0.08929405917188903, pvalue=6.5143701262795555e-09)\n",
            "X176 SpearmanrResult(correlation=0.05596658896258349, pvalue=0.0002804684439862748)\n",
            "X177 SpearmanrResult(correlation=0.05371222547262586, pvalue=0.0004900093282330147)\n",
            "X189 SpearmanrResult(correlation=0.08218439546249769, pvalue=9.330036351108397e-08)\n",
            "X211 SpearmanrResult(correlation=0.06813896741092876, pvalue=9.668012242365568e-06)\n",
            "X219 SpearmanrResult(correlation=0.07935224746508104, pvalue=2.5400892891807954e-07)\n",
            "X225 SpearmanrResult(correlation=0.05269253420717179, pvalue=0.0006264789958319144)\n",
            "X238 SpearmanrResult(correlation=0.07812144065596013, pvalue=3.884742270359681e-07)\n",
            "X283 SpearmanrResult(correlation=0.05843083105502538, pvalue=0.00014888585859330333)\n",
            "X285 SpearmanrResult(correlation=0.08213315400676739, pvalue=9.503464542426387e-08)\n",
            "X329 SpearmanrResult(correlation=0.06186839070436732, pvalue=5.907406368270677e-05)\n",
            "X334 SpearmanrResult(correlation=0.06401628564243005, pvalue=3.235819253228418e-05)\n",
            "X351 SpearmanrResult(correlation=0.09477077714758957, pvalue=7.253009815587749e-10)\n",
            "X377 SpearmanrResult(correlation=0.05786229631946555, pvalue=0.0001726831680043041)\n"
          ],
          "name": "stdout"
        }
      ]
    },
    {
      "cell_type": "markdown",
      "metadata": {
        "id": "xyg5c3jmowgx",
        "colab_type": "text"
      },
      "source": [
        "**Interactions Included**"
      ]
    },
    {
      "cell_type": "code",
      "metadata": {
        "colab_type": "code",
        "outputId": "806e3168-4dcc-41a7-b9bb-a02b05967820",
        "id": "pCGV5uP_LOOY",
        "colab": {
          "base_uri": "https://localhost:8080/",
          "height": 170
        }
      },
      "source": [
        "cv3= KFold(5,True,random_seed)\n",
        "y_mean= y_train.mean()\n",
        "\n",
        "x_test= np.array(test)\n",
        "X= np.array(train)\n",
        "y= targets\n",
        "print(X.shape,'X.shape')\n",
        "parameters= {\"n_estimators\":[600],\n",
        "              \"max_depth\": [4],#[3,4,5,6,7,8,9,10],#list(range(2,10)),#4 is the best\n",
        "              \"min_samples_leaf\": [5],#[1,2,3,4,5,6],#[3,4,5,6,7],\n",
        "              \"max_features\": [.95],\n",
        "             'min_impurity_decrease':[1e-2],#[1e-5,1e-4,1e-3,1e-2,1e-1,0,1,10,100]\n",
        "              }\n",
        "model= RandomForestRegressor(n_jobs=1,random_state= random_seed)\n",
        "\n",
        "clf = GridSearchCV(model, parameters, cv=cv3, scoring='r2',\n",
        "                         verbose=1,return_train_score= True,n_jobs=-1)\n",
        "clf.fit(X, y)\n",
        "\n",
        "ids_test= test.ID.values\n",
        "print(clf.best_params_)\n",
        "rf_label= RandomForestRegressor(**clf.best_params_,random_state= random_seed,oob_score= True)\n",
        "rf_label.fit(X,y)\n",
        "print('oob_score: ',rf_label.oob_score_)"
      ],
      "execution_count": 0,
      "outputs": [
        {
          "output_type": "stream",
          "text": [
            "(4209, 213) X.shape\n",
            "Fitting 5 folds for each of 1 candidates, totalling 5 fits\n"
          ],
          "name": "stdout"
        },
        {
          "output_type": "stream",
          "text": [
            "[Parallel(n_jobs=-1)]: Using backend LokyBackend with 2 concurrent workers.\n",
            "[Parallel(n_jobs=-1)]: Done   5 out of   5 | elapsed:   43.8s finished\n"
          ],
          "name": "stderr"
        },
        {
          "output_type": "stream",
          "text": [
            "{'max_depth': 4, 'max_features': 0.95, 'min_impurity_decrease': 0.01, 'min_samples_leaf': 5, 'n_estimators': 600}\n",
            "oob_score:  0.6021561663055823\n"
          ],
          "name": "stdout"
        },
        {
          "output_type": "stream",
          "text": [
            "[Parallel(n_jobs=1)]: Using backend SequentialBackend with 1 concurrent workers.\n"
          ],
          "name": "stderr"
        },
        {
          "output_type": "stream",
          "text": [
            "0.6022266021009817  +/-  0.021248052108807296\n"
          ],
          "name": "stdout"
        },
        {
          "output_type": "stream",
          "text": [
            "[Parallel(n_jobs=1)]: Done  15 out of  15 | elapsed:  2.6min finished\n"
          ],
          "name": "stderr"
        }
      ]
    },
    {
      "cell_type": "code",
      "metadata": {
        "colab_type": "code",
        "outputId": "cef0577b-105d-4344-c97f-03fcc5cd0e82",
        "id": "aQVEzPS5LOOl",
        "colab": {
          "base_uri": "https://localhost:8080/",
          "height": 404
        }
      },
      "source": [
        "features = train.columns\n",
        "importances = rf_label.feature_importances_\n",
        "indices = (np.argsort(importances))[-20:]\n",
        "plt.figure(figsize=(5,6))\n",
        "plt.title('Feature Importances')\n",
        "plt.barh(range(len(indices)), importances[indices], color='k', align='center')\n",
        "plt.yticks(range(len(indices)), [features[i] for i in indices])\n",
        "plt.xlabel('Relative Importance')\n",
        "plt.show()"
      ],
      "execution_count": 0,
      "outputs": [
        {
          "output_type": "display_data",
          "data": {
            "image/png": "[encoded data removed]",
            "text/plain": [
              "<Figure size 360x432 with 1 Axes>"
            ]
          },
          "metadata": {
            "tags": []
          }
        }
      ]
    },
    {
      "cell_type": "markdown",
      "metadata": {
        "id": "O_Li0BkXo5cT",
        "colab_type": "text"
      },
      "source": [
        "new features found have got a place in the feature importance chart"
      ]
    },
    {
      "cell_type": "code",
      "metadata": {
        "colab_type": "code",
        "outputId": "d663ee0a-c784-45bf-ff6a-65ed92b94634",
        "id": "5uw3hMhYLOOq",
        "colab": {
          "base_uri": "https://localhost:8080/",
          "height": 173
        }
      },
      "source": [
        "cv3= KFold(5,True,random_seed)\n",
        "y_mean= y_train.mean()\n",
        "\n",
        "x_test= np.array(test)\n",
        "X= np.array(train)\n",
        "y= targets\n",
        "print(X.shape,'X.shape')\n",
        "parameters= {'learning_rate': [0.05],\n",
        "               'subsample': [.72],#[.9,.8,.7,.6,.5,1], \n",
        "               'colsample_bytree': [.72],#[.9,.8,.7,.6,.5,1],#[.8],#[0.8,.85]\n",
        "               'min_child_weight':[10],#[10,20,30,50,100,150,200], #[1,5,10],#[110,120,130]\n",
        "               'max_depth': [2],#[2,4,6,10], \n",
        "               'n_estimators':[151],\n",
        "               'verbosity':[1],\n",
        "             'gamma':[.01],#[1e-2,1e-3,1e-4,0,.1,.2,.3,.4,.5,1,3,5,10],\n",
        "             'reg_alpha':[1],#[1e-5,1e-3,1e-1,1,1e1,1e2]\n",
        "             \n",
        "             }\n",
        "model= xgb.XGBRegressor(n_jobs=1,random_state= random_seed,verbosity=1,silent=True)\n",
        "clf = GridSearchCV(model, parameters, cv=cv3, scoring='r2',\n",
        "                         verbose=1,return_train_score= True,n_jobs=-1)\n",
        "clf.fit(X, y)\n",
        "\n",
        "ids_test= test.ID.values\n",
        "print(clf.best_params_)\n",
        "xgb_lab= xgb.XGBRegressor(**clf.best_params_,random_state= random_seed,silent=True)\n",
        "X_lab= pd.DataFrame(X,columns= train.columns)\n",
        "x_test_lab=pd.DataFrame(x_test,columns= train.columns)\n",
        "xgb_lab.fit(X_lab,y)"
      ],
      "execution_count": 0,
      "outputs": [
        {
          "output_type": "stream",
          "text": [
            "(4209, 213) X.shape\n",
            "Fitting 5 folds for each of 1 candidates, totalling 5 fits\n"
          ],
          "name": "stdout"
        },
        {
          "output_type": "stream",
          "text": [
            "[Parallel(n_jobs=-1)]: Using backend LokyBackend with 2 concurrent workers.\n",
            "[Parallel(n_jobs=-1)]: Done   5 out of   5 | elapsed:    7.7s finished\n"
          ],
          "name": "stderr"
        },
        {
          "output_type": "stream",
          "text": [
            "{'colsample_bytree': 0.72, 'gamma': 0.01, 'learning_rate': 0.05, 'max_depth': 2, 'min_child_weight': 10, 'n_estimators': 151, 'reg_alpha': 1, 'subsample': 0.72, 'verbosity': 1}\n"
          ],
          "name": "stdout"
        },
        {
          "output_type": "stream",
          "text": [
            "[Parallel(n_jobs=1)]: Using backend SequentialBackend with 1 concurrent workers.\n"
          ],
          "name": "stderr"
        },
        {
          "output_type": "stream",
          "text": [
            "0.6033413557227743  +/-  0.02117461279342622\n"
          ],
          "name": "stdout"
        },
        {
          "output_type": "stream",
          "text": [
            "[Parallel(n_jobs=1)]: Done  15 out of  15 | elapsed:   26.8s finished\n"
          ],
          "name": "stderr"
        }
      ]
    },
    {
      "cell_type": "code",
      "metadata": {
        "colab_type": "code",
        "outputId": "a73dc25b-b082-402a-c2f2-85388ca1f399",
        "id": "-zrwOIYaLOOv",
        "colab": {
          "base_uri": "https://localhost:8080/",
          "height": 170
        }
      },
      "source": [
        "cv3= KFold(5,True,random_seed)\n",
        "y_mean= y_train.mean()\n",
        "\n",
        "x_test= np.array(test)\n",
        "X= np.array(train)\n",
        "y= targets\n",
        "print(X.shape,'X.shape')\n",
        "parameters= {\"n_estimators\":[350],#range(50,600,50),\n",
        "              \"max_depth\": [4],#[3,4,5,6,7,8,9,10],#list(range(2,10)),#4 is the best\n",
        "              \"min_samples_leaf\": [10],#[3,4,5,6,7],\n",
        "              \"max_features\": [.95],#[.95],\n",
        "             'min_impurity_decrease':[1e-4],#[1e-5,1e-4,1e-3,1e-2,1e-1,0,1,10,100]\n",
        "              }\n",
        "model= ExtraTreesRegressor(n_jobs=1,random_state= random_seed)\n",
        "\n",
        "clf = GridSearchCV(model, parameters, cv=cv3, scoring='r2',\n",
        "                         verbose=1,return_train_score= True,n_jobs=-1)\n",
        "clf.fit(X, y)\n",
        "\n",
        "ids_test= test.ID.values\n",
        "print(clf.best_params_)\n",
        "et_lab= ExtraTreesRegressor(**clf.best_params_,random_state= random_seed,oob_score= True,bootstrap= True)\n",
        "et_lab.fit(X,y)\n",
        "print('oob_score: ',et_lab.oob_score_)"
      ],
      "execution_count": 0,
      "outputs": [
        {
          "output_type": "stream",
          "text": [
            "(4209, 213) X.shape\n",
            "Fitting 5 folds for each of 1 candidates, totalling 5 fits\n"
          ],
          "name": "stdout"
        },
        {
          "output_type": "stream",
          "text": [
            "[Parallel(n_jobs=-1)]: Using backend LokyBackend with 2 concurrent workers.\n",
            "[Parallel(n_jobs=-1)]: Done   5 out of   5 | elapsed:   28.3s finished\n"
          ],
          "name": "stderr"
        },
        {
          "output_type": "stream",
          "text": [
            "{'max_depth': 4, 'max_features': 0.95, 'min_impurity_decrease': 0.0001, 'min_samples_leaf': 10, 'n_estimators': 350}\n",
            "oob_score:  0.6008159716945323\n"
          ],
          "name": "stdout"
        },
        {
          "output_type": "stream",
          "text": [
            "[Parallel(n_jobs=1)]: Using backend SequentialBackend with 1 concurrent workers.\n"
          ],
          "name": "stderr"
        },
        {
          "output_type": "stream",
          "text": [
            "0.5986564267097183  +/-  0.021069775384546185\n"
          ],
          "name": "stdout"
        },
        {
          "output_type": "stream",
          "text": [
            "[Parallel(n_jobs=1)]: Done  15 out of  15 | elapsed:  1.1min finished\n"
          ],
          "name": "stderr"
        }
      ]
    },
    {
      "cell_type": "code",
      "metadata": {
        "colab_type": "code",
        "outputId": "58b5e8f8-3518-42fd-e017-93ca63dcc059",
        "id": "HwX1sH8HLOO1",
        "colab": {
          "base_uri": "https://localhost:8080/",
          "height": 68
        }
      },
      "source": [
        "ridge= Ridge(random_state=random_seed,fit_intercept= False,alpha=0)\n",
        "stack = StackingCVRegressor(regressors=(rf_label, xgb_lab,et_lab),\n",
        "                            meta_regressor=ridge, \n",
        "                            use_features_in_secondary=False,refit=True,cv=cv)\n",
        "\n",
        "cv_score=cross_val_score(stack,X,y,scoring='r2',cv= cv,verbose=1,n_jobs=-1)\n",
        "print(cv_score.mean(),' +/- ',cv_score.std())\n",
        "stack.fit(X,y)\n",
        "ids_test= test.ID\n",
        "y_pred = stack.predict(x_test)\n",
        "subm = pd.DataFrame()\n",
        "subm['ID'] = ids_test\n",
        "subm['y'] = y_pred\n",
        "subm.to_csv('submission_xgb_rf_stack_ridge_label.csv', index=False)"
      ],
      "execution_count": 0,
      "outputs": [
        {
          "output_type": "stream",
          "text": [
            "[Parallel(n_jobs=-1)]: Using backend LokyBackend with 2 concurrent workers.\n",
            "[Parallel(n_jobs=-1)]: Done  15 out of  15 | elapsed: 45.1min finished\n"
          ],
          "name": "stderr"
        },
        {
          "output_type": "stream",
          "text": [
            "0.6044614316044898  +/-  0.021252431513073353\n"
          ],
          "name": "stdout"
        }
      ]
    },
    {
      "cell_type": "markdown",
      "metadata": {
        "id": "jxamjzdK3aZk",
        "colab_type": "text"
      },
      "source": [
        "LB(.55196,.55743),CV:.60446"
      ]
    },
    {
      "cell_type": "markdown",
      "metadata": {
        "id": "WzQdFp00pB7C",
        "colab_type": "text"
      },
      "source": [
        "cv got worse along with other feature interactions than before, so including the best model without any feature interactions for inference."
      ]
    },
    {
      "cell_type": "markdown",
      "metadata": {
        "id": "62vl0quUIvLp",
        "colab_type": "text"
      },
      "source": [
        "**SVR WITH TSVD**"
      ]
    },
    {
      "cell_type": "code",
      "metadata": {
        "id": "c6CaxCiLIuWF",
        "colab_type": "code",
        "outputId": "9a0c201b-c6d1-4958-9127-39883e60f00a",
        "colab": {
          "base_uri": "https://localhost:8080/",
          "height": 34
        }
      },
      "source": [
        "test= pd.read_csv('/content/drive/My Drive/mercedes-benz-greener-manufacturing/test_hot.csv')\n",
        "train= pd.read_csv('/content/drive/My Drive/mercedes-benz-greener-manufacturing/train_hot.csv')\n",
        "\n",
        "y_train= train.y.values\n",
        "targets= y_train\n",
        "train.drop(['y'],inplace= True,axis=1)\n",
        "print(train.shape)"
      ],
      "execution_count": 0,
      "outputs": [
        {
          "output_type": "stream",
          "text": [
            "(4209, 394)\n"
          ],
          "name": "stdout"
        }
      ]
    },
    {
      "cell_type": "code",
      "metadata": {
        "id": "euo4-aWtKyV8",
        "colab_type": "code",
        "outputId": "b6e115d7-e863-45e1-a286-5e8e67c7dccb",
        "colab": {
          "base_uri": "https://localhost:8080/",
          "height": 296
        }
      },
      "source": [
        "x=[]\n",
        "y=[]\n",
        "SS= StandardScaler()\n",
        "svd_train=SS.fit_transform(train)\n",
        "svd_test= SS.transform(test)\n",
        "for i in range(50,390,5):\n",
        "  tsvd= TruncatedSVD(i,random_state= random_seed)\n",
        "  _= tsvd.fit_transform(svd_train)\n",
        "  x.append(i)\n",
        "  y.append(sum(tsvd.explained_variance_ratio_))\n",
        "plt.plot(x,y)\n",
        "plt.ylabel('explained_variance')\n",
        "plt.xlabel('n_components')\n",
        "plt.title('TSVD Explained variance vs n_components')\n",
        "tsvd= TruncatedSVD(230,random_state= random_seed)#elbow between 250,200\n",
        "svd_train= tsvd.fit_transform(svd_train)\n",
        "svd_test= tsvd.transform(svd_test)"
      ],
      "execution_count": 0,
      "outputs": [
        {
          "output_type": "display_data",
          "data": {
            "image/png": "[encoded data removed]",
            "text/plain": [
              "<Figure size 432x288 with 1 Axes>"
            ]
          },
          "metadata": {
            "tags": []
          }
        }
      ]
    },
    {
      "cell_type": "code",
      "metadata": {
        "id": "D3pMBnPkMFNL",
        "colab_type": "code",
        "outputId": "fae77572-cc42-44bf-ad42-41082ffbbccd",
        "colab": {
          "base_uri": "https://localhost:8080/",
          "height": 85
        }
      },
      "source": [
        "for c in [.04]:#[.01,.02,.03,.04,.05,.06,.1,]:#[1e-3,1e-2,1e-1,1]:\n",
        "  svr= SGDRegressor(loss= 'epsilon_insensitive',alpha= c,penalty= 'elasticnet',random_state= random_seed)\n",
        "  print(c)\n",
        "  cv_score=cross_val_score(svr,svd_train,targets,scoring='r2',cv= cv,verbose=1,n_jobs=-1)\n",
        "  print(cv_score.mean(),' +/- ',cv_score.std())\n",
        "  svr.fit(svd_train,targets)\n",
        "  ids_test= test.ID\n",
        "  y_pred = svr.predict(svd_test)\n",
        "  subm = pd.DataFrame()\n",
        "  subm['ID'] = ids_test\n",
        "  subm['y'] = y_pred\n",
        "  subm.to_csv('svr_tsvd.csv', index=False)"
      ],
      "execution_count": 0,
      "outputs": [
        {
          "output_type": "stream",
          "text": [
            "0.04\n"
          ],
          "name": "stdout"
        },
        {
          "output_type": "stream",
          "text": [
            "[Parallel(n_jobs=-1)]: Using backend LokyBackend with 2 concurrent workers.\n",
            "[Parallel(n_jobs=-1)]: Done  15 out of  15 | elapsed:   10.4s finished\n"
          ],
          "name": "stderr"
        },
        {
          "output_type": "stream",
          "text": [
            "0.5567327921982091  +/-  0.02028322537034436\n"
          ],
          "name": "stdout"
        }
      ]
    },
    {
      "cell_type": "markdown",
      "metadata": {
        "id": "W2pJ0t5dCWy-",
        "colab_type": "text"
      },
      "source": [
        "LB(.5021,.5157),CV:.5567"
      ]
    },
    {
      "cell_type": "markdown",
      "metadata": {
        "id": "pOSUfeHTsqih",
        "colab_type": "text"
      },
      "source": [
        "**Kernel SVM**"
      ]
    },
    {
      "cell_type": "code",
      "metadata": {
        "colab_type": "code",
        "outputId": "a5acf2f7-82d2-4072-9bcf-f322ec12df32",
        "id": "u7Kx_SdH1y_Z",
        "colab": {
          "base_uri": "https://localhost:8080/",
          "height": 102
        }
      },
      "source": [
        "cv3= KFold(5,True,random_seed)\n",
        "model= SVR()\n",
        "parameters={'kernel':['poly'],'degree':[2,3,4,5],'C':[1e-1,1,1e1,1e2,1e3]}\n",
        "clf = GridSearchCV(model, parameters, cv=cv3, scoring='r2',\n",
        "                         verbose=1,return_train_score= True,n_jobs=-1)\n",
        "clf.fit(svd_train, targets)\n",
        "print(clf.best_score_,clf.best_params_)"
      ],
      "execution_count": 0,
      "outputs": [
        {
          "output_type": "stream",
          "text": [
            "Fitting 5 folds for each of 20 candidates, totalling 100 fits\n"
          ],
          "name": "stdout"
        },
        {
          "output_type": "stream",
          "text": [
            "[Parallel(n_jobs=-1)]: Using backend LokyBackend with 2 concurrent workers.\n",
            "[Parallel(n_jobs=-1)]: Done  46 tasks      | elapsed:  4.2min\n",
            "[Parallel(n_jobs=-1)]: Done 100 out of 100 | elapsed: 10.4min finished\n"
          ],
          "name": "stderr"
        },
        {
          "output_type": "stream",
          "text": [
            "0.5192986687896454 {'C': 10.0, 'degree': 2, 'kernel': 'poly'}\n"
          ],
          "name": "stdout"
        }
      ]
    },
    {
      "cell_type": "code",
      "metadata": {
        "id": "tHoi_p4Ar_GN",
        "colab_type": "code",
        "outputId": "4e6ac58f-0ba8-41ca-8b6e-0d00ad910126",
        "colab": {
          "base_uri": "https://localhost:8080/",
          "height": 102
        }
      },
      "source": [
        "from sklearn.svm import SVR\n",
        "\n",
        "cv3= KFold(5,True,random_seed)\n",
        "model= SVR()\n",
        "parameters={'kernel':['rbf'],'C':[1e-3,1e-2,1e-1,1,1e1,1e2,1e3]}\n",
        "clf = GridSearchCV(model, parameters, cv=cv, scoring='r2',\n",
        "                         verbose=1,return_train_score= True,n_jobs=-1)\n",
        "clf.fit(svd_train, targets)\n",
        "print(clf.best_score_)"
      ],
      "execution_count": 0,
      "outputs": [
        {
          "output_type": "stream",
          "text": [
            "Fitting 15 folds for each of 7 candidates, totalling 105 fits\n"
          ],
          "name": "stdout"
        },
        {
          "output_type": "stream",
          "text": [
            "[Parallel(n_jobs=-1)]: Using backend LokyBackend with 2 concurrent workers.\n",
            "[Parallel(n_jobs=-1)]: Done  46 tasks      | elapsed:  4.3min\n",
            "[Parallel(n_jobs=-1)]: Done 105 out of 105 | elapsed: 10.9min finished\n"
          ],
          "name": "stderr"
        },
        {
          "output_type": "stream",
          "text": [
            "0.5368236466098156\n"
          ],
          "name": "stdout"
        }
      ]
    },
    {
      "cell_type": "code",
      "metadata": {
        "colab_type": "code",
        "outputId": "86bd5cf5-84bf-484d-fd4d-a0bc80afe15b",
        "id": "GEmGU1vDBdm8",
        "colab": {
          "base_uri": "https://localhost:8080/",
          "height": 295
        }
      },
      "source": [
        "cv_r1= clf.cv_results_['mean_train_score']\n",
        "cv_r2 = clf.cv_results_['mean_test_score']\n",
        "plt.plot(np.log10(parameters['C']),cv_r2,label= 'CV R2')\n",
        "plt.title('C vs R2 score')\n",
        "plt.xlabel('log(C) hyperparameter')\n",
        "plt.ylabel('R2 Score')\n",
        "plt.plot(np.log10(parameters['C']),cv_r1,label= 'Train R2')\n",
        "plt.scatter(np.log10(parameters['C']),cv_r1,label= 'Train R2 points',color= 'orange')\n",
        "plt.scatter(np.log10(parameters['C']),cv_r2,label= 'CV R2 points',color= 'blue')\n",
        "plt.grid()\n",
        "plt.legend()\n",
        "plt.show()"
      ],
      "execution_count": 0,
      "outputs": [
        {
          "output_type": "display_data",
          "data": {
            "image/png": "[encoded data removed]",
            "text/plain": [
              "<Figure size 432x288 with 1 Axes>"
            ]
          },
          "metadata": {
            "tags": []
          }
        }
      ]
    },
    {
      "cell_type": "code",
      "metadata": {
        "id": "XaJVv1TWw2UW",
        "colab_type": "code",
        "colab": {}
      },
      "source": [
        "svr= SVR(**{'C':10,'kernel':'rbf'})##using rbf"
      ],
      "execution_count": 0,
      "outputs": []
    },
    {
      "cell_type": "code",
      "metadata": {
        "id": "7qFCYt7qw5Gd",
        "colab_type": "code",
        "outputId": "c86c22b2-ec45-410f-acdb-deb93681203c",
        "colab": {
          "base_uri": "https://localhost:8080/",
          "height": 68
        }
      },
      "source": [
        "cv_score=cross_val_score(svr,svd_train,targets,scoring='r2',cv= cv,verbose=1,n_jobs=-1)\n",
        "print(cv_score.mean(),' +/- ',cv_score.std())\n",
        "svr.fit(svd_train,targets)\n",
        "ids_test= test.ID"
      ],
      "execution_count": 0,
      "outputs": [
        {
          "output_type": "stream",
          "text": [
            "[Parallel(n_jobs=-1)]: Using backend LokyBackend with 2 concurrent workers.\n",
            "[Parallel(n_jobs=-1)]: Done  15 out of  15 | elapsed:   57.2s finished\n"
          ],
          "name": "stderr"
        },
        {
          "output_type": "stream",
          "text": [
            "0.5368236466098156  +/-  0.02336082835882139\n"
          ],
          "name": "stdout"
        }
      ]
    },
    {
      "cell_type": "markdown",
      "metadata": {
        "id": "K-gWuUFT_fqW",
        "colab_type": "text"
      },
      "source": [
        "Linear SVM worked better than kernels SVM."
      ]
    },
    {
      "cell_type": "markdown",
      "metadata": {
        "id": "_xe1ZlNuJQL7",
        "colab_type": "text"
      },
      "source": [
        "**SVR WITH SELECTKBEST**"
      ]
    },
    {
      "cell_type": "code",
      "metadata": {
        "id": "RH1SS9sW4pkv",
        "colab_type": "code",
        "outputId": "4e4dc441-b625-4028-ae34-643bfefa0edc",
        "colab": {
          "base_uri": "https://localhost:8080/",
          "height": 68
        }
      },
      "source": [
        "#Centering of data done before fitting to a  LinearModel\n",
        "SS= StandardScaler()\n",
        "ss_train=SS.fit_transform(train)\n",
        "ss_test= SS.transform(test)\n",
        "skbest= SelectKBest(f_regression,k=230)\n",
        "skbest_train=skbest.fit_transform(ss_train,targets)\n",
        "skbest_test=skbest.transform(ss_test)\n",
        "svr= SGDRegressor(loss= 'epsilon_insensitive',alpha= .04,penalty= 'elasticnet',random_state= random_seed)\n",
        "svr.fit(skbest_train,targets)\n",
        "cv_score=cross_val_score(svr,skbest_train,targets,scoring='r2',cv= cv,verbose=1,n_jobs=-1)\n",
        "print(cv_score.mean(),' +/- ',cv_score.std())"
      ],
      "execution_count": 0,
      "outputs": [
        {
          "output_type": "stream",
          "text": [
            "[Parallel(n_jobs=-1)]: Using backend LokyBackend with 2 concurrent workers.\n"
          ],
          "name": "stderr"
        },
        {
          "output_type": "stream",
          "text": [
            "0.5633626352641173  +/-  0.02062498588462952\n"
          ],
          "name": "stdout"
        },
        {
          "output_type": "stream",
          "text": [
            "[Parallel(n_jobs=-1)]: Done  15 out of  15 | elapsed:    9.3s finished\n"
          ],
          "name": "stderr"
        }
      ]
    },
    {
      "cell_type": "code",
      "metadata": {
        "id": "JFlfTzRy9T6_",
        "colab_type": "code",
        "colab": {}
      },
      "source": [
        "ids_test= test.ID\n",
        "y_pred = svr.predict(skbest_test)\n",
        "subm = pd.DataFrame()\n",
        "subm['ID'] = ids_test\n",
        "subm['y'] = y_pred\n",
        "subm.to_csv('skbest_150.csv', index=False)"
      ],
      "execution_count": 0,
      "outputs": []
    },
    {
      "cell_type": "markdown",
      "metadata": {
        "id": "eqt2J31M_L19",
        "colab_type": "text"
      },
      "source": [
        "LB(0.50797,0.51673),CV:.5639"
      ]
    },
    {
      "cell_type": "markdown",
      "metadata": {
        "id": "iPTIs0hei2af",
        "colab_type": "text"
      },
      "source": [
        "### **Bayesian Optimisation**"
      ]
    },
    {
      "cell_type": "markdown",
      "metadata": {
        "id": "_yCftjW-XuYg",
        "colab_type": "text"
      },
      "source": [
        "#### **Label Encoding**"
      ]
    },
    {
      "cell_type": "markdown",
      "metadata": {
        "id": "mNJ6qhGHkopv",
        "colab_type": "text"
      },
      "source": [
        "**RandomForest BayesianTuning**"
      ]
    },
    {
      "cell_type": "code",
      "metadata": {
        "colab_type": "code",
        "id": "154vWCr2k9vL",
        "colab": {}
      },
      "source": [
        "test= pd.read_csv('/content/drive/My Drive/mercedes-benz-greener-manufacturing/test_label.csv')\n",
        "train= pd.read_csv('/content/drive/My Drive/mercedes-benz-greener-manufacturing/train_label.csv')\n",
        "\n",
        "y_train= train.y.values\n",
        "targets= y_train\n",
        "train.drop(['y'],inplace= True,axis=1)"
      ],
      "execution_count": 0,
      "outputs": []
    },
    {
      "cell_type": "code",
      "metadata": {
        "id": "YOBL62D_ljhz",
        "colab_type": "code",
        "colab": {}
      },
      "source": [
        "#https://www.kaggle.com/btyuhas/bayesian-optimization-with-xgboost\n",
        "def rf_evaluate(n_estimators,max_depth,min_samples_leaf,max_features,min_impurity_decrease):\n",
        "  params={\n",
        "      'n_estimators':int(n_estimators),\n",
        "          'max_depth':int(max_depth),\n",
        "          'min_samples_leaf':int(min_samples_leaf),\n",
        "          'min_impurity_decrease':min_impurity_decrease,\n",
        "          'max_features':max_features\n",
        "          }\n",
        "  rf_label= RandomForestRegressor(**params)\n",
        "  cv_score=cross_val_score(rf_label,train,y_train,scoring='r2',cv= cv3,verbose=1,n_jobs=1)\n",
        "  return cv_score.mean()"
      ],
      "execution_count": 0,
      "outputs": []
    },
    {
      "cell_type": "code",
      "metadata": {
        "id": "LfCKm7r2m9I2",
        "colab_type": "code",
        "outputId": "55807dd8-f180-4377-9394-802fb1382f86",
        "colab": {
          "base_uri": "https://localhost:8080/",
          "height": 1000
        }
      },
      "source": [
        "rf_bo= BayesianOptimization(rf_evaluate,{'n_estimators':(550,650),\n",
        "          'max_depth':(1,5),\n",
        "          'min_samples_leaf':(1,7),\n",
        "          'min_impurity_decrease':(.001,1),\n",
        "          'max_features':(.5,1)\n",
        "          })\n",
        "rf_bo.maximize(init_points=10, n_iter=50, acq='ei')"
      ],
      "execution_count": 0,
      "outputs": [
        {
          "output_type": "stream",
          "text": [
            "|   iter    |  target   | max_depth | max_fe... | min_im... | min_sa... | n_esti... |\n",
            "-------------------------------------------------------------------------------------\n"
          ],
          "name": "stdout"
        },
        {
          "output_type": "stream",
          "text": [
            "[Parallel(n_jobs=1)]: Using backend SequentialBackend with 1 concurrent workers.\n",
            "[Parallel(n_jobs=1)]: Done   5 out of   5 | elapsed:   32.6s finished\n",
            "[Parallel(n_jobs=1)]: Using backend SequentialBackend with 1 concurrent workers.\n"
          ],
          "name": "stderr"
        },
        {
          "output_type": "stream",
          "text": [
            "| \u001b[0m 1       \u001b[0m | \u001b[0m 0.5985  \u001b[0m | \u001b[0m 4.435   \u001b[0m | \u001b[0m 0.6865  \u001b[0m | \u001b[0m 0.5557  \u001b[0m | \u001b[0m 1.367   \u001b[0m | \u001b[0m 617.7   \u001b[0m |\n"
          ],
          "name": "stdout"
        },
        {
          "output_type": "stream",
          "text": [
            "[Parallel(n_jobs=1)]: Done   5 out of   5 | elapsed:   21.1s finished\n",
            "[Parallel(n_jobs=1)]: Using backend SequentialBackend with 1 concurrent workers.\n"
          ],
          "name": "stderr"
        },
        {
          "output_type": "stream",
          "text": [
            "| \u001b[0m 2       \u001b[0m | \u001b[0m 0.5965  \u001b[0m | \u001b[0m 3.487   \u001b[0m | \u001b[0m 0.5462  \u001b[0m | \u001b[0m 0.07859 \u001b[0m | \u001b[0m 4.351   \u001b[0m | \u001b[0m 578.8   \u001b[0m |\n"
          ],
          "name": "stdout"
        },
        {
          "output_type": "stream",
          "text": [
            "[Parallel(n_jobs=1)]: Done   5 out of   5 | elapsed:   12.6s finished\n",
            "[Parallel(n_jobs=1)]: Using backend SequentialBackend with 1 concurrent workers.\n"
          ],
          "name": "stderr"
        },
        {
          "output_type": "stream",
          "text": [
            "| \u001b[0m 3       \u001b[0m | \u001b[0m 0.3906  \u001b[0m | \u001b[0m 1.377   \u001b[0m | \u001b[0m 0.7204  \u001b[0m | \u001b[0m 0.8453  \u001b[0m | \u001b[0m 4.818   \u001b[0m | \u001b[0m 638.2   \u001b[0m |\n"
          ],
          "name": "stdout"
        },
        {
          "output_type": "stream",
          "text": [
            "[Parallel(n_jobs=1)]: Done   5 out of   5 | elapsed:   21.6s finished\n",
            "[Parallel(n_jobs=1)]: Using backend SequentialBackend with 1 concurrent workers.\n"
          ],
          "name": "stderr"
        },
        {
          "output_type": "stream",
          "text": [
            "| \u001b[0m 4       \u001b[0m | \u001b[0m 0.5587  \u001b[0m | \u001b[0m 2.553   \u001b[0m | \u001b[0m 0.8821  \u001b[0m | \u001b[0m 0.9798  \u001b[0m | \u001b[0m 2.795   \u001b[0m | \u001b[0m 558.1   \u001b[0m |\n"
          ],
          "name": "stdout"
        },
        {
          "output_type": "stream",
          "text": [
            "[Parallel(n_jobs=1)]: Done   5 out of   5 | elapsed:   24.5s finished\n",
            "[Parallel(n_jobs=1)]: Using backend SequentialBackend with 1 concurrent workers.\n"
          ],
          "name": "stderr"
        },
        {
          "output_type": "stream",
          "text": [
            "| \u001b[0m 5       \u001b[0m | \u001b[0m 0.5975  \u001b[0m | \u001b[0m 3.71    \u001b[0m | \u001b[0m 0.5985  \u001b[0m | \u001b[0m 0.1878  \u001b[0m | \u001b[0m 1.793   \u001b[0m | \u001b[0m 630.1   \u001b[0m |\n"
          ],
          "name": "stdout"
        },
        {
          "output_type": "stream",
          "text": [
            "[Parallel(n_jobs=1)]: Done   5 out of   5 | elapsed:   14.8s finished\n",
            "[Parallel(n_jobs=1)]: Using backend SequentialBackend with 1 concurrent workers.\n"
          ],
          "name": "stderr"
        },
        {
          "output_type": "stream",
          "text": [
            "| \u001b[0m 6       \u001b[0m | \u001b[0m 0.3888  \u001b[0m | \u001b[0m 1.823   \u001b[0m | \u001b[0m 0.9155  \u001b[0m | \u001b[0m 0.08812 \u001b[0m | \u001b[0m 3.893   \u001b[0m | \u001b[0m 621.7   \u001b[0m |\n"
          ],
          "name": "stdout"
        },
        {
          "output_type": "stream",
          "text": [
            "[Parallel(n_jobs=1)]: Done   5 out of   5 | elapsed:   21.2s finished\n",
            "[Parallel(n_jobs=1)]: Using backend SequentialBackend with 1 concurrent workers.\n"
          ],
          "name": "stderr"
        },
        {
          "output_type": "stream",
          "text": [
            "| \u001b[0m 7       \u001b[0m | \u001b[0m 0.5604  \u001b[0m | \u001b[0m 2.816   \u001b[0m | \u001b[0m 0.7506  \u001b[0m | \u001b[0m 0.191   \u001b[0m | \u001b[0m 3.589   \u001b[0m | \u001b[0m 606.5   \u001b[0m |\n"
          ],
          "name": "stdout"
        },
        {
          "output_type": "stream",
          "text": [
            "[Parallel(n_jobs=1)]: Done   5 out of   5 | elapsed:   39.2s finished\n",
            "[Parallel(n_jobs=1)]: Using backend SequentialBackend with 1 concurrent workers.\n"
          ],
          "name": "stderr"
        },
        {
          "output_type": "stream",
          "text": [
            "| \u001b[0m 8       \u001b[0m | \u001b[0m 0.5972  \u001b[0m | \u001b[0m 4.639   \u001b[0m | \u001b[0m 0.9006  \u001b[0m | \u001b[0m 0.6443  \u001b[0m | \u001b[0m 1.855   \u001b[0m | \u001b[0m 600.5   \u001b[0m |\n"
          ],
          "name": "stdout"
        },
        {
          "output_type": "stream",
          "text": [
            "[Parallel(n_jobs=1)]: Done   5 out of   5 | elapsed:   14.7s finished\n",
            "[Parallel(n_jobs=1)]: Using backend SequentialBackend with 1 concurrent workers.\n"
          ],
          "name": "stderr"
        },
        {
          "output_type": "stream",
          "text": [
            "| \u001b[0m 9       \u001b[0m | \u001b[0m 0.3889  \u001b[0m | \u001b[0m 1.892   \u001b[0m | \u001b[0m 0.8648  \u001b[0m | \u001b[0m 0.8162  \u001b[0m | \u001b[0m 6.142   \u001b[0m | \u001b[0m 635.9   \u001b[0m |\n"
          ],
          "name": "stdout"
        },
        {
          "output_type": "stream",
          "text": [
            "[Parallel(n_jobs=1)]: Done   5 out of   5 | elapsed:    8.8s finished\n"
          ],
          "name": "stderr"
        },
        {
          "output_type": "stream",
          "text": [
            "| \u001b[0m 10      \u001b[0m | \u001b[0m 0.3986  \u001b[0m | \u001b[0m 1.94    \u001b[0m | \u001b[0m 0.5018  \u001b[0m | \u001b[0m 0.2839  \u001b[0m | \u001b[0m 4.127   \u001b[0m | \u001b[0m 555.8   \u001b[0m |\n"
          ],
          "name": "stdout"
        },
        {
          "output_type": "stream",
          "text": [
            "[Parallel(n_jobs=1)]: Using backend SequentialBackend with 1 concurrent workers.\n",
            "[Parallel(n_jobs=1)]: Done   5 out of   5 | elapsed:   29.9s finished\n"
          ],
          "name": "stderr"
        },
        {
          "output_type": "stream",
          "text": [
            "| \u001b[95m 11      \u001b[0m | \u001b[95m 0.6019  \u001b[0m | \u001b[95m 4.763   \u001b[0m | \u001b[95m 0.5455  \u001b[0m | \u001b[95m 0.006589\u001b[0m | \u001b[95m 1.112   \u001b[0m | \u001b[95m 649.3   \u001b[0m |\n"
          ],
          "name": "stdout"
        },
        {
          "output_type": "stream",
          "text": [
            "[Parallel(n_jobs=1)]: Using backend SequentialBackend with 1 concurrent workers.\n",
            "[Parallel(n_jobs=1)]: Done   5 out of   5 | elapsed:   14.6s finished\n"
          ],
          "name": "stderr"
        },
        {
          "output_type": "stream",
          "text": [
            "| \u001b[0m 12      \u001b[0m | \u001b[0m 0.3893  \u001b[0m | \u001b[0m 1.0     \u001b[0m | \u001b[0m 1.0     \u001b[0m | \u001b[0m 1.0     \u001b[0m | \u001b[0m 1.0     \u001b[0m | \u001b[0m 570.2   \u001b[0m |\n"
          ],
          "name": "stdout"
        },
        {
          "output_type": "stream",
          "text": [
            "[Parallel(n_jobs=1)]: Using backend SequentialBackend with 1 concurrent workers.\n",
            "[Parallel(n_jobs=1)]: Done   5 out of   5 | elapsed:   40.3s finished\n"
          ],
          "name": "stderr"
        },
        {
          "output_type": "stream",
          "text": [
            "| \u001b[0m 13      \u001b[0m | \u001b[0m 0.5958  \u001b[0m | \u001b[0m 5.0     \u001b[0m | \u001b[0m 1.0     \u001b[0m | \u001b[0m 1.0     \u001b[0m | \u001b[0m 7.0     \u001b[0m | \u001b[0m 566.4   \u001b[0m |\n"
          ],
          "name": "stdout"
        },
        {
          "output_type": "stream",
          "text": [
            "[Parallel(n_jobs=1)]: Using backend SequentialBackend with 1 concurrent workers.\n",
            "[Parallel(n_jobs=1)]: Done   5 out of   5 | elapsed:   42.9s finished\n"
          ],
          "name": "stderr"
        },
        {
          "output_type": "stream",
          "text": [
            "| \u001b[0m 14      \u001b[0m | \u001b[0m 0.596   \u001b[0m | \u001b[0m 5.0     \u001b[0m | \u001b[0m 1.0     \u001b[0m | \u001b[0m 1.0     \u001b[0m | \u001b[0m 7.0     \u001b[0m | \u001b[0m 590.8   \u001b[0m |\n"
          ],
          "name": "stdout"
        },
        {
          "output_type": "stream",
          "text": [
            "[Parallel(n_jobs=1)]: Using backend SequentialBackend with 1 concurrent workers.\n",
            "[Parallel(n_jobs=1)]: Done   5 out of   5 | elapsed:   32.7s finished\n"
          ],
          "name": "stderr"
        },
        {
          "output_type": "stream",
          "text": [
            "| \u001b[0m 15      \u001b[0m | \u001b[0m 0.5997  \u001b[0m | \u001b[0m 4.951   \u001b[0m | \u001b[0m 0.7691  \u001b[0m | \u001b[0m 0.456   \u001b[0m | \u001b[0m 1.085   \u001b[0m | \u001b[0m 551.7   \u001b[0m |\n"
          ],
          "name": "stdout"
        },
        {
          "output_type": "stream",
          "text": [
            "[Parallel(n_jobs=1)]: Using backend SequentialBackend with 1 concurrent workers.\n",
            "[Parallel(n_jobs=1)]: Done   5 out of   5 | elapsed:   29.1s finished\n"
          ],
          "name": "stderr"
        },
        {
          "output_type": "stream",
          "text": [
            "| \u001b[95m 16      \u001b[0m | \u001b[95m 0.6037  \u001b[0m | \u001b[95m 5.0     \u001b[0m | \u001b[95m 0.5     \u001b[0m | \u001b[95m 0.001   \u001b[0m | \u001b[95m 1.0     \u001b[0m | \u001b[95m 562.4   \u001b[0m |\n"
          ],
          "name": "stdout"
        },
        {
          "output_type": "stream",
          "text": [
            "[Parallel(n_jobs=1)]: Using backend SequentialBackend with 1 concurrent workers.\n",
            "[Parallel(n_jobs=1)]: Done   5 out of   5 | elapsed:   46.0s finished\n"
          ],
          "name": "stderr"
        },
        {
          "output_type": "stream",
          "text": [
            "| \u001b[0m 17      \u001b[0m | \u001b[0m 0.5958  \u001b[0m | \u001b[0m 5.0     \u001b[0m | \u001b[0m 1.0     \u001b[0m | \u001b[0m 1.0     \u001b[0m | \u001b[0m 7.0     \u001b[0m | \u001b[0m 650.0   \u001b[0m |\n"
          ],
          "name": "stdout"
        },
        {
          "output_type": "stream",
          "text": [
            "[Parallel(n_jobs=1)]: Using backend SequentialBackend with 1 concurrent workers.\n",
            "[Parallel(n_jobs=1)]: Done   5 out of   5 | elapsed:   41.7s finished\n"
          ],
          "name": "stderr"
        },
        {
          "output_type": "stream",
          "text": [
            "| \u001b[0m 18      \u001b[0m | \u001b[0m 0.5953  \u001b[0m | \u001b[0m 5.0     \u001b[0m | \u001b[0m 1.0     \u001b[0m | \u001b[0m 1.0     \u001b[0m | \u001b[0m 1.0     \u001b[0m | \u001b[0m 584.9   \u001b[0m |\n"
          ],
          "name": "stdout"
        },
        {
          "output_type": "stream",
          "text": [
            "[Parallel(n_jobs=1)]: Using backend SequentialBackend with 1 concurrent workers.\n",
            "[Parallel(n_jobs=1)]: Done   5 out of   5 | elapsed:   31.2s finished\n"
          ],
          "name": "stderr"
        },
        {
          "output_type": "stream",
          "text": [
            "| \u001b[0m 19      \u001b[0m | \u001b[0m 0.6023  \u001b[0m | \u001b[0m 5.0     \u001b[0m | \u001b[0m 0.5     \u001b[0m | \u001b[0m 0.001   \u001b[0m | \u001b[0m 7.0     \u001b[0m | \u001b[0m 609.2   \u001b[0m |\n"
          ],
          "name": "stdout"
        },
        {
          "output_type": "stream",
          "text": [
            "[Parallel(n_jobs=1)]: Using backend SequentialBackend with 1 concurrent workers.\n",
            "[Parallel(n_jobs=1)]: Done   5 out of   5 | elapsed:   32.9s finished\n"
          ],
          "name": "stderr"
        },
        {
          "output_type": "stream",
          "text": [
            "| \u001b[0m 20      \u001b[0m | \u001b[0m 0.6034  \u001b[0m | \u001b[0m 5.0     \u001b[0m | \u001b[0m 0.5     \u001b[0m | \u001b[0m 0.001   \u001b[0m | \u001b[0m 1.0     \u001b[0m | \u001b[0m 638.8   \u001b[0m |\n"
          ],
          "name": "stdout"
        },
        {
          "output_type": "stream",
          "text": [
            "[Parallel(n_jobs=1)]: Using backend SequentialBackend with 1 concurrent workers.\n",
            "[Parallel(n_jobs=1)]: Done   5 out of   5 | elapsed:   40.7s finished\n"
          ],
          "name": "stderr"
        },
        {
          "output_type": "stream",
          "text": [
            "| \u001b[0m 21      \u001b[0m | \u001b[0m 0.5959  \u001b[0m | \u001b[0m 5.0     \u001b[0m | \u001b[0m 1.0     \u001b[0m | \u001b[0m 1.0     \u001b[0m | \u001b[0m 7.0     \u001b[0m | \u001b[0m 579.1   \u001b[0m |\n"
          ],
          "name": "stdout"
        },
        {
          "output_type": "stream",
          "text": [
            "[Parallel(n_jobs=1)]: Using backend SequentialBackend with 1 concurrent workers.\n",
            "[Parallel(n_jobs=1)]: Done   5 out of   5 | elapsed:    9.5s finished\n"
          ],
          "name": "stderr"
        },
        {
          "output_type": "stream",
          "text": [
            "| \u001b[0m 22      \u001b[0m | \u001b[0m 0.3993  \u001b[0m | \u001b[0m 1.0     \u001b[0m | \u001b[0m 0.5     \u001b[0m | \u001b[0m 0.001   \u001b[0m | \u001b[0m 1.0     \u001b[0m | \u001b[0m 591.0   \u001b[0m |\n"
          ],
          "name": "stdout"
        },
        {
          "output_type": "stream",
          "text": [
            "[Parallel(n_jobs=1)]: Using backend SequentialBackend with 1 concurrent workers.\n",
            "[Parallel(n_jobs=1)]: Done   5 out of   5 | elapsed:   57.1s finished\n"
          ],
          "name": "stderr"
        },
        {
          "output_type": "stream",
          "text": [
            "| \u001b[0m 23      \u001b[0m | \u001b[0m 0.6006  \u001b[0m | \u001b[0m 5.0     \u001b[0m | \u001b[0m 1.0     \u001b[0m | \u001b[0m 0.001   \u001b[0m | \u001b[0m 1.0     \u001b[0m | \u001b[0m 609.0   \u001b[0m |\n"
          ],
          "name": "stdout"
        },
        {
          "output_type": "stream",
          "text": [
            "[Parallel(n_jobs=1)]: Using backend SequentialBackend with 1 concurrent workers.\n",
            "[Parallel(n_jobs=1)]: Done   5 out of   5 | elapsed:   45.1s finished\n"
          ],
          "name": "stderr"
        },
        {
          "output_type": "stream",
          "text": [
            "| \u001b[0m 24      \u001b[0m | \u001b[0m 0.5955  \u001b[0m | \u001b[0m 5.0     \u001b[0m | \u001b[0m 1.0     \u001b[0m | \u001b[0m 1.0     \u001b[0m | \u001b[0m 1.0     \u001b[0m | \u001b[0m 626.5   \u001b[0m |\n"
          ],
          "name": "stdout"
        },
        {
          "output_type": "stream",
          "text": [
            "[Parallel(n_jobs=1)]: Using backend SequentialBackend with 1 concurrent workers.\n",
            "[Parallel(n_jobs=1)]: Done   5 out of   5 | elapsed:   31.3s finished\n"
          ],
          "name": "stderr"
        },
        {
          "output_type": "stream",
          "text": [
            "| \u001b[0m 25      \u001b[0m | \u001b[0m 0.6029  \u001b[0m | \u001b[0m 5.0     \u001b[0m | \u001b[0m 0.5     \u001b[0m | \u001b[0m 0.001   \u001b[0m | \u001b[0m 7.0     \u001b[0m | \u001b[0m 600.0   \u001b[0m |\n"
          ],
          "name": "stdout"
        },
        {
          "output_type": "stream",
          "text": [
            "[Parallel(n_jobs=1)]: Using backend SequentialBackend with 1 concurrent workers.\n",
            "[Parallel(n_jobs=1)]: Done   5 out of   5 | elapsed:   38.0s finished\n"
          ],
          "name": "stderr"
        },
        {
          "output_type": "stream",
          "text": [
            "| \u001b[0m 26      \u001b[0m | \u001b[0m 0.596   \u001b[0m | \u001b[0m 4.975   \u001b[0m | \u001b[0m 0.9703  \u001b[0m | \u001b[0m 0.9464  \u001b[0m | \u001b[0m 6.898   \u001b[0m | \u001b[0m 556.9   \u001b[0m |\n"
          ],
          "name": "stdout"
        },
        {
          "output_type": "stream",
          "text": [
            "[Parallel(n_jobs=1)]: Using backend SequentialBackend with 1 concurrent workers.\n",
            "[Parallel(n_jobs=1)]: Done   5 out of   5 | elapsed:   40.6s finished\n"
          ],
          "name": "stderr"
        },
        {
          "output_type": "stream",
          "text": [
            "| \u001b[0m 27      \u001b[0m | \u001b[0m 0.5952  \u001b[0m | \u001b[0m 5.0     \u001b[0m | \u001b[0m 1.0     \u001b[0m | \u001b[0m 1.0     \u001b[0m | \u001b[0m 1.0     \u001b[0m | \u001b[0m 557.0   \u001b[0m |\n"
          ],
          "name": "stdout"
        },
        {
          "output_type": "stream",
          "text": [
            "[Parallel(n_jobs=1)]: Using backend SequentialBackend with 1 concurrent workers.\n",
            "[Parallel(n_jobs=1)]: Done   5 out of   5 | elapsed:   33.3s finished\n"
          ],
          "name": "stderr"
        },
        {
          "output_type": "stream",
          "text": [
            "| \u001b[0m 28      \u001b[0m | \u001b[0m 0.5971  \u001b[0m | \u001b[0m 4.726   \u001b[0m | \u001b[0m 0.814   \u001b[0m | \u001b[0m 0.7847  \u001b[0m | \u001b[0m 6.196   \u001b[0m | \u001b[0m 550.1   \u001b[0m |\n"
          ],
          "name": "stdout"
        },
        {
          "output_type": "stream",
          "text": [
            "[Parallel(n_jobs=1)]: Using backend SequentialBackend with 1 concurrent workers.\n",
            "[Parallel(n_jobs=1)]: Done   5 out of   5 | elapsed:   10.5s finished\n"
          ],
          "name": "stderr"
        },
        {
          "output_type": "stream",
          "text": [
            "| \u001b[0m 29      \u001b[0m | \u001b[0m 0.3997  \u001b[0m | \u001b[0m 1.0     \u001b[0m | \u001b[0m 0.5     \u001b[0m | \u001b[0m 1.0     \u001b[0m | \u001b[0m 1.0     \u001b[0m | \u001b[0m 650.0   \u001b[0m |\n"
          ],
          "name": "stdout"
        },
        {
          "output_type": "stream",
          "text": [
            "[Parallel(n_jobs=1)]: Using backend SequentialBackend with 1 concurrent workers.\n",
            "[Parallel(n_jobs=1)]: Done   5 out of   5 | elapsed:   11.9s finished\n"
          ],
          "name": "stderr"
        },
        {
          "output_type": "stream",
          "text": [
            "| \u001b[0m 30      \u001b[0m | \u001b[0m 0.3903  \u001b[0m | \u001b[0m 1.074   \u001b[0m | \u001b[0m 0.7483  \u001b[0m | \u001b[0m 0.975   \u001b[0m | \u001b[0m 6.985   \u001b[0m | \u001b[0m 583.2   \u001b[0m |\n"
          ],
          "name": "stdout"
        },
        {
          "output_type": "stream",
          "text": [
            "[Parallel(n_jobs=1)]: Using backend SequentialBackend with 1 concurrent workers.\n",
            "[Parallel(n_jobs=1)]: Done   5 out of   5 | elapsed:   24.4s finished\n"
          ],
          "name": "stderr"
        },
        {
          "output_type": "stream",
          "text": [
            "| \u001b[0m 31      \u001b[0m | \u001b[0m 0.5962  \u001b[0m | \u001b[0m 5.0     \u001b[0m | \u001b[0m 0.5     \u001b[0m | \u001b[0m 1.0     \u001b[0m | \u001b[0m 1.0     \u001b[0m | \u001b[0m 576.5   \u001b[0m |\n"
          ],
          "name": "stdout"
        },
        {
          "output_type": "stream",
          "text": [
            "[Parallel(n_jobs=1)]: Using backend SequentialBackend with 1 concurrent workers.\n",
            "[Parallel(n_jobs=1)]: Done   5 out of   5 | elapsed:   33.7s finished\n"
          ],
          "name": "stderr"
        },
        {
          "output_type": "stream",
          "text": [
            "| \u001b[0m 32      \u001b[0m | \u001b[0m 0.6026  \u001b[0m | \u001b[0m 5.0     \u001b[0m | \u001b[0m 0.5     \u001b[0m | \u001b[0m 0.001   \u001b[0m | \u001b[0m 7.0     \u001b[0m | \u001b[0m 644.2   \u001b[0m |\n"
          ],
          "name": "stdout"
        },
        {
          "output_type": "stream",
          "text": [
            "[Parallel(n_jobs=1)]: Using backend SequentialBackend with 1 concurrent workers.\n",
            "[Parallel(n_jobs=1)]: Done   5 out of   5 | elapsed:   31.0s finished\n"
          ],
          "name": "stderr"
        },
        {
          "output_type": "stream",
          "text": [
            "| \u001b[0m 33      \u001b[0m | \u001b[0m 0.6026  \u001b[0m | \u001b[0m 5.0     \u001b[0m | \u001b[0m 0.5     \u001b[0m | \u001b[0m 0.001   \u001b[0m | \u001b[0m 6.047   \u001b[0m | \u001b[0m 584.9   \u001b[0m |\n"
          ],
          "name": "stdout"
        },
        {
          "output_type": "stream",
          "text": [
            "[Parallel(n_jobs=1)]: Using backend SequentialBackend with 1 concurrent workers.\n",
            "[Parallel(n_jobs=1)]: Done   5 out of   5 | elapsed:   23.8s finished\n"
          ],
          "name": "stderr"
        },
        {
          "output_type": "stream",
          "text": [
            "| \u001b[0m 34      \u001b[0m | \u001b[0m 0.5958  \u001b[0m | \u001b[0m 5.0     \u001b[0m | \u001b[0m 0.5     \u001b[0m | \u001b[0m 1.0     \u001b[0m | \u001b[0m 4.259   \u001b[0m | \u001b[0m 561.9   \u001b[0m |\n"
          ],
          "name": "stdout"
        },
        {
          "output_type": "stream",
          "text": [
            "[Parallel(n_jobs=1)]: Using backend SequentialBackend with 1 concurrent workers.\n",
            "[Parallel(n_jobs=1)]: Done   5 out of   5 | elapsed:   55.7s finished\n"
          ],
          "name": "stderr"
        },
        {
          "output_type": "stream",
          "text": [
            "| \u001b[0m 35      \u001b[0m | \u001b[0m 0.6012  \u001b[0m | \u001b[0m 5.0     \u001b[0m | \u001b[0m 1.0     \u001b[0m | \u001b[0m 0.001   \u001b[0m | \u001b[0m 1.0     \u001b[0m | \u001b[0m 579.8   \u001b[0m |\n"
          ],
          "name": "stdout"
        },
        {
          "output_type": "stream",
          "text": [
            "[Parallel(n_jobs=1)]: Using backend SequentialBackend with 1 concurrent workers.\n",
            "[Parallel(n_jobs=1)]: Done   5 out of   5 | elapsed:   33.9s finished\n"
          ],
          "name": "stderr"
        },
        {
          "output_type": "stream",
          "text": [
            "| \u001b[0m 36      \u001b[0m | \u001b[0m 0.6025  \u001b[0m | \u001b[0m 5.0     \u001b[0m | \u001b[0m 0.5     \u001b[0m | \u001b[0m 0.001   \u001b[0m | \u001b[0m 7.0     \u001b[0m | \u001b[0m 627.2   \u001b[0m |\n"
          ],
          "name": "stdout"
        },
        {
          "output_type": "stream",
          "text": [
            "[Parallel(n_jobs=1)]: Using backend SequentialBackend with 1 concurrent workers.\n",
            "[Parallel(n_jobs=1)]: Done   5 out of   5 | elapsed:   31.7s finished\n"
          ],
          "name": "stderr"
        },
        {
          "output_type": "stream",
          "text": [
            "| \u001b[0m 37      \u001b[0m | \u001b[0m 0.6036  \u001b[0m | \u001b[0m 5.0     \u001b[0m | \u001b[0m 0.5     \u001b[0m | \u001b[0m 0.001   \u001b[0m | \u001b[0m 1.0     \u001b[0m | \u001b[0m 593.3   \u001b[0m |\n"
          ],
          "name": "stdout"
        },
        {
          "output_type": "stream",
          "text": [
            "[Parallel(n_jobs=1)]: Using backend SequentialBackend with 1 concurrent workers.\n",
            "[Parallel(n_jobs=1)]: Done   5 out of   5 | elapsed:   26.1s finished\n"
          ],
          "name": "stderr"
        },
        {
          "output_type": "stream",
          "text": [
            "| \u001b[0m 38      \u001b[0m | \u001b[0m 0.5955  \u001b[0m | \u001b[0m 5.0     \u001b[0m | \u001b[0m 0.5     \u001b[0m | \u001b[0m 1.0     \u001b[0m | \u001b[0m 7.0     \u001b[0m | \u001b[0m 616.6   \u001b[0m |\n"
          ],
          "name": "stdout"
        },
        {
          "output_type": "stream",
          "text": [
            "[Parallel(n_jobs=1)]: Using backend SequentialBackend with 1 concurrent workers.\n",
            "[Parallel(n_jobs=1)]: Done   5 out of   5 | elapsed:   30.0s finished\n"
          ],
          "name": "stderr"
        },
        {
          "output_type": "stream",
          "text": [
            "| \u001b[0m 39      \u001b[0m | \u001b[0m 0.6024  \u001b[0m | \u001b[0m 5.0     \u001b[0m | \u001b[0m 0.5     \u001b[0m | \u001b[0m 0.001   \u001b[0m | \u001b[0m 7.0     \u001b[0m | \u001b[0m 573.6   \u001b[0m |\n"
          ],
          "name": "stdout"
        },
        {
          "output_type": "stream",
          "text": [
            "[Parallel(n_jobs=1)]: Using backend SequentialBackend with 1 concurrent workers.\n",
            "[Parallel(n_jobs=1)]: Done   5 out of   5 | elapsed:   14.5s finished\n"
          ],
          "name": "stderr"
        },
        {
          "output_type": "stream",
          "text": [
            "| \u001b[0m 40      \u001b[0m | \u001b[0m 0.3892  \u001b[0m | \u001b[0m 1.0     \u001b[0m | \u001b[0m 1.0     \u001b[0m | \u001b[0m 1.0     \u001b[0m | \u001b[0m 1.0     \u001b[0m | \u001b[0m 550.0   \u001b[0m |\n"
          ],
          "name": "stdout"
        },
        {
          "output_type": "stream",
          "text": [
            "[Parallel(n_jobs=1)]: Using backend SequentialBackend with 1 concurrent workers.\n",
            "[Parallel(n_jobs=1)]: Done   5 out of   5 | elapsed:   33.9s finished\n"
          ],
          "name": "stderr"
        },
        {
          "output_type": "stream",
          "text": [
            "| \u001b[95m 41      \u001b[0m | \u001b[95m 0.6037  \u001b[0m | \u001b[95m 5.0     \u001b[0m | \u001b[95m 0.5     \u001b[0m | \u001b[95m 0.001   \u001b[0m | \u001b[95m 1.0     \u001b[0m | \u001b[95m 632.2   \u001b[0m |\n"
          ],
          "name": "stdout"
        },
        {
          "output_type": "stream",
          "text": [
            "[Parallel(n_jobs=1)]: Using backend SequentialBackend with 1 concurrent workers.\n",
            "[Parallel(n_jobs=1)]: Done   5 out of   5 | elapsed:   48.3s finished\n"
          ],
          "name": "stderr"
        },
        {
          "output_type": "stream",
          "text": [
            "| \u001b[0m 42      \u001b[0m | \u001b[0m 0.5954  \u001b[0m | \u001b[0m 5.0     \u001b[0m | \u001b[0m 1.0     \u001b[0m | \u001b[0m 1.0     \u001b[0m | \u001b[0m 1.0     \u001b[0m | \u001b[0m 644.9   \u001b[0m |\n"
          ],
          "name": "stdout"
        },
        {
          "output_type": "stream",
          "text": [
            "[Parallel(n_jobs=1)]: Using backend SequentialBackend with 1 concurrent workers.\n",
            "[Parallel(n_jobs=1)]: Done   5 out of   5 | elapsed:   26.0s finished\n"
          ],
          "name": "stderr"
        },
        {
          "output_type": "stream",
          "text": [
            "| \u001b[0m 43      \u001b[0m | \u001b[0m 0.5962  \u001b[0m | \u001b[0m 5.0     \u001b[0m | \u001b[0m 0.5     \u001b[0m | \u001b[0m 1.0     \u001b[0m | \u001b[0m 1.0     \u001b[0m | \u001b[0m 612.1   \u001b[0m |\n"
          ],
          "name": "stdout"
        },
        {
          "output_type": "stream",
          "text": [
            "[Parallel(n_jobs=1)]: Using backend SequentialBackend with 1 concurrent workers.\n",
            "[Parallel(n_jobs=1)]: Done   5 out of   5 | elapsed:   40.8s finished\n"
          ],
          "name": "stderr"
        },
        {
          "output_type": "stream",
          "text": [
            "| \u001b[0m 44      \u001b[0m | \u001b[0m 0.5954  \u001b[0m | \u001b[0m 5.0     \u001b[0m | \u001b[0m 1.0     \u001b[0m | \u001b[0m 1.0     \u001b[0m | \u001b[0m 1.0     \u001b[0m | \u001b[0m 550.0   \u001b[0m |\n"
          ],
          "name": "stdout"
        },
        {
          "output_type": "stream",
          "text": [
            "[Parallel(n_jobs=1)]: Using backend SequentialBackend with 1 concurrent workers.\n",
            "[Parallel(n_jobs=1)]: Done   5 out of   5 | elapsed:   33.0s finished\n"
          ],
          "name": "stderr"
        },
        {
          "output_type": "stream",
          "text": [
            "| \u001b[0m 45      \u001b[0m | \u001b[0m 0.6032  \u001b[0m | \u001b[0m 5.0     \u001b[0m | \u001b[0m 0.5     \u001b[0m | \u001b[0m 0.001   \u001b[0m | \u001b[0m 1.0     \u001b[0m | \u001b[0m 622.9   \u001b[0m |\n"
          ],
          "name": "stdout"
        },
        {
          "output_type": "stream",
          "text": [
            "[Parallel(n_jobs=1)]: Using backend SequentialBackend with 1 concurrent workers.\n",
            "[Parallel(n_jobs=1)]: Done   5 out of   5 | elapsed:   44.0s finished\n"
          ],
          "name": "stderr"
        },
        {
          "output_type": "stream",
          "text": [
            "| \u001b[0m 46      \u001b[0m | \u001b[0m 0.5958  \u001b[0m | \u001b[0m 5.0     \u001b[0m | \u001b[0m 1.0     \u001b[0m | \u001b[0m 1.0     \u001b[0m | \u001b[0m 5.334   \u001b[0m | \u001b[0m 605.0   \u001b[0m |\n"
          ],
          "name": "stdout"
        },
        {
          "output_type": "stream",
          "text": [
            "[Parallel(n_jobs=1)]: Using backend SequentialBackend with 1 concurrent workers.\n",
            "[Parallel(n_jobs=1)]: Done   5 out of   5 | elapsed:   32.6s finished\n"
          ],
          "name": "stderr"
        },
        {
          "output_type": "stream",
          "text": [
            "| \u001b[0m 47      \u001b[0m | \u001b[0m 0.6013  \u001b[0m | \u001b[0m 5.0     \u001b[0m | \u001b[0m 0.5     \u001b[0m | \u001b[0m 0.001   \u001b[0m | \u001b[0m 3.892   \u001b[0m | \u001b[0m 614.7   \u001b[0m |\n"
          ],
          "name": "stdout"
        },
        {
          "output_type": "stream",
          "text": [
            "[Parallel(n_jobs=1)]: Using backend SequentialBackend with 1 concurrent workers.\n",
            "[Parallel(n_jobs=1)]: Done   5 out of   5 | elapsed:   31.9s finished\n"
          ],
          "name": "stderr"
        },
        {
          "output_type": "stream",
          "text": [
            "| \u001b[0m 48      \u001b[0m | \u001b[0m 0.6034  \u001b[0m | \u001b[0m 5.0     \u001b[0m | \u001b[0m 0.5     \u001b[0m | \u001b[0m 0.001   \u001b[0m | \u001b[0m 1.0     \u001b[0m | \u001b[0m 604.2   \u001b[0m |\n"
          ],
          "name": "stdout"
        },
        {
          "output_type": "stream",
          "text": [
            "[Parallel(n_jobs=1)]: Using backend SequentialBackend with 1 concurrent workers.\n",
            "[Parallel(n_jobs=1)]: Done   5 out of   5 | elapsed:   52.6s finished\n"
          ],
          "name": "stderr"
        },
        {
          "output_type": "stream",
          "text": [
            "| \u001b[0m 49      \u001b[0m | \u001b[0m 0.6029  \u001b[0m | \u001b[0m 5.0     \u001b[0m | \u001b[0m 1.0     \u001b[0m | \u001b[0m 0.001   \u001b[0m | \u001b[0m 7.0     \u001b[0m | \u001b[0m 561.5   \u001b[0m |\n"
          ],
          "name": "stdout"
        },
        {
          "output_type": "stream",
          "text": [
            "[Parallel(n_jobs=1)]: Using backend SequentialBackend with 1 concurrent workers.\n",
            "[Parallel(n_jobs=1)]: Done   5 out of   5 | elapsed:   54.2s finished\n"
          ],
          "name": "stderr"
        },
        {
          "output_type": "stream",
          "text": [
            "| \u001b[0m 50      \u001b[0m | \u001b[0m 0.6002  \u001b[0m | \u001b[0m 5.0     \u001b[0m | \u001b[0m 1.0     \u001b[0m | \u001b[0m 0.001   \u001b[0m | \u001b[0m 3.759   \u001b[0m | \u001b[0m 574.7   \u001b[0m |\n"
          ],
          "name": "stdout"
        },
        {
          "output_type": "stream",
          "text": [
            "[Parallel(n_jobs=1)]: Using backend SequentialBackend with 1 concurrent workers.\n",
            "[Parallel(n_jobs=1)]: Done   5 out of   5 | elapsed:   26.5s finished\n"
          ],
          "name": "stderr"
        },
        {
          "output_type": "stream",
          "text": [
            "| \u001b[0m 51      \u001b[0m | \u001b[0m 0.5957  \u001b[0m | \u001b[0m 5.0     \u001b[0m | \u001b[0m 0.5     \u001b[0m | \u001b[0m 1.0     \u001b[0m | \u001b[0m 4.239   \u001b[0m | \u001b[0m 630.3   \u001b[0m |\n"
          ],
          "name": "stdout"
        },
        {
          "output_type": "stream",
          "text": [
            "[Parallel(n_jobs=1)]: Using backend SequentialBackend with 1 concurrent workers.\n",
            "[Parallel(n_jobs=1)]: Done   5 out of   5 | elapsed:  1.0min finished\n"
          ],
          "name": "stderr"
        },
        {
          "output_type": "stream",
          "text": [
            "| \u001b[0m 52      \u001b[0m | \u001b[0m 0.6016  \u001b[0m | \u001b[0m 5.0     \u001b[0m | \u001b[0m 1.0     \u001b[0m | \u001b[0m 0.001   \u001b[0m | \u001b[0m 4.183   \u001b[0m | \u001b[0m 647.1   \u001b[0m |\n"
          ],
          "name": "stdout"
        },
        {
          "output_type": "stream",
          "text": [
            "[Parallel(n_jobs=1)]: Using backend SequentialBackend with 1 concurrent workers.\n",
            "[Parallel(n_jobs=1)]: Done   5 out of   5 | elapsed:   51.4s finished\n"
          ],
          "name": "stderr"
        },
        {
          "output_type": "stream",
          "text": [
            "| \u001b[0m 53      \u001b[0m | \u001b[0m 0.6029  \u001b[0m | \u001b[0m 5.0     \u001b[0m | \u001b[0m 1.0     \u001b[0m | \u001b[0m 0.001   \u001b[0m | \u001b[0m 7.0     \u001b[0m | \u001b[0m 550.0   \u001b[0m |\n"
          ],
          "name": "stdout"
        },
        {
          "output_type": "stream",
          "text": [
            "[Parallel(n_jobs=1)]: Using backend SequentialBackend with 1 concurrent workers.\n",
            "[Parallel(n_jobs=1)]: Done   5 out of   5 | elapsed:   24.5s finished\n"
          ],
          "name": "stderr"
        },
        {
          "output_type": "stream",
          "text": [
            "| \u001b[0m 54      \u001b[0m | \u001b[0m 0.596   \u001b[0m | \u001b[0m 5.0     \u001b[0m | \u001b[0m 0.5     \u001b[0m | \u001b[0m 1.0     \u001b[0m | \u001b[0m 4.505   \u001b[0m | \u001b[0m 595.2   \u001b[0m |\n"
          ],
          "name": "stdout"
        },
        {
          "output_type": "stream",
          "text": [
            "[Parallel(n_jobs=1)]: Using backend SequentialBackend with 1 concurrent workers.\n",
            "[Parallel(n_jobs=1)]: Done   5 out of   5 | elapsed:   33.3s finished\n"
          ],
          "name": "stderr"
        },
        {
          "output_type": "stream",
          "text": [
            "| \u001b[0m 55      \u001b[0m | \u001b[0m 0.603   \u001b[0m | \u001b[0m 5.0     \u001b[0m | \u001b[0m 0.5     \u001b[0m | \u001b[0m 0.001   \u001b[0m | \u001b[0m 1.0     \u001b[0m | \u001b[0m 644.3   \u001b[0m |\n"
          ],
          "name": "stdout"
        },
        {
          "output_type": "stream",
          "text": [
            "[Parallel(n_jobs=1)]: Using backend SequentialBackend with 1 concurrent workers.\n",
            "[Parallel(n_jobs=1)]: Done   5 out of   5 | elapsed:   13.6s finished\n"
          ],
          "name": "stderr"
        },
        {
          "output_type": "stream",
          "text": [
            "| \u001b[0m 56      \u001b[0m | \u001b[0m 0.389   \u001b[0m | \u001b[0m 1.063   \u001b[0m | \u001b[0m 0.9292  \u001b[0m | \u001b[0m 0.05271 \u001b[0m | \u001b[0m 1.065   \u001b[0m | \u001b[0m 562.3   \u001b[0m |\n"
          ],
          "name": "stdout"
        },
        {
          "output_type": "stream",
          "text": [
            "[Parallel(n_jobs=1)]: Using backend SequentialBackend with 1 concurrent workers.\n",
            "[Parallel(n_jobs=1)]: Done   5 out of   5 | elapsed:   27.2s finished\n"
          ],
          "name": "stderr"
        },
        {
          "output_type": "stream",
          "text": [
            "| \u001b[0m 57      \u001b[0m | \u001b[0m 0.5958  \u001b[0m | \u001b[0m 5.0     \u001b[0m | \u001b[0m 0.5     \u001b[0m | \u001b[0m 1.0     \u001b[0m | \u001b[0m 3.456   \u001b[0m | \u001b[0m 650.0   \u001b[0m |\n"
          ],
          "name": "stdout"
        },
        {
          "output_type": "stream",
          "text": [
            "[Parallel(n_jobs=1)]: Using backend SequentialBackend with 1 concurrent workers.\n",
            "[Parallel(n_jobs=1)]: Done   5 out of   5 | elapsed:   15.2s finished\n"
          ],
          "name": "stderr"
        },
        {
          "output_type": "stream",
          "text": [
            "| \u001b[0m 58      \u001b[0m | \u001b[0m 0.3892  \u001b[0m | \u001b[0m 1.221   \u001b[0m | \u001b[0m 0.9858  \u001b[0m | \u001b[0m 0.4283  \u001b[0m | \u001b[0m 6.881   \u001b[0m | \u001b[0m 600.7   \u001b[0m |\n"
          ],
          "name": "stdout"
        },
        {
          "output_type": "stream",
          "text": [
            "[Parallel(n_jobs=1)]: Using backend SequentialBackend with 1 concurrent workers.\n",
            "[Parallel(n_jobs=1)]: Done   5 out of   5 | elapsed:   55.0s finished\n"
          ],
          "name": "stderr"
        },
        {
          "output_type": "stream",
          "text": [
            "| \u001b[0m 59      \u001b[0m | \u001b[0m 0.6014  \u001b[0m | \u001b[0m 5.0     \u001b[0m | \u001b[0m 1.0     \u001b[0m | \u001b[0m 0.001   \u001b[0m | \u001b[0m 4.114   \u001b[0m | \u001b[0m 590.0   \u001b[0m |\n"
          ],
          "name": "stdout"
        },
        {
          "output_type": "stream",
          "text": [
            "[Parallel(n_jobs=1)]: Using backend SequentialBackend with 1 concurrent workers.\n"
          ],
          "name": "stderr"
        },
        {
          "output_type": "stream",
          "text": [
            "| \u001b[0m 60      \u001b[0m | \u001b[0m 0.6029  \u001b[0m | \u001b[0m 5.0     \u001b[0m | \u001b[0m 1.0     \u001b[0m | \u001b[0m 0.001   \u001b[0m | \u001b[0m 7.0     \u001b[0m | \u001b[0m 639.1   \u001b[0m |\n",
            "=====================================================================================\n"
          ],
          "name": "stdout"
        },
        {
          "output_type": "stream",
          "text": [
            "[Parallel(n_jobs=1)]: Done   5 out of   5 | elapsed:  1.0min finished\n"
          ],
          "name": "stderr"
        }
      ]
    },
    {
      "cell_type": "code",
      "metadata": {
        "id": "m2sDdeeawcWG",
        "colab_type": "code",
        "outputId": "c89c56a8-1ebe-4290-91d2-d5e7c19dcddd",
        "colab": {
          "base_uri": "https://localhost:8080/",
          "height": 119
        }
      },
      "source": [
        "rf_bo.max"
      ],
      "execution_count": 0,
      "outputs": [
        {
          "output_type": "execute_result",
          "data": {
            "text/plain": [
              "{'params': {'max_depth': 5.0,\n",
              "  'max_features': 0.5,\n",
              "  'min_impurity_decrease': 0.001,\n",
              "  'min_samples_leaf': 1.0,\n",
              "  'n_estimators': 632.1540758277154},\n",
              " 'target': 0.6037271160271158}"
            ]
          },
          "metadata": {
            "tags": []
          },
          "execution_count": 83
        }
      ]
    },
    {
      "cell_type": "markdown",
      "metadata": {
        "id": "1VD7TIqbxlJA",
        "colab_type": "text"
      },
      "source": [
        "CV improved by .014 than the manually tuned model."
      ]
    },
    {
      "cell_type": "code",
      "metadata": {
        "colab_type": "code",
        "outputId": "b47d6979-1cb6-44bc-f78a-af2611de57c7",
        "id": "epfQUM3Ak9vZ",
        "colab": {
          "base_uri": "https://localhost:8080/",
          "height": 85
        }
      },
      "source": [
        "rf_label= RandomForestRegressor(**{'max_depth': 5,'max_features': 0.5,'min_impurity_decrease': 0.001,'min_samples_leaf': 1,'n_estimators': 632},random_state= random_seed,oob_score= True)\n",
        "rf_label.fit(train,targets)\n",
        "print('oob_score: ',rf_label.oob_score_)\n",
        "cv_score=cross_val_score(rf_label,train,targets,scoring='r2',cv= cv,verbose=1,n_jobs=1)\n",
        "print(cv_score.mean(),' +/- ',cv_score.std())\n",
        "subm = pd.DataFrame()\n",
        "subm['ID'] = ids_test\n",
        "subm['y'] = rf_label.predict(test)\n",
        "subm.to_csv('rf_5folds_label.csv', index=False)"
      ],
      "execution_count": 0,
      "outputs": [
        {
          "output_type": "stream",
          "text": [
            "oob_score:  0.604051459344535\n"
          ],
          "name": "stdout"
        },
        {
          "output_type": "stream",
          "text": [
            "[Parallel(n_jobs=1)]: Using backend SequentialBackend with 1 concurrent workers.\n"
          ],
          "name": "stderr"
        },
        {
          "output_type": "stream",
          "text": [
            "0.6032145685770464  +/-  0.021977434185266955\n"
          ],
          "name": "stdout"
        },
        {
          "output_type": "stream",
          "text": [
            "[Parallel(n_jobs=1)]: Done  15 out of  15 | elapsed:  1.8min finished\n"
          ],
          "name": "stderr"
        }
      ]
    },
    {
      "cell_type": "markdown",
      "metadata": {
        "id": "zXFYcJVgFc-V",
        "colab_type": "text"
      },
      "source": [
        "LB(0.55001,0.55685),CV:.6032\n"
      ]
    },
    {
      "cell_type": "markdown",
      "metadata": {
        "id": "4_2z-WQc0YKz",
        "colab_type": "text"
      },
      "source": [
        "**XGBoost Bayesian Tuning**"
      ]
    },
    {
      "cell_type": "code",
      "metadata": {
        "colab_type": "code",
        "id": "-w1s3ht7rBz5",
        "colab": {}
      },
      "source": [
        "def xgb_evaluate(n_estimators,max_depth,subsample,colsample_bytree,gamma,reg_alpha,min_child_weight):\n",
        "  params={\n",
        "      'n_estimators':int(n_estimators),\n",
        "          'max_depth':int(max_depth),\n",
        "          'min_child_weight':int(min_child_weight),\n",
        "          'gamma':gamma,\n",
        "          'subsample':subsample,\n",
        "          'colsample_bytree':colsample_bytree,\n",
        "          'reg_alpha':reg_alpha\n",
        "          }\n",
        "  xgb_label= xgb.XGBRegressor(**params,silent= True,random_state= random_seed,learning_rate= .05)\n",
        "  cv_score=cross_val_score(xgb_label,train,y_train,scoring='r2',cv= cv3,verbose=1,n_jobs=1)\n",
        "  return cv_score.mean()"
      ],
      "execution_count": 0,
      "outputs": []
    },
    {
      "cell_type": "code",
      "metadata": {
        "colab_type": "code",
        "outputId": "44fc5a64-1e80-4134-f107-e4f94436a2fe",
        "id": "8lZGz17jrB0C",
        "colab": {
          "base_uri": "https://localhost:8080/",
          "height": 1000
        }
      },
      "source": [
        "xgb_bo= BayesianOptimization(xgb_evaluate,{\n",
        "               'subsample': (.5,1), \n",
        "               'colsample_bytree': (.5,1),\n",
        "               'min_child_weight':(1,10),\n",
        "               'max_depth': (1,8), \n",
        "               'n_estimators':(180,230),\n",
        "             'gamma':(.001,100),\n",
        "             'reg_alpha':(.001,100)   \n",
        "          })\n",
        "xgb_bo.maximize(init_points=10, n_iter=50, acq='ei')"
      ],
      "execution_count": 0,
      "outputs": [
        {
          "output_type": "stream",
          "text": [
            "|   iter    |  target   | colsam... |   gamma   | max_depth | min_ch... | n_esti... | reg_alpha | subsample |\n",
            "-------------------------------------------------------------------------------------------------------------\n"
          ],
          "name": "stdout"
        },
        {
          "output_type": "stream",
          "text": [
            "[Parallel(n_jobs=1)]: Using backend SequentialBackend with 1 concurrent workers.\n",
            "[Parallel(n_jobs=1)]: Done   5 out of   5 | elapsed:   26.3s finished\n",
            "[Parallel(n_jobs=1)]: Using backend SequentialBackend with 1 concurrent workers.\n"
          ],
          "name": "stderr"
        },
        {
          "output_type": "stream",
          "text": [
            "| \u001b[0m 1       \u001b[0m | \u001b[0m 0.5892  \u001b[0m | \u001b[0m 0.6336  \u001b[0m | \u001b[0m 12.6    \u001b[0m | \u001b[0m 6.086   \u001b[0m | \u001b[0m 4.385   \u001b[0m | \u001b[0m 227.2   \u001b[0m | \u001b[0m 21.19   \u001b[0m | \u001b[0m 0.7971  \u001b[0m |\n"
          ],
          "name": "stdout"
        },
        {
          "output_type": "stream",
          "text": [
            "[Parallel(n_jobs=1)]: Done   5 out of   5 | elapsed:   12.4s finished\n",
            "[Parallel(n_jobs=1)]: Using backend SequentialBackend with 1 concurrent workers.\n"
          ],
          "name": "stderr"
        },
        {
          "output_type": "stream",
          "text": [
            "| \u001b[95m 2       \u001b[0m | \u001b[95m 0.6027  \u001b[0m | \u001b[95m 0.8023  \u001b[0m | \u001b[95m 60.97   \u001b[0m | \u001b[95m 2.006   \u001b[0m | \u001b[95m 4.175   \u001b[0m | \u001b[95m 226.7   \u001b[0m | \u001b[95m 15.42   \u001b[0m | \u001b[95m 0.8826  \u001b[0m |\n"
          ],
          "name": "stdout"
        },
        {
          "output_type": "stream",
          "text": [
            "[Parallel(n_jobs=1)]: Done   5 out of   5 | elapsed:   12.9s finished\n",
            "[Parallel(n_jobs=1)]: Using backend SequentialBackend with 1 concurrent workers.\n"
          ],
          "name": "stderr"
        },
        {
          "output_type": "stream",
          "text": [
            "| \u001b[0m 3       \u001b[0m | \u001b[0m 0.6018  \u001b[0m | \u001b[0m 0.5166  \u001b[0m | \u001b[0m 71.72   \u001b[0m | \u001b[0m 3.029   \u001b[0m | \u001b[0m 3.501   \u001b[0m | \u001b[0m 203.7   \u001b[0m | \u001b[0m 70.0    \u001b[0m | \u001b[0m 0.6677  \u001b[0m |\n"
          ],
          "name": "stdout"
        },
        {
          "output_type": "stream",
          "text": [
            "[Parallel(n_jobs=1)]: Done   5 out of   5 | elapsed:   20.1s finished\n",
            "[Parallel(n_jobs=1)]: Using backend SequentialBackend with 1 concurrent workers.\n"
          ],
          "name": "stderr"
        },
        {
          "output_type": "stream",
          "text": [
            "| \u001b[0m 4       \u001b[0m | \u001b[0m 0.5989  \u001b[0m | \u001b[0m 0.6265  \u001b[0m | \u001b[0m 64.81   \u001b[0m | \u001b[0m 5.567   \u001b[0m | \u001b[0m 2.728   \u001b[0m | \u001b[0m 219.9   \u001b[0m | \u001b[0m 67.55   \u001b[0m | \u001b[0m 0.8275  \u001b[0m |\n"
          ],
          "name": "stdout"
        },
        {
          "output_type": "stream",
          "text": [
            "[Parallel(n_jobs=1)]: Done   5 out of   5 | elapsed:   30.1s finished\n",
            "[Parallel(n_jobs=1)]: Using backend SequentialBackend with 1 concurrent workers.\n"
          ],
          "name": "stderr"
        },
        {
          "output_type": "stream",
          "text": [
            "| \u001b[0m 5       \u001b[0m | \u001b[0m 0.5938  \u001b[0m | \u001b[0m 0.5846  \u001b[0m | \u001b[0m 1.26    \u001b[0m | \u001b[0m 7.146   \u001b[0m | \u001b[0m 7.544   \u001b[0m | \u001b[0m 228.4   \u001b[0m | \u001b[0m 62.83   \u001b[0m | \u001b[0m 0.5677  \u001b[0m |\n"
          ],
          "name": "stdout"
        },
        {
          "output_type": "stream",
          "text": [
            "[Parallel(n_jobs=1)]: Done   5 out of   5 | elapsed:   16.0s finished\n",
            "[Parallel(n_jobs=1)]: Using backend SequentialBackend with 1 concurrent workers.\n"
          ],
          "name": "stderr"
        },
        {
          "output_type": "stream",
          "text": [
            "| \u001b[0m 6       \u001b[0m | \u001b[0m 0.6003  \u001b[0m | \u001b[0m 0.6394  \u001b[0m | \u001b[0m 35.39   \u001b[0m | \u001b[0m 4.78    \u001b[0m | \u001b[0m 1.178   \u001b[0m | \u001b[0m 207.8   \u001b[0m | \u001b[0m 46.5    \u001b[0m | \u001b[0m 0.8968  \u001b[0m |\n"
          ],
          "name": "stdout"
        },
        {
          "output_type": "stream",
          "text": [
            "[Parallel(n_jobs=1)]: Done   5 out of   5 | elapsed:   11.0s finished\n",
            "[Parallel(n_jobs=1)]: Using backend SequentialBackend with 1 concurrent workers.\n"
          ],
          "name": "stderr"
        },
        {
          "output_type": "stream",
          "text": [
            "| \u001b[95m 7       \u001b[0m | \u001b[95m 0.604   \u001b[0m | \u001b[95m 0.6346  \u001b[0m | \u001b[95m 21.29   \u001b[0m | \u001b[95m 2.384   \u001b[0m | \u001b[95m 5.235   \u001b[0m | \u001b[95m 195.2   \u001b[0m | \u001b[95m 58.0    \u001b[0m | \u001b[95m 0.6401  \u001b[0m |\n"
          ],
          "name": "stdout"
        },
        {
          "output_type": "stream",
          "text": [
            "[Parallel(n_jobs=1)]: Done   5 out of   5 | elapsed:   12.8s finished\n",
            "[Parallel(n_jobs=1)]: Using backend SequentialBackend with 1 concurrent workers.\n"
          ],
          "name": "stderr"
        },
        {
          "output_type": "stream",
          "text": [
            "| \u001b[0m 8       \u001b[0m | \u001b[0m 0.6027  \u001b[0m | \u001b[0m 0.7818  \u001b[0m | \u001b[0m 23.79   \u001b[0m | \u001b[0m 3.765   \u001b[0m | \u001b[0m 8.63    \u001b[0m | \u001b[0m 181.0   \u001b[0m | \u001b[0m 47.13   \u001b[0m | \u001b[0m 0.969   \u001b[0m |\n"
          ],
          "name": "stdout"
        },
        {
          "output_type": "stream",
          "text": [
            "[Parallel(n_jobs=1)]: Done   5 out of   5 | elapsed:    6.8s finished\n",
            "[Parallel(n_jobs=1)]: Using backend SequentialBackend with 1 concurrent workers.\n"
          ],
          "name": "stderr"
        },
        {
          "output_type": "stream",
          "text": [
            "| \u001b[0m 9       \u001b[0m | \u001b[0m 0.5784  \u001b[0m | \u001b[0m 0.5693  \u001b[0m | \u001b[0m 89.69   \u001b[0m | \u001b[0m 1.576   \u001b[0m | \u001b[0m 2.885   \u001b[0m | \u001b[0m 182.3   \u001b[0m | \u001b[0m 40.92   \u001b[0m | \u001b[0m 0.5005  \u001b[0m |\n"
          ],
          "name": "stdout"
        },
        {
          "output_type": "stream",
          "text": [
            "[Parallel(n_jobs=1)]: Done   5 out of   5 | elapsed:   32.1s finished\n"
          ],
          "name": "stderr"
        },
        {
          "output_type": "stream",
          "text": [
            "| \u001b[0m 10      \u001b[0m | \u001b[0m 0.5858  \u001b[0m | \u001b[0m 0.8783  \u001b[0m | \u001b[0m 40.8    \u001b[0m | \u001b[0m 7.852   \u001b[0m | \u001b[0m 1.908   \u001b[0m | \u001b[0m 216.4   \u001b[0m | \u001b[0m 23.76   \u001b[0m | \u001b[0m 0.9637  \u001b[0m |\n"
          ],
          "name": "stdout"
        },
        {
          "output_type": "stream",
          "text": [
            "[Parallel(n_jobs=1)]: Using backend SequentialBackend with 1 concurrent workers.\n",
            "[Parallel(n_jobs=1)]: Done   5 out of   5 | elapsed:    9.6s finished\n"
          ],
          "name": "stderr"
        },
        {
          "output_type": "stream",
          "text": [
            "| \u001b[0m 11      \u001b[0m | \u001b[0m 0.5835  \u001b[0m | \u001b[0m 0.9763  \u001b[0m | \u001b[0m 47.78   \u001b[0m | \u001b[0m 1.214   \u001b[0m | \u001b[0m 9.072   \u001b[0m | \u001b[0m 227.5   \u001b[0m | \u001b[0m 53.51   \u001b[0m | \u001b[0m 0.8326  \u001b[0m |\n"
          ],
          "name": "stdout"
        },
        {
          "output_type": "stream",
          "text": [
            "[Parallel(n_jobs=1)]: Using backend SequentialBackend with 1 concurrent workers.\n",
            "[Parallel(n_jobs=1)]: Done   5 out of   5 | elapsed:   10.5s finished\n"
          ],
          "name": "stderr"
        },
        {
          "output_type": "stream",
          "text": [
            "| \u001b[0m 12      \u001b[0m | \u001b[0m 0.6019  \u001b[0m | \u001b[0m 0.6102  \u001b[0m | \u001b[0m 5.624   \u001b[0m | \u001b[0m 2.512   \u001b[0m | \u001b[0m 1.314   \u001b[0m | \u001b[0m 180.4   \u001b[0m | \u001b[0m 99.25   \u001b[0m | \u001b[0m 0.5681  \u001b[0m |\n"
          ],
          "name": "stdout"
        },
        {
          "output_type": "stream",
          "text": [
            "[Parallel(n_jobs=1)]: Using backend SequentialBackend with 1 concurrent workers.\n",
            "[Parallel(n_jobs=1)]: Done   5 out of   5 | elapsed:   14.1s finished\n"
          ],
          "name": "stderr"
        },
        {
          "output_type": "stream",
          "text": [
            "| \u001b[0m 13      \u001b[0m | \u001b[0m 0.6034  \u001b[0m | \u001b[0m 0.7698  \u001b[0m | \u001b[0m 97.62   \u001b[0m | \u001b[0m 2.857   \u001b[0m | \u001b[0m 2.117   \u001b[0m | \u001b[0m 229.7   \u001b[0m | \u001b[0m 96.42   \u001b[0m | \u001b[0m 0.6963  \u001b[0m |\n"
          ],
          "name": "stdout"
        },
        {
          "output_type": "stream",
          "text": [
            "[Parallel(n_jobs=1)]: Using backend SequentialBackend with 1 concurrent workers.\n",
            "[Parallel(n_jobs=1)]: Done   5 out of   5 | elapsed:   11.9s finished\n"
          ],
          "name": "stderr"
        },
        {
          "output_type": "stream",
          "text": [
            "| \u001b[0m 14      \u001b[0m | \u001b[0m 0.6019  \u001b[0m | \u001b[0m 0.7695  \u001b[0m | \u001b[0m 94.67   \u001b[0m | \u001b[0m 2.482   \u001b[0m | \u001b[0m 1.525   \u001b[0m | \u001b[0m 229.7   \u001b[0m | \u001b[0m 6.43    \u001b[0m | \u001b[0m 0.9599  \u001b[0m |\n"
          ],
          "name": "stdout"
        },
        {
          "output_type": "stream",
          "text": [
            "[Parallel(n_jobs=1)]: Using backend SequentialBackend with 1 concurrent workers.\n",
            "[Parallel(n_jobs=1)]: Done   5 out of   5 | elapsed:    6.7s finished\n"
          ],
          "name": "stderr"
        },
        {
          "output_type": "stream",
          "text": [
            "| \u001b[0m 15      \u001b[0m | \u001b[0m 0.5787  \u001b[0m | \u001b[0m 0.6772  \u001b[0m | \u001b[0m 8.024   \u001b[0m | \u001b[0m 1.526   \u001b[0m | \u001b[0m 1.097   \u001b[0m | \u001b[0m 181.2   \u001b[0m | \u001b[0m 1.452   \u001b[0m | \u001b[0m 0.7751  \u001b[0m |\n"
          ],
          "name": "stdout"
        },
        {
          "output_type": "stream",
          "text": [
            "[Parallel(n_jobs=1)]: Using backend SequentialBackend with 1 concurrent workers.\n",
            "[Parallel(n_jobs=1)]: Done   5 out of   5 | elapsed:    7.6s finished\n"
          ],
          "name": "stderr"
        },
        {
          "output_type": "stream",
          "text": [
            "| \u001b[0m 16      \u001b[0m | \u001b[0m 0.6035  \u001b[0m | \u001b[0m 0.5097  \u001b[0m | \u001b[0m 4.408   \u001b[0m | \u001b[0m 2.019   \u001b[0m | \u001b[0m 2.597   \u001b[0m | \u001b[0m 182.1   \u001b[0m | \u001b[0m 59.97   \u001b[0m | \u001b[0m 0.9472  \u001b[0m |\n"
          ],
          "name": "stdout"
        },
        {
          "output_type": "stream",
          "text": [
            "[Parallel(n_jobs=1)]: Using backend SequentialBackend with 1 concurrent workers.\n",
            "[Parallel(n_jobs=1)]: Done   5 out of   5 | elapsed:   13.6s finished\n"
          ],
          "name": "stderr"
        },
        {
          "output_type": "stream",
          "text": [
            "| \u001b[0m 17      \u001b[0m | \u001b[0m 0.6023  \u001b[0m | \u001b[0m 0.6405  \u001b[0m | \u001b[0m 42.99   \u001b[0m | \u001b[0m 3.603   \u001b[0m | \u001b[0m 1.121   \u001b[0m | \u001b[0m 185.7   \u001b[0m | \u001b[0m 99.18   \u001b[0m | \u001b[0m 0.6969  \u001b[0m |\n"
          ],
          "name": "stdout"
        },
        {
          "output_type": "stream",
          "text": [
            "[Parallel(n_jobs=1)]: Using backend SequentialBackend with 1 concurrent workers.\n",
            "[Parallel(n_jobs=1)]: Done   5 out of   5 | elapsed:    7.5s finished\n"
          ],
          "name": "stderr"
        },
        {
          "output_type": "stream",
          "text": [
            "| \u001b[0m 18      \u001b[0m | \u001b[0m 0.5776  \u001b[0m | \u001b[0m 0.7595  \u001b[0m | \u001b[0m 37.93   \u001b[0m | \u001b[0m 1.188   \u001b[0m | \u001b[0m 2.061   \u001b[0m | \u001b[0m 182.2   \u001b[0m | \u001b[0m 57.28   \u001b[0m | \u001b[0m 0.6758  \u001b[0m |\n"
          ],
          "name": "stdout"
        },
        {
          "output_type": "stream",
          "text": [
            "[Parallel(n_jobs=1)]: Using backend SequentialBackend with 1 concurrent workers.\n",
            "[Parallel(n_jobs=1)]: Done   5 out of   5 | elapsed:   25.2s finished\n"
          ],
          "name": "stderr"
        },
        {
          "output_type": "stream",
          "text": [
            "| \u001b[0m 19      \u001b[0m | \u001b[0m 0.6002  \u001b[0m | \u001b[0m 0.7327  \u001b[0m | \u001b[0m 93.33   \u001b[0m | \u001b[0m 7.907   \u001b[0m | \u001b[0m 3.65    \u001b[0m | \u001b[0m 202.2   \u001b[0m | \u001b[0m 98.12   \u001b[0m | \u001b[0m 0.9228  \u001b[0m |\n"
          ],
          "name": "stdout"
        },
        {
          "output_type": "stream",
          "text": [
            "[Parallel(n_jobs=1)]: Using backend SequentialBackend with 1 concurrent workers.\n",
            "[Parallel(n_jobs=1)]: Done   5 out of   5 | elapsed:    7.2s finished\n"
          ],
          "name": "stderr"
        },
        {
          "output_type": "stream",
          "text": [
            "| \u001b[0m 20      \u001b[0m | \u001b[0m 0.5794  \u001b[0m | \u001b[0m 0.5706  \u001b[0m | \u001b[0m 0.9547  \u001b[0m | \u001b[0m 1.487   \u001b[0m | \u001b[0m 9.848   \u001b[0m | \u001b[0m 188.6   \u001b[0m | \u001b[0m 33.21   \u001b[0m | \u001b[0m 0.5738  \u001b[0m |\n"
          ],
          "name": "stdout"
        },
        {
          "output_type": "stream",
          "text": [
            "[Parallel(n_jobs=1)]: Using backend SequentialBackend with 1 concurrent workers.\n",
            "[Parallel(n_jobs=1)]: Done   5 out of   5 | elapsed:   18.1s finished\n",
            "[Parallel(n_jobs=1)]: Using backend SequentialBackend with 1 concurrent workers.\n"
          ],
          "name": "stderr"
        },
        {
          "output_type": "stream",
          "text": [
            "| \u001b[0m 21      \u001b[0m | \u001b[0m 0.5982  \u001b[0m | \u001b[0m 0.5291  \u001b[0m | \u001b[0m 16.23   \u001b[0m | \u001b[0m 7.943   \u001b[0m | \u001b[0m 7.948   \u001b[0m | \u001b[0m 186.7   \u001b[0m | \u001b[0m 84.5    \u001b[0m | \u001b[0m 0.9055  \u001b[0m |\n"
          ],
          "name": "stdout"
        },
        {
          "output_type": "stream",
          "text": [
            "[Parallel(n_jobs=1)]: Done   5 out of   5 | elapsed:   12.5s finished\n"
          ],
          "name": "stderr"
        },
        {
          "output_type": "stream",
          "text": [
            "| \u001b[0m 22      \u001b[0m | \u001b[0m 0.6036  \u001b[0m | \u001b[0m 0.7815  \u001b[0m | \u001b[0m 98.67   \u001b[0m | \u001b[0m 2.387   \u001b[0m | \u001b[0m 4.221   \u001b[0m | \u001b[0m 227.4   \u001b[0m | \u001b[0m 97.73   \u001b[0m | \u001b[0m 0.879   \u001b[0m |\n"
          ],
          "name": "stdout"
        },
        {
          "output_type": "stream",
          "text": [
            "[Parallel(n_jobs=1)]: Using backend SequentialBackend with 1 concurrent workers.\n",
            "[Parallel(n_jobs=1)]: Done   5 out of   5 | elapsed:    6.4s finished\n"
          ],
          "name": "stderr"
        },
        {
          "output_type": "stream",
          "text": [
            "| \u001b[0m 23      \u001b[0m | \u001b[0m 0.5791  \u001b[0m | \u001b[0m 0.6099  \u001b[0m | \u001b[0m 83.43   \u001b[0m | \u001b[0m 1.09    \u001b[0m | \u001b[0m 9.286   \u001b[0m | \u001b[0m 186.8   \u001b[0m | \u001b[0m 0.3443  \u001b[0m | \u001b[0m 0.815   \u001b[0m |\n"
          ],
          "name": "stdout"
        },
        {
          "output_type": "stream",
          "text": [
            "[Parallel(n_jobs=1)]: Using backend SequentialBackend with 1 concurrent workers.\n",
            "[Parallel(n_jobs=1)]: Done   5 out of   5 | elapsed:   20.9s finished\n"
          ],
          "name": "stderr"
        },
        {
          "output_type": "stream",
          "text": [
            "| \u001b[0m 24      \u001b[0m | \u001b[0m 0.5985  \u001b[0m | \u001b[0m 0.7248  \u001b[0m | \u001b[0m 18.52   \u001b[0m | \u001b[0m 5.707   \u001b[0m | \u001b[0m 1.159   \u001b[0m | \u001b[0m 216.4   \u001b[0m | \u001b[0m 99.97   \u001b[0m | \u001b[0m 0.9176  \u001b[0m |\n"
          ],
          "name": "stdout"
        },
        {
          "output_type": "stream",
          "text": [
            "[Parallel(n_jobs=1)]: Using backend SequentialBackend with 1 concurrent workers.\n",
            "[Parallel(n_jobs=1)]: Done   5 out of   5 | elapsed:    7.6s finished\n"
          ],
          "name": "stderr"
        },
        {
          "output_type": "stream",
          "text": [
            "| \u001b[0m 25      \u001b[0m | \u001b[0m 0.5816  \u001b[0m | \u001b[0m 0.6158  \u001b[0m | \u001b[0m 97.66   \u001b[0m | \u001b[0m 1.545   \u001b[0m | \u001b[0m 9.121   \u001b[0m | \u001b[0m 220.7   \u001b[0m | \u001b[0m 52.51   \u001b[0m | \u001b[0m 0.8081  \u001b[0m |\n"
          ],
          "name": "stdout"
        },
        {
          "output_type": "stream",
          "text": [
            "[Parallel(n_jobs=1)]: Using backend SequentialBackend with 1 concurrent workers.\n",
            "[Parallel(n_jobs=1)]: Done   5 out of   5 | elapsed:    7.7s finished\n"
          ],
          "name": "stderr"
        },
        {
          "output_type": "stream",
          "text": [
            "| \u001b[0m 26      \u001b[0m | \u001b[0m 0.5787  \u001b[0m | \u001b[0m 0.5554  \u001b[0m | \u001b[0m 80.12   \u001b[0m | \u001b[0m 1.028   \u001b[0m | \u001b[0m 1.504   \u001b[0m | \u001b[0m 209.9   \u001b[0m | \u001b[0m 96.79   \u001b[0m | \u001b[0m 0.5943  \u001b[0m |\n"
          ],
          "name": "stdout"
        },
        {
          "output_type": "stream",
          "text": [
            "[Parallel(n_jobs=1)]: Using backend SequentialBackend with 1 concurrent workers.\n",
            "[Parallel(n_jobs=1)]: Done   5 out of   5 | elapsed:   27.2s finished\n"
          ],
          "name": "stderr"
        },
        {
          "output_type": "stream",
          "text": [
            "| \u001b[0m 27      \u001b[0m | \u001b[0m 0.5938  \u001b[0m | \u001b[0m 0.9736  \u001b[0m | \u001b[0m 79.33   \u001b[0m | \u001b[0m 5.752   \u001b[0m | \u001b[0m 9.236   \u001b[0m | \u001b[0m 228.9   \u001b[0m | \u001b[0m 0.3057  \u001b[0m | \u001b[0m 0.98    \u001b[0m |\n"
          ],
          "name": "stdout"
        },
        {
          "output_type": "stream",
          "text": [
            "[Parallel(n_jobs=1)]: Using backend SequentialBackend with 1 concurrent workers.\n",
            "[Parallel(n_jobs=1)]: Done   5 out of   5 | elapsed:   25.9s finished\n"
          ],
          "name": "stderr"
        },
        {
          "output_type": "stream",
          "text": [
            "| \u001b[0m 28      \u001b[0m | \u001b[0m 0.5993  \u001b[0m | \u001b[0m 0.7212  \u001b[0m | \u001b[0m 99.3    \u001b[0m | \u001b[0m 7.777   \u001b[0m | \u001b[0m 9.722   \u001b[0m | \u001b[0m 181.6   \u001b[0m | \u001b[0m 80.46   \u001b[0m | \u001b[0m 0.6987  \u001b[0m |\n"
          ],
          "name": "stdout"
        },
        {
          "output_type": "stream",
          "text": [
            "[Parallel(n_jobs=1)]: Using backend SequentialBackend with 1 concurrent workers.\n",
            "[Parallel(n_jobs=1)]: Done   5 out of   5 | elapsed:    7.3s finished\n"
          ],
          "name": "stderr"
        },
        {
          "output_type": "stream",
          "text": [
            "| \u001b[0m 29      \u001b[0m | \u001b[0m 0.5834  \u001b[0m | \u001b[0m 0.5986  \u001b[0m | \u001b[0m 76.26   \u001b[0m | \u001b[0m 1.949   \u001b[0m | \u001b[0m 1.467   \u001b[0m | \u001b[0m 229.1   \u001b[0m | \u001b[0m 5.231   \u001b[0m | \u001b[0m 0.9654  \u001b[0m |\n"
          ],
          "name": "stdout"
        },
        {
          "output_type": "stream",
          "text": [
            "[Parallel(n_jobs=1)]: Using backend SequentialBackend with 1 concurrent workers.\n",
            "[Parallel(n_jobs=1)]: Done   5 out of   5 | elapsed:   32.6s finished\n"
          ],
          "name": "stderr"
        },
        {
          "output_type": "stream",
          "text": [
            "| \u001b[0m 30      \u001b[0m | \u001b[0m 0.5929  \u001b[0m | \u001b[0m 0.8395  \u001b[0m | \u001b[0m 95.83   \u001b[0m | \u001b[0m 7.63    \u001b[0m | \u001b[0m 9.743   \u001b[0m | \u001b[0m 226.4   \u001b[0m | \u001b[0m 22.84   \u001b[0m | \u001b[0m 0.9391  \u001b[0m |\n"
          ],
          "name": "stdout"
        },
        {
          "output_type": "stream",
          "text": [
            "[Parallel(n_jobs=1)]: Using backend SequentialBackend with 1 concurrent workers.\n",
            "[Parallel(n_jobs=1)]: Done   5 out of   5 | elapsed:   19.4s finished\n"
          ],
          "name": "stderr"
        },
        {
          "output_type": "stream",
          "text": [
            "| \u001b[0m 31      \u001b[0m | \u001b[0m 0.6005  \u001b[0m | \u001b[0m 0.7881  \u001b[0m | \u001b[0m 99.7    \u001b[0m | \u001b[0m 3.608   \u001b[0m | \u001b[0m 9.611   \u001b[0m | \u001b[0m 227.2   \u001b[0m | \u001b[0m 5.122   \u001b[0m | \u001b[0m 0.7105  \u001b[0m |\n"
          ],
          "name": "stdout"
        },
        {
          "output_type": "stream",
          "text": [
            "[Parallel(n_jobs=1)]: Using backend SequentialBackend with 1 concurrent workers.\n",
            "[Parallel(n_jobs=1)]: Done   5 out of   5 | elapsed:   36.4s finished\n"
          ],
          "name": "stderr"
        },
        {
          "output_type": "stream",
          "text": [
            "| \u001b[0m 32      \u001b[0m | \u001b[0m 0.5926  \u001b[0m | \u001b[0m 0.8082  \u001b[0m | \u001b[0m 0.7876  \u001b[0m | \u001b[0m 7.801   \u001b[0m | \u001b[0m 2.292   \u001b[0m | \u001b[0m 206.1   \u001b[0m | \u001b[0m 68.74   \u001b[0m | \u001b[0m 0.5303  \u001b[0m |\n"
          ],
          "name": "stdout"
        },
        {
          "output_type": "stream",
          "text": [
            "[Parallel(n_jobs=1)]: Using backend SequentialBackend with 1 concurrent workers.\n",
            "[Parallel(n_jobs=1)]: Done   5 out of   5 | elapsed:    8.4s finished\n"
          ],
          "name": "stderr"
        },
        {
          "output_type": "stream",
          "text": [
            "| \u001b[0m 33      \u001b[0m | \u001b[0m 0.5846  \u001b[0m | \u001b[0m 0.7228  \u001b[0m | \u001b[0m 37.49   \u001b[0m | \u001b[0m 1.396   \u001b[0m | \u001b[0m 8.855   \u001b[0m | \u001b[0m 229.2   \u001b[0m | \u001b[0m 4.313   \u001b[0m | \u001b[0m 0.8347  \u001b[0m |\n"
          ],
          "name": "stdout"
        },
        {
          "output_type": "stream",
          "text": [
            "[Parallel(n_jobs=1)]: Using backend SequentialBackend with 1 concurrent workers.\n",
            "[Parallel(n_jobs=1)]: Done   5 out of   5 | elapsed:   24.4s finished\n"
          ],
          "name": "stderr"
        },
        {
          "output_type": "stream",
          "text": [
            "| \u001b[0m 34      \u001b[0m | \u001b[0m 0.5921  \u001b[0m | \u001b[0m 0.6071  \u001b[0m | \u001b[0m 60.34   \u001b[0m | \u001b[0m 7.433   \u001b[0m | \u001b[0m 9.581   \u001b[0m | \u001b[0m 226.1   \u001b[0m | \u001b[0m 25.84   \u001b[0m | \u001b[0m 0.9443  \u001b[0m |\n"
          ],
          "name": "stdout"
        },
        {
          "output_type": "stream",
          "text": [
            "[Parallel(n_jobs=1)]: Using backend SequentialBackend with 1 concurrent workers.\n",
            "[Parallel(n_jobs=1)]: Done   5 out of   5 | elapsed:    9.1s finished\n"
          ],
          "name": "stderr"
        },
        {
          "output_type": "stream",
          "text": [
            "| \u001b[0m 35      \u001b[0m | \u001b[0m 0.5843  \u001b[0m | \u001b[0m 0.8471  \u001b[0m | \u001b[0m 7.616   \u001b[0m | \u001b[0m 1.06    \u001b[0m | \u001b[0m 1.261   \u001b[0m | \u001b[0m 229.1   \u001b[0m | \u001b[0m 38.99   \u001b[0m | \u001b[0m 0.7884  \u001b[0m |\n"
          ],
          "name": "stdout"
        },
        {
          "output_type": "stream",
          "text": [
            "[Parallel(n_jobs=1)]: Using backend SequentialBackend with 1 concurrent workers.\n",
            "[Parallel(n_jobs=1)]: Done   5 out of   5 | elapsed:   36.6s finished\n"
          ],
          "name": "stderr"
        },
        {
          "output_type": "stream",
          "text": [
            "| \u001b[0m 36      \u001b[0m | \u001b[0m 0.5963  \u001b[0m | \u001b[0m 0.8913  \u001b[0m | \u001b[0m 99.31   \u001b[0m | \u001b[0m 7.551   \u001b[0m | \u001b[0m 1.456   \u001b[0m | \u001b[0m 193.4   \u001b[0m | \u001b[0m 72.55   \u001b[0m | \u001b[0m 0.6073  \u001b[0m |\n"
          ],
          "name": "stdout"
        },
        {
          "output_type": "stream",
          "text": [
            "[Parallel(n_jobs=1)]: Using backend SequentialBackend with 1 concurrent workers.\n",
            "[Parallel(n_jobs=1)]: Done   5 out of   5 | elapsed:   15.9s finished\n"
          ],
          "name": "stderr"
        },
        {
          "output_type": "stream",
          "text": [
            "| \u001b[0m 37      \u001b[0m | \u001b[0m 0.6009  \u001b[0m | \u001b[0m 0.593   \u001b[0m | \u001b[0m 98.65   \u001b[0m | \u001b[0m 4.465   \u001b[0m | \u001b[0m 1.144   \u001b[0m | \u001b[0m 181.1   \u001b[0m | \u001b[0m 98.01   \u001b[0m | \u001b[0m 0.5624  \u001b[0m |\n"
          ],
          "name": "stdout"
        },
        {
          "output_type": "stream",
          "text": [
            "[Parallel(n_jobs=1)]: Using backend SequentialBackend with 1 concurrent workers.\n",
            "[Parallel(n_jobs=1)]: Done   5 out of   5 | elapsed:   40.0s finished\n"
          ],
          "name": "stderr"
        },
        {
          "output_type": "stream",
          "text": [
            "| \u001b[0m 38      \u001b[0m | \u001b[0m 0.5807  \u001b[0m | \u001b[0m 0.8441  \u001b[0m | \u001b[0m 0.7711  \u001b[0m | \u001b[0m 7.243   \u001b[0m | \u001b[0m 8.532   \u001b[0m | \u001b[0m 227.2   \u001b[0m | \u001b[0m 0.8451  \u001b[0m | \u001b[0m 0.7384  \u001b[0m |\n"
          ],
          "name": "stdout"
        },
        {
          "output_type": "stream",
          "text": [
            "[Parallel(n_jobs=1)]: Using backend SequentialBackend with 1 concurrent workers.\n",
            "[Parallel(n_jobs=1)]: Done   5 out of   5 | elapsed:   35.7s finished\n"
          ],
          "name": "stderr"
        },
        {
          "output_type": "stream",
          "text": [
            "| \u001b[0m 39      \u001b[0m | \u001b[0m 0.5815  \u001b[0m | \u001b[0m 0.8872  \u001b[0m | \u001b[0m 30.68   \u001b[0m | \u001b[0m 7.528   \u001b[0m | \u001b[0m 9.641   \u001b[0m | \u001b[0m 180.6   \u001b[0m | \u001b[0m 0.1315  \u001b[0m | \u001b[0m 0.6032  \u001b[0m |\n"
          ],
          "name": "stdout"
        },
        {
          "output_type": "stream",
          "text": [
            "[Parallel(n_jobs=1)]: Using backend SequentialBackend with 1 concurrent workers.\n",
            "[Parallel(n_jobs=1)]: Done   5 out of   5 | elapsed:   24.8s finished\n"
          ],
          "name": "stderr"
        },
        {
          "output_type": "stream",
          "text": [
            "| \u001b[0m 40      \u001b[0m | \u001b[0m 0.5994  \u001b[0m | \u001b[0m 0.8675  \u001b[0m | \u001b[0m 1.143   \u001b[0m | \u001b[0m 5.097   \u001b[0m | \u001b[0m 8.111   \u001b[0m | \u001b[0m 229.0   \u001b[0m | \u001b[0m 99.9    \u001b[0m | \u001b[0m 0.933   \u001b[0m |\n"
          ],
          "name": "stdout"
        },
        {
          "output_type": "stream",
          "text": [
            "[Parallel(n_jobs=1)]: Using backend SequentialBackend with 1 concurrent workers.\n",
            "[Parallel(n_jobs=1)]: Done   5 out of   5 | elapsed:   17.4s finished\n"
          ],
          "name": "stderr"
        },
        {
          "output_type": "stream",
          "text": [
            "| \u001b[0m 41      \u001b[0m | \u001b[0m 0.6013  \u001b[0m | \u001b[0m 0.575   \u001b[0m | \u001b[0m 45.94   \u001b[0m | \u001b[0m 7.828   \u001b[0m | \u001b[0m 9.336   \u001b[0m | \u001b[0m 180.5   \u001b[0m | \u001b[0m 98.13   \u001b[0m | \u001b[0m 0.9436  \u001b[0m |\n"
          ],
          "name": "stdout"
        },
        {
          "output_type": "stream",
          "text": [
            "[Parallel(n_jobs=1)]: Using backend SequentialBackend with 1 concurrent workers.\n",
            "[Parallel(n_jobs=1)]: Done   5 out of   5 | elapsed:   45.5s finished\n"
          ],
          "name": "stderr"
        },
        {
          "output_type": "stream",
          "text": [
            "| \u001b[0m 42      \u001b[0m | \u001b[0m 0.5946  \u001b[0m | \u001b[0m 0.9551  \u001b[0m | \u001b[0m 96.79   \u001b[0m | \u001b[0m 7.672   \u001b[0m | \u001b[0m 7.981   \u001b[0m | \u001b[0m 228.7   \u001b[0m | \u001b[0m 96.6    \u001b[0m | \u001b[0m 0.5024  \u001b[0m |\n"
          ],
          "name": "stdout"
        },
        {
          "output_type": "stream",
          "text": [
            "[Parallel(n_jobs=1)]: Using backend SequentialBackend with 1 concurrent workers.\n",
            "[Parallel(n_jobs=1)]: Done   5 out of   5 | elapsed:   35.4s finished\n"
          ],
          "name": "stderr"
        },
        {
          "output_type": "stream",
          "text": [
            "| \u001b[0m 43      \u001b[0m | \u001b[0m 0.5984  \u001b[0m | \u001b[0m 0.8057  \u001b[0m | \u001b[0m 98.84   \u001b[0m | \u001b[0m 7.275   \u001b[0m | \u001b[0m 1.127   \u001b[0m | \u001b[0m 223.7   \u001b[0m | \u001b[0m 99.44   \u001b[0m | \u001b[0m 0.7457  \u001b[0m |\n"
          ],
          "name": "stdout"
        },
        {
          "output_type": "stream",
          "text": [
            "[Parallel(n_jobs=1)]: Using backend SequentialBackend with 1 concurrent workers.\n",
            "[Parallel(n_jobs=1)]: Done   5 out of   5 | elapsed:   29.5s finished\n"
          ],
          "name": "stderr"
        },
        {
          "output_type": "stream",
          "text": [
            "| \u001b[0m 44      \u001b[0m | \u001b[0m 0.5938  \u001b[0m | \u001b[0m 0.9473  \u001b[0m | \u001b[0m 8.323   \u001b[0m | \u001b[0m 7.414   \u001b[0m | \u001b[0m 3.426   \u001b[0m | \u001b[0m 181.9   \u001b[0m | \u001b[0m 55.68   \u001b[0m | \u001b[0m 0.843   \u001b[0m |\n"
          ],
          "name": "stdout"
        },
        {
          "output_type": "stream",
          "text": [
            "[Parallel(n_jobs=1)]: Using backend SequentialBackend with 1 concurrent workers.\n",
            "[Parallel(n_jobs=1)]: Done   5 out of   5 | elapsed:    6.2s finished\n"
          ],
          "name": "stderr"
        },
        {
          "output_type": "stream",
          "text": [
            "| \u001b[0m 45      \u001b[0m | \u001b[0m 0.5772  \u001b[0m | \u001b[0m 0.6087  \u001b[0m | \u001b[0m 10.69   \u001b[0m | \u001b[0m 1.208   \u001b[0m | \u001b[0m 9.807   \u001b[0m | \u001b[0m 196.3   \u001b[0m | \u001b[0m 98.6    \u001b[0m | \u001b[0m 0.9554  \u001b[0m |\n"
          ],
          "name": "stdout"
        },
        {
          "output_type": "stream",
          "text": [
            "[Parallel(n_jobs=1)]: Using backend SequentialBackend with 1 concurrent workers.\n",
            "[Parallel(n_jobs=1)]: Done   5 out of   5 | elapsed:   39.3s finished\n"
          ],
          "name": "stderr"
        },
        {
          "output_type": "stream",
          "text": [
            "| \u001b[0m 46      \u001b[0m | \u001b[0m 0.5925  \u001b[0m | \u001b[0m 0.9551  \u001b[0m | \u001b[0m 7.255   \u001b[0m | \u001b[0m 7.795   \u001b[0m | \u001b[0m 3.528   \u001b[0m | \u001b[0m 230.0   \u001b[0m | \u001b[0m 87.1    \u001b[0m | \u001b[0m 0.8332  \u001b[0m |\n"
          ],
          "name": "stdout"
        },
        {
          "output_type": "stream",
          "text": [
            "[Parallel(n_jobs=1)]: Using backend SequentialBackend with 1 concurrent workers.\n",
            "[Parallel(n_jobs=1)]: Done   5 out of   5 | elapsed:    9.5s finished\n"
          ],
          "name": "stderr"
        },
        {
          "output_type": "stream",
          "text": [
            "| \u001b[0m 47      \u001b[0m | \u001b[0m 0.5839  \u001b[0m | \u001b[0m 0.8432  \u001b[0m | \u001b[0m 61.96   \u001b[0m | \u001b[0m 1.007   \u001b[0m | \u001b[0m 8.901   \u001b[0m | \u001b[0m 210.5   \u001b[0m | \u001b[0m 17.95   \u001b[0m | \u001b[0m 0.538   \u001b[0m |\n"
          ],
          "name": "stdout"
        },
        {
          "output_type": "stream",
          "text": [
            "[Parallel(n_jobs=1)]: Using backend SequentialBackend with 1 concurrent workers.\n",
            "[Parallel(n_jobs=1)]: Done   5 out of   5 | elapsed:   32.4s finished\n"
          ],
          "name": "stderr"
        },
        {
          "output_type": "stream",
          "text": [
            "| \u001b[0m 48      \u001b[0m | \u001b[0m 0.5907  \u001b[0m | \u001b[0m 0.86    \u001b[0m | \u001b[0m 99.72   \u001b[0m | \u001b[0m 7.679   \u001b[0m | \u001b[0m 1.781   \u001b[0m | \u001b[0m 180.3   \u001b[0m | \u001b[0m 9.675   \u001b[0m | \u001b[0m 0.718   \u001b[0m |\n"
          ],
          "name": "stdout"
        },
        {
          "output_type": "stream",
          "text": [
            "[Parallel(n_jobs=1)]: Using backend SequentialBackend with 1 concurrent workers.\n",
            "[Parallel(n_jobs=1)]: Done   5 out of   5 | elapsed:   15.4s finished\n"
          ],
          "name": "stderr"
        },
        {
          "output_type": "stream",
          "text": [
            "| \u001b[95m 49      \u001b[0m | \u001b[95m 0.6044  \u001b[0m | \u001b[95m 0.9109  \u001b[0m | \u001b[95m 99.26   \u001b[0m | \u001b[95m 2.084   \u001b[0m | \u001b[95m 2.074   \u001b[0m | \u001b[95m 227.9   \u001b[0m | \u001b[95m 83.82   \u001b[0m | \u001b[95m 0.7265  \u001b[0m |\n"
          ],
          "name": "stdout"
        },
        {
          "output_type": "stream",
          "text": [
            "[Parallel(n_jobs=1)]: Using backend SequentialBackend with 1 concurrent workers.\n",
            "[Parallel(n_jobs=1)]: Done   5 out of   5 | elapsed:   15.8s finished\n"
          ],
          "name": "stderr"
        },
        {
          "output_type": "stream",
          "text": [
            "| \u001b[0m 50      \u001b[0m | \u001b[0m 0.6028  \u001b[0m | \u001b[0m 0.5492  \u001b[0m | \u001b[0m 99.06   \u001b[0m | \u001b[0m 6.724   \u001b[0m | \u001b[0m 6.54    \u001b[0m | \u001b[0m 189.0   \u001b[0m | \u001b[0m 99.15   \u001b[0m | \u001b[0m 0.9442  \u001b[0m |\n"
          ],
          "name": "stdout"
        },
        {
          "output_type": "stream",
          "text": [
            "[Parallel(n_jobs=1)]: Using backend SequentialBackend with 1 concurrent workers.\n",
            "[Parallel(n_jobs=1)]: Done   5 out of   5 | elapsed:   24.7s finished\n"
          ],
          "name": "stderr"
        },
        {
          "output_type": "stream",
          "text": [
            "| \u001b[0m 51      \u001b[0m | \u001b[0m 0.5996  \u001b[0m | \u001b[0m 0.9357  \u001b[0m | \u001b[0m 82.71   \u001b[0m | \u001b[0m 6.297   \u001b[0m | \u001b[0m 3.647   \u001b[0m | \u001b[0m 180.7   \u001b[0m | \u001b[0m 94.98   \u001b[0m | \u001b[0m 0.8733  \u001b[0m |\n"
          ],
          "name": "stdout"
        },
        {
          "output_type": "stream",
          "text": [
            "[Parallel(n_jobs=1)]: Using backend SequentialBackend with 1 concurrent workers.\n",
            "[Parallel(n_jobs=1)]: Done   5 out of   5 | elapsed:   18.3s finished\n"
          ],
          "name": "stderr"
        },
        {
          "output_type": "stream",
          "text": [
            "| \u001b[0m 52      \u001b[0m | \u001b[0m 0.599   \u001b[0m | \u001b[0m 0.5323  \u001b[0m | \u001b[0m 16.45   \u001b[0m | \u001b[0m 7.839   \u001b[0m | \u001b[0m 2.743   \u001b[0m | \u001b[0m 182.1   \u001b[0m | \u001b[0m 99.84   \u001b[0m | \u001b[0m 0.8448  \u001b[0m |\n"
          ],
          "name": "stdout"
        },
        {
          "output_type": "stream",
          "text": [
            "[Parallel(n_jobs=1)]: Using backend SequentialBackend with 1 concurrent workers.\n",
            "[Parallel(n_jobs=1)]: Done   5 out of   5 | elapsed:   17.1s finished\n"
          ],
          "name": "stderr"
        },
        {
          "output_type": "stream",
          "text": [
            "| \u001b[0m 53      \u001b[0m | \u001b[0m 0.6002  \u001b[0m | \u001b[0m 0.5719  \u001b[0m | \u001b[0m 51.32   \u001b[0m | \u001b[0m 6.665   \u001b[0m | \u001b[0m 1.188   \u001b[0m | \u001b[0m 198.8   \u001b[0m | \u001b[0m 84.13   \u001b[0m | \u001b[0m 0.9762  \u001b[0m |\n"
          ],
          "name": "stdout"
        },
        {
          "output_type": "stream",
          "text": [
            "[Parallel(n_jobs=1)]: Using backend SequentialBackend with 1 concurrent workers.\n",
            "[Parallel(n_jobs=1)]: Done   5 out of   5 | elapsed:    6.8s finished\n"
          ],
          "name": "stderr"
        },
        {
          "output_type": "stream",
          "text": [
            "| \u001b[0m 54      \u001b[0m | \u001b[0m 0.5761  \u001b[0m | \u001b[0m 0.8306  \u001b[0m | \u001b[0m 9.145   \u001b[0m | \u001b[0m 1.49    \u001b[0m | \u001b[0m 6.036   \u001b[0m | \u001b[0m 180.4   \u001b[0m | \u001b[0m 73.93   \u001b[0m | \u001b[0m 0.897   \u001b[0m |\n"
          ],
          "name": "stdout"
        },
        {
          "output_type": "stream",
          "text": [
            "[Parallel(n_jobs=1)]: Using backend SequentialBackend with 1 concurrent workers.\n",
            "[Parallel(n_jobs=1)]: Done   5 out of   5 | elapsed:   10.3s finished\n"
          ],
          "name": "stderr"
        },
        {
          "output_type": "stream",
          "text": [
            "| \u001b[0m 55      \u001b[0m | \u001b[0m 0.6021  \u001b[0m | \u001b[0m 0.5123  \u001b[0m | \u001b[0m 23.03   \u001b[0m | \u001b[0m 3.06    \u001b[0m | \u001b[0m 2.216   \u001b[0m | \u001b[0m 183.7   \u001b[0m | \u001b[0m 29.93   \u001b[0m | \u001b[0m 0.8721  \u001b[0m |\n"
          ],
          "name": "stdout"
        },
        {
          "output_type": "stream",
          "text": [
            "[Parallel(n_jobs=1)]: Using backend SequentialBackend with 1 concurrent workers.\n",
            "[Parallel(n_jobs=1)]: Done   5 out of   5 | elapsed:   34.3s finished\n"
          ],
          "name": "stderr"
        },
        {
          "output_type": "stream",
          "text": [
            "| \u001b[0m 56      \u001b[0m | \u001b[0m 0.5935  \u001b[0m | \u001b[0m 0.786   \u001b[0m | \u001b[0m 2.71    \u001b[0m | \u001b[0m 7.475   \u001b[0m | \u001b[0m 1.569   \u001b[0m | \u001b[0m 213.8   \u001b[0m | \u001b[0m 99.32   \u001b[0m | \u001b[0m 0.6773  \u001b[0m |\n"
          ],
          "name": "stdout"
        },
        {
          "output_type": "stream",
          "text": [
            "[Parallel(n_jobs=1)]: Using backend SequentialBackend with 1 concurrent workers.\n",
            "[Parallel(n_jobs=1)]: Done   5 out of   5 | elapsed:   18.8s finished\n"
          ],
          "name": "stderr"
        },
        {
          "output_type": "stream",
          "text": [
            "| \u001b[0m 57      \u001b[0m | \u001b[0m 0.5974  \u001b[0m | \u001b[0m 0.5327  \u001b[0m | \u001b[0m 29.3    \u001b[0m | \u001b[0m 7.832   \u001b[0m | \u001b[0m 9.723   \u001b[0m | \u001b[0m 207.5   \u001b[0m | \u001b[0m 73.58   \u001b[0m | \u001b[0m 0.9775  \u001b[0m |\n"
          ],
          "name": "stdout"
        },
        {
          "output_type": "stream",
          "text": [
            "[Parallel(n_jobs=1)]: Using backend SequentialBackend with 1 concurrent workers.\n",
            "[Parallel(n_jobs=1)]: Done   5 out of   5 | elapsed:   22.1s finished\n"
          ],
          "name": "stderr"
        },
        {
          "output_type": "stream",
          "text": [
            "| \u001b[0m 58      \u001b[0m | \u001b[0m 0.5935  \u001b[0m | \u001b[0m 0.7351  \u001b[0m | \u001b[0m 97.86   \u001b[0m | \u001b[0m 5.654   \u001b[0m | \u001b[0m 3.035   \u001b[0m | \u001b[0m 229.9   \u001b[0m | \u001b[0m 12.27   \u001b[0m | \u001b[0m 0.9663  \u001b[0m |\n"
          ],
          "name": "stdout"
        },
        {
          "output_type": "stream",
          "text": [
            "[Parallel(n_jobs=1)]: Using backend SequentialBackend with 1 concurrent workers.\n",
            "[Parallel(n_jobs=1)]: Done   5 out of   5 | elapsed:    6.3s finished\n"
          ],
          "name": "stderr"
        },
        {
          "output_type": "stream",
          "text": [
            "| \u001b[0m 59      \u001b[0m | \u001b[0m 0.5784  \u001b[0m | \u001b[0m 0.5286  \u001b[0m | \u001b[0m 14.97   \u001b[0m | \u001b[0m 1.607   \u001b[0m | \u001b[0m 2.017   \u001b[0m | \u001b[0m 194.4   \u001b[0m | \u001b[0m 51.69   \u001b[0m | \u001b[0m 0.8085  \u001b[0m |\n"
          ],
          "name": "stdout"
        },
        {
          "output_type": "stream",
          "text": [
            "[Parallel(n_jobs=1)]: Using backend SequentialBackend with 1 concurrent workers.\n"
          ],
          "name": "stderr"
        },
        {
          "output_type": "stream",
          "text": [
            "| \u001b[0m 60      \u001b[0m | \u001b[0m 0.5956  \u001b[0m | \u001b[0m 0.5618  \u001b[0m | \u001b[0m 35.54   \u001b[0m | \u001b[0m 7.531   \u001b[0m | \u001b[0m 9.408   \u001b[0m | \u001b[0m 182.1   \u001b[0m | \u001b[0m 27.43   \u001b[0m | \u001b[0m 0.9801  \u001b[0m |\n",
            "=============================================================================================================\n"
          ],
          "name": "stdout"
        },
        {
          "output_type": "stream",
          "text": [
            "[Parallel(n_jobs=1)]: Done   5 out of   5 | elapsed:   17.2s finished\n"
          ],
          "name": "stderr"
        }
      ]
    },
    {
      "cell_type": "code",
      "metadata": {
        "id": "f3BF5J9NCiwZ",
        "colab_type": "code",
        "outputId": "0ab836d4-6411-447b-b922-cb04a5633af4",
        "colab": {
          "base_uri": "https://localhost:8080/",
          "height": 153
        }
      },
      "source": [
        "xgb_bo.max"
      ],
      "execution_count": 0,
      "outputs": [
        {
          "output_type": "execute_result",
          "data": {
            "text/plain": [
              "{'params': {'colsample_bytree': 0.910880732284358,\n",
              "  'gamma': 99.25580698505343,\n",
              "  'max_depth': 2.08381908163798,\n",
              "  'min_child_weight': 2.073601162878024,\n",
              "  'n_estimators': 227.9262239473573,\n",
              "  'reg_alpha': 83.82477076460415,\n",
              "  'subsample': 0.7265495851767015},\n",
              " 'target': 0.6044287226660563}"
            ]
          },
          "metadata": {
            "tags": []
          },
          "execution_count": 118
        }
      ]
    },
    {
      "cell_type": "code",
      "metadata": {
        "colab_type": "code",
        "outputId": "d01ad4b5-d4d7-436d-aa02-45838072aa79",
        "id": "u72BC1lRrjnN",
        "colab": {
          "base_uri": "https://localhost:8080/",
          "height": 68
        }
      },
      "source": [
        "xgb_lab= xgb.XGBRegressor(**{'colsample_bytree': 0.910880732284358,\n",
        "  'gamma': 99.25580698505343,\n",
        "  'max_depth': 2,\n",
        "  'min_child_weight': 2,\n",
        "  'n_estimators': 227.,\n",
        "  'reg_alpha': 83.82477076460415,\n",
        "  'subsample': 0.7265495851767015},random_state= random_seed,silent=True)\n",
        "xgb_lab.fit(train,targets)\n",
        "cv_score=cross_val_score(xgb_lab,train,targets,scoring='r2',cv= cv,verbose=1,n_jobs=1)\n",
        "print(cv_score.mean(),' +/- ',cv_score.std())\n",
        "subm = pd.DataFrame()\n",
        "subm['ID'] = ids_test\n",
        "subm['y'] = xgb_lab.predict(test)\n",
        "subm.to_csv('xgb_meanenc.csv', index=False)"
      ],
      "execution_count": 0,
      "outputs": [
        {
          "output_type": "stream",
          "text": [
            "[Parallel(n_jobs=1)]: Using backend SequentialBackend with 1 concurrent workers.\n"
          ],
          "name": "stderr"
        },
        {
          "output_type": "stream",
          "text": [
            "0.6002236276093992  +/-  0.021061742036034777\n"
          ],
          "name": "stdout"
        },
        {
          "output_type": "stream",
          "text": [
            "[Parallel(n_jobs=1)]: Done  15 out of  15 | elapsed:   41.4s finished\n"
          ],
          "name": "stderr"
        }
      ]
    },
    {
      "cell_type": "markdown",
      "metadata": {
        "id": "fjOsI0doEiEL",
        "colab_type": "text"
      },
      "source": [
        "LB(0.54865,0.54894),CV:.60022"
      ]
    },
    {
      "cell_type": "markdown",
      "metadata": {
        "id": "eRuzOByYLZFy",
        "colab_type": "text"
      },
      "source": [
        "**ExtraTrees Bayesian Tuning**"
      ]
    },
    {
      "cell_type": "code",
      "metadata": {
        "colab_type": "code",
        "id": "Cw_LhFnquBQv",
        "colab": {}
      },
      "source": [
        "def et_evaluate(n_estimators,max_depth,min_samples_leaf,max_features,min_impurity_decrease):\n",
        "  params={\n",
        "      'n_estimators':int(n_estimators),\n",
        "          'max_depth':int(max_depth),\n",
        "          'min_samples_leaf':int(min_samples_leaf),\n",
        "          'min_impurity_decrease':min_impurity_decrease,\n",
        "          'max_features':max_features\n",
        "          }\n",
        "  et_label= ExtraTreesRegressor(**params,random_state= random_seed)\n",
        "  cv_score=cross_val_score(et_label,train,y_train,scoring='r2',cv= cv3,verbose=1,n_jobs=1)\n",
        "  return cv_score.mean()"
      ],
      "execution_count": 0,
      "outputs": []
    },
    {
      "cell_type": "code",
      "metadata": {
        "colab_type": "code",
        "outputId": "e526b695-006c-4a29-abfe-59b73da4f478",
        "id": "UcA13KgkuBQ3",
        "colab": {
          "base_uri": "https://localhost:8080/",
          "height": 1000
        }
      },
      "source": [
        "et_bo= BayesianOptimization(et_evaluate,{'n_estimators':(550,650),\n",
        "          'max_depth':(1,5),\n",
        "          'min_samples_leaf':(1,7),\n",
        "          'min_impurity_decrease':(.001,1),\n",
        "          'max_features':(.5,1)\n",
        "          })\n",
        "et_bo.maximize(init_points=10, n_iter=50, acq='ei')"
      ],
      "execution_count": 0,
      "outputs": [
        {
          "output_type": "stream",
          "text": [
            "|   iter    |  target   | max_depth | max_fe... | min_im... | min_sa... | n_esti... |\n",
            "-------------------------------------------------------------------------------------\n"
          ],
          "name": "stdout"
        },
        {
          "output_type": "stream",
          "text": [
            "[Parallel(n_jobs=1)]: Using backend SequentialBackend with 1 concurrent workers.\n",
            "[Parallel(n_jobs=1)]: Done   5 out of   5 | elapsed:   32.8s finished\n",
            "[Parallel(n_jobs=1)]: Using backend SequentialBackend with 1 concurrent workers.\n"
          ],
          "name": "stderr"
        },
        {
          "output_type": "stream",
          "text": [
            "| \u001b[0m 1       \u001b[0m | \u001b[0m 0.5992  \u001b[0m | \u001b[0m 4.185   \u001b[0m | \u001b[0m 0.6748  \u001b[0m | \u001b[0m 0.4425  \u001b[0m | \u001b[0m 2.53    \u001b[0m | \u001b[0m 602.4   \u001b[0m |\n"
          ],
          "name": "stdout"
        },
        {
          "output_type": "stream",
          "text": [
            "[Parallel(n_jobs=1)]: Done   5 out of   5 | elapsed:   33.2s finished\n",
            "[Parallel(n_jobs=1)]: Using backend SequentialBackend with 1 concurrent workers.\n"
          ],
          "name": "stderr"
        },
        {
          "output_type": "stream",
          "text": [
            "| \u001b[0m 2       \u001b[0m | \u001b[0m 0.5957  \u001b[0m | \u001b[0m 3.368   \u001b[0m | \u001b[0m 0.787   \u001b[0m | \u001b[0m 0.5012  \u001b[0m | \u001b[0m 6.157   \u001b[0m | \u001b[0m 636.2   \u001b[0m |\n"
          ],
          "name": "stdout"
        },
        {
          "output_type": "stream",
          "text": [
            "[Parallel(n_jobs=1)]: Done   5 out of   5 | elapsed:   13.5s finished\n",
            "[Parallel(n_jobs=1)]: Using backend SequentialBackend with 1 concurrent workers.\n"
          ],
          "name": "stderr"
        },
        {
          "output_type": "stream",
          "text": [
            "| \u001b[0m 3       \u001b[0m | \u001b[0m 0.3883  \u001b[0m | \u001b[0m 1.845   \u001b[0m | \u001b[0m 0.8563  \u001b[0m | \u001b[0m 0.07371 \u001b[0m | \u001b[0m 4.911   \u001b[0m | \u001b[0m 594.1   \u001b[0m |\n"
          ],
          "name": "stdout"
        },
        {
          "output_type": "stream",
          "text": [
            "[Parallel(n_jobs=1)]: Done   5 out of   5 | elapsed:   13.8s finished\n",
            "[Parallel(n_jobs=1)]: Using backend SequentialBackend with 1 concurrent workers.\n"
          ],
          "name": "stderr"
        },
        {
          "output_type": "stream",
          "text": [
            "| \u001b[0m 4       \u001b[0m | \u001b[0m 0.389   \u001b[0m | \u001b[0m 1.992   \u001b[0m | \u001b[0m 0.9417  \u001b[0m | \u001b[0m 0.9656  \u001b[0m | \u001b[0m 2.672   \u001b[0m | \u001b[0m 569.0   \u001b[0m |\n"
          ],
          "name": "stdout"
        },
        {
          "output_type": "stream",
          "text": [
            "[Parallel(n_jobs=1)]: Done   5 out of   5 | elapsed:   13.2s finished\n",
            "[Parallel(n_jobs=1)]: Using backend SequentialBackend with 1 concurrent workers.\n"
          ],
          "name": "stderr"
        },
        {
          "output_type": "stream",
          "text": [
            "| \u001b[0m 5       \u001b[0m | \u001b[0m 0.3884  \u001b[0m | \u001b[0m 1.226   \u001b[0m | \u001b[0m 0.8027  \u001b[0m | \u001b[0m 0.2493  \u001b[0m | \u001b[0m 5.282   \u001b[0m | \u001b[0m 619.3   \u001b[0m |\n"
          ],
          "name": "stdout"
        },
        {
          "output_type": "stream",
          "text": [
            "[Parallel(n_jobs=1)]: Done   5 out of   5 | elapsed:   25.3s finished\n",
            "[Parallel(n_jobs=1)]: Using backend SequentialBackend with 1 concurrent workers.\n"
          ],
          "name": "stderr"
        },
        {
          "output_type": "stream",
          "text": [
            "| \u001b[0m 6       \u001b[0m | \u001b[0m 0.596   \u001b[0m | \u001b[0m 4.149   \u001b[0m | \u001b[0m 0.5498  \u001b[0m | \u001b[0m 0.8136  \u001b[0m | \u001b[0m 3.648   \u001b[0m | \u001b[0m 581.1   \u001b[0m |\n"
          ],
          "name": "stdout"
        },
        {
          "output_type": "stream",
          "text": [
            "[Parallel(n_jobs=1)]: Done   5 out of   5 | elapsed:   19.2s finished\n",
            "[Parallel(n_jobs=1)]: Using backend SequentialBackend with 1 concurrent workers.\n"
          ],
          "name": "stderr"
        },
        {
          "output_type": "stream",
          "text": [
            "| \u001b[0m 7       \u001b[0m | \u001b[0m 0.5553  \u001b[0m | \u001b[0m 2.77    \u001b[0m | \u001b[0m 0.6679  \u001b[0m | \u001b[0m 0.0408  \u001b[0m | \u001b[0m 5.918   \u001b[0m | \u001b[0m 612.2   \u001b[0m |\n"
          ],
          "name": "stdout"
        },
        {
          "output_type": "stream",
          "text": [
            "[Parallel(n_jobs=1)]: Done   5 out of   5 | elapsed:   10.2s finished\n",
            "[Parallel(n_jobs=1)]: Using backend SequentialBackend with 1 concurrent workers.\n"
          ],
          "name": "stderr"
        },
        {
          "output_type": "stream",
          "text": [
            "| \u001b[0m 8       \u001b[0m | \u001b[0m 0.3936  \u001b[0m | \u001b[0m 1.155   \u001b[0m | \u001b[0m 0.6397  \u001b[0m | \u001b[0m 0.2847  \u001b[0m | \u001b[0m 5.678   \u001b[0m | \u001b[0m 568.3   \u001b[0m |\n"
          ],
          "name": "stdout"
        },
        {
          "output_type": "stream",
          "text": [
            "[Parallel(n_jobs=1)]: Done   5 out of   5 | elapsed:   20.7s finished\n",
            "[Parallel(n_jobs=1)]: Using backend SequentialBackend with 1 concurrent workers.\n"
          ],
          "name": "stderr"
        },
        {
          "output_type": "stream",
          "text": [
            "| \u001b[0m 9       \u001b[0m | \u001b[0m 0.5521  \u001b[0m | \u001b[0m 2.228   \u001b[0m | \u001b[0m 0.7094  \u001b[0m | \u001b[0m 0.3868  \u001b[0m | \u001b[0m 5.991   \u001b[0m | \u001b[0m 622.5   \u001b[0m |\n"
          ],
          "name": "stdout"
        },
        {
          "output_type": "stream",
          "text": [
            "[Parallel(n_jobs=1)]: Done   5 out of   5 | elapsed:   26.3s finished\n"
          ],
          "name": "stderr"
        },
        {
          "output_type": "stream",
          "text": [
            "| \u001b[0m 10      \u001b[0m | \u001b[0m 0.597   \u001b[0m | \u001b[0m 3.041   \u001b[0m | \u001b[0m 0.7069  \u001b[0m | \u001b[0m 0.05671 \u001b[0m | \u001b[0m 3.982   \u001b[0m | \u001b[0m 563.1   \u001b[0m |\n"
          ],
          "name": "stdout"
        },
        {
          "output_type": "stream",
          "text": [
            "[Parallel(n_jobs=1)]: Using backend SequentialBackend with 1 concurrent workers.\n",
            "[Parallel(n_jobs=1)]: Done   5 out of   5 | elapsed:   29.4s finished\n"
          ],
          "name": "stderr"
        },
        {
          "output_type": "stream",
          "text": [
            "| \u001b[95m 11      \u001b[0m | \u001b[95m 0.6017  \u001b[0m | \u001b[95m 5.0     \u001b[0m | \u001b[95m 0.5     \u001b[0m | \u001b[95m 0.001   \u001b[0m | \u001b[95m 7.0     \u001b[0m | \u001b[95m 550.0   \u001b[0m |\n"
          ],
          "name": "stdout"
        },
        {
          "output_type": "stream",
          "text": [
            "[Parallel(n_jobs=1)]: Using backend SequentialBackend with 1 concurrent workers.\n",
            "[Parallel(n_jobs=1)]: Done   5 out of   5 | elapsed:   27.0s finished\n"
          ],
          "name": "stderr"
        },
        {
          "output_type": "stream",
          "text": [
            "| \u001b[0m 12      \u001b[0m | \u001b[0m 0.5957  \u001b[0m | \u001b[0m 5.0     \u001b[0m | \u001b[0m 0.5     \u001b[0m | \u001b[0m 1.0     \u001b[0m | \u001b[0m 7.0     \u001b[0m | \u001b[0m 626.2   \u001b[0m |\n"
          ],
          "name": "stdout"
        },
        {
          "output_type": "stream",
          "text": [
            "[Parallel(n_jobs=1)]: Using backend SequentialBackend with 1 concurrent workers.\n",
            "[Parallel(n_jobs=1)]: Done   5 out of   5 | elapsed:   17.1s finished\n"
          ],
          "name": "stderr"
        },
        {
          "output_type": "stream",
          "text": [
            "| \u001b[0m 13      \u001b[0m | \u001b[0m 0.3892  \u001b[0m | \u001b[0m 1.0     \u001b[0m | \u001b[0m 1.0     \u001b[0m | \u001b[0m 0.001   \u001b[0m | \u001b[0m 1.0     \u001b[0m | \u001b[0m 650.0   \u001b[0m |\n"
          ],
          "name": "stdout"
        },
        {
          "output_type": "stream",
          "text": [
            "[Parallel(n_jobs=1)]: Using backend SequentialBackend with 1 concurrent workers.\n",
            "[Parallel(n_jobs=1)]: Done   5 out of   5 | elapsed:   33.1s finished\n"
          ],
          "name": "stderr"
        },
        {
          "output_type": "stream",
          "text": [
            "| \u001b[95m 14      \u001b[0m | \u001b[95m 0.6017  \u001b[0m | \u001b[95m 5.0     \u001b[0m | \u001b[95m 0.5     \u001b[0m | \u001b[95m 0.001   \u001b[0m | \u001b[95m 7.0     \u001b[0m | \u001b[95m 606.4   \u001b[0m |\n"
          ],
          "name": "stdout"
        },
        {
          "output_type": "stream",
          "text": [
            "[Parallel(n_jobs=1)]: Using backend SequentialBackend with 1 concurrent workers.\n",
            "[Parallel(n_jobs=1)]: Done   5 out of   5 | elapsed:    8.5s finished\n"
          ],
          "name": "stderr"
        },
        {
          "output_type": "stream",
          "text": [
            "| \u001b[0m 15      \u001b[0m | \u001b[0m 0.4008  \u001b[0m | \u001b[0m 1.0     \u001b[0m | \u001b[0m 0.5     \u001b[0m | \u001b[0m 0.001   \u001b[0m | \u001b[0m 1.0     \u001b[0m | \u001b[0m 552.5   \u001b[0m |\n"
          ],
          "name": "stdout"
        },
        {
          "output_type": "stream",
          "text": [
            "[Parallel(n_jobs=1)]: Using backend SequentialBackend with 1 concurrent workers.\n",
            "[Parallel(n_jobs=1)]: Done   5 out of   5 | elapsed:   30.4s finished\n"
          ],
          "name": "stderr"
        },
        {
          "output_type": "stream",
          "text": [
            "| \u001b[95m 16      \u001b[0m | \u001b[95m 0.6017  \u001b[0m | \u001b[95m 5.0     \u001b[0m | \u001b[95m 0.5     \u001b[0m | \u001b[95m 0.001   \u001b[0m | \u001b[95m 7.0     \u001b[0m | \u001b[95m 559.2   \u001b[0m |\n"
          ],
          "name": "stdout"
        },
        {
          "output_type": "stream",
          "text": [
            "[Parallel(n_jobs=1)]: Using backend SequentialBackend with 1 concurrent workers.\n",
            "[Parallel(n_jobs=1)]: Done   5 out of   5 | elapsed:    9.7s finished\n"
          ],
          "name": "stderr"
        },
        {
          "output_type": "stream",
          "text": [
            "| \u001b[0m 17      \u001b[0m | \u001b[0m 0.4008  \u001b[0m | \u001b[0m 1.0     \u001b[0m | \u001b[0m 0.5     \u001b[0m | \u001b[0m 0.001   \u001b[0m | \u001b[0m 1.0     \u001b[0m | \u001b[0m 632.5   \u001b[0m |\n"
          ],
          "name": "stdout"
        },
        {
          "output_type": "stream",
          "text": [
            "[Parallel(n_jobs=1)]: Using backend SequentialBackend with 1 concurrent workers.\n",
            "[Parallel(n_jobs=1)]: Done   5 out of   5 | elapsed:   31.9s finished\n"
          ],
          "name": "stderr"
        },
        {
          "output_type": "stream",
          "text": [
            "| \u001b[95m 18      \u001b[0m | \u001b[95m 0.602   \u001b[0m | \u001b[95m 5.0     \u001b[0m | \u001b[95m 0.5     \u001b[0m | \u001b[95m 0.001   \u001b[0m | \u001b[95m 1.0     \u001b[0m | \u001b[95m 586.0   \u001b[0m |\n"
          ],
          "name": "stdout"
        },
        {
          "output_type": "stream",
          "text": [
            "[Parallel(n_jobs=1)]: Using backend SequentialBackend with 1 concurrent workers.\n",
            "[Parallel(n_jobs=1)]: Done   5 out of   5 | elapsed:   16.7s finished\n"
          ],
          "name": "stderr"
        },
        {
          "output_type": "stream",
          "text": [
            "| \u001b[0m 19      \u001b[0m | \u001b[0m 0.3892  \u001b[0m | \u001b[0m 1.0     \u001b[0m | \u001b[0m 1.0     \u001b[0m | \u001b[0m 0.001   \u001b[0m | \u001b[0m 7.0     \u001b[0m | \u001b[0m 630.5   \u001b[0m |\n"
          ],
          "name": "stdout"
        },
        {
          "output_type": "stream",
          "text": [
            "[Parallel(n_jobs=1)]: Using backend SequentialBackend with 1 concurrent workers.\n",
            "[Parallel(n_jobs=1)]: Done   5 out of   5 | elapsed:   35.0s finished\n"
          ],
          "name": "stderr"
        },
        {
          "output_type": "stream",
          "text": [
            "| \u001b[0m 20      \u001b[0m | \u001b[0m 0.6017  \u001b[0m | \u001b[0m 5.0     \u001b[0m | \u001b[0m 0.5     \u001b[0m | \u001b[0m 0.001   \u001b[0m | \u001b[0m 7.0     \u001b[0m | \u001b[0m 643.8   \u001b[0m |\n"
          ],
          "name": "stdout"
        },
        {
          "output_type": "stream",
          "text": [
            "[Parallel(n_jobs=1)]: Using backend SequentialBackend with 1 concurrent workers.\n",
            "[Parallel(n_jobs=1)]: Done   5 out of   5 | elapsed:   33.1s finished\n"
          ],
          "name": "stderr"
        },
        {
          "output_type": "stream",
          "text": [
            "| \u001b[95m 21      \u001b[0m | \u001b[95m 0.602   \u001b[0m | \u001b[95m 5.0     \u001b[0m | \u001b[95m 0.5     \u001b[0m | \u001b[95m 0.001   \u001b[0m | \u001b[95m 1.0     \u001b[0m | \u001b[95m 609.4   \u001b[0m |\n"
          ],
          "name": "stdout"
        },
        {
          "output_type": "stream",
          "text": [
            "[Parallel(n_jobs=1)]: Using backend SequentialBackend with 1 concurrent workers.\n",
            "[Parallel(n_jobs=1)]: Done   5 out of   5 | elapsed:   27.7s finished\n"
          ],
          "name": "stderr"
        },
        {
          "output_type": "stream",
          "text": [
            "| \u001b[0m 22      \u001b[0m | \u001b[0m 0.5962  \u001b[0m | \u001b[0m 5.0     \u001b[0m | \u001b[0m 0.5     \u001b[0m | \u001b[0m 1.0     \u001b[0m | \u001b[0m 1.0     \u001b[0m | \u001b[0m 640.3   \u001b[0m |\n"
          ],
          "name": "stdout"
        },
        {
          "output_type": "stream",
          "text": [
            "[Parallel(n_jobs=1)]: Using backend SequentialBackend with 1 concurrent workers.\n",
            "[Parallel(n_jobs=1)]: Done   5 out of   5 | elapsed:   33.6s finished\n"
          ],
          "name": "stderr"
        },
        {
          "output_type": "stream",
          "text": [
            "| \u001b[0m 23      \u001b[0m | \u001b[0m 0.6017  \u001b[0m | \u001b[0m 5.0     \u001b[0m | \u001b[0m 0.5     \u001b[0m | \u001b[0m 0.001   \u001b[0m | \u001b[0m 7.0     \u001b[0m | \u001b[0m 620.7   \u001b[0m |\n"
          ],
          "name": "stdout"
        },
        {
          "output_type": "stream",
          "text": [
            "[Parallel(n_jobs=1)]: Using backend SequentialBackend with 1 concurrent workers.\n",
            "[Parallel(n_jobs=1)]: Done   5 out of   5 | elapsed:   56.3s finished\n"
          ],
          "name": "stderr"
        },
        {
          "output_type": "stream",
          "text": [
            "| \u001b[0m 24      \u001b[0m | \u001b[0m 0.5949  \u001b[0m | \u001b[0m 5.0     \u001b[0m | \u001b[0m 1.0     \u001b[0m | \u001b[0m 0.001   \u001b[0m | \u001b[0m 1.0     \u001b[0m | \u001b[0m 561.1   \u001b[0m |\n"
          ],
          "name": "stdout"
        },
        {
          "output_type": "stream",
          "text": [
            "[Parallel(n_jobs=1)]: Using backend SequentialBackend with 1 concurrent workers.\n",
            "[Parallel(n_jobs=1)]: Done   5 out of   5 | elapsed:   32.5s finished\n"
          ],
          "name": "stderr"
        },
        {
          "output_type": "stream",
          "text": [
            "| \u001b[0m 25      \u001b[0m | \u001b[0m 0.6018  \u001b[0m | \u001b[0m 5.0     \u001b[0m | \u001b[0m 0.5     \u001b[0m | \u001b[0m 0.001   \u001b[0m | \u001b[0m 7.0     \u001b[0m | \u001b[0m 583.1   \u001b[0m |\n"
          ],
          "name": "stdout"
        },
        {
          "output_type": "stream",
          "text": [
            "[Parallel(n_jobs=1)]: Using backend SequentialBackend with 1 concurrent workers.\n",
            "[Parallel(n_jobs=1)]: Done   5 out of   5 | elapsed:   47.9s finished\n"
          ],
          "name": "stderr"
        },
        {
          "output_type": "stream",
          "text": [
            "| \u001b[0m 26      \u001b[0m | \u001b[0m 0.5948  \u001b[0m | \u001b[0m 5.0     \u001b[0m | \u001b[0m 1.0     \u001b[0m | \u001b[0m 1.0     \u001b[0m | \u001b[0m 6.522   \u001b[0m | \u001b[0m 639.2   \u001b[0m |\n"
          ],
          "name": "stdout"
        },
        {
          "output_type": "stream",
          "text": [
            "[Parallel(n_jobs=1)]: Using backend SequentialBackend with 1 concurrent workers.\n",
            "[Parallel(n_jobs=1)]: Done   5 out of   5 | elapsed:   26.2s finished\n"
          ],
          "name": "stderr"
        },
        {
          "output_type": "stream",
          "text": [
            "| \u001b[0m 27      \u001b[0m | \u001b[0m 0.5957  \u001b[0m | \u001b[0m 5.0     \u001b[0m | \u001b[0m 0.5     \u001b[0m | \u001b[0m 1.0     \u001b[0m | \u001b[0m 5.795   \u001b[0m | \u001b[0m 609.9   \u001b[0m |\n"
          ],
          "name": "stdout"
        },
        {
          "output_type": "stream",
          "text": [
            "[Parallel(n_jobs=1)]: Using backend SequentialBackend with 1 concurrent workers.\n",
            "[Parallel(n_jobs=1)]: Done   5 out of   5 | elapsed:   35.0s finished\n"
          ],
          "name": "stderr"
        },
        {
          "output_type": "stream",
          "text": [
            "| \u001b[0m 28      \u001b[0m | \u001b[0m 0.5997  \u001b[0m | \u001b[0m 5.0     \u001b[0m | \u001b[0m 0.5     \u001b[0m | \u001b[0m 0.001   \u001b[0m | \u001b[0m 4.055   \u001b[0m | \u001b[0m 637.3   \u001b[0m |\n"
          ],
          "name": "stdout"
        },
        {
          "output_type": "stream",
          "text": [
            "[Parallel(n_jobs=1)]: Using backend SequentialBackend with 1 concurrent workers.\n",
            "[Parallel(n_jobs=1)]: Done   5 out of   5 | elapsed:    9.9s finished\n"
          ],
          "name": "stderr"
        },
        {
          "output_type": "stream",
          "text": [
            "| \u001b[0m 29      \u001b[0m | \u001b[0m 0.4007  \u001b[0m | \u001b[0m 1.0     \u001b[0m | \u001b[0m 0.5     \u001b[0m | \u001b[0m 1.0     \u001b[0m | \u001b[0m 7.0     \u001b[0m | \u001b[0m 642.3   \u001b[0m |\n"
          ],
          "name": "stdout"
        },
        {
          "output_type": "stream",
          "text": [
            "[Parallel(n_jobs=1)]: Using backend SequentialBackend with 1 concurrent workers.\n",
            "[Parallel(n_jobs=1)]: Done   5 out of   5 | elapsed:   28.1s finished\n"
          ],
          "name": "stderr"
        },
        {
          "output_type": "stream",
          "text": [
            "| \u001b[0m 30      \u001b[0m | \u001b[0m 0.5957  \u001b[0m | \u001b[0m 5.0     \u001b[0m | \u001b[0m 0.5     \u001b[0m | \u001b[0m 1.0     \u001b[0m | \u001b[0m 7.0     \u001b[0m | \u001b[0m 650.0   \u001b[0m |\n"
          ],
          "name": "stdout"
        },
        {
          "output_type": "stream",
          "text": [
            "[Parallel(n_jobs=1)]: Using backend SequentialBackend with 1 concurrent workers.\n",
            "[Parallel(n_jobs=1)]: Done   5 out of   5 | elapsed:   32.0s finished\n"
          ],
          "name": "stderr"
        },
        {
          "output_type": "stream",
          "text": [
            "| \u001b[95m 31      \u001b[0m | \u001b[95m 0.602   \u001b[0m | \u001b[95m 5.0     \u001b[0m | \u001b[95m 0.5     \u001b[0m | \u001b[95m 0.001   \u001b[0m | \u001b[95m 1.0     \u001b[0m | \u001b[95m 580.2   \u001b[0m |\n"
          ],
          "name": "stdout"
        },
        {
          "output_type": "stream",
          "text": [
            "[Parallel(n_jobs=1)]: Using backend SequentialBackend with 1 concurrent workers.\n",
            "[Parallel(n_jobs=1)]: Done   5 out of   5 | elapsed:   33.4s finished\n"
          ],
          "name": "stderr"
        },
        {
          "output_type": "stream",
          "text": [
            "| \u001b[95m 32      \u001b[0m | \u001b[95m 0.602   \u001b[0m | \u001b[95m 5.0     \u001b[0m | \u001b[95m 0.5     \u001b[0m | \u001b[95m 0.001   \u001b[0m | \u001b[95m 1.0     \u001b[0m | \u001b[95m 604.8   \u001b[0m |\n"
          ],
          "name": "stdout"
        },
        {
          "output_type": "stream",
          "text": [
            "[Parallel(n_jobs=1)]: Using backend SequentialBackend with 1 concurrent workers.\n",
            "[Parallel(n_jobs=1)]: Done   5 out of   5 | elapsed:   26.6s finished\n"
          ],
          "name": "stderr"
        },
        {
          "output_type": "stream",
          "text": [
            "| \u001b[0m 33      \u001b[0m | \u001b[0m 0.5962  \u001b[0m | \u001b[0m 5.0     \u001b[0m | \u001b[0m 0.5     \u001b[0m | \u001b[0m 1.0     \u001b[0m | \u001b[0m 1.0     \u001b[0m | \u001b[0m 624.2   \u001b[0m |\n"
          ],
          "name": "stdout"
        },
        {
          "output_type": "stream",
          "text": [
            "[Parallel(n_jobs=1)]: Using backend SequentialBackend with 1 concurrent workers.\n",
            "[Parallel(n_jobs=1)]: Done   5 out of   5 | elapsed:   35.9s finished\n"
          ],
          "name": "stderr"
        },
        {
          "output_type": "stream",
          "text": [
            "| \u001b[95m 34      \u001b[0m | \u001b[95m 0.6021  \u001b[0m | \u001b[95m 5.0     \u001b[0m | \u001b[95m 0.5     \u001b[0m | \u001b[95m 0.001   \u001b[0m | \u001b[95m 1.0     \u001b[0m | \u001b[95m 650.0   \u001b[0m |\n"
          ],
          "name": "stdout"
        },
        {
          "output_type": "stream",
          "text": [
            "[Parallel(n_jobs=1)]: Using backend SequentialBackend with 1 concurrent workers.\n",
            "[Parallel(n_jobs=1)]: Done   5 out of   5 | elapsed:   42.7s finished\n"
          ],
          "name": "stderr"
        },
        {
          "output_type": "stream",
          "text": [
            "| \u001b[0m 35      \u001b[0m | \u001b[0m 0.5948  \u001b[0m | \u001b[0m 5.0     \u001b[0m | \u001b[0m 1.0     \u001b[0m | \u001b[0m 1.0     \u001b[0m | \u001b[0m 5.254   \u001b[0m | \u001b[0m 563.4   \u001b[0m |\n"
          ],
          "name": "stdout"
        },
        {
          "output_type": "stream",
          "text": [
            "[Parallel(n_jobs=1)]: Using backend SequentialBackend with 1 concurrent workers.\n",
            "[Parallel(n_jobs=1)]: Done   5 out of   5 | elapsed:   26.8s finished\n"
          ],
          "name": "stderr"
        },
        {
          "output_type": "stream",
          "text": [
            "| \u001b[0m 36      \u001b[0m | \u001b[0m 0.5957  \u001b[0m | \u001b[0m 5.0     \u001b[0m | \u001b[0m 0.5     \u001b[0m | \u001b[0m 1.0     \u001b[0m | \u001b[0m 5.028   \u001b[0m | \u001b[0m 623.6   \u001b[0m |\n"
          ],
          "name": "stdout"
        },
        {
          "output_type": "stream",
          "text": [
            "[Parallel(n_jobs=1)]: Using backend SequentialBackend with 1 concurrent workers.\n",
            "[Parallel(n_jobs=1)]: Done   5 out of   5 | elapsed:    9.3s finished\n"
          ],
          "name": "stderr"
        },
        {
          "output_type": "stream",
          "text": [
            "| \u001b[0m 37      \u001b[0m | \u001b[0m 0.4012  \u001b[0m | \u001b[0m 1.0     \u001b[0m | \u001b[0m 0.5     \u001b[0m | \u001b[0m 1.0     \u001b[0m | \u001b[0m 1.0     \u001b[0m | \u001b[0m 604.8   \u001b[0m |\n"
          ],
          "name": "stdout"
        },
        {
          "output_type": "stream",
          "text": [
            "[Parallel(n_jobs=1)]: Using backend SequentialBackend with 1 concurrent workers.\n",
            "[Parallel(n_jobs=1)]: Done   5 out of   5 | elapsed:  1.0min finished\n"
          ],
          "name": "stderr"
        },
        {
          "output_type": "stream",
          "text": [
            "| \u001b[0m 38      \u001b[0m | \u001b[0m 0.5949  \u001b[0m | \u001b[0m 5.0     \u001b[0m | \u001b[0m 1.0     \u001b[0m | \u001b[0m 0.001   \u001b[0m | \u001b[0m 1.0     \u001b[0m | \u001b[0m 598.4   \u001b[0m |\n"
          ],
          "name": "stdout"
        },
        {
          "output_type": "stream",
          "text": [
            "[Parallel(n_jobs=1)]: Using backend SequentialBackend with 1 concurrent workers.\n",
            "[Parallel(n_jobs=1)]: Done   5 out of   5 | elapsed:   46.2s finished\n"
          ],
          "name": "stderr"
        },
        {
          "output_type": "stream",
          "text": [
            "| \u001b[0m 39      \u001b[0m | \u001b[0m 0.5948  \u001b[0m | \u001b[0m 5.0     \u001b[0m | \u001b[0m 1.0     \u001b[0m | \u001b[0m 1.0     \u001b[0m | \u001b[0m 3.323   \u001b[0m | \u001b[0m 583.1   \u001b[0m |\n"
          ],
          "name": "stdout"
        },
        {
          "output_type": "stream",
          "text": [
            "[Parallel(n_jobs=1)]: Using backend SequentialBackend with 1 concurrent workers.\n",
            "[Parallel(n_jobs=1)]: Done   5 out of   5 | elapsed:   15.4s finished\n"
          ],
          "name": "stderr"
        },
        {
          "output_type": "stream",
          "text": [
            "| \u001b[0m 40      \u001b[0m | \u001b[0m 0.3892  \u001b[0m | \u001b[0m 1.0     \u001b[0m | \u001b[0m 1.0     \u001b[0m | \u001b[0m 1.0     \u001b[0m | \u001b[0m 7.0     \u001b[0m | \u001b[0m 550.0   \u001b[0m |\n"
          ],
          "name": "stdout"
        },
        {
          "output_type": "stream",
          "text": [
            "[Parallel(n_jobs=1)]: Using backend SequentialBackend with 1 concurrent workers.\n",
            "[Parallel(n_jobs=1)]: Done   5 out of   5 | elapsed:   32.1s finished\n"
          ],
          "name": "stderr"
        },
        {
          "output_type": "stream",
          "text": [
            "| \u001b[0m 41      \u001b[0m | \u001b[0m 0.5997  \u001b[0m | \u001b[0m 5.0     \u001b[0m | \u001b[0m 0.5     \u001b[0m | \u001b[0m 0.001   \u001b[0m | \u001b[0m 4.097   \u001b[0m | \u001b[0m 562.2   \u001b[0m |\n"
          ],
          "name": "stdout"
        },
        {
          "output_type": "stream",
          "text": [
            "[Parallel(n_jobs=1)]: Using backend SequentialBackend with 1 concurrent workers.\n",
            "[Parallel(n_jobs=1)]: Done   5 out of   5 | elapsed:   34.1s finished\n"
          ],
          "name": "stderr"
        },
        {
          "output_type": "stream",
          "text": [
            "| \u001b[0m 42      \u001b[0m | \u001b[0m 0.5997  \u001b[0m | \u001b[0m 5.0     \u001b[0m | \u001b[0m 0.5     \u001b[0m | \u001b[0m 0.001   \u001b[0m | \u001b[0m 3.437   \u001b[0m | \u001b[0m 602.0   \u001b[0m |\n"
          ],
          "name": "stdout"
        },
        {
          "output_type": "stream",
          "text": [
            "[Parallel(n_jobs=1)]: Using backend SequentialBackend with 1 concurrent workers.\n",
            "[Parallel(n_jobs=1)]: Done   5 out of   5 | elapsed:   44.4s finished\n"
          ],
          "name": "stderr"
        },
        {
          "output_type": "stream",
          "text": [
            "| \u001b[0m 43      \u001b[0m | \u001b[0m 0.5948  \u001b[0m | \u001b[0m 4.189   \u001b[0m | \u001b[0m 1.0     \u001b[0m | \u001b[0m 1.0     \u001b[0m | \u001b[0m 3.922   \u001b[0m | \u001b[0m 559.5   \u001b[0m |\n"
          ],
          "name": "stdout"
        },
        {
          "output_type": "stream",
          "text": [
            "[Parallel(n_jobs=1)]: Using backend SequentialBackend with 1 concurrent workers.\n",
            "[Parallel(n_jobs=1)]: Done   5 out of   5 | elapsed:  1.0min finished\n"
          ],
          "name": "stderr"
        },
        {
          "output_type": "stream",
          "text": [
            "| \u001b[0m 44      \u001b[0m | \u001b[0m 0.5959  \u001b[0m | \u001b[0m 5.0     \u001b[0m | \u001b[0m 1.0     \u001b[0m | \u001b[0m 0.001   \u001b[0m | \u001b[0m 4.696   \u001b[0m | \u001b[0m 609.0   \u001b[0m |\n"
          ],
          "name": "stdout"
        },
        {
          "output_type": "stream",
          "text": [
            "[Parallel(n_jobs=1)]: Using backend SequentialBackend with 1 concurrent workers.\n",
            "[Parallel(n_jobs=1)]: Done   5 out of   5 | elapsed:   27.9s finished\n"
          ],
          "name": "stderr"
        },
        {
          "output_type": "stream",
          "text": [
            "| \u001b[0m 45      \u001b[0m | \u001b[0m 0.5963  \u001b[0m | \u001b[0m 4.193   \u001b[0m | \u001b[0m 0.5168  \u001b[0m | \u001b[0m 0.7429  \u001b[0m | \u001b[0m 6.896   \u001b[0m | \u001b[0m 636.3   \u001b[0m |\n"
          ],
          "name": "stdout"
        },
        {
          "output_type": "stream",
          "text": [
            "[Parallel(n_jobs=1)]: Using backend SequentialBackend with 1 concurrent workers.\n",
            "[Parallel(n_jobs=1)]: Done   5 out of   5 | elapsed:  1.1min finished\n"
          ],
          "name": "stderr"
        },
        {
          "output_type": "stream",
          "text": [
            "| \u001b[0m 46      \u001b[0m | \u001b[0m 0.5949  \u001b[0m | \u001b[0m 5.0     \u001b[0m | \u001b[0m 1.0     \u001b[0m | \u001b[0m 0.001   \u001b[0m | \u001b[0m 1.0     \u001b[0m | \u001b[0m 645.3   \u001b[0m |\n"
          ],
          "name": "stdout"
        },
        {
          "output_type": "stream",
          "text": [
            "[Parallel(n_jobs=1)]: Using backend SequentialBackend with 1 concurrent workers.\n",
            "[Parallel(n_jobs=1)]: Done   5 out of   5 | elapsed:   46.5s finished\n"
          ],
          "name": "stderr"
        },
        {
          "output_type": "stream",
          "text": [
            "| \u001b[0m 47      \u001b[0m | \u001b[0m 0.5948  \u001b[0m | \u001b[0m 5.0     \u001b[0m | \u001b[0m 1.0     \u001b[0m | \u001b[0m 1.0     \u001b[0m | \u001b[0m 1.0     \u001b[0m | \u001b[0m 601.5   \u001b[0m |\n"
          ],
          "name": "stdout"
        },
        {
          "output_type": "stream",
          "text": [
            "[Parallel(n_jobs=1)]: Using backend SequentialBackend with 1 concurrent workers.\n",
            "[Parallel(n_jobs=1)]: Done   5 out of   5 | elapsed:   48.5s finished\n"
          ],
          "name": "stderr"
        },
        {
          "output_type": "stream",
          "text": [
            "| \u001b[0m 48      \u001b[0m | \u001b[0m 0.5948  \u001b[0m | \u001b[0m 5.0     \u001b[0m | \u001b[0m 1.0     \u001b[0m | \u001b[0m 1.0     \u001b[0m | \u001b[0m 1.0     \u001b[0m | \u001b[0m 634.1   \u001b[0m |\n"
          ],
          "name": "stdout"
        },
        {
          "output_type": "stream",
          "text": [
            "[Parallel(n_jobs=1)]: Using backend SequentialBackend with 1 concurrent workers.\n",
            "[Parallel(n_jobs=1)]: Done   5 out of   5 | elapsed:   47.4s finished\n"
          ],
          "name": "stderr"
        },
        {
          "output_type": "stream",
          "text": [
            "| \u001b[0m 49      \u001b[0m | \u001b[0m 0.6018  \u001b[0m | \u001b[0m 4.934   \u001b[0m | \u001b[0m 0.9841  \u001b[0m | \u001b[0m 0.2432  \u001b[0m | \u001b[0m 6.209   \u001b[0m | \u001b[0m 579.5   \u001b[0m |\n"
          ],
          "name": "stdout"
        },
        {
          "output_type": "stream",
          "text": [
            "[Parallel(n_jobs=1)]: Using backend SequentialBackend with 1 concurrent workers.\n",
            "[Parallel(n_jobs=1)]: Done   5 out of   5 | elapsed:   34.9s finished\n"
          ],
          "name": "stderr"
        },
        {
          "output_type": "stream",
          "text": [
            "| \u001b[0m 50      \u001b[0m | \u001b[0m 0.6017  \u001b[0m | \u001b[0m 5.0     \u001b[0m | \u001b[0m 0.5     \u001b[0m | \u001b[0m 0.001   \u001b[0m | \u001b[0m 7.0     \u001b[0m | \u001b[0m 611.5   \u001b[0m |\n"
          ],
          "name": "stdout"
        },
        {
          "output_type": "stream",
          "text": [
            "[Parallel(n_jobs=1)]: Using backend SequentialBackend with 1 concurrent workers.\n",
            "[Parallel(n_jobs=1)]: Done   5 out of   5 | elapsed:   49.8s finished\n"
          ],
          "name": "stderr"
        },
        {
          "output_type": "stream",
          "text": [
            "| \u001b[0m 51      \u001b[0m | \u001b[0m 0.6011  \u001b[0m | \u001b[0m 4.488   \u001b[0m | \u001b[0m 0.9016  \u001b[0m | \u001b[0m 0.07362 \u001b[0m | \u001b[0m 6.964   \u001b[0m | \u001b[0m 624.5   \u001b[0m |\n"
          ],
          "name": "stdout"
        },
        {
          "output_type": "stream",
          "text": [
            "[Parallel(n_jobs=1)]: Using backend SequentialBackend with 1 concurrent workers.\n",
            "[Parallel(n_jobs=1)]: Done   5 out of   5 | elapsed:   41.6s finished\n"
          ],
          "name": "stderr"
        },
        {
          "output_type": "stream",
          "text": [
            "| \u001b[0m 52      \u001b[0m | \u001b[0m 0.5997  \u001b[0m | \u001b[0m 4.984   \u001b[0m | \u001b[0m 0.6923  \u001b[0m | \u001b[0m 0.05288 \u001b[0m | \u001b[0m 5.058   \u001b[0m | \u001b[0m 647.6   \u001b[0m |\n"
          ],
          "name": "stdout"
        },
        {
          "output_type": "stream",
          "text": [
            "[Parallel(n_jobs=1)]: Using backend SequentialBackend with 1 concurrent workers.\n",
            "[Parallel(n_jobs=1)]: Done   5 out of   5 | elapsed:  1.1min finished\n"
          ],
          "name": "stderr"
        },
        {
          "output_type": "stream",
          "text": [
            "| \u001b[0m 53      \u001b[0m | \u001b[0m 0.6011  \u001b[0m | \u001b[0m 5.0     \u001b[0m | \u001b[0m 1.0     \u001b[0m | \u001b[0m 0.001   \u001b[0m | \u001b[0m 7.0     \u001b[0m | \u001b[0m 650.0   \u001b[0m |\n"
          ],
          "name": "stdout"
        },
        {
          "output_type": "stream",
          "text": [
            "[Parallel(n_jobs=1)]: Using backend SequentialBackend with 1 concurrent workers.\n",
            "[Parallel(n_jobs=1)]: Done   5 out of   5 | elapsed:   32.7s finished\n"
          ],
          "name": "stderr"
        },
        {
          "output_type": "stream",
          "text": [
            "| \u001b[0m 54      \u001b[0m | \u001b[0m 0.5997  \u001b[0m | \u001b[0m 5.0     \u001b[0m | \u001b[0m 0.5     \u001b[0m | \u001b[0m 0.001   \u001b[0m | \u001b[0m 4.16    \u001b[0m | \u001b[0m 581.5   \u001b[0m |\n"
          ],
          "name": "stdout"
        },
        {
          "output_type": "stream",
          "text": [
            "[Parallel(n_jobs=1)]: Using backend SequentialBackend with 1 concurrent workers.\n",
            "[Parallel(n_jobs=1)]: Done   5 out of   5 | elapsed:   27.0s finished\n"
          ],
          "name": "stderr"
        },
        {
          "output_type": "stream",
          "text": [
            "| \u001b[0m 55      \u001b[0m | \u001b[0m 0.5956  \u001b[0m | \u001b[0m 4.143   \u001b[0m | \u001b[0m 0.5     \u001b[0m | \u001b[0m 1.0     \u001b[0m | \u001b[0m 7.0     \u001b[0m | \u001b[0m 623.1   \u001b[0m |\n"
          ],
          "name": "stdout"
        },
        {
          "output_type": "stream",
          "text": [
            "[Parallel(n_jobs=1)]: Using backend SequentialBackend with 1 concurrent workers.\n",
            "[Parallel(n_jobs=1)]: Done   5 out of   5 | elapsed:   33.9s finished\n"
          ],
          "name": "stderr"
        },
        {
          "output_type": "stream",
          "text": [
            "| \u001b[0m 56      \u001b[0m | \u001b[0m 0.5961  \u001b[0m | \u001b[0m 4.964   \u001b[0m | \u001b[0m 0.7042  \u001b[0m | \u001b[0m 0.7613  \u001b[0m | \u001b[0m 6.963   \u001b[0m | \u001b[0m 580.9   \u001b[0m |\n"
          ],
          "name": "stdout"
        },
        {
          "output_type": "stream",
          "text": [
            "[Parallel(n_jobs=1)]: Using backend SequentialBackend with 1 concurrent workers.\n",
            "[Parallel(n_jobs=1)]: Done   5 out of   5 | elapsed:   27.8s finished\n"
          ],
          "name": "stderr"
        },
        {
          "output_type": "stream",
          "text": [
            "| \u001b[0m 57      \u001b[0m | \u001b[0m 0.5265  \u001b[0m | \u001b[0m 2.646   \u001b[0m | \u001b[0m 0.963   \u001b[0m | \u001b[0m 0.1142  \u001b[0m | \u001b[0m 1.21    \u001b[0m | \u001b[0m 582.8   \u001b[0m |\n"
          ],
          "name": "stdout"
        },
        {
          "output_type": "stream",
          "text": [
            "[Parallel(n_jobs=1)]: Using backend SequentialBackend with 1 concurrent workers.\n",
            "[Parallel(n_jobs=1)]: Done   5 out of   5 | elapsed:   38.6s finished\n"
          ],
          "name": "stderr"
        },
        {
          "output_type": "stream",
          "text": [
            "| \u001b[0m 58      \u001b[0m | \u001b[0m 0.5931  \u001b[0m | \u001b[0m 3.954   \u001b[0m | \u001b[0m 1.0     \u001b[0m | \u001b[0m 0.001   \u001b[0m | \u001b[0m 5.55    \u001b[0m | \u001b[0m 561.3   \u001b[0m |\n"
          ],
          "name": "stdout"
        },
        {
          "output_type": "stream",
          "text": [
            "[Parallel(n_jobs=1)]: Using backend SequentialBackend with 1 concurrent workers.\n",
            "[Parallel(n_jobs=1)]: Done   5 out of   5 | elapsed:   36.8s finished\n"
          ],
          "name": "stderr"
        },
        {
          "output_type": "stream",
          "text": [
            "| \u001b[0m 59      \u001b[0m | \u001b[0m 0.5997  \u001b[0m | \u001b[0m 5.0     \u001b[0m | \u001b[0m 0.5     \u001b[0m | \u001b[0m 0.001   \u001b[0m | \u001b[0m 3.364   \u001b[0m | \u001b[0m 626.6   \u001b[0m |\n"
          ],
          "name": "stdout"
        },
        {
          "output_type": "stream",
          "text": [
            "[Parallel(n_jobs=1)]: Using backend SequentialBackend with 1 concurrent workers.\n"
          ],
          "name": "stderr"
        },
        {
          "output_type": "stream",
          "text": [
            "| \u001b[0m 60      \u001b[0m | \u001b[0m 0.5541  \u001b[0m | \u001b[0m 2.187   \u001b[0m | \u001b[0m 0.6568  \u001b[0m | \u001b[0m 0.9883  \u001b[0m | \u001b[0m 1.595   \u001b[0m | \u001b[0m 561.5   \u001b[0m |\n",
            "=====================================================================================\n"
          ],
          "name": "stdout"
        },
        {
          "output_type": "stream",
          "text": [
            "[Parallel(n_jobs=1)]: Done   5 out of   5 | elapsed:   19.8s finished\n"
          ],
          "name": "stderr"
        }
      ]
    },
    {
      "cell_type": "code",
      "metadata": {
        "id": "FFfv2fJKDX73",
        "colab_type": "code",
        "outputId": "4f609283-a9fb-4630-a017-6978568b2afc",
        "colab": {
          "base_uri": "https://localhost:8080/",
          "height": 119
        }
      },
      "source": [
        "et_bo.max"
      ],
      "execution_count": 0,
      "outputs": [
        {
          "output_type": "execute_result",
          "data": {
            "text/plain": [
              "{'params': {'max_depth': 5.0,\n",
              "  'max_features': 0.5,\n",
              "  'min_impurity_decrease': 0.001,\n",
              "  'min_samples_leaf': 1.0,\n",
              "  'n_estimators': 650.0},\n",
              " 'target': 0.6020747888106721}"
            ]
          },
          "metadata": {
            "tags": []
          },
          "execution_count": 102
        }
      ]
    },
    {
      "cell_type": "code",
      "metadata": {
        "id": "5UOFcZKm_MnG",
        "colab_type": "code",
        "outputId": "dc44502d-6a32-4699-ca4a-75b18cef4307",
        "colab": {
          "base_uri": "https://localhost:8080/",
          "height": 85
        }
      },
      "source": [
        "et_lab= ExtraTreesRegressor(**{'max_depth': 5,\n",
        "  'max_features': 0.5,\n",
        "  'min_impurity_decrease': 0.001,\n",
        "  'min_samples_leaf': 1,\n",
        "  'n_estimators': 650},random_state= random_seed,oob_score= True,bootstrap= True)\n",
        "et_lab.fit(train,targets)\n",
        "print('oob_score: ',et_lab.oob_score_)\n",
        "cv_score=cross_val_score(et_lab,train,targets,scoring='r2',cv= cv,verbose=1,n_jobs=1)\n",
        "print(cv_score.mean(),' +/- ',cv_score.std())\n",
        "subm = pd.DataFrame()\n",
        "subm['ID'] = ids_test\n",
        "subm['y'] = et_lab.predict(test)\n",
        "subm.to_csv('et_5folds_label.csv', index=False)"
      ],
      "execution_count": 0,
      "outputs": [
        {
          "output_type": "stream",
          "text": [
            "oob_score:  0.6025695090342889\n"
          ],
          "name": "stdout"
        },
        {
          "output_type": "stream",
          "text": [
            "[Parallel(n_jobs=1)]: Using backend SequentialBackend with 1 concurrent workers.\n"
          ],
          "name": "stderr"
        },
        {
          "output_type": "stream",
          "text": [
            "0.6012477051379436  +/-  0.021889636974332664\n"
          ],
          "name": "stdout"
        },
        {
          "output_type": "stream",
          "text": [
            "[Parallel(n_jobs=1)]: Done  15 out of  15 | elapsed:  1.5min finished\n"
          ],
          "name": "stderr"
        }
      ]
    },
    {
      "cell_type": "markdown",
      "metadata": {
        "id": "eJHwbqQyEwJG",
        "colab_type": "text"
      },
      "source": [
        "LB(0.54710,0.55228),CV:.6012"
      ]
    },
    {
      "cell_type": "code",
      "metadata": {
        "id": "edVaRSdxG7Ur",
        "colab_type": "code",
        "outputId": "9ced073f-d842-4da7-eb70-acdacbbc6cdf",
        "colab": {
          "base_uri": "https://localhost:8080/",
          "height": 34
        }
      },
      "source": [
        "train.shape"
      ],
      "execution_count": 0,
      "outputs": [
        {
          "output_type": "execute_result",
          "data": {
            "text/plain": [
              "(4209, 210)"
            ]
          },
          "metadata": {
            "tags": []
          },
          "execution_count": 110
        }
      ]
    },
    {
      "cell_type": "markdown",
      "metadata": {
        "id": "WwWokYkuLhPS",
        "colab_type": "text"
      },
      "source": [
        "**Stacking the Bayesian Tuned Models**"
      ]
    },
    {
      "cell_type": "code",
      "metadata": {
        "id": "xCM4iYlyFnP1",
        "colab_type": "code",
        "colab": {}
      },
      "source": [
        "ridge= Ridge(random_state=random_seed,fit_intercept= False,alpha=0)\n",
        "stack = StackingCVRegressor(regressors=(rf_label, xgb_lab,et_lab),\n",
        "                            meta_regressor=ridge, \n",
        "                            use_features_in_secondary=False,refit=True,cv=cv)\n",
        "\n",
        "'''cv_score=cross_val_score(stack,X,y,scoring='r2',cv= cv,verbose=1,n_jobs=-1)\n",
        "print(cv_score.mean(),' +/- ',cv_score.std())'''\n",
        "X= np.array(train)\n",
        "y= targets\n",
        "x_test= np.array(test)\n",
        "stack.fit(X,y)\n",
        "ids_test= test.ID\n",
        "y_pred = stack.predict(x_test)\n",
        "subm = pd.DataFrame()\n",
        "subm['ID'] = ids_test\n",
        "subm['y'] = y_pred\n",
        "subm.to_csv('submission_xgb_rf_stack_ridge_label.csv', index=False)"
      ],
      "execution_count": 0,
      "outputs": []
    },
    {
      "cell_type": "markdown",
      "metadata": {
        "id": "qIyQAhrRLJLF",
        "colab_type": "text"
      },
      "source": [
        "LB(0.55211,0.55630)"
      ]
    },
    {
      "cell_type": "markdown",
      "metadata": {
        "id": "pBiFJwGUUSMa",
        "colab_type": "text"
      },
      "source": [
        "**************************************************************************************************************************************************"
      ]
    },
    {
      "cell_type": "markdown",
      "metadata": {
        "id": "SzAHtF-xX6bi",
        "colab_type": "text"
      },
      "source": [
        "#### **MeanEncoding**"
      ]
    },
    {
      "cell_type": "markdown",
      "metadata": {
        "colab_type": "text",
        "id": "4GcosodqUFgD"
      },
      "source": [
        "**RandomForest BayesianTuning**"
      ]
    },
    {
      "cell_type": "code",
      "metadata": {
        "colab_type": "code",
        "id": "Mok1YXeWUFgH",
        "colab": {}
      },
      "source": [
        "test= pd.read_csv('/content/drive/My Drive/mercedes-benz-greener-manufacturing/test_meanenc.csv')\n",
        "train= pd.read_csv('/content/drive/My Drive/mercedes-benz-greener-manufacturing/train_meanenc.csv')\n",
        "\n",
        "y_train= train.y.values\n",
        "targets= y_train\n",
        "train.drop(['y'],inplace= True,axis=1)"
      ],
      "execution_count": 0,
      "outputs": []
    },
    {
      "cell_type": "code",
      "metadata": {
        "colab_type": "code",
        "id": "r5WIprJ0UFgP",
        "colab": {}
      },
      "source": [
        "cv3= KFold(5,True,random_seed)\n",
        "def rf_evaluate(n_estimators,max_depth,min_samples_leaf,max_features,min_impurity_decrease):\n",
        "  params={\n",
        "      'n_estimators':int(n_estimators),\n",
        "          'max_depth':int(max_depth),\n",
        "          'min_samples_leaf':int(min_samples_leaf),\n",
        "          'min_impurity_decrease':min_impurity_decrease,\n",
        "          'max_features':max_features\n",
        "          }\n",
        "  rf_label= RandomForestRegressor(**params)\n",
        "  cv_score=cross_val_score(rf_label,train,y_train,scoring='r2',cv= cv3,verbose=1,n_jobs=1)\n",
        "  return cv_score.mean()"
      ],
      "execution_count": 0,
      "outputs": []
    },
    {
      "cell_type": "code",
      "metadata": {
        "colab_type": "code",
        "outputId": "8344ada2-b3f2-46fc-f778-809e3ea49a70",
        "id": "4GpXKoWjUFgT",
        "colab": {
          "base_uri": "https://localhost:8080/",
          "height": 1000
        }
      },
      "source": [
        "rf_bo= BayesianOptimization(rf_evaluate,{'n_estimators':(550,650),\n",
        "          'max_depth':(1,5),\n",
        "          'min_samples_leaf':(1,7),\n",
        "          'min_impurity_decrease':(.001,1),\n",
        "          'max_features':(.5,1)\n",
        "          })\n",
        "rf_bo.maximize(init_points=10, n_iter=50, acq='ei')"
      ],
      "execution_count": 12,
      "outputs": [
        {
          "output_type": "stream",
          "text": [
            "|   iter    |  target   | max_depth | max_fe... | min_im... | min_sa... | n_esti... |\n",
            "-------------------------------------------------------------------------------------\n"
          ],
          "name": "stdout"
        },
        {
          "output_type": "stream",
          "text": [
            "[Parallel(n_jobs=1)]: Using backend SequentialBackend with 1 concurrent workers.\n",
            "[Parallel(n_jobs=1)]: Done   5 out of   5 | elapsed:   20.4s finished\n",
            "[Parallel(n_jobs=1)]: Using backend SequentialBackend with 1 concurrent workers.\n"
          ],
          "name": "stderr"
        },
        {
          "output_type": "stream",
          "text": [
            "| \u001b[0m 1       \u001b[0m | \u001b[0m 0.5926  \u001b[0m | \u001b[0m 2.367   \u001b[0m | \u001b[0m 0.7997  \u001b[0m | \u001b[0m 0.03869 \u001b[0m | \u001b[0m 5.589   \u001b[0m | \u001b[0m 579.3   \u001b[0m |\n"
          ],
          "name": "stdout"
        },
        {
          "output_type": "stream",
          "text": [
            "[Parallel(n_jobs=1)]: Done   5 out of   5 | elapsed:   33.3s finished\n",
            "[Parallel(n_jobs=1)]: Using backend SequentialBackend with 1 concurrent workers.\n"
          ],
          "name": "stderr"
        },
        {
          "output_type": "stream",
          "text": [
            "| \u001b[95m 2       \u001b[0m | \u001b[95m 0.5989  \u001b[0m | \u001b[95m 4.046   \u001b[0m | \u001b[95m 0.8648  \u001b[0m | \u001b[95m 0.7502  \u001b[0m | \u001b[95m 2.946   \u001b[0m | \u001b[95m 560.3   \u001b[0m |\n"
          ],
          "name": "stdout"
        },
        {
          "output_type": "stream",
          "text": [
            "[Parallel(n_jobs=1)]: Done   5 out of   5 | elapsed:   43.4s finished\n",
            "[Parallel(n_jobs=1)]: Using backend SequentialBackend with 1 concurrent workers.\n"
          ],
          "name": "stderr"
        },
        {
          "output_type": "stream",
          "text": [
            "| \u001b[95m 3       \u001b[0m | \u001b[95m 0.6045  \u001b[0m | \u001b[95m 4.168   \u001b[0m | \u001b[95m 0.9995  \u001b[0m | \u001b[95m 0.1842  \u001b[0m | \u001b[95m 3.764   \u001b[0m | \u001b[95m 577.0   \u001b[0m |\n"
          ],
          "name": "stdout"
        },
        {
          "output_type": "stream",
          "text": [
            "[Parallel(n_jobs=1)]: Done   5 out of   5 | elapsed:   32.7s finished\n",
            "[Parallel(n_jobs=1)]: Using backend SequentialBackend with 1 concurrent workers.\n"
          ],
          "name": "stderr"
        },
        {
          "output_type": "stream",
          "text": [
            "| \u001b[0m 4       \u001b[0m | \u001b[0m 0.5987  \u001b[0m | \u001b[0m 4.326   \u001b[0m | \u001b[0m 0.7789  \u001b[0m | \u001b[0m 0.7738  \u001b[0m | \u001b[0m 6.066   \u001b[0m | \u001b[0m 616.3   \u001b[0m |\n"
          ],
          "name": "stdout"
        },
        {
          "output_type": "stream",
          "text": [
            "[Parallel(n_jobs=1)]: Done   5 out of   5 | elapsed:   10.7s finished\n",
            "[Parallel(n_jobs=1)]: Using backend SequentialBackend with 1 concurrent workers.\n"
          ],
          "name": "stderr"
        },
        {
          "output_type": "stream",
          "text": [
            "| \u001b[0m 5       \u001b[0m | \u001b[0m 0.4553  \u001b[0m | \u001b[0m 1.312   \u001b[0m | \u001b[0m 0.6555  \u001b[0m | \u001b[0m 0.5867  \u001b[0m | \u001b[0m 4.518   \u001b[0m | \u001b[0m 572.1   \u001b[0m |\n"
          ],
          "name": "stdout"
        },
        {
          "output_type": "stream",
          "text": [
            "[Parallel(n_jobs=1)]: Done   5 out of   5 | elapsed:   16.3s finished\n",
            "[Parallel(n_jobs=1)]: Using backend SequentialBackend with 1 concurrent workers.\n"
          ],
          "name": "stderr"
        },
        {
          "output_type": "stream",
          "text": [
            "| \u001b[0m 6       \u001b[0m | \u001b[0m 0.5871  \u001b[0m | \u001b[0m 2.414   \u001b[0m | \u001b[0m 0.5563  \u001b[0m | \u001b[0m 0.7508  \u001b[0m | \u001b[0m 5.452   \u001b[0m | \u001b[0m 602.0   \u001b[0m |\n"
          ],
          "name": "stdout"
        },
        {
          "output_type": "stream",
          "text": [
            "[Parallel(n_jobs=1)]: Done   5 out of   5 | elapsed:   29.6s finished\n",
            "[Parallel(n_jobs=1)]: Using backend SequentialBackend with 1 concurrent workers.\n"
          ],
          "name": "stderr"
        },
        {
          "output_type": "stream",
          "text": [
            "| \u001b[0m 7       \u001b[0m | \u001b[0m 0.5995  \u001b[0m | \u001b[0m 4.403   \u001b[0m | \u001b[0m 0.6687  \u001b[0m | \u001b[0m 0.6872  \u001b[0m | \u001b[0m 6.463   \u001b[0m | \u001b[0m 610.7   \u001b[0m |\n"
          ],
          "name": "stdout"
        },
        {
          "output_type": "stream",
          "text": [
            "[Parallel(n_jobs=1)]: Done   5 out of   5 | elapsed:   26.7s finished\n",
            "[Parallel(n_jobs=1)]: Using backend SequentialBackend with 1 concurrent workers.\n"
          ],
          "name": "stderr"
        },
        {
          "output_type": "stream",
          "text": [
            "| \u001b[0m 8       \u001b[0m | \u001b[0m 0.5993  \u001b[0m | \u001b[0m 3.169   \u001b[0m | \u001b[0m 0.6846  \u001b[0m | \u001b[0m 0.6125  \u001b[0m | \u001b[0m 5.459   \u001b[0m | \u001b[0m 615.1   \u001b[0m |\n"
          ],
          "name": "stdout"
        },
        {
          "output_type": "stream",
          "text": [
            "[Parallel(n_jobs=1)]: Done   5 out of   5 | elapsed:   33.6s finished\n",
            "[Parallel(n_jobs=1)]: Using backend SequentialBackend with 1 concurrent workers.\n"
          ],
          "name": "stderr"
        },
        {
          "output_type": "stream",
          "text": [
            "| \u001b[0m 9       \u001b[0m | \u001b[0m 0.602   \u001b[0m | \u001b[0m 3.293   \u001b[0m | \u001b[0m 0.8999  \u001b[0m | \u001b[0m 0.201   \u001b[0m | \u001b[0m 3.885   \u001b[0m | \u001b[0m 622.7   \u001b[0m |\n"
          ],
          "name": "stdout"
        },
        {
          "output_type": "stream",
          "text": [
            "[Parallel(n_jobs=1)]: Done   5 out of   5 | elapsed:   35.0s finished\n"
          ],
          "name": "stderr"
        },
        {
          "output_type": "stream",
          "text": [
            "| \u001b[0m 10      \u001b[0m | \u001b[0m 0.602   \u001b[0m | \u001b[0m 3.517   \u001b[0m | \u001b[0m 0.9533  \u001b[0m | \u001b[0m 0.1389  \u001b[0m | \u001b[0m 1.36    \u001b[0m | \u001b[0m 606.6   \u001b[0m |\n"
          ],
          "name": "stdout"
        },
        {
          "output_type": "stream",
          "text": [
            "[Parallel(n_jobs=1)]: Using backend SequentialBackend with 1 concurrent workers.\n",
            "[Parallel(n_jobs=1)]: Done   5 out of   5 | elapsed:   51.0s finished\n"
          ],
          "name": "stderr"
        },
        {
          "output_type": "stream",
          "text": [
            "| \u001b[95m 11      \u001b[0m | \u001b[95m 0.6053  \u001b[0m | \u001b[95m 5.0     \u001b[0m | \u001b[95m 1.0     \u001b[0m | \u001b[95m 0.001   \u001b[0m | \u001b[95m 7.0     \u001b[0m | \u001b[95m 550.0   \u001b[0m |\n"
          ],
          "name": "stdout"
        },
        {
          "output_type": "stream",
          "text": [
            "[Parallel(n_jobs=1)]: Using backend SequentialBackend with 1 concurrent workers.\n",
            "[Parallel(n_jobs=1)]: Done   5 out of   5 | elapsed:   10.5s finished\n"
          ],
          "name": "stderr"
        },
        {
          "output_type": "stream",
          "text": [
            "| \u001b[0m 12      \u001b[0m | \u001b[0m 0.4476  \u001b[0m | \u001b[0m 1.0     \u001b[0m | \u001b[0m 0.5     \u001b[0m | \u001b[0m 0.001   \u001b[0m | \u001b[0m 1.0     \u001b[0m | \u001b[0m 650.0   \u001b[0m |\n"
          ],
          "name": "stdout"
        },
        {
          "output_type": "stream",
          "text": [
            "[Parallel(n_jobs=1)]: Using backend SequentialBackend with 1 concurrent workers.\n",
            "[Parallel(n_jobs=1)]: Done   5 out of   5 | elapsed:   54.2s finished\n"
          ],
          "name": "stderr"
        },
        {
          "output_type": "stream",
          "text": [
            "| \u001b[0m 13      \u001b[0m | \u001b[0m 0.6051  \u001b[0m | \u001b[0m 5.0     \u001b[0m | \u001b[0m 1.0     \u001b[0m | \u001b[0m 0.001   \u001b[0m | \u001b[0m 7.0     \u001b[0m | \u001b[0m 586.9   \u001b[0m |\n"
          ],
          "name": "stdout"
        },
        {
          "output_type": "stream",
          "text": [
            "[Parallel(n_jobs=1)]: Using backend SequentialBackend with 1 concurrent workers.\n",
            "[Parallel(n_jobs=1)]: Done   5 out of   5 | elapsed:   51.2s finished\n"
          ],
          "name": "stderr"
        },
        {
          "output_type": "stream",
          "text": [
            "| \u001b[95m 14      \u001b[0m | \u001b[95m 0.6053  \u001b[0m | \u001b[95m 5.0     \u001b[0m | \u001b[95m 1.0     \u001b[0m | \u001b[95m 0.001   \u001b[0m | \u001b[95m 1.0     \u001b[0m | \u001b[95m 550.0   \u001b[0m |\n"
          ],
          "name": "stdout"
        },
        {
          "output_type": "stream",
          "text": [
            "[Parallel(n_jobs=1)]: Using backend SequentialBackend with 1 concurrent workers.\n",
            "[Parallel(n_jobs=1)]: Done   5 out of   5 | elapsed:   29.9s finished\n"
          ],
          "name": "stderr"
        },
        {
          "output_type": "stream",
          "text": [
            "| \u001b[95m 15      \u001b[0m | \u001b[95m 0.6058  \u001b[0m | \u001b[95m 5.0     \u001b[0m | \u001b[95m 0.5     \u001b[0m | \u001b[95m 0.001   \u001b[0m | \u001b[95m 1.0     \u001b[0m | \u001b[95m 583.3   \u001b[0m |\n"
          ],
          "name": "stdout"
        },
        {
          "output_type": "stream",
          "text": [
            "[Parallel(n_jobs=1)]: Using backend SequentialBackend with 1 concurrent workers.\n",
            "[Parallel(n_jobs=1)]: Done   5 out of   5 | elapsed:   51.6s finished\n"
          ],
          "name": "stderr"
        },
        {
          "output_type": "stream",
          "text": [
            "| \u001b[0m 16      \u001b[0m | \u001b[0m 0.6045  \u001b[0m | \u001b[0m 5.0     \u001b[0m | \u001b[0m 1.0     \u001b[0m | \u001b[0m 0.001   \u001b[0m | \u001b[0m 3.637   \u001b[0m | \u001b[0m 557.4   \u001b[0m |\n"
          ],
          "name": "stdout"
        },
        {
          "output_type": "stream",
          "text": [
            "[Parallel(n_jobs=1)]: Using backend SequentialBackend with 1 concurrent workers.\n",
            "[Parallel(n_jobs=1)]: Done   5 out of   5 | elapsed:   36.2s finished\n"
          ],
          "name": "stderr"
        },
        {
          "output_type": "stream",
          "text": [
            "| \u001b[0m 17      \u001b[0m | \u001b[0m 0.5973  \u001b[0m | \u001b[0m 5.0     \u001b[0m | \u001b[0m 1.0     \u001b[0m | \u001b[0m 1.0     \u001b[0m | \u001b[0m 7.0     \u001b[0m | \u001b[0m 580.4   \u001b[0m |\n"
          ],
          "name": "stdout"
        },
        {
          "output_type": "stream",
          "text": [
            "[Parallel(n_jobs=1)]: Using backend SequentialBackend with 1 concurrent workers.\n",
            "[Parallel(n_jobs=1)]: Done   5 out of   5 | elapsed:   58.7s finished\n"
          ],
          "name": "stderr"
        },
        {
          "output_type": "stream",
          "text": [
            "| \u001b[0m 18      \u001b[0m | \u001b[0m 0.605   \u001b[0m | \u001b[0m 5.0     \u001b[0m | \u001b[0m 1.0     \u001b[0m | \u001b[0m 0.001   \u001b[0m | \u001b[0m 7.0     \u001b[0m | \u001b[0m 636.6   \u001b[0m |\n"
          ],
          "name": "stdout"
        },
        {
          "output_type": "stream",
          "text": [
            "[Parallel(n_jobs=1)]: Using backend SequentialBackend with 1 concurrent workers.\n",
            "[Parallel(n_jobs=1)]: Done   5 out of   5 | elapsed:   35.5s finished\n"
          ],
          "name": "stderr"
        },
        {
          "output_type": "stream",
          "text": [
            "| \u001b[0m 19      \u001b[0m | \u001b[0m 0.5969  \u001b[0m | \u001b[0m 5.0     \u001b[0m | \u001b[0m 1.0     \u001b[0m | \u001b[0m 1.0     \u001b[0m | \u001b[0m 1.0     \u001b[0m | \u001b[0m 559.7   \u001b[0m |\n"
          ],
          "name": "stdout"
        },
        {
          "output_type": "stream",
          "text": [
            "[Parallel(n_jobs=1)]: Using backend SequentialBackend with 1 concurrent workers.\n",
            "[Parallel(n_jobs=1)]: Done   5 out of   5 | elapsed:   14.1s finished\n"
          ],
          "name": "stderr"
        },
        {
          "output_type": "stream",
          "text": [
            "| \u001b[0m 20      \u001b[0m | \u001b[0m 0.4709  \u001b[0m | \u001b[0m 1.0     \u001b[0m | \u001b[0m 1.0     \u001b[0m | \u001b[0m 1.0     \u001b[0m | \u001b[0m 2.958   \u001b[0m | \u001b[0m 550.0   \u001b[0m |\n"
          ],
          "name": "stdout"
        },
        {
          "output_type": "stream",
          "text": [
            "[Parallel(n_jobs=1)]: Using backend SequentialBackend with 1 concurrent workers.\n",
            "[Parallel(n_jobs=1)]: Done   5 out of   5 | elapsed:   16.1s finished\n"
          ],
          "name": "stderr"
        },
        {
          "output_type": "stream",
          "text": [
            "| \u001b[0m 21      \u001b[0m | \u001b[0m 0.4712  \u001b[0m | \u001b[0m 1.0     \u001b[0m | \u001b[0m 1.0     \u001b[0m | \u001b[0m 0.001   \u001b[0m | \u001b[0m 7.0     \u001b[0m | \u001b[0m 629.9   \u001b[0m |\n"
          ],
          "name": "stdout"
        },
        {
          "output_type": "stream",
          "text": [
            "[Parallel(n_jobs=1)]: Using backend SequentialBackend with 1 concurrent workers.\n",
            "[Parallel(n_jobs=1)]: Done   5 out of   5 | elapsed:   33.4s finished\n"
          ],
          "name": "stderr"
        },
        {
          "output_type": "stream",
          "text": [
            "| \u001b[0m 22      \u001b[0m | \u001b[0m 0.6055  \u001b[0m | \u001b[0m 5.0     \u001b[0m | \u001b[0m 0.5     \u001b[0m | \u001b[0m 0.001   \u001b[0m | \u001b[0m 1.0     \u001b[0m | \u001b[0m 634.8   \u001b[0m |\n"
          ],
          "name": "stdout"
        },
        {
          "output_type": "stream",
          "text": [
            "[Parallel(n_jobs=1)]: Using backend SequentialBackend with 1 concurrent workers.\n",
            "[Parallel(n_jobs=1)]: Done   5 out of   5 | elapsed:   32.5s finished\n"
          ],
          "name": "stderr"
        },
        {
          "output_type": "stream",
          "text": [
            "| \u001b[95m 23      \u001b[0m | \u001b[95m 0.6059  \u001b[0m | \u001b[95m 5.0     \u001b[0m | \u001b[95m 0.5     \u001b[0m | \u001b[95m 0.001   \u001b[0m | \u001b[95m 1.0     \u001b[0m | \u001b[95m 620.1   \u001b[0m |\n"
          ],
          "name": "stdout"
        },
        {
          "output_type": "stream",
          "text": [
            "[Parallel(n_jobs=1)]: Using backend SequentialBackend with 1 concurrent workers.\n",
            "[Parallel(n_jobs=1)]: Done   5 out of   5 | elapsed:   41.1s finished\n"
          ],
          "name": "stderr"
        },
        {
          "output_type": "stream",
          "text": [
            "| \u001b[0m 24      \u001b[0m | \u001b[0m 0.5972  \u001b[0m | \u001b[0m 5.0     \u001b[0m | \u001b[0m 1.0     \u001b[0m | \u001b[0m 1.0     \u001b[0m | \u001b[0m 7.0     \u001b[0m | \u001b[0m 650.0   \u001b[0m |\n"
          ],
          "name": "stdout"
        },
        {
          "output_type": "stream",
          "text": [
            "[Parallel(n_jobs=1)]: Using backend SequentialBackend with 1 concurrent workers.\n",
            "[Parallel(n_jobs=1)]: Done   5 out of   5 | elapsed:   29.1s finished\n"
          ],
          "name": "stderr"
        },
        {
          "output_type": "stream",
          "text": [
            "| \u001b[0m 25      \u001b[0m | \u001b[0m 0.6049  \u001b[0m | \u001b[0m 5.0     \u001b[0m | \u001b[0m 0.5     \u001b[0m | \u001b[0m 0.001   \u001b[0m | \u001b[0m 6.245   \u001b[0m | \u001b[0m 562.5   \u001b[0m |\n"
          ],
          "name": "stdout"
        },
        {
          "output_type": "stream",
          "text": [
            "[Parallel(n_jobs=1)]: Using backend SequentialBackend with 1 concurrent workers.\n",
            "[Parallel(n_jobs=1)]: Done   5 out of   5 | elapsed:   15.3s finished\n"
          ],
          "name": "stderr"
        },
        {
          "output_type": "stream",
          "text": [
            "| \u001b[0m 26      \u001b[0m | \u001b[0m 0.4711  \u001b[0m | \u001b[0m 1.0     \u001b[0m | \u001b[0m 1.0     \u001b[0m | \u001b[0m 0.001   \u001b[0m | \u001b[0m 6.926   \u001b[0m | \u001b[0m 607.1   \u001b[0m |\n"
          ],
          "name": "stdout"
        },
        {
          "output_type": "stream",
          "text": [
            "[Parallel(n_jobs=1)]: Using backend SequentialBackend with 1 concurrent workers.\n",
            "[Parallel(n_jobs=1)]: Done   5 out of   5 | elapsed:   23.2s finished\n"
          ],
          "name": "stderr"
        },
        {
          "output_type": "stream",
          "text": [
            "| \u001b[0m 27      \u001b[0m | \u001b[0m 0.5963  \u001b[0m | \u001b[0m 5.0     \u001b[0m | \u001b[0m 0.5     \u001b[0m | \u001b[0m 1.0     \u001b[0m | \u001b[0m 2.917   \u001b[0m | \u001b[0m 600.2   \u001b[0m |\n"
          ],
          "name": "stdout"
        },
        {
          "output_type": "stream",
          "text": [
            "[Parallel(n_jobs=1)]: Using backend SequentialBackend with 1 concurrent workers.\n",
            "[Parallel(n_jobs=1)]: Done   5 out of   5 | elapsed:   23.4s finished\n"
          ],
          "name": "stderr"
        },
        {
          "output_type": "stream",
          "text": [
            "| \u001b[0m 28      \u001b[0m | \u001b[0m 0.5962  \u001b[0m | \u001b[0m 5.0     \u001b[0m | \u001b[0m 0.5     \u001b[0m | \u001b[0m 1.0     \u001b[0m | \u001b[0m 2.31    \u001b[0m | \u001b[0m 611.6   \u001b[0m |\n"
          ],
          "name": "stdout"
        },
        {
          "output_type": "stream",
          "text": [
            "[Parallel(n_jobs=1)]: Using backend SequentialBackend with 1 concurrent workers.\n",
            "[Parallel(n_jobs=1)]: Done   5 out of   5 | elapsed:   33.7s finished\n"
          ],
          "name": "stderr"
        },
        {
          "output_type": "stream",
          "text": [
            "| \u001b[0m 29      \u001b[0m | \u001b[0m 0.605   \u001b[0m | \u001b[0m 5.0     \u001b[0m | \u001b[0m 0.5     \u001b[0m | \u001b[0m 0.001   \u001b[0m | \u001b[0m 7.0     \u001b[0m | \u001b[0m 643.5   \u001b[0m |\n"
          ],
          "name": "stdout"
        },
        {
          "output_type": "stream",
          "text": [
            "[Parallel(n_jobs=1)]: Using backend SequentialBackend with 1 concurrent workers.\n",
            "[Parallel(n_jobs=1)]: Done   5 out of   5 | elapsed:   30.3s finished\n"
          ],
          "name": "stderr"
        },
        {
          "output_type": "stream",
          "text": [
            "| \u001b[0m 30      \u001b[0m | \u001b[0m 0.6047  \u001b[0m | \u001b[0m 5.0     \u001b[0m | \u001b[0m 0.5     \u001b[0m | \u001b[0m 0.001   \u001b[0m | \u001b[0m 4.227   \u001b[0m | \u001b[0m 580.6   \u001b[0m |\n"
          ],
          "name": "stdout"
        },
        {
          "output_type": "stream",
          "text": [
            "[Parallel(n_jobs=1)]: Using backend SequentialBackend with 1 concurrent workers.\n",
            "[Parallel(n_jobs=1)]: Done   5 out of   5 | elapsed:   15.1s finished\n"
          ],
          "name": "stderr"
        },
        {
          "output_type": "stream",
          "text": [
            "| \u001b[0m 31      \u001b[0m | \u001b[0m 0.4712  \u001b[0m | \u001b[0m 1.0     \u001b[0m | \u001b[0m 1.0     \u001b[0m | \u001b[0m 0.001   \u001b[0m | \u001b[0m 1.0     \u001b[0m | \u001b[0m 589.9   \u001b[0m |\n"
          ],
          "name": "stdout"
        },
        {
          "output_type": "stream",
          "text": [
            "[Parallel(n_jobs=1)]: Using backend SequentialBackend with 1 concurrent workers.\n",
            "[Parallel(n_jobs=1)]: Done   5 out of   5 | elapsed:   31.5s finished\n"
          ],
          "name": "stderr"
        },
        {
          "output_type": "stream",
          "text": [
            "| \u001b[0m 32      \u001b[0m | \u001b[0m 0.6049  \u001b[0m | \u001b[0m 5.0     \u001b[0m | \u001b[0m 0.5     \u001b[0m | \u001b[0m 0.001   \u001b[0m | \u001b[0m 7.0     \u001b[0m | \u001b[0m 601.0   \u001b[0m |\n"
          ],
          "name": "stdout"
        },
        {
          "output_type": "stream",
          "text": [
            "[Parallel(n_jobs=1)]: Using backend SequentialBackend with 1 concurrent workers.\n",
            "[Parallel(n_jobs=1)]: Done   5 out of   5 | elapsed:   54.6s finished\n"
          ],
          "name": "stderr"
        },
        {
          "output_type": "stream",
          "text": [
            "| \u001b[0m 33      \u001b[0m | \u001b[0m 0.6051  \u001b[0m | \u001b[0m 5.0     \u001b[0m | \u001b[0m 1.0     \u001b[0m | \u001b[0m 0.001   \u001b[0m | \u001b[0m 1.0     \u001b[0m | \u001b[0m 579.2   \u001b[0m |\n"
          ],
          "name": "stdout"
        },
        {
          "output_type": "stream",
          "text": [
            "[Parallel(n_jobs=1)]: Using backend SequentialBackend with 1 concurrent workers.\n",
            "[Parallel(n_jobs=1)]: Done   5 out of   5 | elapsed:   35.0s finished\n"
          ],
          "name": "stderr"
        },
        {
          "output_type": "stream",
          "text": [
            "| \u001b[0m 34      \u001b[0m | \u001b[0m 0.5972  \u001b[0m | \u001b[0m 5.0     \u001b[0m | \u001b[0m 1.0     \u001b[0m | \u001b[0m 1.0     \u001b[0m | \u001b[0m 7.0     \u001b[0m | \u001b[0m 559.4   \u001b[0m |\n"
          ],
          "name": "stdout"
        },
        {
          "output_type": "stream",
          "text": [
            "[Parallel(n_jobs=1)]: Using backend SequentialBackend with 1 concurrent workers.\n",
            "[Parallel(n_jobs=1)]: Done   5 out of   5 | elapsed:    9.9s finished\n"
          ],
          "name": "stderr"
        },
        {
          "output_type": "stream",
          "text": [
            "| \u001b[0m 35      \u001b[0m | \u001b[0m 0.4487  \u001b[0m | \u001b[0m 1.0     \u001b[0m | \u001b[0m 0.5     \u001b[0m | \u001b[0m 1.0     \u001b[0m | \u001b[0m 1.0     \u001b[0m | \u001b[0m 620.4   \u001b[0m |\n"
          ],
          "name": "stdout"
        },
        {
          "output_type": "stream",
          "text": [
            "[Parallel(n_jobs=1)]: Using backend SequentialBackend with 1 concurrent workers.\n",
            "[Parallel(n_jobs=1)]: Done   5 out of   5 | elapsed:   32.2s finished\n"
          ],
          "name": "stderr"
        },
        {
          "output_type": "stream",
          "text": [
            "| \u001b[0m 36      \u001b[0m | \u001b[0m 0.605   \u001b[0m | \u001b[0m 5.0     \u001b[0m | \u001b[0m 0.5     \u001b[0m | \u001b[0m 0.001   \u001b[0m | \u001b[0m 4.68    \u001b[0m | \u001b[0m 625.2   \u001b[0m |\n"
          ],
          "name": "stdout"
        },
        {
          "output_type": "stream",
          "text": [
            "[Parallel(n_jobs=1)]: Using backend SequentialBackend with 1 concurrent workers.\n",
            "[Parallel(n_jobs=1)]: Done   5 out of   5 | elapsed:   56.9s finished\n"
          ],
          "name": "stderr"
        },
        {
          "output_type": "stream",
          "text": [
            "| \u001b[0m 37      \u001b[0m | \u001b[0m 0.6049  \u001b[0m | \u001b[0m 5.0     \u001b[0m | \u001b[0m 1.0     \u001b[0m | \u001b[0m 0.001   \u001b[0m | \u001b[0m 4.336   \u001b[0m | \u001b[0m 614.2   \u001b[0m |\n"
          ],
          "name": "stdout"
        },
        {
          "output_type": "stream",
          "text": [
            "[Parallel(n_jobs=1)]: Using backend SequentialBackend with 1 concurrent workers.\n",
            "[Parallel(n_jobs=1)]: Done   5 out of   5 | elapsed:  1.0min finished\n"
          ],
          "name": "stderr"
        },
        {
          "output_type": "stream",
          "text": [
            "| \u001b[0m 38      \u001b[0m | \u001b[0m 0.6055  \u001b[0m | \u001b[0m 5.0     \u001b[0m | \u001b[0m 1.0     \u001b[0m | \u001b[0m 0.001   \u001b[0m | \u001b[0m 1.0     \u001b[0m | \u001b[0m 643.3   \u001b[0m |\n"
          ],
          "name": "stdout"
        },
        {
          "output_type": "stream",
          "text": [
            "[Parallel(n_jobs=1)]: Using backend SequentialBackend with 1 concurrent workers.\n",
            "[Parallel(n_jobs=1)]: Done   5 out of   5 | elapsed:   23.2s finished\n"
          ],
          "name": "stderr"
        },
        {
          "output_type": "stream",
          "text": [
            "| \u001b[0m 39      \u001b[0m | \u001b[0m 0.5963  \u001b[0m | \u001b[0m 5.0     \u001b[0m | \u001b[0m 0.5     \u001b[0m | \u001b[0m 1.0     \u001b[0m | \u001b[0m 3.818   \u001b[0m | \u001b[0m 605.2   \u001b[0m |\n"
          ],
          "name": "stdout"
        },
        {
          "output_type": "stream",
          "text": [
            "[Parallel(n_jobs=1)]: Using backend SequentialBackend with 1 concurrent workers.\n",
            "[Parallel(n_jobs=1)]: Done   5 out of   5 | elapsed:   58.1s finished\n"
          ],
          "name": "stderr"
        },
        {
          "output_type": "stream",
          "text": [
            "| \u001b[0m 40      \u001b[0m | \u001b[0m 0.6044  \u001b[0m | \u001b[0m 5.0     \u001b[0m | \u001b[0m 1.0     \u001b[0m | \u001b[0m 0.001   \u001b[0m | \u001b[0m 3.512   \u001b[0m | \u001b[0m 622.0   \u001b[0m |\n"
          ],
          "name": "stdout"
        },
        {
          "output_type": "stream",
          "text": [
            "[Parallel(n_jobs=1)]: Using backend SequentialBackend with 1 concurrent workers.\n",
            "[Parallel(n_jobs=1)]: Done   5 out of   5 | elapsed:   22.6s finished\n"
          ],
          "name": "stderr"
        },
        {
          "output_type": "stream",
          "text": [
            "| \u001b[0m 41      \u001b[0m | \u001b[0m 0.6009  \u001b[0m | \u001b[0m 3.028   \u001b[0m | \u001b[0m 0.5382  \u001b[0m | \u001b[0m 0.09153 \u001b[0m | \u001b[0m 6.81    \u001b[0m | \u001b[0m 621.3   \u001b[0m |\n"
          ],
          "name": "stdout"
        },
        {
          "output_type": "stream",
          "text": [
            "[Parallel(n_jobs=1)]: Using backend SequentialBackend with 1 concurrent workers.\n",
            "[Parallel(n_jobs=1)]: Done   5 out of   5 | elapsed:   33.5s finished\n"
          ],
          "name": "stderr"
        },
        {
          "output_type": "stream",
          "text": [
            "| \u001b[0m 42      \u001b[0m | \u001b[0m 0.6059  \u001b[0m | \u001b[0m 5.0     \u001b[0m | \u001b[0m 0.5     \u001b[0m | \u001b[0m 0.001   \u001b[0m | \u001b[0m 1.0     \u001b[0m | \u001b[0m 650.0   \u001b[0m |\n"
          ],
          "name": "stdout"
        },
        {
          "output_type": "stream",
          "text": [
            "[Parallel(n_jobs=1)]: Using backend SequentialBackend with 1 concurrent workers.\n",
            "[Parallel(n_jobs=1)]: Done   5 out of   5 | elapsed:   24.1s finished\n"
          ],
          "name": "stderr"
        },
        {
          "output_type": "stream",
          "text": [
            "| \u001b[0m 43      \u001b[0m | \u001b[0m 0.5963  \u001b[0m | \u001b[0m 5.0     \u001b[0m | \u001b[0m 0.5     \u001b[0m | \u001b[0m 1.0     \u001b[0m | \u001b[0m 4.184   \u001b[0m | \u001b[0m 639.4   \u001b[0m |\n"
          ],
          "name": "stdout"
        },
        {
          "output_type": "stream",
          "text": [
            "[Parallel(n_jobs=1)]: Using backend SequentialBackend with 1 concurrent workers.\n",
            "[Parallel(n_jobs=1)]: Done   5 out of   5 | elapsed:   52.1s finished\n"
          ],
          "name": "stderr"
        },
        {
          "output_type": "stream",
          "text": [
            "| \u001b[0m 44      \u001b[0m | \u001b[0m 0.6041  \u001b[0m | \u001b[0m 5.0     \u001b[0m | \u001b[0m 1.0     \u001b[0m | \u001b[0m 0.001   \u001b[0m | \u001b[0m 3.562   \u001b[0m | \u001b[0m 561.9   \u001b[0m |\n"
          ],
          "name": "stdout"
        },
        {
          "output_type": "stream",
          "text": [
            "[Parallel(n_jobs=1)]: Using backend SequentialBackend with 1 concurrent workers.\n",
            "[Parallel(n_jobs=1)]: Done   5 out of   5 | elapsed:   31.2s finished\n"
          ],
          "name": "stderr"
        },
        {
          "output_type": "stream",
          "text": [
            "| \u001b[95m 45      \u001b[0m | \u001b[95m 0.6061  \u001b[0m | \u001b[95m 5.0     \u001b[0m | \u001b[95m 0.5     \u001b[0m | \u001b[95m 0.001   \u001b[0m | \u001b[95m 1.0     \u001b[0m | \u001b[95m 605.2   \u001b[0m |\n"
          ],
          "name": "stdout"
        },
        {
          "output_type": "stream",
          "text": [
            "[Parallel(n_jobs=1)]: Using backend SequentialBackend with 1 concurrent workers.\n",
            "[Parallel(n_jobs=1)]: Done   5 out of   5 | elapsed:   22.3s finished\n"
          ],
          "name": "stderr"
        },
        {
          "output_type": "stream",
          "text": [
            "| \u001b[0m 46      \u001b[0m | \u001b[0m 0.5962  \u001b[0m | \u001b[0m 4.79    \u001b[0m | \u001b[0m 0.5     \u001b[0m | \u001b[0m 1.0     \u001b[0m | \u001b[0m 7.0     \u001b[0m | \u001b[0m 595.6   \u001b[0m |\n"
          ],
          "name": "stdout"
        },
        {
          "output_type": "stream",
          "text": [
            "[Parallel(n_jobs=1)]: Using backend SequentialBackend with 1 concurrent workers.\n",
            "[Parallel(n_jobs=1)]: Done   5 out of   5 | elapsed:   20.6s finished\n"
          ],
          "name": "stderr"
        },
        {
          "output_type": "stream",
          "text": [
            "| \u001b[0m 47      \u001b[0m | \u001b[0m 0.5965  \u001b[0m | \u001b[0m 5.0     \u001b[0m | \u001b[0m 0.5     \u001b[0m | \u001b[0m 1.0     \u001b[0m | \u001b[0m 3.91    \u001b[0m | \u001b[0m 550.0   \u001b[0m |\n"
          ],
          "name": "stdout"
        },
        {
          "output_type": "stream",
          "text": [
            "[Parallel(n_jobs=1)]: Using backend SequentialBackend with 1 concurrent workers.\n",
            "[Parallel(n_jobs=1)]: Done   5 out of   5 | elapsed:   26.2s finished\n"
          ],
          "name": "stderr"
        },
        {
          "output_type": "stream",
          "text": [
            "| \u001b[0m 48      \u001b[0m | \u001b[0m 0.6041  \u001b[0m | \u001b[0m 4.097   \u001b[0m | \u001b[0m 0.5     \u001b[0m | \u001b[0m 0.001   \u001b[0m | \u001b[0m 4.667   \u001b[0m | \u001b[0m 617.8   \u001b[0m |\n"
          ],
          "name": "stdout"
        },
        {
          "output_type": "stream",
          "text": [
            "[Parallel(n_jobs=1)]: Using backend SequentialBackend with 1 concurrent workers.\n",
            "[Parallel(n_jobs=1)]: Done   5 out of   5 | elapsed:   58.2s finished\n"
          ],
          "name": "stderr"
        },
        {
          "output_type": "stream",
          "text": [
            "| \u001b[0m 49      \u001b[0m | \u001b[0m 0.6054  \u001b[0m | \u001b[0m 5.0     \u001b[0m | \u001b[0m 1.0     \u001b[0m | \u001b[0m 0.001   \u001b[0m | \u001b[0m 1.0     \u001b[0m | \u001b[0m 627.8   \u001b[0m |\n"
          ],
          "name": "stdout"
        },
        {
          "output_type": "stream",
          "text": [
            "[Parallel(n_jobs=1)]: Using backend SequentialBackend with 1 concurrent workers.\n",
            "[Parallel(n_jobs=1)]: Done   5 out of   5 | elapsed:   53.0s finished\n"
          ],
          "name": "stderr"
        },
        {
          "output_type": "stream",
          "text": [
            "| \u001b[0m 50      \u001b[0m | \u001b[0m 0.6054  \u001b[0m | \u001b[0m 5.0     \u001b[0m | \u001b[0m 1.0     \u001b[0m | \u001b[0m 0.001   \u001b[0m | \u001b[0m 7.0     \u001b[0m | \u001b[0m 577.3   \u001b[0m |\n"
          ],
          "name": "stdout"
        },
        {
          "output_type": "stream",
          "text": [
            "[Parallel(n_jobs=1)]: Using backend SequentialBackend with 1 concurrent workers.\n",
            "[Parallel(n_jobs=1)]: Done   5 out of   5 | elapsed:   59.8s finished\n"
          ],
          "name": "stderr"
        },
        {
          "output_type": "stream",
          "text": [
            "| \u001b[0m 51      \u001b[0m | \u001b[0m 0.6049  \u001b[0m | \u001b[0m 5.0     \u001b[0m | \u001b[0m 1.0     \u001b[0m | \u001b[0m 0.001   \u001b[0m | \u001b[0m 4.352   \u001b[0m | \u001b[0m 649.1   \u001b[0m |\n"
          ],
          "name": "stdout"
        },
        {
          "output_type": "stream",
          "text": [
            "[Parallel(n_jobs=1)]: Using backend SequentialBackend with 1 concurrent workers.\n",
            "[Parallel(n_jobs=1)]: Done   5 out of   5 | elapsed:   32.0s finished\n"
          ],
          "name": "stderr"
        },
        {
          "output_type": "stream",
          "text": [
            "| \u001b[0m 52      \u001b[0m | \u001b[0m 0.6047  \u001b[0m | \u001b[0m 5.0     \u001b[0m | \u001b[0m 0.5     \u001b[0m | \u001b[0m 0.001   \u001b[0m | \u001b[0m 2.316   \u001b[0m | \u001b[0m 625.3   \u001b[0m |\n"
          ],
          "name": "stdout"
        },
        {
          "output_type": "stream",
          "text": [
            "[Parallel(n_jobs=1)]: Using backend SequentialBackend with 1 concurrent workers.\n",
            "[Parallel(n_jobs=1)]: Done   5 out of   5 | elapsed:   44.7s finished\n"
          ],
          "name": "stderr"
        },
        {
          "output_type": "stream",
          "text": [
            "| \u001b[0m 53      \u001b[0m | \u001b[0m 0.6051  \u001b[0m | \u001b[0m 4.92    \u001b[0m | \u001b[0m 1.0     \u001b[0m | \u001b[0m 0.001   \u001b[0m | \u001b[0m 4.222   \u001b[0m | \u001b[0m 582.9   \u001b[0m |\n"
          ],
          "name": "stdout"
        },
        {
          "output_type": "stream",
          "text": [
            "[Parallel(n_jobs=1)]: Using backend SequentialBackend with 1 concurrent workers.\n",
            "[Parallel(n_jobs=1)]: Done   5 out of   5 | elapsed:   26.5s finished\n"
          ],
          "name": "stderr"
        },
        {
          "output_type": "stream",
          "text": [
            "| \u001b[0m 54      \u001b[0m | \u001b[0m 0.6044  \u001b[0m | \u001b[0m 4.849   \u001b[0m | \u001b[0m 0.5848  \u001b[0m | \u001b[0m 0.0394  \u001b[0m | \u001b[0m 4.317   \u001b[0m | \u001b[0m 560.0   \u001b[0m |\n"
          ],
          "name": "stdout"
        },
        {
          "output_type": "stream",
          "text": [
            "[Parallel(n_jobs=1)]: Using backend SequentialBackend with 1 concurrent workers.\n",
            "[Parallel(n_jobs=1)]: Done   5 out of   5 | elapsed:   32.9s finished\n"
          ],
          "name": "stderr"
        },
        {
          "output_type": "stream",
          "text": [
            "| \u001b[0m 55      \u001b[0m | \u001b[0m 0.6046  \u001b[0m | \u001b[0m 4.192   \u001b[0m | \u001b[0m 0.6838  \u001b[0m | \u001b[0m 0.06154 \u001b[0m | \u001b[0m 4.439   \u001b[0m | \u001b[0m 600.1   \u001b[0m |\n"
          ],
          "name": "stdout"
        },
        {
          "output_type": "stream",
          "text": [
            "[Parallel(n_jobs=1)]: Using backend SequentialBackend with 1 concurrent workers.\n",
            "[Parallel(n_jobs=1)]: Done   5 out of   5 | elapsed:   40.3s finished\n"
          ],
          "name": "stderr"
        },
        {
          "output_type": "stream",
          "text": [
            "| \u001b[0m 56      \u001b[0m | \u001b[0m 0.6039  \u001b[0m | \u001b[0m 4.952   \u001b[0m | \u001b[0m 0.7966  \u001b[0m | \u001b[0m 0.006261\u001b[0m | \u001b[0m 2.744   \u001b[0m | \u001b[0m 637.4   \u001b[0m |\n"
          ],
          "name": "stdout"
        },
        {
          "output_type": "stream",
          "text": [
            "[Parallel(n_jobs=1)]: Using backend SequentialBackend with 1 concurrent workers.\n",
            "[Parallel(n_jobs=1)]: Done   5 out of   5 | elapsed:   40.9s finished\n"
          ],
          "name": "stderr"
        },
        {
          "output_type": "stream",
          "text": [
            "| \u001b[0m 57      \u001b[0m | \u001b[0m 0.5967  \u001b[0m | \u001b[0m 5.0     \u001b[0m | \u001b[0m 1.0     \u001b[0m | \u001b[0m 1.0     \u001b[0m | \u001b[0m 2.799   \u001b[0m | \u001b[0m 648.2   \u001b[0m |\n"
          ],
          "name": "stdout"
        },
        {
          "output_type": "stream",
          "text": [
            "[Parallel(n_jobs=1)]: Using backend SequentialBackend with 1 concurrent workers.\n",
            "[Parallel(n_jobs=1)]: Done   5 out of   5 | elapsed:   25.4s finished\n"
          ],
          "name": "stderr"
        },
        {
          "output_type": "stream",
          "text": [
            "| \u001b[0m 58      \u001b[0m | \u001b[0m 0.5967  \u001b[0m | \u001b[0m 4.04    \u001b[0m | \u001b[0m 0.6081  \u001b[0m | \u001b[0m 0.953   \u001b[0m | \u001b[0m 6.559   \u001b[0m | \u001b[0m 599.9   \u001b[0m |\n"
          ],
          "name": "stdout"
        },
        {
          "output_type": "stream",
          "text": [
            "[Parallel(n_jobs=1)]: Using backend SequentialBackend with 1 concurrent workers.\n",
            "[Parallel(n_jobs=1)]: Done   5 out of   5 | elapsed:   20.7s finished\n"
          ],
          "name": "stderr"
        },
        {
          "output_type": "stream",
          "text": [
            "| \u001b[0m 59      \u001b[0m | \u001b[0m 0.6007  \u001b[0m | \u001b[0m 3.936   \u001b[0m | \u001b[0m 0.5122  \u001b[0m | \u001b[0m 0.06401 \u001b[0m | \u001b[0m 5.271   \u001b[0m | \u001b[0m 612.4   \u001b[0m |\n"
          ],
          "name": "stdout"
        },
        {
          "output_type": "stream",
          "text": [
            "[Parallel(n_jobs=1)]: Using backend SequentialBackend with 1 concurrent workers.\n"
          ],
          "name": "stderr"
        },
        {
          "output_type": "stream",
          "text": [
            "| \u001b[0m 60      \u001b[0m | \u001b[0m 0.6009  \u001b[0m | \u001b[0m 3.406   \u001b[0m | \u001b[0m 0.5298  \u001b[0m | \u001b[0m 0.246   \u001b[0m | \u001b[0m 1.098   \u001b[0m | \u001b[0m 603.3   \u001b[0m |\n",
            "=====================================================================================\n"
          ],
          "name": "stdout"
        },
        {
          "output_type": "stream",
          "text": [
            "[Parallel(n_jobs=1)]: Done   5 out of   5 | elapsed:   21.1s finished\n"
          ],
          "name": "stderr"
        }
      ]
    },
    {
      "cell_type": "code",
      "metadata": {
        "colab_type": "code",
        "id": "b-qFt4FxUFgY",
        "colab": {
          "base_uri": "https://localhost:8080/",
          "height": 119
        },
        "outputId": "3497fa97-b7ca-4eba-a476-efbfccea2a7d"
      },
      "source": [
        "rf_bo.max"
      ],
      "execution_count": 13,
      "outputs": [
        {
          "output_type": "execute_result",
          "data": {
            "text/plain": [
              "{'params': {'max_depth': 5.0,\n",
              "  'max_features': 0.5,\n",
              "  'min_impurity_decrease': 0.001,\n",
              "  'min_samples_leaf': 1.0,\n",
              "  'n_estimators': 605.153190194469},\n",
              " 'target': 0.6060533028225061}"
            ]
          },
          "metadata": {
            "tags": []
          },
          "execution_count": 13
        }
      ]
    },
    {
      "cell_type": "code",
      "metadata": {
        "colab_type": "code",
        "outputId": "049b47bf-e588-405b-b006-eef17a3ba49b",
        "id": "qQS4l00YUFgf",
        "colab": {
          "base_uri": "https://localhost:8080/",
          "height": 85
        }
      },
      "source": [
        "ids_test=test.ID\n",
        "rf_label= RandomForestRegressor(**{'max_depth': 5,'max_features': 0.5,'min_impurity_decrease': 0.001,'min_samples_leaf': 1,'n_estimators': 605},random_state= random_seed,oob_score= True)\n",
        "rf_label.fit(train,targets)\n",
        "print('oob_score: ',rf_label.oob_score_)\n",
        "cv_score=cross_val_score(rf_label,train,targets,scoring='r2',cv= cv,verbose=1,n_jobs=1)\n",
        "print(cv_score.mean(),' +/- ',cv_score.std())\n",
        "subm = pd.DataFrame()\n",
        "subm['ID'] = ids_test\n",
        "subm['y'] = rf_label.predict(test)\n",
        "subm.to_csv('rf_5folds_meanenc.csv', index=False)"
      ],
      "execution_count": 21,
      "outputs": [
        {
          "output_type": "stream",
          "text": [
            "oob_score:  0.6059308454243664\n"
          ],
          "name": "stdout"
        },
        {
          "output_type": "stream",
          "text": [
            "[Parallel(n_jobs=1)]: Using backend SequentialBackend with 1 concurrent workers.\n"
          ],
          "name": "stderr"
        },
        {
          "output_type": "stream",
          "text": [
            "0.6056875307382426  +/-  0.022821727761309956\n"
          ],
          "name": "stdout"
        },
        {
          "output_type": "stream",
          "text": [
            "[Parallel(n_jobs=1)]: Done  15 out of  15 | elapsed:  1.7min finished\n"
          ],
          "name": "stderr"
        }
      ]
    },
    {
      "cell_type": "markdown",
      "metadata": {
        "colab_type": "text",
        "id": "4PeuE0XMUFgj"
      },
      "source": [
        "LB(0.54846,0.55850),CV:.6056\n"
      ]
    },
    {
      "cell_type": "markdown",
      "metadata": {
        "colab_type": "text",
        "id": "4fXUU7YLUFgl"
      },
      "source": [
        "**XGBoost Bayesian Tuning**"
      ]
    },
    {
      "cell_type": "code",
      "metadata": {
        "colab_type": "code",
        "id": "K_QVKnygUFgm",
        "colab": {}
      },
      "source": [
        "def xgb_evaluate(n_estimators,max_depth,subsample,colsample_bytree,gamma,reg_alpha,min_child_weight):\n",
        "  params={\n",
        "      'n_estimators':int(n_estimators),\n",
        "          'max_depth':int(max_depth),\n",
        "          'min_child_weight':int(min_child_weight),\n",
        "          'gamma':gamma,\n",
        "          'subsample':subsample,\n",
        "          'colsample_bytree':colsample_bytree,\n",
        "          'reg_alpha':reg_alpha\n",
        "          }\n",
        "  xgb_label= xgb.XGBRegressor(**params,silent= True,random_state= random_seed,learning_rate= .05)\n",
        "  cv_score=cross_val_score(xgb_label,train,y_train,scoring='r2',cv= cv3,verbose=1,n_jobs=1)\n",
        "  return cv_score.mean()"
      ],
      "execution_count": 0,
      "outputs": []
    },
    {
      "cell_type": "code",
      "metadata": {
        "colab_type": "code",
        "id": "FuEj2VpEUFgr",
        "colab": {
          "base_uri": "https://localhost:8080/",
          "height": 1000
        },
        "outputId": "71b0e1f1-eaf8-42f2-a25a-f632c8fd5032"
      },
      "source": [
        "xgb_bo= BayesianOptimization(xgb_evaluate,{\n",
        "               'subsample': (.5,1), \n",
        "               'colsample_bytree': (.5,1),\n",
        "               'min_child_weight':(1,10),\n",
        "               'max_depth': (1,8), \n",
        "               'n_estimators':(180,230),\n",
        "             'gamma':(.001,100),\n",
        "             'reg_alpha':(.001,100)   \n",
        "          })\n",
        "xgb_bo.maximize(init_points=10, n_iter=50, acq='ei')"
      ],
      "execution_count": 15,
      "outputs": [
        {
          "output_type": "stream",
          "text": [
            "[Parallel(n_jobs=1)]: Using backend SequentialBackend with 1 concurrent workers.\n"
          ],
          "name": "stderr"
        },
        {
          "output_type": "stream",
          "text": [
            "|   iter    |  target   | colsam... |   gamma   | max_depth | min_ch... | n_esti... | reg_alpha | subsample |\n",
            "-------------------------------------------------------------------------------------------------------------\n"
          ],
          "name": "stdout"
        },
        {
          "output_type": "stream",
          "text": [
            "[Parallel(n_jobs=1)]: Done   5 out of   5 | elapsed:   15.5s finished\n",
            "[Parallel(n_jobs=1)]: Using backend SequentialBackend with 1 concurrent workers.\n"
          ],
          "name": "stderr"
        },
        {
          "output_type": "stream",
          "text": [
            "| \u001b[0m 1       \u001b[0m | \u001b[0m 0.6046  \u001b[0m | \u001b[0m 0.5662  \u001b[0m | \u001b[0m 52.69   \u001b[0m | \u001b[0m 5.867   \u001b[0m | \u001b[0m 9.282   \u001b[0m | \u001b[0m 184.7   \u001b[0m | \u001b[0m 82.22   \u001b[0m | \u001b[0m 0.7814  \u001b[0m |\n"
          ],
          "name": "stdout"
        },
        {
          "output_type": "stream",
          "text": [
            "[Parallel(n_jobs=1)]: Done   5 out of   5 | elapsed:   25.2s finished\n",
            "[Parallel(n_jobs=1)]: Using backend SequentialBackend with 1 concurrent workers.\n"
          ],
          "name": "stderr"
        },
        {
          "output_type": "stream",
          "text": [
            "| \u001b[0m 2       \u001b[0m | \u001b[0m 0.6     \u001b[0m | \u001b[0m 0.6887  \u001b[0m | \u001b[0m 55.18   \u001b[0m | \u001b[0m 7.549   \u001b[0m | \u001b[0m 3.163   \u001b[0m | \u001b[0m 188.5   \u001b[0m | \u001b[0m 68.69   \u001b[0m | \u001b[0m 0.7124  \u001b[0m |\n"
          ],
          "name": "stdout"
        },
        {
          "output_type": "stream",
          "text": [
            "[Parallel(n_jobs=1)]: Done   5 out of   5 | elapsed:   20.1s finished\n",
            "[Parallel(n_jobs=1)]: Using backend SequentialBackend with 1 concurrent workers.\n"
          ],
          "name": "stderr"
        },
        {
          "output_type": "stream",
          "text": [
            "| \u001b[95m 3       \u001b[0m | \u001b[95m 0.6059  \u001b[0m | \u001b[95m 0.9435  \u001b[0m | \u001b[95m 16.39   \u001b[0m | \u001b[95m 3.122   \u001b[0m | \u001b[95m 2.225   \u001b[0m | \u001b[95m 195.5   \u001b[0m | \u001b[95m 20.63   \u001b[0m | \u001b[95m 0.6013  \u001b[0m |\n"
          ],
          "name": "stdout"
        },
        {
          "output_type": "stream",
          "text": [
            "[Parallel(n_jobs=1)]: Done   5 out of   5 | elapsed:    9.6s finished\n",
            "[Parallel(n_jobs=1)]: Using backend SequentialBackend with 1 concurrent workers.\n"
          ],
          "name": "stderr"
        },
        {
          "output_type": "stream",
          "text": [
            "| \u001b[95m 4       \u001b[0m | \u001b[95m 0.6069  \u001b[0m | \u001b[95m 0.515   \u001b[0m | \u001b[95m 23.13   \u001b[0m | \u001b[95m 2.29    \u001b[0m | \u001b[95m 7.699   \u001b[0m | \u001b[95m 184.9   \u001b[0m | \u001b[95m 60.24   \u001b[0m | \u001b[95m 0.5523  \u001b[0m |\n"
          ],
          "name": "stdout"
        },
        {
          "output_type": "stream",
          "text": [
            "[Parallel(n_jobs=1)]: Done   5 out of   5 | elapsed:    8.8s finished\n",
            "[Parallel(n_jobs=1)]: Using backend SequentialBackend with 1 concurrent workers.\n"
          ],
          "name": "stderr"
        },
        {
          "output_type": "stream",
          "text": [
            "| \u001b[0m 5       \u001b[0m | \u001b[0m 0.6066  \u001b[0m | \u001b[0m 0.6506  \u001b[0m | \u001b[0m 93.84   \u001b[0m | \u001b[0m 1.791   \u001b[0m | \u001b[0m 4.822   \u001b[0m | \u001b[0m 223.2   \u001b[0m | \u001b[0m 81.86   \u001b[0m | \u001b[0m 0.5456  \u001b[0m |\n"
          ],
          "name": "stdout"
        },
        {
          "output_type": "stream",
          "text": [
            "[Parallel(n_jobs=1)]: Done   5 out of   5 | elapsed:   20.6s finished\n",
            "[Parallel(n_jobs=1)]: Using backend SequentialBackend with 1 concurrent workers.\n"
          ],
          "name": "stderr"
        },
        {
          "output_type": "stream",
          "text": [
            "| \u001b[0m 6       \u001b[0m | \u001b[0m 0.6017  \u001b[0m | \u001b[0m 0.7706  \u001b[0m | \u001b[0m 82.71   \u001b[0m | \u001b[0m 5.48    \u001b[0m | \u001b[0m 3.06    \u001b[0m | \u001b[0m 213.7   \u001b[0m | \u001b[0m 46.89   \u001b[0m | \u001b[0m 0.931   \u001b[0m |\n"
          ],
          "name": "stdout"
        },
        {
          "output_type": "stream",
          "text": [
            "[Parallel(n_jobs=1)]: Done   5 out of   5 | elapsed:   16.6s finished\n",
            "[Parallel(n_jobs=1)]: Using backend SequentialBackend with 1 concurrent workers.\n"
          ],
          "name": "stderr"
        },
        {
          "output_type": "stream",
          "text": [
            "| \u001b[0m 7       \u001b[0m | \u001b[0m 0.603   \u001b[0m | \u001b[0m 0.5437  \u001b[0m | \u001b[0m 50.25   \u001b[0m | \u001b[0m 6.433   \u001b[0m | \u001b[0m 3.308   \u001b[0m | \u001b[0m 204.4   \u001b[0m | \u001b[0m 86.99   \u001b[0m | \u001b[0m 0.9644  \u001b[0m |\n"
          ],
          "name": "stdout"
        },
        {
          "output_type": "stream",
          "text": [
            "[Parallel(n_jobs=1)]: Done   5 out of   5 | elapsed:   41.3s finished\n",
            "[Parallel(n_jobs=1)]: Using backend SequentialBackend with 1 concurrent workers.\n"
          ],
          "name": "stderr"
        },
        {
          "output_type": "stream",
          "text": [
            "| \u001b[0m 8       \u001b[0m | \u001b[0m 0.5887  \u001b[0m | \u001b[0m 0.9786  \u001b[0m | \u001b[0m 54.67   \u001b[0m | \u001b[0m 6.005   \u001b[0m | \u001b[0m 7.364   \u001b[0m | \u001b[0m 227.1   \u001b[0m | \u001b[0m 5.058   \u001b[0m | \u001b[0m 0.6258  \u001b[0m |\n"
          ],
          "name": "stdout"
        },
        {
          "output_type": "stream",
          "text": [
            "[Parallel(n_jobs=1)]: Done   5 out of   5 | elapsed:   25.3s finished\n",
            "[Parallel(n_jobs=1)]: Using backend SequentialBackend with 1 concurrent workers.\n"
          ],
          "name": "stderr"
        },
        {
          "output_type": "stream",
          "text": [
            "| \u001b[0m 9       \u001b[0m | \u001b[0m 0.5983  \u001b[0m | \u001b[0m 0.9585  \u001b[0m | \u001b[0m 52.78   \u001b[0m | \u001b[0m 6.236   \u001b[0m | \u001b[0m 9.755   \u001b[0m | \u001b[0m 207.1   \u001b[0m | \u001b[0m 15.17   \u001b[0m | \u001b[0m 0.9968  \u001b[0m |\n"
          ],
          "name": "stdout"
        },
        {
          "output_type": "stream",
          "text": [
            "[Parallel(n_jobs=1)]: Done   5 out of   5 | elapsed:    6.1s finished\n"
          ],
          "name": "stderr"
        },
        {
          "output_type": "stream",
          "text": [
            "| \u001b[0m 10      \u001b[0m | \u001b[0m 0.6066  \u001b[0m | \u001b[0m 0.5097  \u001b[0m | \u001b[0m 33.49   \u001b[0m | \u001b[0m 1.546   \u001b[0m | \u001b[0m 3.087   \u001b[0m | \u001b[0m 192.9   \u001b[0m | \u001b[0m 6.906   \u001b[0m | \u001b[0m 0.9042  \u001b[0m |\n"
          ],
          "name": "stdout"
        },
        {
          "output_type": "stream",
          "text": [
            "[Parallel(n_jobs=1)]: Using backend SequentialBackend with 1 concurrent workers.\n",
            "[Parallel(n_jobs=1)]: Done   5 out of   5 | elapsed:    8.6s finished\n"
          ],
          "name": "stderr"
        },
        {
          "output_type": "stream",
          "text": [
            "| \u001b[95m 11      \u001b[0m | \u001b[95m 0.608   \u001b[0m | \u001b[95m 0.9038  \u001b[0m | \u001b[95m 99.72   \u001b[0m | \u001b[95m 1.39    \u001b[0m | \u001b[95m 3.416   \u001b[0m | \u001b[95m 181.5   \u001b[0m | \u001b[95m 14.05   \u001b[0m | \u001b[95m 0.561   \u001b[0m |\n"
          ],
          "name": "stdout"
        },
        {
          "output_type": "stream",
          "text": [
            "[Parallel(n_jobs=1)]: Using backend SequentialBackend with 1 concurrent workers.\n",
            "[Parallel(n_jobs=1)]: Done   5 out of   5 | elapsed:    8.7s finished\n"
          ],
          "name": "stderr"
        },
        {
          "output_type": "stream",
          "text": [
            "| \u001b[0m 12      \u001b[0m | \u001b[0m 0.6059  \u001b[0m | \u001b[0m 0.7583  \u001b[0m | \u001b[0m 96.56   \u001b[0m | \u001b[0m 1.107   \u001b[0m | \u001b[0m 8.995   \u001b[0m | \u001b[0m 199.4   \u001b[0m | \u001b[0m 93.8    \u001b[0m | \u001b[0m 0.513   \u001b[0m |\n"
          ],
          "name": "stdout"
        },
        {
          "output_type": "stream",
          "text": [
            "[Parallel(n_jobs=1)]: Using backend SequentialBackend with 1 concurrent workers.\n",
            "[Parallel(n_jobs=1)]: Done   5 out of   5 | elapsed:    7.5s finished\n"
          ],
          "name": "stderr"
        },
        {
          "output_type": "stream",
          "text": [
            "| \u001b[0m 13      \u001b[0m | \u001b[0m 0.6076  \u001b[0m | \u001b[0m 0.8642  \u001b[0m | \u001b[0m 6.38    \u001b[0m | \u001b[0m 1.453   \u001b[0m | \u001b[0m 7.543   \u001b[0m | \u001b[0m 183.4   \u001b[0m | \u001b[0m 3.692   \u001b[0m | \u001b[0m 0.8132  \u001b[0m |\n"
          ],
          "name": "stdout"
        },
        {
          "output_type": "stream",
          "text": [
            "[Parallel(n_jobs=1)]: Using backend SequentialBackend with 1 concurrent workers.\n",
            "[Parallel(n_jobs=1)]: Done   5 out of   5 | elapsed:    6.9s finished\n"
          ],
          "name": "stderr"
        },
        {
          "output_type": "stream",
          "text": [
            "| \u001b[0m 14      \u001b[0m | \u001b[0m 0.6068  \u001b[0m | \u001b[0m 0.8423  \u001b[0m | \u001b[0m 42.19   \u001b[0m | \u001b[0m 1.066   \u001b[0m | \u001b[0m 1.427   \u001b[0m | \u001b[0m 180.5   \u001b[0m | \u001b[0m 24.02   \u001b[0m | \u001b[0m 0.9003  \u001b[0m |\n"
          ],
          "name": "stdout"
        },
        {
          "output_type": "stream",
          "text": [
            "[Parallel(n_jobs=1)]: Using backend SequentialBackend with 1 concurrent workers.\n",
            "[Parallel(n_jobs=1)]: Done   5 out of   5 | elapsed:    7.5s finished\n"
          ],
          "name": "stderr"
        },
        {
          "output_type": "stream",
          "text": [
            "| \u001b[0m 15      \u001b[0m | \u001b[0m 0.6049  \u001b[0m | \u001b[0m 0.5298  \u001b[0m | \u001b[0m 0.8529  \u001b[0m | \u001b[0m 1.268   \u001b[0m | \u001b[0m 9.915   \u001b[0m | \u001b[0m 207.6   \u001b[0m | \u001b[0m 97.39   \u001b[0m | \u001b[0m 0.5431  \u001b[0m |\n"
          ],
          "name": "stdout"
        },
        {
          "output_type": "stream",
          "text": [
            "[Parallel(n_jobs=1)]: Using backend SequentialBackend with 1 concurrent workers.\n",
            "[Parallel(n_jobs=1)]: Done   5 out of   5 | elapsed:    7.4s finished\n"
          ],
          "name": "stderr"
        },
        {
          "output_type": "stream",
          "text": [
            "| \u001b[0m 16      \u001b[0m | \u001b[0m 0.6075  \u001b[0m | \u001b[0m 0.5258  \u001b[0m | \u001b[0m 2.322   \u001b[0m | \u001b[0m 2.127   \u001b[0m | \u001b[0m 3.888   \u001b[0m | \u001b[0m 180.6   \u001b[0m | \u001b[0m 6.788   \u001b[0m | \u001b[0m 0.9866  \u001b[0m |\n"
          ],
          "name": "stdout"
        },
        {
          "output_type": "stream",
          "text": [
            "[Parallel(n_jobs=1)]: Using backend SequentialBackend with 1 concurrent workers.\n",
            "[Parallel(n_jobs=1)]: Done   5 out of   5 | elapsed:    6.9s finished\n"
          ],
          "name": "stderr"
        },
        {
          "output_type": "stream",
          "text": [
            "| \u001b[0m 17      \u001b[0m | \u001b[0m 0.6059  \u001b[0m | \u001b[0m 0.5177  \u001b[0m | \u001b[0m 51.58   \u001b[0m | \u001b[0m 1.221   \u001b[0m | \u001b[0m 9.942   \u001b[0m | \u001b[0m 214.0   \u001b[0m | \u001b[0m 74.77   \u001b[0m | \u001b[0m 0.7994  \u001b[0m |\n"
          ],
          "name": "stdout"
        },
        {
          "output_type": "stream",
          "text": [
            "[Parallel(n_jobs=1)]: Using backend SequentialBackend with 1 concurrent workers.\n",
            "[Parallel(n_jobs=1)]: Done   5 out of   5 | elapsed:    7.0s finished\n"
          ],
          "name": "stderr"
        },
        {
          "output_type": "stream",
          "text": [
            "| \u001b[0m 18      \u001b[0m | \u001b[0m 0.6072  \u001b[0m | \u001b[0m 0.7632  \u001b[0m | \u001b[0m 1.048   \u001b[0m | \u001b[0m 1.262   \u001b[0m | \u001b[0m 4.942   \u001b[0m | \u001b[0m 180.9   \u001b[0m | \u001b[0m 10.53   \u001b[0m | \u001b[0m 0.7749  \u001b[0m |\n"
          ],
          "name": "stdout"
        },
        {
          "output_type": "stream",
          "text": [
            "[Parallel(n_jobs=1)]: Using backend SequentialBackend with 1 concurrent workers.\n",
            "[Parallel(n_jobs=1)]: Done   5 out of   5 | elapsed:    6.5s finished\n"
          ],
          "name": "stderr"
        },
        {
          "output_type": "stream",
          "text": [
            "| \u001b[0m 19      \u001b[0m | \u001b[0m 0.6068  \u001b[0m | \u001b[0m 0.519   \u001b[0m | \u001b[0m 0.2915  \u001b[0m | \u001b[0m 1.224   \u001b[0m | \u001b[0m 7.897   \u001b[0m | \u001b[0m 181.1   \u001b[0m | \u001b[0m 40.42   \u001b[0m | \u001b[0m 0.5932  \u001b[0m |\n"
          ],
          "name": "stdout"
        },
        {
          "output_type": "stream",
          "text": [
            "[Parallel(n_jobs=1)]: Using backend SequentialBackend with 1 concurrent workers.\n",
            "[Parallel(n_jobs=1)]: Done   5 out of   5 | elapsed:    6.2s finished\n"
          ],
          "name": "stderr"
        },
        {
          "output_type": "stream",
          "text": [
            "| \u001b[0m 20      \u001b[0m | \u001b[0m 0.6063  \u001b[0m | \u001b[0m 0.573   \u001b[0m | \u001b[0m 97.93   \u001b[0m | \u001b[0m 1.369   \u001b[0m | \u001b[0m 9.831   \u001b[0m | \u001b[0m 182.8   \u001b[0m | \u001b[0m 29.62   \u001b[0m | \u001b[0m 0.7782  \u001b[0m |\n"
          ],
          "name": "stdout"
        },
        {
          "output_type": "stream",
          "text": [
            "[Parallel(n_jobs=1)]: Using backend SequentialBackend with 1 concurrent workers.\n",
            "[Parallel(n_jobs=1)]: Done   5 out of   5 | elapsed:    8.5s finished\n"
          ],
          "name": "stderr"
        },
        {
          "output_type": "stream",
          "text": [
            "| \u001b[0m 21      \u001b[0m | \u001b[0m 0.6075  \u001b[0m | \u001b[0m 0.8662  \u001b[0m | \u001b[0m 22.7    \u001b[0m | \u001b[0m 1.488   \u001b[0m | \u001b[0m 3.37    \u001b[0m | \u001b[0m 180.1   \u001b[0m | \u001b[0m 9.583   \u001b[0m | \u001b[0m 0.5554  \u001b[0m |\n"
          ],
          "name": "stdout"
        },
        {
          "output_type": "stream",
          "text": [
            "[Parallel(n_jobs=1)]: Using backend SequentialBackend with 1 concurrent workers.\n",
            "[Parallel(n_jobs=1)]: Done   5 out of   5 | elapsed:    7.1s finished\n"
          ],
          "name": "stderr"
        },
        {
          "output_type": "stream",
          "text": [
            "| \u001b[0m 22      \u001b[0m | \u001b[0m 0.6056  \u001b[0m | \u001b[0m 0.5171  \u001b[0m | \u001b[0m 94.09   \u001b[0m | \u001b[0m 1.048   \u001b[0m | \u001b[0m 4.042   \u001b[0m | \u001b[0m 222.3   \u001b[0m | \u001b[0m 98.09   \u001b[0m | \u001b[0m 0.8149  \u001b[0m |\n"
          ],
          "name": "stdout"
        },
        {
          "output_type": "stream",
          "text": [
            "[Parallel(n_jobs=1)]: Using backend SequentialBackend with 1 concurrent workers.\n",
            "[Parallel(n_jobs=1)]: Done   5 out of   5 | elapsed:    6.7s finished\n"
          ],
          "name": "stderr"
        },
        {
          "output_type": "stream",
          "text": [
            "| \u001b[0m 23      \u001b[0m | \u001b[0m 0.6073  \u001b[0m | \u001b[0m 0.7252  \u001b[0m | \u001b[0m 19.07   \u001b[0m | \u001b[0m 1.093   \u001b[0m | \u001b[0m 2.002   \u001b[0m | \u001b[0m 180.1   \u001b[0m | \u001b[0m 28.33   \u001b[0m | \u001b[0m 0.7802  \u001b[0m |\n"
          ],
          "name": "stdout"
        },
        {
          "output_type": "stream",
          "text": [
            "[Parallel(n_jobs=1)]: Using backend SequentialBackend with 1 concurrent workers.\n",
            "[Parallel(n_jobs=1)]: Done   5 out of   5 | elapsed:    7.4s finished\n"
          ],
          "name": "stderr"
        },
        {
          "output_type": "stream",
          "text": [
            "| \u001b[0m 24      \u001b[0m | \u001b[0m 0.6071  \u001b[0m | \u001b[0m 0.7244  \u001b[0m | \u001b[0m 99.02   \u001b[0m | \u001b[0m 1.03    \u001b[0m | \u001b[0m 1.891   \u001b[0m | \u001b[0m 185.5   \u001b[0m | \u001b[0m 44.13   \u001b[0m | \u001b[0m 0.7318  \u001b[0m |\n"
          ],
          "name": "stdout"
        },
        {
          "output_type": "stream",
          "text": [
            "[Parallel(n_jobs=1)]: Using backend SequentialBackend with 1 concurrent workers.\n",
            "[Parallel(n_jobs=1)]: Done   5 out of   5 | elapsed:    7.7s finished\n"
          ],
          "name": "stderr"
        },
        {
          "output_type": "stream",
          "text": [
            "| \u001b[0m 25      \u001b[0m | \u001b[0m 0.6073  \u001b[0m | \u001b[0m 0.9524  \u001b[0m | \u001b[0m 26.29   \u001b[0m | \u001b[0m 1.141   \u001b[0m | \u001b[0m 4.988   \u001b[0m | \u001b[0m 180.7   \u001b[0m | \u001b[0m 4.516   \u001b[0m | \u001b[0m 0.8408  \u001b[0m |\n"
          ],
          "name": "stdout"
        },
        {
          "output_type": "stream",
          "text": [
            "[Parallel(n_jobs=1)]: Using backend SequentialBackend with 1 concurrent workers.\n",
            "[Parallel(n_jobs=1)]: Done   5 out of   5 | elapsed:    7.3s finished\n"
          ],
          "name": "stderr"
        },
        {
          "output_type": "stream",
          "text": [
            "| \u001b[0m 26      \u001b[0m | \u001b[0m 0.6068  \u001b[0m | \u001b[0m 0.8816  \u001b[0m | \u001b[0m 4.699   \u001b[0m | \u001b[0m 1.388   \u001b[0m | \u001b[0m 1.022   \u001b[0m | \u001b[0m 181.7   \u001b[0m | \u001b[0m 13.18   \u001b[0m | \u001b[0m 0.8407  \u001b[0m |\n"
          ],
          "name": "stdout"
        },
        {
          "output_type": "stream",
          "text": [
            "[Parallel(n_jobs=1)]: Using backend SequentialBackend with 1 concurrent workers.\n",
            "[Parallel(n_jobs=1)]: Done   5 out of   5 | elapsed:    8.2s finished\n"
          ],
          "name": "stderr"
        },
        {
          "output_type": "stream",
          "text": [
            "| \u001b[0m 27      \u001b[0m | \u001b[0m 0.6076  \u001b[0m | \u001b[0m 0.8655  \u001b[0m | \u001b[0m 2.17    \u001b[0m | \u001b[0m 1.113   \u001b[0m | \u001b[0m 6.966   \u001b[0m | \u001b[0m 181.2   \u001b[0m | \u001b[0m 11.78   \u001b[0m | \u001b[0m 0.6194  \u001b[0m |\n"
          ],
          "name": "stdout"
        },
        {
          "output_type": "stream",
          "text": [
            "[Parallel(n_jobs=1)]: Using backend SequentialBackend with 1 concurrent workers.\n",
            "[Parallel(n_jobs=1)]: Done   5 out of   5 | elapsed:    7.2s finished\n"
          ],
          "name": "stderr"
        },
        {
          "output_type": "stream",
          "text": [
            "| \u001b[0m 28      \u001b[0m | \u001b[0m 0.6074  \u001b[0m | \u001b[0m 0.8399  \u001b[0m | \u001b[0m 99.66   \u001b[0m | \u001b[0m 1.531   \u001b[0m | \u001b[0m 3.448   \u001b[0m | \u001b[0m 181.7   \u001b[0m | \u001b[0m 1.48    \u001b[0m | \u001b[0m 0.7912  \u001b[0m |\n"
          ],
          "name": "stdout"
        },
        {
          "output_type": "stream",
          "text": [
            "[Parallel(n_jobs=1)]: Using backend SequentialBackend with 1 concurrent workers.\n",
            "[Parallel(n_jobs=1)]: Done   5 out of   5 | elapsed:    6.5s finished\n"
          ],
          "name": "stderr"
        },
        {
          "output_type": "stream",
          "text": [
            "| \u001b[0m 29      \u001b[0m | \u001b[0m 0.6066  \u001b[0m | \u001b[0m 0.5713  \u001b[0m | \u001b[0m 28.95   \u001b[0m | \u001b[0m 1.076   \u001b[0m | \u001b[0m 9.345   \u001b[0m | \u001b[0m 181.0   \u001b[0m | \u001b[0m 40.04   \u001b[0m | \u001b[0m 0.6583  \u001b[0m |\n"
          ],
          "name": "stdout"
        },
        {
          "output_type": "stream",
          "text": [
            "[Parallel(n_jobs=1)]: Using backend SequentialBackend with 1 concurrent workers.\n",
            "[Parallel(n_jobs=1)]: Done   5 out of   5 | elapsed:    6.8s finished\n"
          ],
          "name": "stderr"
        },
        {
          "output_type": "stream",
          "text": [
            "| \u001b[0m 30      \u001b[0m | \u001b[0m 0.6071  \u001b[0m | \u001b[0m 0.6884  \u001b[0m | \u001b[0m 98.73   \u001b[0m | \u001b[0m 1.412   \u001b[0m | \u001b[0m 1.567   \u001b[0m | \u001b[0m 180.7   \u001b[0m | \u001b[0m 16.23   \u001b[0m | \u001b[0m 0.7429  \u001b[0m |\n"
          ],
          "name": "stdout"
        },
        {
          "output_type": "stream",
          "text": [
            "[Parallel(n_jobs=1)]: Using backend SequentialBackend with 1 concurrent workers.\n",
            "[Parallel(n_jobs=1)]: Done   5 out of   5 | elapsed:    8.7s finished\n"
          ],
          "name": "stderr"
        },
        {
          "output_type": "stream",
          "text": [
            "| \u001b[0m 31      \u001b[0m | \u001b[0m 0.6067  \u001b[0m | \u001b[0m 0.9243  \u001b[0m | \u001b[0m 62.92   \u001b[0m | \u001b[0m 1.013   \u001b[0m | \u001b[0m 7.904   \u001b[0m | \u001b[0m 200.9   \u001b[0m | \u001b[0m 89.28   \u001b[0m | \u001b[0m 0.7481  \u001b[0m |\n"
          ],
          "name": "stdout"
        },
        {
          "output_type": "stream",
          "text": [
            "[Parallel(n_jobs=1)]: Using backend SequentialBackend with 1 concurrent workers.\n",
            "[Parallel(n_jobs=1)]: Done   5 out of   5 | elapsed:    6.8s finished\n"
          ],
          "name": "stderr"
        },
        {
          "output_type": "stream",
          "text": [
            "| \u001b[0m 32      \u001b[0m | \u001b[0m 0.6065  \u001b[0m | \u001b[0m 0.799   \u001b[0m | \u001b[0m 97.45   \u001b[0m | \u001b[0m 1.097   \u001b[0m | \u001b[0m 1.238   \u001b[0m | \u001b[0m 181.3   \u001b[0m | \u001b[0m 3.496   \u001b[0m | \u001b[0m 0.913   \u001b[0m |\n"
          ],
          "name": "stdout"
        },
        {
          "output_type": "stream",
          "text": [
            "[Parallel(n_jobs=1)]: Using backend SequentialBackend with 1 concurrent workers.\n",
            "[Parallel(n_jobs=1)]: Done   5 out of   5 | elapsed:    7.0s finished\n"
          ],
          "name": "stderr"
        },
        {
          "output_type": "stream",
          "text": [
            "| \u001b[0m 33      \u001b[0m | \u001b[0m 0.6071  \u001b[0m | \u001b[0m 0.8138  \u001b[0m | \u001b[0m 26.45   \u001b[0m | \u001b[0m 1.035   \u001b[0m | \u001b[0m 1.045   \u001b[0m | \u001b[0m 180.9   \u001b[0m | \u001b[0m 23.65   \u001b[0m | \u001b[0m 0.8328  \u001b[0m |\n"
          ],
          "name": "stdout"
        },
        {
          "output_type": "stream",
          "text": [
            "[Parallel(n_jobs=1)]: Using backend SequentialBackend with 1 concurrent workers.\n",
            "[Parallel(n_jobs=1)]: Done   5 out of   5 | elapsed:   10.0s finished\n"
          ],
          "name": "stderr"
        },
        {
          "output_type": "stream",
          "text": [
            "| \u001b[0m 34      \u001b[0m | \u001b[0m 0.607   \u001b[0m | \u001b[0m 0.5527  \u001b[0m | \u001b[0m 19.69   \u001b[0m | \u001b[0m 2.06    \u001b[0m | \u001b[0m 2.891   \u001b[0m | \u001b[0m 181.3   \u001b[0m | \u001b[0m 0.1469  \u001b[0m | \u001b[0m 0.5057  \u001b[0m |\n"
          ],
          "name": "stdout"
        },
        {
          "output_type": "stream",
          "text": [
            "[Parallel(n_jobs=1)]: Using backend SequentialBackend with 1 concurrent workers.\n",
            "[Parallel(n_jobs=1)]: Done   5 out of   5 | elapsed:    6.8s finished\n"
          ],
          "name": "stderr"
        },
        {
          "output_type": "stream",
          "text": [
            "| \u001b[0m 35      \u001b[0m | \u001b[0m 0.6074  \u001b[0m | \u001b[0m 0.6465  \u001b[0m | \u001b[0m 5.743   \u001b[0m | \u001b[0m 1.666   \u001b[0m | \u001b[0m 4.286   \u001b[0m | \u001b[0m 180.2   \u001b[0m | \u001b[0m 0.6132  \u001b[0m | \u001b[0m 0.68    \u001b[0m |\n"
          ],
          "name": "stdout"
        },
        {
          "output_type": "stream",
          "text": [
            "[Parallel(n_jobs=1)]: Using backend SequentialBackend with 1 concurrent workers.\n",
            "[Parallel(n_jobs=1)]: Done   5 out of   5 | elapsed:    8.0s finished\n"
          ],
          "name": "stderr"
        },
        {
          "output_type": "stream",
          "text": [
            "| \u001b[0m 36      \u001b[0m | \u001b[0m 0.6078  \u001b[0m | \u001b[0m 0.9892  \u001b[0m | \u001b[0m 2.963   \u001b[0m | \u001b[0m 1.03    \u001b[0m | \u001b[0m 5.869   \u001b[0m | \u001b[0m 181.0   \u001b[0m | \u001b[0m 10.31   \u001b[0m | \u001b[0m 0.808   \u001b[0m |\n"
          ],
          "name": "stdout"
        },
        {
          "output_type": "stream",
          "text": [
            "[Parallel(n_jobs=1)]: Using backend SequentialBackend with 1 concurrent workers.\n",
            "[Parallel(n_jobs=1)]: Done   5 out of   5 | elapsed:    6.7s finished\n"
          ],
          "name": "stderr"
        },
        {
          "output_type": "stream",
          "text": [
            "| \u001b[0m 37      \u001b[0m | \u001b[0m 0.6066  \u001b[0m | \u001b[0m 0.7578  \u001b[0m | \u001b[0m 0.3356  \u001b[0m | \u001b[0m 1.189   \u001b[0m | \u001b[0m 9.655   \u001b[0m | \u001b[0m 180.1   \u001b[0m | \u001b[0m 25.43   \u001b[0m | \u001b[0m 0.9303  \u001b[0m |\n"
          ],
          "name": "stdout"
        },
        {
          "output_type": "stream",
          "text": [
            "[Parallel(n_jobs=1)]: Using backend SequentialBackend with 1 concurrent workers.\n",
            "[Parallel(n_jobs=1)]: Done   5 out of   5 | elapsed:    6.5s finished\n"
          ],
          "name": "stderr"
        },
        {
          "output_type": "stream",
          "text": [
            "| \u001b[0m 38      \u001b[0m | \u001b[0m 0.6066  \u001b[0m | \u001b[0m 0.5054  \u001b[0m | \u001b[0m 62.5    \u001b[0m | \u001b[0m 1.211   \u001b[0m | \u001b[0m 8.979   \u001b[0m | \u001b[0m 180.1   \u001b[0m | \u001b[0m 15.48   \u001b[0m | \u001b[0m 0.5501  \u001b[0m |\n"
          ],
          "name": "stdout"
        },
        {
          "output_type": "stream",
          "text": [
            "[Parallel(n_jobs=1)]: Using backend SequentialBackend with 1 concurrent workers.\n",
            "[Parallel(n_jobs=1)]: Done   5 out of   5 | elapsed:    6.4s finished\n"
          ],
          "name": "stderr"
        },
        {
          "output_type": "stream",
          "text": [
            "| \u001b[0m 39      \u001b[0m | \u001b[0m 0.6072  \u001b[0m | \u001b[0m 0.6794  \u001b[0m | \u001b[0m 6.706   \u001b[0m | \u001b[0m 1.061   \u001b[0m | \u001b[0m 9.861   \u001b[0m | \u001b[0m 181.3   \u001b[0m | \u001b[0m 8.962   \u001b[0m | \u001b[0m 0.9046  \u001b[0m |\n"
          ],
          "name": "stdout"
        },
        {
          "output_type": "stream",
          "text": [
            "[Parallel(n_jobs=1)]: Using backend SequentialBackend with 1 concurrent workers.\n",
            "[Parallel(n_jobs=1)]: Done   5 out of   5 | elapsed:    9.0s finished\n"
          ],
          "name": "stderr"
        },
        {
          "output_type": "stream",
          "text": [
            "| \u001b[0m 40      \u001b[0m | \u001b[0m 0.6063  \u001b[0m | \u001b[0m 0.8077  \u001b[0m | \u001b[0m 47.96   \u001b[0m | \u001b[0m 1.047   \u001b[0m | \u001b[0m 1.093   \u001b[0m | \u001b[0m 200.7   \u001b[0m | \u001b[0m 89.99   \u001b[0m | \u001b[0m 0.5883  \u001b[0m |\n"
          ],
          "name": "stdout"
        },
        {
          "output_type": "stream",
          "text": [
            "[Parallel(n_jobs=1)]: Using backend SequentialBackend with 1 concurrent workers.\n",
            "[Parallel(n_jobs=1)]: Done   5 out of   5 | elapsed:    6.7s finished\n"
          ],
          "name": "stderr"
        },
        {
          "output_type": "stream",
          "text": [
            "| \u001b[0m 41      \u001b[0m | \u001b[0m 0.6061  \u001b[0m | \u001b[0m 0.7633  \u001b[0m | \u001b[0m 99.94   \u001b[0m | \u001b[0m 1.076   \u001b[0m | \u001b[0m 2.008   \u001b[0m | \u001b[0m 187.9   \u001b[0m | \u001b[0m 56.61   \u001b[0m | \u001b[0m 0.984   \u001b[0m |\n"
          ],
          "name": "stdout"
        },
        {
          "output_type": "stream",
          "text": [
            "[Parallel(n_jobs=1)]: Using backend SequentialBackend with 1 concurrent workers.\n",
            "[Parallel(n_jobs=1)]: Done   5 out of   5 | elapsed:    6.7s finished\n"
          ],
          "name": "stderr"
        },
        {
          "output_type": "stream",
          "text": [
            "| \u001b[0m 42      \u001b[0m | \u001b[0m 0.6067  \u001b[0m | \u001b[0m 0.5832  \u001b[0m | \u001b[0m 6.048   \u001b[0m | \u001b[0m 1.074   \u001b[0m | \u001b[0m 1.571   \u001b[0m | \u001b[0m 185.3   \u001b[0m | \u001b[0m 7.731   \u001b[0m | \u001b[0m 0.7379  \u001b[0m |\n"
          ],
          "name": "stdout"
        },
        {
          "output_type": "stream",
          "text": [
            "[Parallel(n_jobs=1)]: Using backend SequentialBackend with 1 concurrent workers.\n",
            "[Parallel(n_jobs=1)]: Done   5 out of   5 | elapsed:    6.6s finished\n"
          ],
          "name": "stderr"
        },
        {
          "output_type": "stream",
          "text": [
            "| \u001b[0m 43      \u001b[0m | \u001b[0m 0.6067  \u001b[0m | \u001b[0m 0.626   \u001b[0m | \u001b[0m 22.0    \u001b[0m | \u001b[0m 1.06    \u001b[0m | \u001b[0m 1.169   \u001b[0m | \u001b[0m 181.2   \u001b[0m | \u001b[0m 12.38   \u001b[0m | \u001b[0m 0.7667  \u001b[0m |\n"
          ],
          "name": "stdout"
        },
        {
          "output_type": "stream",
          "text": [
            "[Parallel(n_jobs=1)]: Using backend SequentialBackend with 1 concurrent workers.\n",
            "[Parallel(n_jobs=1)]: Done   5 out of   5 | elapsed:    7.6s finished\n"
          ],
          "name": "stderr"
        },
        {
          "output_type": "stream",
          "text": [
            "| \u001b[0m 44      \u001b[0m | \u001b[0m 0.6079  \u001b[0m | \u001b[0m 0.8278  \u001b[0m | \u001b[0m 3.706   \u001b[0m | \u001b[0m 1.385   \u001b[0m | \u001b[0m 9.658   \u001b[0m | \u001b[0m 180.8   \u001b[0m | \u001b[0m 0.2024  \u001b[0m | \u001b[0m 0.7597  \u001b[0m |\n"
          ],
          "name": "stdout"
        },
        {
          "output_type": "stream",
          "text": [
            "[Parallel(n_jobs=1)]: Using backend SequentialBackend with 1 concurrent workers.\n",
            "[Parallel(n_jobs=1)]: Done   5 out of   5 | elapsed:    6.4s finished\n"
          ],
          "name": "stderr"
        },
        {
          "output_type": "stream",
          "text": [
            "| \u001b[0m 45      \u001b[0m | \u001b[0m 0.6067  \u001b[0m | \u001b[0m 0.5467  \u001b[0m | \u001b[0m 53.4    \u001b[0m | \u001b[0m 1.02    \u001b[0m | \u001b[0m 1.752   \u001b[0m | \u001b[0m 180.1   \u001b[0m | \u001b[0m 11.16   \u001b[0m | \u001b[0m 0.6988  \u001b[0m |\n"
          ],
          "name": "stdout"
        },
        {
          "output_type": "stream",
          "text": [
            "[Parallel(n_jobs=1)]: Using backend SequentialBackend with 1 concurrent workers.\n",
            "[Parallel(n_jobs=1)]: Done   5 out of   5 | elapsed:    6.1s finished\n"
          ],
          "name": "stderr"
        },
        {
          "output_type": "stream",
          "text": [
            "| \u001b[0m 46      \u001b[0m | \u001b[0m 0.6063  \u001b[0m | \u001b[0m 0.6095  \u001b[0m | \u001b[0m 10.71   \u001b[0m | \u001b[0m 1.315   \u001b[0m | \u001b[0m 1.425   \u001b[0m | \u001b[0m 180.0   \u001b[0m | \u001b[0m 0.8726  \u001b[0m | \u001b[0m 0.8769  \u001b[0m |\n"
          ],
          "name": "stdout"
        },
        {
          "output_type": "stream",
          "text": [
            "[Parallel(n_jobs=1)]: Using backend SequentialBackend with 1 concurrent workers.\n",
            "[Parallel(n_jobs=1)]: Done   5 out of   5 | elapsed:    8.6s finished\n"
          ],
          "name": "stderr"
        },
        {
          "output_type": "stream",
          "text": [
            "| \u001b[0m 47      \u001b[0m | \u001b[0m 0.6072  \u001b[0m | \u001b[0m 0.7974  \u001b[0m | \u001b[0m 3.477   \u001b[0m | \u001b[0m 1.277   \u001b[0m | \u001b[0m 1.667   \u001b[0m | \u001b[0m 229.3   \u001b[0m | \u001b[0m 81.57   \u001b[0m | \u001b[0m 0.9098  \u001b[0m |\n"
          ],
          "name": "stdout"
        },
        {
          "output_type": "stream",
          "text": [
            "[Parallel(n_jobs=1)]: Using backend SequentialBackend with 1 concurrent workers.\n",
            "[Parallel(n_jobs=1)]: Done   5 out of   5 | elapsed:    9.4s finished\n"
          ],
          "name": "stderr"
        },
        {
          "output_type": "stream",
          "text": [
            "| \u001b[0m 48      \u001b[0m | \u001b[0m 0.6071  \u001b[0m | \u001b[0m 0.8451  \u001b[0m | \u001b[0m 0.8441  \u001b[0m | \u001b[0m 1.209   \u001b[0m | \u001b[0m 3.193   \u001b[0m | \u001b[0m 225.7   \u001b[0m | \u001b[0m 99.23   \u001b[0m | \u001b[0m 0.7831  \u001b[0m |\n"
          ],
          "name": "stdout"
        },
        {
          "output_type": "stream",
          "text": [
            "[Parallel(n_jobs=1)]: Using backend SequentialBackend with 1 concurrent workers.\n",
            "[Parallel(n_jobs=1)]: Done   5 out of   5 | elapsed:   10.2s finished\n"
          ],
          "name": "stderr"
        },
        {
          "output_type": "stream",
          "text": [
            "| \u001b[0m 49      \u001b[0m | \u001b[0m 0.6066  \u001b[0m | \u001b[0m 0.8026  \u001b[0m | \u001b[0m 30.13   \u001b[0m | \u001b[0m 1.325   \u001b[0m | \u001b[0m 9.634   \u001b[0m | \u001b[0m 224.5   \u001b[0m | \u001b[0m 95.26   \u001b[0m | \u001b[0m 0.5657  \u001b[0m |\n"
          ],
          "name": "stdout"
        },
        {
          "output_type": "stream",
          "text": [
            "[Parallel(n_jobs=1)]: Using backend SequentialBackend with 1 concurrent workers.\n",
            "[Parallel(n_jobs=1)]: Done   5 out of   5 | elapsed:    9.4s finished\n"
          ],
          "name": "stderr"
        },
        {
          "output_type": "stream",
          "text": [
            "| \u001b[0m 50      \u001b[0m | \u001b[0m 0.6076  \u001b[0m | \u001b[0m 0.7517  \u001b[0m | \u001b[0m 4.008   \u001b[0m | \u001b[0m 1.034   \u001b[0m | \u001b[0m 2.317   \u001b[0m | \u001b[0m 228.3   \u001b[0m | \u001b[0m 85.34   \u001b[0m | \u001b[0m 0.6672  \u001b[0m |\n"
          ],
          "name": "stdout"
        },
        {
          "output_type": "stream",
          "text": [
            "[Parallel(n_jobs=1)]: Using backend SequentialBackend with 1 concurrent workers.\n",
            "[Parallel(n_jobs=1)]: Done   5 out of   5 | elapsed:    7.4s finished\n"
          ],
          "name": "stderr"
        },
        {
          "output_type": "stream",
          "text": [
            "| \u001b[0m 51      \u001b[0m | \u001b[0m 0.6059  \u001b[0m | \u001b[0m 0.5151  \u001b[0m | \u001b[0m 16.63   \u001b[0m | \u001b[0m 1.17    \u001b[0m | \u001b[0m 2.069   \u001b[0m | \u001b[0m 225.5   \u001b[0m | \u001b[0m 95.56   \u001b[0m | \u001b[0m 0.7719  \u001b[0m |\n"
          ],
          "name": "stdout"
        },
        {
          "output_type": "stream",
          "text": [
            "[Parallel(n_jobs=1)]: Using backend SequentialBackend with 1 concurrent workers.\n",
            "[Parallel(n_jobs=1)]: Done   5 out of   5 | elapsed:    7.2s finished\n"
          ],
          "name": "stderr"
        },
        {
          "output_type": "stream",
          "text": [
            "| \u001b[0m 52      \u001b[0m | \u001b[0m 0.6074  \u001b[0m | \u001b[0m 0.8583  \u001b[0m | \u001b[0m 1.821   \u001b[0m | \u001b[0m 1.187   \u001b[0m | \u001b[0m 9.14    \u001b[0m | \u001b[0m 181.5   \u001b[0m | \u001b[0m 0.9646  \u001b[0m | \u001b[0m 0.8986  \u001b[0m |\n"
          ],
          "name": "stdout"
        },
        {
          "output_type": "stream",
          "text": [
            "[Parallel(n_jobs=1)]: Using backend SequentialBackend with 1 concurrent workers.\n",
            "[Parallel(n_jobs=1)]: Done   5 out of   5 | elapsed:    7.0s finished\n"
          ],
          "name": "stderr"
        },
        {
          "output_type": "stream",
          "text": [
            "| \u001b[0m 53      \u001b[0m | \u001b[0m 0.6071  \u001b[0m | \u001b[0m 0.8719  \u001b[0m | \u001b[0m 98.44   \u001b[0m | \u001b[0m 1.261   \u001b[0m | \u001b[0m 9.308   \u001b[0m | \u001b[0m 180.4   \u001b[0m | \u001b[0m 24.51   \u001b[0m | \u001b[0m 0.9311  \u001b[0m |\n"
          ],
          "name": "stdout"
        },
        {
          "output_type": "stream",
          "text": [
            "[Parallel(n_jobs=1)]: Using backend SequentialBackend with 1 concurrent workers.\n",
            "[Parallel(n_jobs=1)]: Done   5 out of   5 | elapsed:   10.3s finished\n"
          ],
          "name": "stderr"
        },
        {
          "output_type": "stream",
          "text": [
            "| \u001b[0m 54      \u001b[0m | \u001b[0m 0.6066  \u001b[0m | \u001b[0m 0.8026  \u001b[0m | \u001b[0m 46.49   \u001b[0m | \u001b[0m 1.179   \u001b[0m | \u001b[0m 9.792   \u001b[0m | \u001b[0m 227.9   \u001b[0m | \u001b[0m 97.91   \u001b[0m | \u001b[0m 0.5695  \u001b[0m |\n"
          ],
          "name": "stdout"
        },
        {
          "output_type": "stream",
          "text": [
            "[Parallel(n_jobs=1)]: Using backend SequentialBackend with 1 concurrent workers.\n",
            "[Parallel(n_jobs=1)]: Done   5 out of   5 | elapsed:    8.4s finished\n"
          ],
          "name": "stderr"
        },
        {
          "output_type": "stream",
          "text": [
            "| \u001b[0m 55      \u001b[0m | \u001b[0m 0.6059  \u001b[0m | \u001b[0m 0.5493  \u001b[0m | \u001b[0m 1.053   \u001b[0m | \u001b[0m 1.096   \u001b[0m | \u001b[0m 8.237   \u001b[0m | \u001b[0m 230.0   \u001b[0m | \u001b[0m 98.77   \u001b[0m | \u001b[0m 0.5912  \u001b[0m |\n"
          ],
          "name": "stdout"
        },
        {
          "output_type": "stream",
          "text": [
            "[Parallel(n_jobs=1)]: Using backend SequentialBackend with 1 concurrent workers.\n",
            "[Parallel(n_jobs=1)]: Done   5 out of   5 | elapsed:    7.9s finished\n"
          ],
          "name": "stderr"
        },
        {
          "output_type": "stream",
          "text": [
            "| \u001b[0m 56      \u001b[0m | \u001b[0m 0.6072  \u001b[0m | \u001b[0m 0.6088  \u001b[0m | \u001b[0m 5.057   \u001b[0m | \u001b[0m 1.056   \u001b[0m | \u001b[0m 2.454   \u001b[0m | \u001b[0m 200.0   \u001b[0m | \u001b[0m 45.33   \u001b[0m | \u001b[0m 0.5321  \u001b[0m |\n"
          ],
          "name": "stdout"
        },
        {
          "output_type": "stream",
          "text": [
            "[Parallel(n_jobs=1)]: Using backend SequentialBackend with 1 concurrent workers.\n",
            "[Parallel(n_jobs=1)]: Done   5 out of   5 | elapsed:   10.0s finished\n"
          ],
          "name": "stderr"
        },
        {
          "output_type": "stream",
          "text": [
            "| \u001b[0m 57      \u001b[0m | \u001b[0m 0.6076  \u001b[0m | \u001b[0m 0.9466  \u001b[0m | \u001b[0m 0.3838  \u001b[0m | \u001b[0m 1.001   \u001b[0m | \u001b[0m 7.255   \u001b[0m | \u001b[0m 204.7   \u001b[0m | \u001b[0m 57.83   \u001b[0m | \u001b[0m 0.5502  \u001b[0m |\n"
          ],
          "name": "stdout"
        },
        {
          "output_type": "stream",
          "text": [
            "[Parallel(n_jobs=1)]: Using backend SequentialBackend with 1 concurrent workers.\n",
            "[Parallel(n_jobs=1)]: Done   5 out of   5 | elapsed:    8.4s finished\n"
          ],
          "name": "stderr"
        },
        {
          "output_type": "stream",
          "text": [
            "| \u001b[0m 58      \u001b[0m | \u001b[0m 0.6079  \u001b[0m | \u001b[0m 0.7683  \u001b[0m | \u001b[0m 3.635   \u001b[0m | \u001b[0m 1.053   \u001b[0m | \u001b[0m 1.05    \u001b[0m | \u001b[0m 193.0   \u001b[0m | \u001b[0m 43.32   \u001b[0m | \u001b[0m 0.5613  \u001b[0m |\n"
          ],
          "name": "stdout"
        },
        {
          "output_type": "stream",
          "text": [
            "[Parallel(n_jobs=1)]: Using backend SequentialBackend with 1 concurrent workers.\n",
            "[Parallel(n_jobs=1)]: Done   5 out of   5 | elapsed:    9.1s finished\n"
          ],
          "name": "stderr"
        },
        {
          "output_type": "stream",
          "text": [
            "| \u001b[0m 59      \u001b[0m | \u001b[0m 0.608   \u001b[0m | \u001b[0m 0.9588  \u001b[0m | \u001b[0m 5.396   \u001b[0m | \u001b[0m 1.095   \u001b[0m | \u001b[0m 5.173   \u001b[0m | \u001b[0m 182.3   \u001b[0m | \u001b[0m 2.449   \u001b[0m | \u001b[0m 0.532   \u001b[0m |\n"
          ],
          "name": "stdout"
        },
        {
          "output_type": "stream",
          "text": [
            "[Parallel(n_jobs=1)]: Using backend SequentialBackend with 1 concurrent workers.\n"
          ],
          "name": "stderr"
        },
        {
          "output_type": "stream",
          "text": [
            "| \u001b[0m 60      \u001b[0m | \u001b[0m 0.608   \u001b[0m | \u001b[0m 0.9608  \u001b[0m | \u001b[0m 96.86   \u001b[0m | \u001b[0m 1.033   \u001b[0m | \u001b[0m 9.877   \u001b[0m | \u001b[0m 181.1   \u001b[0m | \u001b[0m 13.91   \u001b[0m | \u001b[0m 0.5168  \u001b[0m |\n",
            "=============================================================================================================\n"
          ],
          "name": "stdout"
        },
        {
          "output_type": "stream",
          "text": [
            "[Parallel(n_jobs=1)]: Done   5 out of   5 | elapsed:    9.1s finished\n"
          ],
          "name": "stderr"
        }
      ]
    },
    {
      "cell_type": "code",
      "metadata": {
        "colab_type": "code",
        "id": "qvPSk9udUFgv",
        "colab": {
          "base_uri": "https://localhost:8080/",
          "height": 153
        },
        "outputId": "398c76b5-42d2-483f-ce6a-5d945e6296d0"
      },
      "source": [
        "xgb_bo.max"
      ],
      "execution_count": 16,
      "outputs": [
        {
          "output_type": "execute_result",
          "data": {
            "text/plain": [
              "{'params': {'colsample_bytree': 0.9037809011527773,\n",
              "  'gamma': 99.71989153287436,\n",
              "  'max_depth': 1.3897314547237558,\n",
              "  'min_child_weight': 3.4161279924807255,\n",
              "  'n_estimators': 181.54045840649545,\n",
              "  'reg_alpha': 14.045841492319456,\n",
              "  'subsample': 0.5609960527163034},\n",
              " 'target': 0.6080095379748612}"
            ]
          },
          "metadata": {
            "tags": []
          },
          "execution_count": 16
        }
      ]
    },
    {
      "cell_type": "code",
      "metadata": {
        "colab_type": "code",
        "outputId": "8180a00d-3ca7-453a-cde6-596192247332",
        "id": "WdewNgC9UFgz",
        "colab": {
          "base_uri": "https://localhost:8080/",
          "height": 68
        }
      },
      "source": [
        "xgb_lab= xgb.XGBRegressor(**{'colsample_bytree': 0.9037809011527773,\n",
        "  'gamma': 99.71989153287436,\n",
        "  'max_depth': 1,\n",
        "  'min_child_weight': 3,\n",
        "  'n_estimators': 181,\n",
        "  'reg_alpha': 14.045841492319456,\n",
        "  'subsample': 0.5609960527163034},random_state= random_seed,silent=True)\n",
        "xgb_lab.fit(train,targets)\n",
        "cv_score=cross_val_score(xgb_lab,train,targets,scoring='r2',cv= cv,verbose=1,n_jobs=1)\n",
        "print(cv_score.mean(),' +/- ',cv_score.std())\n",
        "subm = pd.DataFrame()\n",
        "subm['ID'] = ids_test\n",
        "subm['y'] = xgb_lab.predict(test)\n",
        "subm.to_csv('xgb_meanenc.csv', index=False)"
      ],
      "execution_count": 22,
      "outputs": [
        {
          "output_type": "stream",
          "text": [
            "[Parallel(n_jobs=1)]: Using backend SequentialBackend with 1 concurrent workers.\n"
          ],
          "name": "stderr"
        },
        {
          "output_type": "stream",
          "text": [
            "0.6070954901435992  +/-  0.021917588798338678\n"
          ],
          "name": "stdout"
        },
        {
          "output_type": "stream",
          "text": [
            "[Parallel(n_jobs=1)]: Done  15 out of  15 | elapsed:   25.6s finished\n"
          ],
          "name": "stderr"
        }
      ]
    },
    {
      "cell_type": "markdown",
      "metadata": {
        "colab_type": "text",
        "id": "cwpX0gVTUFg3"
      },
      "source": [
        "LB(0.54578,0.55596),CV:.6070"
      ]
    },
    {
      "cell_type": "markdown",
      "metadata": {
        "colab_type": "text",
        "id": "WQOgzmtgUFg4"
      },
      "source": [
        "**ExtraTrees Bayesian Tuning**"
      ]
    },
    {
      "cell_type": "code",
      "metadata": {
        "colab_type": "code",
        "id": "mUTdfEBPUFg6",
        "colab": {}
      },
      "source": [
        "def et_evaluate(n_estimators,max_depth,min_samples_leaf,max_features,min_impurity_decrease):\n",
        "  params={\n",
        "      'n_estimators':int(n_estimators),\n",
        "          'max_depth':int(max_depth),\n",
        "          'min_samples_leaf':int(min_samples_leaf),\n",
        "          'min_impurity_decrease':min_impurity_decrease,\n",
        "          'max_features':max_features\n",
        "          }\n",
        "  et_label= ExtraTreesRegressor(**params,random_state= random_seed)\n",
        "  cv_score=cross_val_score(et_label,train,y_train,scoring='r2',cv= cv3,verbose=1,n_jobs=1)\n",
        "  return cv_score.mean()"
      ],
      "execution_count": 0,
      "outputs": []
    },
    {
      "cell_type": "code",
      "metadata": {
        "colab_type": "code",
        "id": "X3sbDhVgUFg_",
        "colab": {
          "base_uri": "https://localhost:8080/",
          "height": 1000
        },
        "outputId": "76af72ed-f2e8-4670-8479-18c0a4072ceb"
      },
      "source": [
        "et_bo= BayesianOptimization(et_evaluate,{'n_estimators':(550,650),\n",
        "          'max_depth':(1,5),\n",
        "          'min_samples_leaf':(1,7),\n",
        "          'min_impurity_decrease':(.001,1),\n",
        "          'max_features':(.5,1)\n",
        "          })\n",
        "et_bo.maximize(init_points=10, n_iter=50, acq='ei')"
      ],
      "execution_count": 18,
      "outputs": [
        {
          "output_type": "stream",
          "text": [
            "[Parallel(n_jobs=1)]: Using backend SequentialBackend with 1 concurrent workers.\n"
          ],
          "name": "stderr"
        },
        {
          "output_type": "stream",
          "text": [
            "|   iter    |  target   | max_depth | max_fe... | min_im... | min_sa... | n_esti... |\n",
            "-------------------------------------------------------------------------------------\n"
          ],
          "name": "stdout"
        },
        {
          "output_type": "stream",
          "text": [
            "[Parallel(n_jobs=1)]: Done   5 out of   5 | elapsed:   33.0s finished\n",
            "[Parallel(n_jobs=1)]: Using backend SequentialBackend with 1 concurrent workers.\n"
          ],
          "name": "stderr"
        },
        {
          "output_type": "stream",
          "text": [
            "| \u001b[0m 1       \u001b[0m | \u001b[0m 0.5976  \u001b[0m | \u001b[0m 4.368   \u001b[0m | \u001b[0m 0.7927  \u001b[0m | \u001b[0m 0.6947  \u001b[0m | \u001b[0m 5.324   \u001b[0m | \u001b[0m 565.9   \u001b[0m |\n"
          ],
          "name": "stdout"
        },
        {
          "output_type": "stream",
          "text": [
            "[Parallel(n_jobs=1)]: Done   5 out of   5 | elapsed:   33.6s finished\n",
            "[Parallel(n_jobs=1)]: Using backend SequentialBackend with 1 concurrent workers.\n"
          ],
          "name": "stderr"
        },
        {
          "output_type": "stream",
          "text": [
            "| \u001b[0m 2       \u001b[0m | \u001b[0m 0.5974  \u001b[0m | \u001b[0m 3.054   \u001b[0m | \u001b[0m 0.8543  \u001b[0m | \u001b[0m 0.1196  \u001b[0m | \u001b[0m 5.931   \u001b[0m | \u001b[0m 618.5   \u001b[0m |\n"
          ],
          "name": "stdout"
        },
        {
          "output_type": "stream",
          "text": [
            "[Parallel(n_jobs=1)]: Done   5 out of   5 | elapsed:   45.7s finished\n",
            "[Parallel(n_jobs=1)]: Using backend SequentialBackend with 1 concurrent workers.\n"
          ],
          "name": "stderr"
        },
        {
          "output_type": "stream",
          "text": [
            "| \u001b[95m 3       \u001b[0m | \u001b[95m 0.5998  \u001b[0m | \u001b[95m 4.382   \u001b[0m | \u001b[95m 0.9693  \u001b[0m | \u001b[95m 0.5367  \u001b[0m | \u001b[95m 6.943   \u001b[0m | \u001b[95m 635.6   \u001b[0m |\n"
          ],
          "name": "stdout"
        },
        {
          "output_type": "stream",
          "text": [
            "[Parallel(n_jobs=1)]: Done   5 out of   5 | elapsed:   38.5s finished\n",
            "[Parallel(n_jobs=1)]: Using backend SequentialBackend with 1 concurrent workers.\n"
          ],
          "name": "stderr"
        },
        {
          "output_type": "stream",
          "text": [
            "| \u001b[95m 4       \u001b[0m | \u001b[95m 0.6032  \u001b[0m | \u001b[95m 4.992   \u001b[0m | \u001b[95m 0.7609  \u001b[0m | \u001b[95m 0.1714  \u001b[0m | \u001b[95m 6.895   \u001b[0m | \u001b[95m 628.4   \u001b[0m |\n"
          ],
          "name": "stdout"
        },
        {
          "output_type": "stream",
          "text": [
            "[Parallel(n_jobs=1)]: Done   5 out of   5 | elapsed:   14.8s finished\n",
            "[Parallel(n_jobs=1)]: Using backend SequentialBackend with 1 concurrent workers.\n"
          ],
          "name": "stderr"
        },
        {
          "output_type": "stream",
          "text": [
            "| \u001b[0m 5       \u001b[0m | \u001b[0m 0.4428  \u001b[0m | \u001b[0m 1.04    \u001b[0m | \u001b[0m 0.9258  \u001b[0m | \u001b[0m 0.2377  \u001b[0m | \u001b[0m 1.064   \u001b[0m | \u001b[0m 630.3   \u001b[0m |\n"
          ],
          "name": "stdout"
        },
        {
          "output_type": "stream",
          "text": [
            "[Parallel(n_jobs=1)]: Done   5 out of   5 | elapsed:   25.3s finished\n",
            "[Parallel(n_jobs=1)]: Using backend SequentialBackend with 1 concurrent workers.\n"
          ],
          "name": "stderr"
        },
        {
          "output_type": "stream",
          "text": [
            "| \u001b[0m 6       \u001b[0m | \u001b[0m 0.5527  \u001b[0m | \u001b[0m 2.642   \u001b[0m | \u001b[0m 0.9011  \u001b[0m | \u001b[0m 0.5342  \u001b[0m | \u001b[0m 6.072   \u001b[0m | \u001b[0m 615.7   \u001b[0m |\n"
          ],
          "name": "stdout"
        },
        {
          "output_type": "stream",
          "text": [
            "[Parallel(n_jobs=1)]: Done   5 out of   5 | elapsed:   50.5s finished\n",
            "[Parallel(n_jobs=1)]: Using backend SequentialBackend with 1 concurrent workers.\n"
          ],
          "name": "stderr"
        },
        {
          "output_type": "stream",
          "text": [
            "| \u001b[0m 7       \u001b[0m | \u001b[0m 0.6008  \u001b[0m | \u001b[0m 4.162   \u001b[0m | \u001b[0m 0.9856  \u001b[0m | \u001b[0m 0.1582  \u001b[0m | \u001b[0m 2.821   \u001b[0m | \u001b[0m 649.4   \u001b[0m |\n"
          ],
          "name": "stdout"
        },
        {
          "output_type": "stream",
          "text": [
            "[Parallel(n_jobs=1)]: Done   5 out of   5 | elapsed:   12.9s finished\n",
            "[Parallel(n_jobs=1)]: Using backend SequentialBackend with 1 concurrent workers.\n"
          ],
          "name": "stderr"
        },
        {
          "output_type": "stream",
          "text": [
            "| \u001b[0m 8       \u001b[0m | \u001b[0m 0.4352  \u001b[0m | \u001b[0m 1.994   \u001b[0m | \u001b[0m 0.7736  \u001b[0m | \u001b[0m 0.3029  \u001b[0m | \u001b[0m 1.609   \u001b[0m | \u001b[0m 634.9   \u001b[0m |\n"
          ],
          "name": "stdout"
        },
        {
          "output_type": "stream",
          "text": [
            "[Parallel(n_jobs=1)]: Done   5 out of   5 | elapsed:    9.2s finished\n",
            "[Parallel(n_jobs=1)]: Using backend SequentialBackend with 1 concurrent workers.\n"
          ],
          "name": "stderr"
        },
        {
          "output_type": "stream",
          "text": [
            "| \u001b[0m 9       \u001b[0m | \u001b[0m 0.4276  \u001b[0m | \u001b[0m 1.482   \u001b[0m | \u001b[0m 0.5272  \u001b[0m | \u001b[0m 0.2989  \u001b[0m | \u001b[0m 5.713   \u001b[0m | \u001b[0m 598.5   \u001b[0m |\n"
          ],
          "name": "stdout"
        },
        {
          "output_type": "stream",
          "text": [
            "[Parallel(n_jobs=1)]: Done   5 out of   5 | elapsed:   24.9s finished\n"
          ],
          "name": "stderr"
        },
        {
          "output_type": "stream",
          "text": [
            "| \u001b[0m 10      \u001b[0m | \u001b[0m 0.5978  \u001b[0m | \u001b[0m 3.893   \u001b[0m | \u001b[0m 0.6774  \u001b[0m | \u001b[0m 0.3032  \u001b[0m | \u001b[0m 4.646   \u001b[0m | \u001b[0m 570.4   \u001b[0m |\n"
          ],
          "name": "stdout"
        },
        {
          "output_type": "stream",
          "text": [
            "[Parallel(n_jobs=1)]: Using backend SequentialBackend with 1 concurrent workers.\n",
            "[Parallel(n_jobs=1)]: Done   5 out of   5 | elapsed:   15.9s finished\n"
          ],
          "name": "stderr"
        },
        {
          "output_type": "stream",
          "text": [
            "| \u001b[0m 11      \u001b[0m | \u001b[0m 0.4461  \u001b[0m | \u001b[0m 1.0     \u001b[0m | \u001b[0m 1.0     \u001b[0m | \u001b[0m 0.001   \u001b[0m | \u001b[0m 7.0     \u001b[0m | \u001b[0m 650.0   \u001b[0m |\n"
          ],
          "name": "stdout"
        },
        {
          "output_type": "stream",
          "text": [
            "[Parallel(n_jobs=1)]: Using backend SequentialBackend with 1 concurrent workers.\n",
            "[Parallel(n_jobs=1)]: Done   5 out of   5 | elapsed:   13.5s finished\n"
          ],
          "name": "stderr"
        },
        {
          "output_type": "stream",
          "text": [
            "| \u001b[0m 12      \u001b[0m | \u001b[0m 0.4472  \u001b[0m | \u001b[0m 1.0     \u001b[0m | \u001b[0m 1.0     \u001b[0m | \u001b[0m 0.001   \u001b[0m | \u001b[0m 1.0     \u001b[0m | \u001b[0m 550.0   \u001b[0m |\n"
          ],
          "name": "stdout"
        },
        {
          "output_type": "stream",
          "text": [
            "[Parallel(n_jobs=1)]: Using backend SequentialBackend with 1 concurrent workers.\n",
            "[Parallel(n_jobs=1)]: Done   5 out of   5 | elapsed:   45.4s finished\n"
          ],
          "name": "stderr"
        },
        {
          "output_type": "stream",
          "text": [
            "| \u001b[0m 13      \u001b[0m | \u001b[0m 0.5957  \u001b[0m | \u001b[0m 5.0     \u001b[0m | \u001b[0m 1.0     \u001b[0m | \u001b[0m 1.0     \u001b[0m | \u001b[0m 7.0     \u001b[0m | \u001b[0m 647.0   \u001b[0m |\n"
          ],
          "name": "stdout"
        },
        {
          "output_type": "stream",
          "text": [
            "[Parallel(n_jobs=1)]: Using backend SequentialBackend with 1 concurrent workers.\n",
            "[Parallel(n_jobs=1)]: Done   5 out of   5 | elapsed:   55.4s finished\n"
          ],
          "name": "stderr"
        },
        {
          "output_type": "stream",
          "text": [
            "| \u001b[0m 14      \u001b[0m | \u001b[0m 0.5999  \u001b[0m | \u001b[0m 5.0     \u001b[0m | \u001b[0m 1.0     \u001b[0m | \u001b[0m 0.001   \u001b[0m | \u001b[0m 1.0     \u001b[0m | \u001b[0m 567.2   \u001b[0m |\n"
          ],
          "name": "stdout"
        },
        {
          "output_type": "stream",
          "text": [
            "[Parallel(n_jobs=1)]: Using backend SequentialBackend with 1 concurrent workers.\n",
            "[Parallel(n_jobs=1)]: Done   5 out of   5 | elapsed:   51.2s finished\n"
          ],
          "name": "stderr"
        },
        {
          "output_type": "stream",
          "text": [
            "| \u001b[0m 15      \u001b[0m | \u001b[0m 0.602   \u001b[0m | \u001b[0m 4.852   \u001b[0m | \u001b[0m 0.983   \u001b[0m | \u001b[0m 0.01178 \u001b[0m | \u001b[0m 1.087   \u001b[0m | \u001b[0m 649.6   \u001b[0m |\n"
          ],
          "name": "stdout"
        },
        {
          "output_type": "stream",
          "text": [
            "[Parallel(n_jobs=1)]: Using backend SequentialBackend with 1 concurrent workers.\n",
            "[Parallel(n_jobs=1)]: Done   5 out of   5 | elapsed:   14.1s finished\n"
          ],
          "name": "stderr"
        },
        {
          "output_type": "stream",
          "text": [
            "| \u001b[0m 16      \u001b[0m | \u001b[0m 0.4471  \u001b[0m | \u001b[0m 1.0     \u001b[0m | \u001b[0m 1.0     \u001b[0m | \u001b[0m 1.0     \u001b[0m | \u001b[0m 1.0     \u001b[0m | \u001b[0m 567.5   \u001b[0m |\n"
          ],
          "name": "stdout"
        },
        {
          "output_type": "stream",
          "text": [
            "[Parallel(n_jobs=1)]: Using backend SequentialBackend with 1 concurrent workers.\n",
            "[Parallel(n_jobs=1)]: Done   5 out of   5 | elapsed:   56.3s finished\n"
          ],
          "name": "stderr"
        },
        {
          "output_type": "stream",
          "text": [
            "| \u001b[95m 17      \u001b[0m | \u001b[95m 0.6034  \u001b[0m | \u001b[95m 5.0     \u001b[0m | \u001b[95m 1.0     \u001b[0m | \u001b[95m 0.001   \u001b[0m | \u001b[95m 7.0     \u001b[0m | \u001b[95m 580.1   \u001b[0m |\n"
          ],
          "name": "stdout"
        },
        {
          "output_type": "stream",
          "text": [
            "[Parallel(n_jobs=1)]: Using backend SequentialBackend with 1 concurrent workers.\n",
            "[Parallel(n_jobs=1)]: Done   5 out of   5 | elapsed:   28.7s finished\n"
          ],
          "name": "stderr"
        },
        {
          "output_type": "stream",
          "text": [
            "| \u001b[0m 18      \u001b[0m | \u001b[0m 0.6032  \u001b[0m | \u001b[0m 5.0     \u001b[0m | \u001b[0m 0.5     \u001b[0m | \u001b[0m 0.001   \u001b[0m | \u001b[0m 7.0     \u001b[0m | \u001b[0m 550.0   \u001b[0m |\n"
          ],
          "name": "stdout"
        },
        {
          "output_type": "stream",
          "text": [
            "[Parallel(n_jobs=1)]: Using backend SequentialBackend with 1 concurrent workers.\n",
            "[Parallel(n_jobs=1)]: Done   5 out of   5 | elapsed:   29.8s finished\n"
          ],
          "name": "stderr"
        },
        {
          "output_type": "stream",
          "text": [
            "| \u001b[0m 19      \u001b[0m | \u001b[0m 0.6032  \u001b[0m | \u001b[0m 5.0     \u001b[0m | \u001b[0m 0.5     \u001b[0m | \u001b[0m 0.001   \u001b[0m | \u001b[0m 7.0     \u001b[0m | \u001b[0m 570.5   \u001b[0m |\n"
          ],
          "name": "stdout"
        },
        {
          "output_type": "stream",
          "text": [
            "[Parallel(n_jobs=1)]: Using backend SequentialBackend with 1 concurrent workers.\n",
            "[Parallel(n_jobs=1)]: Done   5 out of   5 | elapsed:   56.7s finished\n"
          ],
          "name": "stderr"
        },
        {
          "output_type": "stream",
          "text": [
            "| \u001b[0m 20      \u001b[0m | \u001b[0m 0.5998  \u001b[0m | \u001b[0m 5.0     \u001b[0m | \u001b[0m 1.0     \u001b[0m | \u001b[0m 0.001   \u001b[0m | \u001b[0m 1.0     \u001b[0m | \u001b[0m 582.2   \u001b[0m |\n"
          ],
          "name": "stdout"
        },
        {
          "output_type": "stream",
          "text": [
            "[Parallel(n_jobs=1)]: Using backend SequentialBackend with 1 concurrent workers.\n",
            "[Parallel(n_jobs=1)]: Done   5 out of   5 | elapsed:   40.5s finished\n"
          ],
          "name": "stderr"
        },
        {
          "output_type": "stream",
          "text": [
            "| \u001b[0m 21      \u001b[0m | \u001b[0m 0.5957  \u001b[0m | \u001b[0m 5.0     \u001b[0m | \u001b[0m 1.0     \u001b[0m | \u001b[0m 1.0     \u001b[0m | \u001b[0m 3.094   \u001b[0m | \u001b[0m 574.5   \u001b[0m |\n"
          ],
          "name": "stdout"
        },
        {
          "output_type": "stream",
          "text": [
            "[Parallel(n_jobs=1)]: Using backend SequentialBackend with 1 concurrent workers.\n",
            "[Parallel(n_jobs=1)]: Done   5 out of   5 | elapsed:  1.0min finished\n"
          ],
          "name": "stderr"
        },
        {
          "output_type": "stream",
          "text": [
            "| \u001b[0m 22      \u001b[0m | \u001b[0m 0.5998  \u001b[0m | \u001b[0m 5.0     \u001b[0m | \u001b[0m 1.0     \u001b[0m | \u001b[0m 0.001   \u001b[0m | \u001b[0m 1.0     \u001b[0m | \u001b[0m 618.0   \u001b[0m |\n"
          ],
          "name": "stdout"
        },
        {
          "output_type": "stream",
          "text": [
            "[Parallel(n_jobs=1)]: Using backend SequentialBackend with 1 concurrent workers.\n",
            "[Parallel(n_jobs=1)]: Done   5 out of   5 | elapsed:   48.2s finished\n"
          ],
          "name": "stderr"
        },
        {
          "output_type": "stream",
          "text": [
            "| \u001b[0m 23      \u001b[0m | \u001b[0m 0.6031  \u001b[0m | \u001b[0m 4.966   \u001b[0m | \u001b[0m 0.9678  \u001b[0m | \u001b[0m 0.1054  \u001b[0m | \u001b[0m 6.301   \u001b[0m | \u001b[0m 620.1   \u001b[0m |\n"
          ],
          "name": "stdout"
        },
        {
          "output_type": "stream",
          "text": [
            "[Parallel(n_jobs=1)]: Using backend SequentialBackend with 1 concurrent workers.\n",
            "[Parallel(n_jobs=1)]: Done   5 out of   5 | elapsed:  1.0min finished\n"
          ],
          "name": "stderr"
        },
        {
          "output_type": "stream",
          "text": [
            "| \u001b[0m 24      \u001b[0m | \u001b[0m 0.6034  \u001b[0m | \u001b[0m 5.0     \u001b[0m | \u001b[0m 1.0     \u001b[0m | \u001b[0m 0.001   \u001b[0m | \u001b[0m 7.0     \u001b[0m | \u001b[0m 638.8   \u001b[0m |\n"
          ],
          "name": "stdout"
        },
        {
          "output_type": "stream",
          "text": [
            "[Parallel(n_jobs=1)]: Using backend SequentialBackend with 1 concurrent workers.\n",
            "[Parallel(n_jobs=1)]: Done   5 out of   5 | elapsed:   46.6s finished\n"
          ],
          "name": "stderr"
        },
        {
          "output_type": "stream",
          "text": [
            "| \u001b[0m 25      \u001b[0m | \u001b[0m 0.5957  \u001b[0m | \u001b[0m 5.0     \u001b[0m | \u001b[0m 1.0     \u001b[0m | \u001b[0m 1.0     \u001b[0m | \u001b[0m 3.468   \u001b[0m | \u001b[0m 650.0   \u001b[0m |\n"
          ],
          "name": "stdout"
        },
        {
          "output_type": "stream",
          "text": [
            "[Parallel(n_jobs=1)]: Using backend SequentialBackend with 1 concurrent workers.\n",
            "[Parallel(n_jobs=1)]: Done   5 out of   5 | elapsed:   56.0s finished\n"
          ],
          "name": "stderr"
        },
        {
          "output_type": "stream",
          "text": [
            "| \u001b[0m 26      \u001b[0m | \u001b[0m 0.5988  \u001b[0m | \u001b[0m 5.0     \u001b[0m | \u001b[0m 1.0     \u001b[0m | \u001b[0m 0.001   \u001b[0m | \u001b[0m 4.273   \u001b[0m | \u001b[0m 568.3   \u001b[0m |\n"
          ],
          "name": "stdout"
        },
        {
          "output_type": "stream",
          "text": [
            "[Parallel(n_jobs=1)]: Using backend SequentialBackend with 1 concurrent workers.\n",
            "[Parallel(n_jobs=1)]: Done   5 out of   5 | elapsed:   29.8s finished\n"
          ],
          "name": "stderr"
        },
        {
          "output_type": "stream",
          "text": [
            "| \u001b[0m 27      \u001b[0m | \u001b[0m 0.6022  \u001b[0m | \u001b[0m 5.0     \u001b[0m | \u001b[0m 0.5     \u001b[0m | \u001b[0m 0.001   \u001b[0m | \u001b[0m 2.617   \u001b[0m | \u001b[0m 557.4   \u001b[0m |\n"
          ],
          "name": "stdout"
        },
        {
          "output_type": "stream",
          "text": [
            "[Parallel(n_jobs=1)]: Using backend SequentialBackend with 1 concurrent workers.\n",
            "[Parallel(n_jobs=1)]: Done   5 out of   5 | elapsed:    8.9s finished\n"
          ],
          "name": "stderr"
        },
        {
          "output_type": "stream",
          "text": [
            "| \u001b[0m 28      \u001b[0m | \u001b[0m 0.426   \u001b[0m | \u001b[0m 1.0     \u001b[0m | \u001b[0m 0.5     \u001b[0m | \u001b[0m 0.001   \u001b[0m | \u001b[0m 7.0     \u001b[0m | \u001b[0m 581.9   \u001b[0m |\n"
          ],
          "name": "stdout"
        },
        {
          "output_type": "stream",
          "text": [
            "[Parallel(n_jobs=1)]: Using backend SequentialBackend with 1 concurrent workers.\n",
            "[Parallel(n_jobs=1)]: Done   5 out of   5 | elapsed:   31.7s finished\n"
          ],
          "name": "stderr"
        },
        {
          "output_type": "stream",
          "text": [
            "| \u001b[95m 29      \u001b[0m | \u001b[95m 0.6038  \u001b[0m | \u001b[95m 5.0     \u001b[0m | \u001b[95m 0.5     \u001b[0m | \u001b[95m 0.001   \u001b[0m | \u001b[95m 1.0     \u001b[0m | \u001b[95m 594.1   \u001b[0m |\n"
          ],
          "name": "stdout"
        },
        {
          "output_type": "stream",
          "text": [
            "[Parallel(n_jobs=1)]: Using backend SequentialBackend with 1 concurrent workers.\n",
            "[Parallel(n_jobs=1)]: Done   5 out of   5 | elapsed:   31.4s finished\n"
          ],
          "name": "stderr"
        },
        {
          "output_type": "stream",
          "text": [
            "| \u001b[0m 30      \u001b[0m | \u001b[0m 0.6011  \u001b[0m | \u001b[0m 5.0     \u001b[0m | \u001b[0m 0.5     \u001b[0m | \u001b[0m 0.001   \u001b[0m | \u001b[0m 4.944   \u001b[0m | \u001b[0m 586.9   \u001b[0m |\n"
          ],
          "name": "stdout"
        },
        {
          "output_type": "stream",
          "text": [
            "[Parallel(n_jobs=1)]: Using backend SequentialBackend with 1 concurrent workers.\n",
            "[Parallel(n_jobs=1)]: Done   5 out of   5 | elapsed:   22.8s finished\n"
          ],
          "name": "stderr"
        },
        {
          "output_type": "stream",
          "text": [
            "| \u001b[0m 31      \u001b[0m | \u001b[0m 0.5962  \u001b[0m | \u001b[0m 5.0     \u001b[0m | \u001b[0m 0.5     \u001b[0m | \u001b[0m 1.0     \u001b[0m | \u001b[0m 7.0     \u001b[0m | \u001b[0m 558.2   \u001b[0m |\n"
          ],
          "name": "stdout"
        },
        {
          "output_type": "stream",
          "text": [
            "[Parallel(n_jobs=1)]: Using backend SequentialBackend with 1 concurrent workers.\n",
            "[Parallel(n_jobs=1)]: Done   5 out of   5 | elapsed:   35.0s finished\n"
          ],
          "name": "stderr"
        },
        {
          "output_type": "stream",
          "text": [
            "| \u001b[0m 32      \u001b[0m | \u001b[0m 0.6011  \u001b[0m | \u001b[0m 5.0     \u001b[0m | \u001b[0m 0.5     \u001b[0m | \u001b[0m 0.001   \u001b[0m | \u001b[0m 3.6     \u001b[0m | \u001b[0m 646.6   \u001b[0m |\n"
          ],
          "name": "stdout"
        },
        {
          "output_type": "stream",
          "text": [
            "[Parallel(n_jobs=1)]: Using backend SequentialBackend with 1 concurrent workers.\n",
            "[Parallel(n_jobs=1)]: Done   5 out of   5 | elapsed:   24.0s finished\n"
          ],
          "name": "stderr"
        },
        {
          "output_type": "stream",
          "text": [
            "| \u001b[0m 33      \u001b[0m | \u001b[0m 0.5962  \u001b[0m | \u001b[0m 5.0     \u001b[0m | \u001b[0m 0.5     \u001b[0m | \u001b[0m 1.0     \u001b[0m | \u001b[0m 2.854   \u001b[0m | \u001b[0m 565.2   \u001b[0m |\n"
          ],
          "name": "stdout"
        },
        {
          "output_type": "stream",
          "text": [
            "[Parallel(n_jobs=1)]: Using backend SequentialBackend with 1 concurrent workers.\n",
            "[Parallel(n_jobs=1)]: Done   5 out of   5 | elapsed:   15.7s finished\n"
          ],
          "name": "stderr"
        },
        {
          "output_type": "stream",
          "text": [
            "| \u001b[0m 34      \u001b[0m | \u001b[0m 0.4475  \u001b[0m | \u001b[0m 1.0     \u001b[0m | \u001b[0m 1.0     \u001b[0m | \u001b[0m 1.0     \u001b[0m | \u001b[0m 7.0     \u001b[0m | \u001b[0m 623.9   \u001b[0m |\n"
          ],
          "name": "stdout"
        },
        {
          "output_type": "stream",
          "text": [
            "[Parallel(n_jobs=1)]: Using backend SequentialBackend with 1 concurrent workers.\n",
            "[Parallel(n_jobs=1)]: Done   5 out of   5 | elapsed:   32.4s finished\n"
          ],
          "name": "stderr"
        },
        {
          "output_type": "stream",
          "text": [
            "| \u001b[0m 35      \u001b[0m | \u001b[0m 0.6038  \u001b[0m | \u001b[0m 5.0     \u001b[0m | \u001b[0m 0.5     \u001b[0m | \u001b[0m 0.001   \u001b[0m | \u001b[0m 1.0     \u001b[0m | \u001b[0m 605.6   \u001b[0m |\n"
          ],
          "name": "stdout"
        },
        {
          "output_type": "stream",
          "text": [
            "[Parallel(n_jobs=1)]: Using backend SequentialBackend with 1 concurrent workers.\n",
            "[Parallel(n_jobs=1)]: Done   5 out of   5 | elapsed:   33.5s finished\n"
          ],
          "name": "stderr"
        },
        {
          "output_type": "stream",
          "text": [
            "| \u001b[0m 36      \u001b[0m | \u001b[0m 0.6032  \u001b[0m | \u001b[0m 5.0     \u001b[0m | \u001b[0m 0.5     \u001b[0m | \u001b[0m 0.001   \u001b[0m | \u001b[0m 7.0     \u001b[0m | \u001b[0m 633.1   \u001b[0m |\n"
          ],
          "name": "stdout"
        },
        {
          "output_type": "stream",
          "text": [
            "[Parallel(n_jobs=1)]: Using backend SequentialBackend with 1 concurrent workers.\n",
            "[Parallel(n_jobs=1)]: Done   5 out of   5 | elapsed:   30.4s finished\n"
          ],
          "name": "stderr"
        },
        {
          "output_type": "stream",
          "text": [
            "| \u001b[0m 37      \u001b[0m | \u001b[0m 0.6013  \u001b[0m | \u001b[0m 4.936   \u001b[0m | \u001b[0m 0.6226  \u001b[0m | \u001b[0m 0.02934 \u001b[0m | \u001b[0m 3.777   \u001b[0m | \u001b[0m 575.5   \u001b[0m |\n"
          ],
          "name": "stdout"
        },
        {
          "output_type": "stream",
          "text": [
            "[Parallel(n_jobs=1)]: Using backend SequentialBackend with 1 concurrent workers.\n",
            "[Parallel(n_jobs=1)]: Done   5 out of   5 | elapsed:   50.3s finished\n"
          ],
          "name": "stderr"
        },
        {
          "output_type": "stream",
          "text": [
            "| \u001b[0m 38      \u001b[0m | \u001b[0m 0.5999  \u001b[0m | \u001b[0m 4.3     \u001b[0m | \u001b[0m 1.0     \u001b[0m | \u001b[0m 0.001   \u001b[0m | \u001b[0m 4.051   \u001b[0m | \u001b[0m 618.1   \u001b[0m |\n"
          ],
          "name": "stdout"
        },
        {
          "output_type": "stream",
          "text": [
            "[Parallel(n_jobs=1)]: Using backend SequentialBackend with 1 concurrent workers.\n",
            "[Parallel(n_jobs=1)]: Done   5 out of   5 | elapsed:   22.6s finished\n"
          ],
          "name": "stderr"
        },
        {
          "output_type": "stream",
          "text": [
            "| \u001b[0m 39      \u001b[0m | \u001b[0m 0.5965  \u001b[0m | \u001b[0m 5.0     \u001b[0m | \u001b[0m 0.5     \u001b[0m | \u001b[0m 1.0     \u001b[0m | \u001b[0m 1.0     \u001b[0m | \u001b[0m 550.0   \u001b[0m |\n"
          ],
          "name": "stdout"
        },
        {
          "output_type": "stream",
          "text": [
            "[Parallel(n_jobs=1)]: Using backend SequentialBackend with 1 concurrent workers.\n",
            "[Parallel(n_jobs=1)]: Done   5 out of   5 | elapsed:    9.3s finished\n"
          ],
          "name": "stderr"
        },
        {
          "output_type": "stream",
          "text": [
            "| \u001b[0m 40      \u001b[0m | \u001b[0m 0.4275  \u001b[0m | \u001b[0m 1.0     \u001b[0m | \u001b[0m 0.5     \u001b[0m | \u001b[0m 0.001   \u001b[0m | \u001b[0m 1.0     \u001b[0m | \u001b[0m 615.1   \u001b[0m |\n"
          ],
          "name": "stdout"
        },
        {
          "output_type": "stream",
          "text": [
            "[Parallel(n_jobs=1)]: Using backend SequentialBackend with 1 concurrent workers.\n",
            "[Parallel(n_jobs=1)]: Done   5 out of   5 | elapsed:   32.0s finished\n"
          ],
          "name": "stderr"
        },
        {
          "output_type": "stream",
          "text": [
            "| \u001b[0m 41      \u001b[0m | \u001b[0m 0.6032  \u001b[0m | \u001b[0m 5.0     \u001b[0m | \u001b[0m 0.5     \u001b[0m | \u001b[0m 0.001   \u001b[0m | \u001b[0m 7.0     \u001b[0m | \u001b[0m 602.1   \u001b[0m |\n"
          ],
          "name": "stdout"
        },
        {
          "output_type": "stream",
          "text": [
            "[Parallel(n_jobs=1)]: Using backend SequentialBackend with 1 concurrent workers.\n",
            "[Parallel(n_jobs=1)]: Done   5 out of   5 | elapsed:  1.0min finished\n"
          ],
          "name": "stderr"
        },
        {
          "output_type": "stream",
          "text": [
            "| \u001b[0m 42      \u001b[0m | \u001b[0m 0.5998  \u001b[0m | \u001b[0m 5.0     \u001b[0m | \u001b[0m 1.0     \u001b[0m | \u001b[0m 0.001   \u001b[0m | \u001b[0m 1.0     \u001b[0m | \u001b[0m 625.2   \u001b[0m |\n"
          ],
          "name": "stdout"
        },
        {
          "output_type": "stream",
          "text": [
            "[Parallel(n_jobs=1)]: Using backend SequentialBackend with 1 concurrent workers.\n",
            "[Parallel(n_jobs=1)]: Done   5 out of   5 | elapsed:   32.7s finished\n"
          ],
          "name": "stderr"
        },
        {
          "output_type": "stream",
          "text": [
            "| \u001b[0m 43      \u001b[0m | \u001b[0m 0.6032  \u001b[0m | \u001b[0m 5.0     \u001b[0m | \u001b[0m 0.5     \u001b[0m | \u001b[0m 0.001   \u001b[0m | \u001b[0m 7.0     \u001b[0m | \u001b[0m 616.4   \u001b[0m |\n"
          ],
          "name": "stdout"
        },
        {
          "output_type": "stream",
          "text": [
            "[Parallel(n_jobs=1)]: Using backend SequentialBackend with 1 concurrent workers.\n",
            "[Parallel(n_jobs=1)]: Done   5 out of   5 | elapsed:  1.0min finished\n"
          ],
          "name": "stderr"
        },
        {
          "output_type": "stream",
          "text": [
            "| \u001b[0m 44      \u001b[0m | \u001b[0m 0.6034  \u001b[0m | \u001b[0m 5.0     \u001b[0m | \u001b[0m 1.0     \u001b[0m | \u001b[0m 0.001   \u001b[0m | \u001b[0m 7.0     \u001b[0m | \u001b[0m 631.9   \u001b[0m |\n"
          ],
          "name": "stdout"
        },
        {
          "output_type": "stream",
          "text": [
            "[Parallel(n_jobs=1)]: Using backend SequentialBackend with 1 concurrent workers.\n",
            "[Parallel(n_jobs=1)]: Done   5 out of   5 | elapsed:   30.4s finished\n"
          ],
          "name": "stderr"
        },
        {
          "output_type": "stream",
          "text": [
            "| \u001b[0m 45      \u001b[0m | \u001b[0m 0.6029  \u001b[0m | \u001b[0m 4.987   \u001b[0m | \u001b[0m 0.606   \u001b[0m | \u001b[0m 0.1642  \u001b[0m | \u001b[0m 1.794   \u001b[0m | \u001b[0m 599.4   \u001b[0m |\n"
          ],
          "name": "stdout"
        },
        {
          "output_type": "stream",
          "text": [
            "[Parallel(n_jobs=1)]: Using backend SequentialBackend with 1 concurrent workers.\n",
            "[Parallel(n_jobs=1)]: Done   5 out of   5 | elapsed:   44.3s finished\n"
          ],
          "name": "stderr"
        },
        {
          "output_type": "stream",
          "text": [
            "| \u001b[95m 46      \u001b[0m | \u001b[95m 0.6039  \u001b[0m | \u001b[95m 5.0     \u001b[0m | \u001b[95m 0.7314  \u001b[0m | \u001b[95m 0.001   \u001b[0m | \u001b[95m 7.0     \u001b[0m | \u001b[95m 594.7   \u001b[0m |\n"
          ],
          "name": "stdout"
        },
        {
          "output_type": "stream",
          "text": [
            "[Parallel(n_jobs=1)]: Using backend SequentialBackend with 1 concurrent workers.\n",
            "[Parallel(n_jobs=1)]: Done   5 out of   5 | elapsed:   46.8s finished\n"
          ],
          "name": "stderr"
        },
        {
          "output_type": "stream",
          "text": [
            "| \u001b[0m 47      \u001b[0m | \u001b[0m 0.5957  \u001b[0m | \u001b[0m 4.248   \u001b[0m | \u001b[0m 1.0     \u001b[0m | \u001b[0m 1.0     \u001b[0m | \u001b[0m 1.797   \u001b[0m | \u001b[0m 647.7   \u001b[0m |\n"
          ],
          "name": "stdout"
        },
        {
          "output_type": "stream",
          "text": [
            "[Parallel(n_jobs=1)]: Using backend SequentialBackend with 1 concurrent workers.\n",
            "[Parallel(n_jobs=1)]: Done   5 out of   5 | elapsed:   33.4s finished\n"
          ],
          "name": "stderr"
        },
        {
          "output_type": "stream",
          "text": [
            "| \u001b[0m 48      \u001b[0m | \u001b[0m 0.6022  \u001b[0m | \u001b[0m 5.0     \u001b[0m | \u001b[0m 0.5     \u001b[0m | \u001b[0m 0.001   \u001b[0m | \u001b[0m 2.783   \u001b[0m | \u001b[0m 622.6   \u001b[0m |\n"
          ],
          "name": "stdout"
        },
        {
          "output_type": "stream",
          "text": [
            "[Parallel(n_jobs=1)]: Using backend SequentialBackend with 1 concurrent workers.\n",
            "[Parallel(n_jobs=1)]: Done   5 out of   5 | elapsed:   26.2s finished\n"
          ],
          "name": "stderr"
        },
        {
          "output_type": "stream",
          "text": [
            "| \u001b[0m 49      \u001b[0m | \u001b[0m 0.6022  \u001b[0m | \u001b[0m 4.986   \u001b[0m | \u001b[0m 0.5329  \u001b[0m | \u001b[0m 0.06959 \u001b[0m | \u001b[0m 6.795   \u001b[0m | \u001b[0m 563.7   \u001b[0m |\n"
          ],
          "name": "stdout"
        },
        {
          "output_type": "stream",
          "text": [
            "[Parallel(n_jobs=1)]: Using backend SequentialBackend with 1 concurrent workers.\n",
            "[Parallel(n_jobs=1)]: Done   5 out of   5 | elapsed:   35.9s finished\n"
          ],
          "name": "stderr"
        },
        {
          "output_type": "stream",
          "text": [
            "| \u001b[0m 50      \u001b[0m | \u001b[0m 0.5961  \u001b[0m | \u001b[0m 4.889   \u001b[0m | \u001b[0m 0.7622  \u001b[0m | \u001b[0m 0.8854  \u001b[0m | \u001b[0m 6.984   \u001b[0m | \u001b[0m 636.0   \u001b[0m |\n"
          ],
          "name": "stdout"
        },
        {
          "output_type": "stream",
          "text": [
            "[Parallel(n_jobs=1)]: Using backend SequentialBackend with 1 concurrent workers.\n",
            "[Parallel(n_jobs=1)]: Done   5 out of   5 | elapsed:   30.6s finished\n"
          ],
          "name": "stderr"
        },
        {
          "output_type": "stream",
          "text": [
            "| \u001b[0m 51      \u001b[0m | \u001b[0m 0.6021  \u001b[0m | \u001b[0m 5.0     \u001b[0m | \u001b[0m 0.5     \u001b[0m | \u001b[0m 0.001   \u001b[0m | \u001b[0m 2.425   \u001b[0m | \u001b[0m 570.9   \u001b[0m |\n"
          ],
          "name": "stdout"
        },
        {
          "output_type": "stream",
          "text": [
            "[Parallel(n_jobs=1)]: Using backend SequentialBackend with 1 concurrent workers.\n",
            "[Parallel(n_jobs=1)]: Done   5 out of   5 | elapsed:   41.0s finished\n"
          ],
          "name": "stderr"
        },
        {
          "output_type": "stream",
          "text": [
            "| \u001b[0m 52      \u001b[0m | \u001b[0m 0.6006  \u001b[0m | \u001b[0m 4.955   \u001b[0m | \u001b[0m 0.9108  \u001b[0m | \u001b[0m 0.04719 \u001b[0m | \u001b[0m 3.977   \u001b[0m | \u001b[0m 552.4   \u001b[0m |\n"
          ],
          "name": "stdout"
        },
        {
          "output_type": "stream",
          "text": [
            "[Parallel(n_jobs=1)]: Using backend SequentialBackend with 1 concurrent workers.\n",
            "[Parallel(n_jobs=1)]: Done   5 out of   5 | elapsed:   45.8s finished\n"
          ],
          "name": "stderr"
        },
        {
          "output_type": "stream",
          "text": [
            "| \u001b[0m 53      \u001b[0m | \u001b[0m 0.6003  \u001b[0m | \u001b[0m 4.967   \u001b[0m | \u001b[0m 0.9332  \u001b[0m | \u001b[0m 0.05143 \u001b[0m | \u001b[0m 4.479   \u001b[0m | \u001b[0m 603.5   \u001b[0m |\n"
          ],
          "name": "stdout"
        },
        {
          "output_type": "stream",
          "text": [
            "[Parallel(n_jobs=1)]: Using backend SequentialBackend with 1 concurrent workers.\n",
            "[Parallel(n_jobs=1)]: Done   5 out of   5 | elapsed:   58.7s finished\n"
          ],
          "name": "stderr"
        },
        {
          "output_type": "stream",
          "text": [
            "| \u001b[0m 54      \u001b[0m | \u001b[0m 0.5998  \u001b[0m | \u001b[0m 5.0     \u001b[0m | \u001b[0m 1.0     \u001b[0m | \u001b[0m 0.001   \u001b[0m | \u001b[0m 1.549   \u001b[0m | \u001b[0m 589.4   \u001b[0m |\n"
          ],
          "name": "stdout"
        },
        {
          "output_type": "stream",
          "text": [
            "[Parallel(n_jobs=1)]: Using backend SequentialBackend with 1 concurrent workers.\n",
            "[Parallel(n_jobs=1)]: Done   5 out of   5 | elapsed:   51.9s finished\n"
          ],
          "name": "stderr"
        },
        {
          "output_type": "stream",
          "text": [
            "| \u001b[0m 55      \u001b[0m | \u001b[0m 0.6009  \u001b[0m | \u001b[0m 4.702   \u001b[0m | \u001b[0m 0.9945  \u001b[0m | \u001b[0m 0.2422  \u001b[0m | \u001b[0m 3.839   \u001b[0m | \u001b[0m 647.5   \u001b[0m |\n"
          ],
          "name": "stdout"
        },
        {
          "output_type": "stream",
          "text": [
            "[Parallel(n_jobs=1)]: Using backend SequentialBackend with 1 concurrent workers.\n",
            "[Parallel(n_jobs=1)]: Done   5 out of   5 | elapsed:   34.1s finished\n"
          ],
          "name": "stderr"
        },
        {
          "output_type": "stream",
          "text": [
            "| \u001b[0m 56      \u001b[0m | \u001b[0m 0.5962  \u001b[0m | \u001b[0m 4.699   \u001b[0m | \u001b[0m 0.6828  \u001b[0m | \u001b[0m 0.958   \u001b[0m | \u001b[0m 6.87    \u001b[0m | \u001b[0m 644.6   \u001b[0m |\n"
          ],
          "name": "stdout"
        },
        {
          "output_type": "stream",
          "text": [
            "[Parallel(n_jobs=1)]: Using backend SequentialBackend with 1 concurrent workers.\n",
            "[Parallel(n_jobs=1)]: Done   5 out of   5 | elapsed:   24.1s finished\n"
          ],
          "name": "stderr"
        },
        {
          "output_type": "stream",
          "text": [
            "| \u001b[0m 57      \u001b[0m | \u001b[0m 0.5964  \u001b[0m | \u001b[0m 4.981   \u001b[0m | \u001b[0m 0.5213  \u001b[0m | \u001b[0m 0.7639  \u001b[0m | \u001b[0m 5.676   \u001b[0m | \u001b[0m 577.7   \u001b[0m |\n"
          ],
          "name": "stdout"
        },
        {
          "output_type": "stream",
          "text": [
            "[Parallel(n_jobs=1)]: Using backend SequentialBackend with 1 concurrent workers.\n",
            "[Parallel(n_jobs=1)]: Done   5 out of   5 | elapsed:   47.4s finished\n"
          ],
          "name": "stderr"
        },
        {
          "output_type": "stream",
          "text": [
            "| \u001b[0m 58      \u001b[0m | \u001b[0m 0.602   \u001b[0m | \u001b[0m 4.999   \u001b[0m | \u001b[0m 0.9626  \u001b[0m | \u001b[0m 0.01122 \u001b[0m | \u001b[0m 1.03    \u001b[0m | \u001b[0m 597.2   \u001b[0m |\n"
          ],
          "name": "stdout"
        },
        {
          "output_type": "stream",
          "text": [
            "[Parallel(n_jobs=1)]: Using backend SequentialBackend with 1 concurrent workers.\n",
            "[Parallel(n_jobs=1)]: Done   5 out of   5 | elapsed:   30.2s finished\n"
          ],
          "name": "stderr"
        },
        {
          "output_type": "stream",
          "text": [
            "| \u001b[0m 59      \u001b[0m | \u001b[0m 0.5996  \u001b[0m | \u001b[0m 3.988   \u001b[0m | \u001b[0m 0.7372  \u001b[0m | \u001b[0m 0.001353\u001b[0m | \u001b[0m 6.923   \u001b[0m | \u001b[0m 617.3   \u001b[0m |\n"
          ],
          "name": "stdout"
        },
        {
          "output_type": "stream",
          "text": [
            "[Parallel(n_jobs=1)]: Using backend SequentialBackend with 1 concurrent workers.\n"
          ],
          "name": "stderr"
        },
        {
          "output_type": "stream",
          "text": [
            "| \u001b[0m 60      \u001b[0m | \u001b[0m 0.5964  \u001b[0m | \u001b[0m 4.987   \u001b[0m | \u001b[0m 0.6005  \u001b[0m | \u001b[0m 0.9998  \u001b[0m | \u001b[0m 5.981   \u001b[0m | \u001b[0m 593.6   \u001b[0m |\n",
            "=====================================================================================\n"
          ],
          "name": "stdout"
        },
        {
          "output_type": "stream",
          "text": [
            "[Parallel(n_jobs=1)]: Done   5 out of   5 | elapsed:   27.6s finished\n"
          ],
          "name": "stderr"
        }
      ]
    },
    {
      "cell_type": "code",
      "metadata": {
        "colab_type": "code",
        "id": "Rg7MqAwgUFhD",
        "colab": {
          "base_uri": "https://localhost:8080/",
          "height": 119
        },
        "outputId": "991731cb-16f1-4e95-d03e-f2e30e42ace9"
      },
      "source": [
        "et_bo.max"
      ],
      "execution_count": 19,
      "outputs": [
        {
          "output_type": "execute_result",
          "data": {
            "text/plain": [
              "{'params': {'max_depth': 5.0,\n",
              "  'max_features': 0.7314395497956648,\n",
              "  'min_impurity_decrease': 0.001,\n",
              "  'min_samples_leaf': 7.0,\n",
              "  'n_estimators': 594.714569291968},\n",
              " 'target': 0.6039282280667301}"
            ]
          },
          "metadata": {
            "tags": []
          },
          "execution_count": 19
        }
      ]
    },
    {
      "cell_type": "code",
      "metadata": {
        "colab_type": "code",
        "outputId": "7d3d93b4-ce59-4707-9579-63de4191b6c1",
        "id": "YF89bosWUFhK",
        "colab": {
          "base_uri": "https://localhost:8080/",
          "height": 85
        }
      },
      "source": [
        "et_lab= ExtraTreesRegressor(**{'max_depth': 5,\n",
        "  'max_features': 0.7314395497956648,\n",
        "  'min_impurity_decrease': 0.001,\n",
        "  'min_samples_leaf': 7,\n",
        "  'n_estimators': 594},random_state= random_seed,oob_score= True,bootstrap= True)\n",
        "et_lab.fit(train,targets)\n",
        "print('oob_score: ',et_lab.oob_score_)\n",
        "cv_score=cross_val_score(et_lab,train,targets,scoring='r2',cv= cv,verbose=1,n_jobs=1)\n",
        "print(cv_score.mean(),' +/- ',cv_score.std())\n",
        "subm = pd.DataFrame()\n",
        "subm['ID'] = ids_test\n",
        "subm['y'] = et_lab.predict(test)\n",
        "subm.to_csv('et_5folds_meanenc.csv', index=False)"
      ],
      "execution_count": 23,
      "outputs": [
        {
          "output_type": "stream",
          "text": [
            "oob_score:  0.6037204363544807\n"
          ],
          "name": "stdout"
        },
        {
          "output_type": "stream",
          "text": [
            "[Parallel(n_jobs=1)]: Using backend SequentialBackend with 1 concurrent workers.\n"
          ],
          "name": "stderr"
        },
        {
          "output_type": "stream",
          "text": [
            "0.6027958466070058  +/-  0.021437728345114402\n"
          ],
          "name": "stdout"
        },
        {
          "output_type": "stream",
          "text": [
            "[Parallel(n_jobs=1)]: Done  15 out of  15 | elapsed:  1.7min finished\n"
          ],
          "name": "stderr"
        }
      ]
    },
    {
      "cell_type": "markdown",
      "metadata": {
        "colab_type": "text",
        "id": "LDweZTyEUFhO"
      },
      "source": [
        "LB(0.54888,0.55583),CV:.6027"
      ]
    },
    {
      "cell_type": "markdown",
      "metadata": {
        "colab_type": "text",
        "id": "ea2An0H1UFhW"
      },
      "source": [
        "**Stacking Bayesian Tuned Models**"
      ]
    },
    {
      "cell_type": "code",
      "metadata": {
        "colab_type": "code",
        "id": "MBeLgznSUFhY",
        "colab": {}
      },
      "source": [
        "ridge= Ridge(random_state=random_seed,fit_intercept= False,alpha=0)\n",
        "stack = StackingCVRegressor(regressors=(rf_label, xgb_lab,et_lab),\n",
        "                            meta_regressor=ridge, \n",
        "                            use_features_in_secondary=False,refit=True,cv=cv)\n",
        "\n",
        "cv_score=cross_val_score(stack,X,y,scoring='r2',cv= cv,verbose=1,n_jobs=-1)\n",
        "print(cv_score.mean(),' +/- ',cv_score.std())\n",
        "X= np.array(train)\n",
        "y= targets\n",
        "x_test= np.array(test)\n",
        "stack.fit(X,y)\n",
        "ids_test= test.ID\n",
        "y_pred = stack.predict(x_test)\n",
        "subm = pd.DataFrame()\n",
        "subm['ID'] = ids_test\n",
        "subm['y'] = y_pred\n",
        "subm.to_csv('submission_xgb_rf_stack_ridge_meanenc.csv', index=False)"
      ],
      "execution_count": 0,
      "outputs": []
    },
    {
      "cell_type": "markdown",
      "metadata": {
        "colab_type": "text",
        "id": "Ipr264bHUFhf"
      },
      "source": [
        "LB(0.54879,0.55873)"
      ]
    },
    {
      "cell_type": "markdown",
      "metadata": {
        "id": "h9SyUn5SFDzt",
        "colab_type": "text"
      },
      "source": [
        "### **Simple DeepLearning**"
      ]
    },
    {
      "cell_type": "code",
      "metadata": {
        "id": "7IKTL1kCiQ9-",
        "colab_type": "code",
        "colab": {}
      },
      "source": [
        "test= pd.read_csv('/content/drive/My Drive/mercedes-benz-greener-manufacturing/test_hot.csv')\n",
        "train= pd.read_csv('/content/drive/My Drive/mercedes-benz-greener-manufacturing/train_hot.csv')\n",
        "\n",
        "y_train= train.y.values\n",
        "targets= y_train\n",
        "train.drop(['y'],inplace= True,axis=1)"
      ],
      "execution_count": 0,
      "outputs": []
    },
    {
      "cell_type": "code",
      "metadata": {
        "id": "B1oiYXLIfvoX",
        "colab_type": "code",
        "colab": {}
      },
      "source": [
        "SS= StandardScaler()\n",
        "ss_train=SS.fit_transform(train)\n",
        "ss_test= SS.transform(test)"
      ],
      "execution_count": 0,
      "outputs": []
    },
    {
      "cell_type": "code",
      "metadata": {
        "id": "HumL6uw8eH3X",
        "colab_type": "code",
        "colab": {}
      },
      "source": [
        "import keras.backend as K\n",
        "\n",
        "def r2(y_true, y_pred):\n",
        "  SS_res =  K.sum(K.square( y_true-y_pred ))\n",
        "  SS_tot = K.sum(K.square( y_true - K.mean(y_true)))\n",
        "  return ( 1 - SS_res/(SS_tot + K.epsilon()))    "
      ],
      "execution_count": 0,
      "outputs": []
    },
    {
      "cell_type": "code",
      "metadata": {
        "id": "4wzzOukFvXb9",
        "colab_type": "code",
        "colab": {}
      },
      "source": [
        "from keras.layers import Dense, Dropout, BatchNormalization, Activation\n",
        "from keras.callbacks import EarlyStopping, ModelCheckpoint"
      ],
      "execution_count": 0,
      "outputs": []
    },
    {
      "cell_type": "code",
      "metadata": {
        "id": "R4UusSE_vzSB",
        "colab_type": "code",
        "colab": {}
      },
      "source": [
        "callbacks = [\n",
        "    EarlyStopping(\n",
        "        monitor='val_loss', \n",
        "        patience=15,\n",
        "        verbose=1),\n",
        "    \n",
        "    ModelCheckpoint(\n",
        "        'model.h5', \n",
        "        monitor='val_loss', \n",
        "        save_best_only=True, \n",
        "        verbose=0)\n",
        "]"
      ],
      "execution_count": 0,
      "outputs": []
    },
    {
      "cell_type": "code",
      "metadata": {
        "id": "MpZCZr24i6uD",
        "colab_type": "code",
        "colab": {}
      },
      "source": [
        "#https://github.com/GKarmakar/RegressionUsingNN/blob/master/RegressionUsingNeuralNetwork.ipynb\n",
        "#https://www.kaggle.com/frednavruzov/baseline-to-start-with-keras-lb-0-55\n",
        "cv3= KFold(5,True,random_seed)\n",
        "def simple_net(input_dims=394,act_func='relu',batch_size=20,epochs=30,dropout= .3,init='normal'):\n",
        "  model = Sequential()\n",
        "  #input layer\n",
        "  model.add(Dense(input_dims, input_dim=input_dims,kernel_regularizer = 'l2', \n",
        "                    kernel_initializer = init,))\n",
        "  model.add(BatchNormalization())\n",
        "  model.add(Activation('relu'))\n",
        "  model.add(Dropout(dropout))\n",
        "  # hidden layers\n",
        "  model.add(Dense(input_dims,kernel_regularizer = 'l2', \n",
        "                    kernel_initializer = init,))\n",
        "  model.add(BatchNormalization())\n",
        "  model.add(Activation(act_func))\n",
        "  model.add(Dropout(dropout))\n",
        "  \n",
        "  model.add(Dense(input_dims//2,kernel_regularizer = 'l2', \n",
        "                    kernel_initializer = init))\n",
        "  model.add(BatchNormalization())\n",
        "  model.add(Activation(act_func))\n",
        "  model.add(Dropout(dropout))\n",
        "  model.add(Dense(input_dims//4, activation=act_func,kernel_regularizer = 'l2', \n",
        "                    kernel_initializer = init))\n",
        "  model.add(Dense(1, activation='linear'))\n",
        "  model.compile(loss='mean_squared_error',\n",
        "                optimizer='adam',metrics=[r2])\n",
        "  return model"
      ],
      "execution_count": 0,
      "outputs": []
    },
    {
      "cell_type": "code",
      "metadata": {
        "id": "uG8-D4el20O8",
        "colab_type": "code",
        "colab": {}
      },
      "source": [
        "def visualize_learning_curve(history):\n",
        "  # list all data in history\n",
        "  print(history.history.keys())\n",
        "  # summarize history for accuracy\n",
        "  plt.plot(history.history['r2'][:])\n",
        "  plt.plot(history.history['val_r2'][:])\n",
        "  plt.title('model r2')\n",
        "  plt.ylabel('R2')\n",
        "  plt.xlabel('epoch')\n",
        "  plt.legend(['train', 'test'], loc='upper right')\n",
        "  plt.show()\n",
        "  # summarize history for loss\n",
        "  plt.plot(history.history['loss'][:])\n",
        "  plt.plot(history.history['val_loss'][:])\n",
        "  plt.title('model loss')\n",
        "  plt.ylabel('loss')\n",
        "  plt.xlabel('epoch')\n",
        "  plt.legend(['train', 'test'], loc='upper right')\n",
        "  plt.show()"
      ],
      "execution_count": 0,
      "outputs": []
    },
    {
      "cell_type": "code",
      "metadata": {
        "id": "wYwc14rj2MPI",
        "colab_type": "code",
        "colab": {}
      },
      "source": [
        "def train_nn(X,y,act_func='tanh',batch_size=20,epochs=30,dropout= .3,init='normal'):\n",
        "  net=KerasRegressor(build_fn= simple_net,epochs=epochs,batch_size=batch_size,verbose=1,init= init,dropout=dropout,act_func= act_func)\n",
        "  cv_score=cross_validate(net,X,y,scoring='r2',cv= cv3,verbose=0,return_train_score=True)\n",
        "  print('Test R2: ',cv_score['test_score'].mean(),'Train R2: ',cv_score['train_score'].mean())\n",
        "  return net"
      ],
      "execution_count": 0,
      "outputs": []
    },
    {
      "cell_type": "code",
      "metadata": {
        "id": "2gDksxXq3FjE",
        "colab_type": "code",
        "colab": {}
      },
      "source": [
        "def coordinate(X,y):\n",
        "  estimator = train_nn(X, y)\n",
        "  history = estimator.fit(X, y, validation_split=0.2, \n",
        "                            callbacks=callbacks, \n",
        "                            verbose=1)\n",
        "  visualize_learning_curve(history)\n",
        "  return estimator"
      ],
      "execution_count": 0,
      "outputs": []
    },
    {
      "cell_type": "code",
      "metadata": {
        "id": "r0dMRAoe4Pg5",
        "colab_type": "code",
        "colab": {}
      },
      "source": [
        "def predict(X,model):\n",
        "  subm = pd.DataFrame()\n",
        "  subm['ID'] =test.ID\n",
        "  subm['y'] = model.predict(ss_test)\n",
        "  subm.to_csv('NN.csv', index=False)"
      ],
      "execution_count": 0,
      "outputs": []
    },
    {
      "cell_type": "code",
      "metadata": {
        "id": "IUurcnuT5l_O",
        "colab_type": "code",
        "outputId": "e8d28304-9958-450f-8d96-e7a99c7649b3",
        "colab": {
          "base_uri": "https://localhost:8080/",
          "height": 1000
        }
      },
      "source": [
        "model=coordinate(ss_train,y_train)\n",
        "predict(ss_test,model)"
      ],
      "execution_count": 39,
      "outputs": [
        {
          "output_type": "stream",
          "text": [
            "Epoch 1/30\n",
            "3367/3367 [==============================] - 26s 8ms/step - loss: 8515.5914 - r2: -64.4362\n",
            "Epoch 2/30\n",
            "3367/3367 [==============================] - 3s 1ms/step - loss: 3916.9261 - r2: -28.6934\n",
            "Epoch 3/30\n",
            "3367/3367 [==============================] - 3s 1ms/step - loss: 1979.5502 - r2: -14.2376\n",
            "Epoch 4/30\n",
            "3367/3367 [==============================] - 3s 1ms/step - loss: 1050.3632 - r2: -6.8811\n",
            "Epoch 5/30\n",
            "3367/3367 [==============================] - 3s 1ms/step - loss: 571.8356 - r2: -3.1734\n",
            "Epoch 6/30\n",
            "3367/3367 [==============================] - 3s 1ms/step - loss: 327.7656 - r2: -1.2676\n",
            "Epoch 7/30\n",
            "3367/3367 [==============================] - 3s 994us/step - loss: 224.3935 - r2: -0.4904\n",
            "Epoch 8/30\n",
            "3367/3367 [==============================] - 3s 1ms/step - loss: 183.9367 - r2: -0.1745\n",
            "Epoch 9/30\n",
            "3367/3367 [==============================] - 3s 1ms/step - loss: 163.3458 - r2: -0.0351\n",
            "Epoch 10/30\n",
            "3367/3367 [==============================] - 3s 1ms/step - loss: 150.0476 - r2: 0.0531\n",
            "Epoch 11/30\n",
            "3367/3367 [==============================] - 3s 1ms/step - loss: 147.4296 - r2: 0.0635\n",
            "Epoch 12/30\n",
            "3367/3367 [==============================] - 3s 1ms/step - loss: 144.6273 - r2: 0.0893\n",
            "Epoch 13/30\n",
            "3367/3367 [==============================] - 3s 1ms/step - loss: 141.2322 - r2: 0.1027\n",
            "Epoch 14/30\n",
            "3367/3367 [==============================] - 4s 1ms/step - loss: 130.1913 - r2: 0.1978\n",
            "Epoch 15/30\n",
            "3367/3367 [==============================] - 4s 1ms/step - loss: 110.3492 - r2: 0.3447\n",
            "Epoch 16/30\n",
            "3367/3367 [==============================] - 3s 1ms/step - loss: 96.9133 - r2: 0.4475\n",
            "Epoch 17/30\n",
            "3367/3367 [==============================] - 3s 1ms/step - loss: 90.6750 - r2: 0.4877\n",
            "Epoch 18/30\n",
            "3367/3367 [==============================] - 4s 1ms/step - loss: 85.6620 - r2: 0.5013\n",
            "Epoch 19/30\n",
            "3367/3367 [==============================] - 4s 1ms/step - loss: 101.1352 - r2: 0.3810\n",
            "Epoch 20/30\n",
            "3367/3367 [==============================] - 3s 1ms/step - loss: 83.2798 - r2: 0.5428\n",
            "Epoch 21/30\n",
            "3367/3367 [==============================] - 4s 1ms/step - loss: 79.5521 - r2: 0.5603\n",
            "Epoch 22/30\n",
            "3367/3367 [==============================] - 4s 1ms/step - loss: 77.9325 - r2: 0.5657\n",
            "Epoch 23/30\n",
            "3367/3367 [==============================] - 4s 1ms/step - loss: 75.3524 - r2: 0.5826\n",
            "Epoch 24/30\n",
            "3367/3367 [==============================] - 4s 1ms/step - loss: 72.9777 - r2: 0.6013\n",
            "Epoch 25/30\n",
            "3367/3367 [==============================] - 4s 1ms/step - loss: 71.4064 - r2: 0.6171\n",
            "Epoch 26/30\n",
            "3367/3367 [==============================] - 3s 1ms/step - loss: 71.4893 - r2: 0.6102\n",
            "Epoch 27/30\n",
            "3367/3367 [==============================] - 4s 1ms/step - loss: 69.8228 - r2: 0.6213\n",
            "Epoch 28/30\n",
            "3367/3367 [==============================] - 4s 1ms/step - loss: 69.3109 - r2: 0.6125\n",
            "Epoch 29/30\n",
            "3367/3367 [==============================] - 3s 1ms/step - loss: 67.7538 - r2: 0.6324\n",
            "Epoch 30/30\n",
            "3367/3367 [==============================] - 3s 1ms/step - loss: 67.1110 - r2: 0.6316\n",
            "842/842 [==============================] - 10s 12ms/step\n",
            "3367/3367 [==============================] - 2s 463us/step\n",
            "Epoch 1/30\n",
            "3367/3367 [==============================] - 26s 8ms/step - loss: 8751.1529 - r2: -68.8466\n",
            "Epoch 2/30\n",
            "3367/3367 [==============================] - 4s 1ms/step - loss: 4424.9088 - r2: -32.8068\n",
            "Epoch 3/30\n",
            "3367/3367 [==============================] - 3s 1ms/step - loss: 1779.0366 - r2: -12.5719\n",
            "Epoch 4/30\n",
            "3367/3367 [==============================] - 4s 1ms/step - loss: 873.2336 - r2: -5.4628\n",
            "Epoch 5/30\n",
            "3367/3367 [==============================] - 4s 1ms/step - loss: 450.5973 - r2: -2.2676\n",
            "Epoch 6/30\n",
            "3367/3367 [==============================] - 3s 1ms/step - loss: 266.8097 - r2: -0.8226\n",
            "Epoch 7/30\n",
            "3367/3367 [==============================] - 4s 1ms/step - loss: 196.7855 - r2: -0.2842\n",
            "Epoch 8/30\n",
            "3367/3367 [==============================] - 4s 1ms/step - loss: 168.8520 - r2: -0.0769\n",
            "Epoch 9/30\n",
            "3367/3367 [==============================] - 4s 1ms/step - loss: 150.7507 - r2: 0.0352\n",
            "Epoch 10/30\n",
            "3367/3367 [==============================] - 3s 1ms/step - loss: 143.0735 - r2: 0.0912\n",
            "Epoch 11/30\n",
            "3367/3367 [==============================] - 4s 1ms/step - loss: 148.8341 - r2: 0.0533\n",
            "Epoch 12/30\n",
            "3367/3367 [==============================] - 4s 1ms/step - loss: 137.3620 - r2: 0.1409\n",
            "Epoch 13/30\n",
            "3367/3367 [==============================] - 4s 1ms/step - loss: 129.4968 - r2: 0.1892\n",
            "Epoch 14/30\n",
            "3367/3367 [==============================] - 4s 1ms/step - loss: 116.2159 - r2: 0.2763\n",
            "Epoch 15/30\n",
            "3367/3367 [==============================] - 4s 1ms/step - loss: 101.2555 - r2: 0.4020\n",
            "Epoch 16/30\n",
            "3367/3367 [==============================] - 4s 1ms/step - loss: 90.9139 - r2: 0.4733\n",
            "Epoch 17/30\n",
            "3367/3367 [==============================] - 4s 1ms/step - loss: 84.8745 - r2: 0.5137\n",
            "Epoch 18/30\n",
            "3367/3367 [==============================] - 4s 1ms/step - loss: 82.0231 - r2: 0.5395\n",
            "Epoch 19/30\n",
            "3367/3367 [==============================] - 4s 1ms/step - loss: 78.8118 - r2: 0.5453\n",
            "Epoch 20/30\n",
            "3367/3367 [==============================] - 4s 1ms/step - loss: 77.0596 - r2: 0.5609\n",
            "Epoch 21/30\n",
            "3367/3367 [==============================] - 4s 1ms/step - loss: 74.9461 - r2: 0.5754\n",
            "Epoch 22/30\n",
            "3367/3367 [==============================] - 4s 1ms/step - loss: 73.8421 - r2: 0.5741\n",
            "Epoch 23/30\n",
            "3367/3367 [==============================] - 4s 1ms/step - loss: 71.7142 - r2: 0.5978\n",
            "Epoch 24/30\n",
            "3367/3367 [==============================] - 4s 1ms/step - loss: 69.4208 - r2: 0.6057\n",
            "Epoch 25/30\n",
            "3367/3367 [==============================] - 4s 1ms/step - loss: 68.8991 - r2: 0.6132\n",
            "Epoch 26/30\n",
            "3367/3367 [==============================] - 4s 1ms/step - loss: 69.1336 - r2: 0.6131\n",
            "Epoch 27/30\n",
            "3367/3367 [==============================] - 4s 1ms/step - loss: 69.6268 - r2: 0.6131\n",
            "Epoch 28/30\n",
            "3367/3367 [==============================] - 4s 1ms/step - loss: 68.5625 - r2: 0.6175\n",
            "Epoch 29/30\n",
            "3367/3367 [==============================] - 4s 1ms/step - loss: 67.6354 - r2: 0.6143\n",
            "Epoch 30/30\n",
            "3367/3367 [==============================] - 4s 1ms/step - loss: 66.6751 - r2: 0.6245\n",
            "842/842 [==============================] - 9s 11ms/step\n",
            "3367/3367 [==============================] - 1s 414us/step\n",
            "Epoch 1/30\n",
            "3367/3367 [==============================] - 26s 8ms/step - loss: 8522.6159 - r2: -69.7455\n",
            "Epoch 2/30\n",
            "3367/3367 [==============================] - 4s 1ms/step - loss: 3857.9594 - r2: -29.7001\n",
            "Epoch 3/30\n",
            "3367/3367 [==============================] - 4s 1ms/step - loss: 1883.1718 - r2: -13.5898\n",
            "Epoch 4/30\n",
            "3367/3367 [==============================] - 4s 1ms/step - loss: 982.8776 - r2: -6.4134\n",
            "Epoch 5/30\n",
            "3367/3367 [==============================] - 4s 1ms/step - loss: 522.3584 - r2: -2.8739\n",
            "Epoch 6/30\n",
            "3367/3367 [==============================] - 4s 1ms/step - loss: 304.2967 - r2: -1.1380\n",
            "Epoch 7/30\n",
            "3367/3367 [==============================] - 4s 1ms/step - loss: 212.7118 - r2: -0.4224\n",
            "Epoch 8/30\n",
            "3367/3367 [==============================] - 4s 1ms/step - loss: 176.5441 - r2: -0.1539\n",
            "Epoch 9/30\n",
            "3367/3367 [==============================] - 4s 1ms/step - loss: 165.2015 - r2: -0.0637\n",
            "Epoch 10/30\n",
            "3367/3367 [==============================] - 4s 1ms/step - loss: 151.2701 - r2: 0.0099\n",
            "Epoch 11/30\n",
            "3367/3367 [==============================] - 4s 1ms/step - loss: 141.8774 - r2: 0.0719\n",
            "Epoch 12/30\n",
            "3367/3367 [==============================] - 4s 1ms/step - loss: 139.1489 - r2: 0.1194\n",
            "Epoch 13/30\n",
            "3367/3367 [==============================] - 4s 1ms/step - loss: 144.7026 - r2: 0.0581\n",
            "Epoch 14/30\n",
            "3367/3367 [==============================] - 4s 1ms/step - loss: 134.4913 - r2: 0.1363\n",
            "Epoch 15/30\n",
            "3367/3367 [==============================] - 4s 1ms/step - loss: 110.4688 - r2: 0.3273\n",
            "Epoch 16/30\n",
            "3367/3367 [==============================] - 4s 1ms/step - loss: 98.9470 - r2: 0.4292\n",
            "Epoch 17/30\n",
            "3367/3367 [==============================] - 4s 1ms/step - loss: 90.5203 - r2: 0.4858\n",
            "Epoch 18/30\n",
            "3367/3367 [==============================] - 4s 1ms/step - loss: 87.4536 - r2: 0.4992\n",
            "Epoch 19/30\n",
            "3367/3367 [==============================] - 4s 1ms/step - loss: 84.4835 - r2: 0.5183\n",
            "Epoch 20/30\n",
            "3367/3367 [==============================] - 4s 1ms/step - loss: 82.0521 - r2: 0.5360\n",
            "Epoch 21/30\n",
            "3367/3367 [==============================] - 4s 1ms/step - loss: 79.7849 - r2: 0.5498\n",
            "Epoch 22/30\n",
            "3367/3367 [==============================] - 4s 1ms/step - loss: 77.1599 - r2: 0.5636\n",
            "Epoch 23/30\n",
            "3367/3367 [==============================] - 4s 1ms/step - loss: 75.0243 - r2: 0.5716\n",
            "Epoch 24/30\n",
            "3367/3367 [==============================] - 4s 1ms/step - loss: 72.3552 - r2: 0.5978\n",
            "Epoch 25/30\n",
            "3367/3367 [==============================] - 4s 1ms/step - loss: 72.0596 - r2: 0.5986\n",
            "Epoch 26/30\n",
            "3367/3367 [==============================] - 4s 1ms/step - loss: 70.7953 - r2: 0.5966\n",
            "Epoch 27/30\n",
            "3367/3367 [==============================] - 4s 1ms/step - loss: 68.1002 - r2: 0.6277\n",
            "Epoch 28/30\n",
            "3367/3367 [==============================] - 4s 1ms/step - loss: 70.7098 - r2: 0.6004\n",
            "Epoch 29/30\n",
            "3367/3367 [==============================] - 4s 1ms/step - loss: 69.5539 - r2: 0.5985\n",
            "Epoch 30/30\n",
            "3367/3367 [==============================] - 4s 1ms/step - loss: 67.5843 - r2: 0.6239\n",
            "842/842 [==============================] - 9s 11ms/step\n",
            "3367/3367 [==============================] - 2s 501us/step\n",
            "Epoch 1/30\n",
            "3367/3367 [==============================] - 27s 8ms/step - loss: 8804.8117 - r2: -67.9466\n",
            "Epoch 2/30\n",
            "3367/3367 [==============================] - 4s 1ms/step - loss: 4516.9677 - r2: -34.2627\n",
            "Epoch 3/30\n",
            "3367/3367 [==============================] - 4s 1ms/step - loss: 1928.3286 - r2: -13.8308\n",
            "Epoch 4/30\n",
            "3367/3367 [==============================] - 4s 1ms/step - loss: 971.9577 - r2: -6.2450\n",
            "Epoch 5/30\n",
            "3367/3367 [==============================] - 4s 1ms/step - loss: 506.0744 - r2: -2.6771\n",
            "Epoch 6/30\n",
            "3367/3367 [==============================] - 4s 1ms/step - loss: 294.0682 - r2: -1.0327\n",
            "Epoch 7/30\n",
            "3367/3367 [==============================] - 4s 1ms/step - loss: 207.5099 - r2: -0.3529\n",
            "Epoch 8/30\n",
            "3367/3367 [==============================] - 4s 1ms/step - loss: 176.5518 - r2: -0.1326\n",
            "Epoch 9/30\n",
            "3367/3367 [==============================] - 4s 1ms/step - loss: 166.9854 - r2: -0.0606\n",
            "Epoch 10/30\n",
            "3367/3367 [==============================] - 4s 1ms/step - loss: 155.6320 - r2: 0.0097\n",
            "Epoch 11/30\n",
            "3367/3367 [==============================] - 4s 1ms/step - loss: 142.9391 - r2: 0.0909\n",
            "Epoch 12/30\n",
            "3367/3367 [==============================] - 4s 1ms/step - loss: 143.5113 - r2: 0.0920\n",
            "Epoch 13/30\n",
            "3367/3367 [==============================] - 4s 1ms/step - loss: 133.6202 - r2: 0.1622\n",
            "Epoch 14/30\n",
            "3367/3367 [==============================] - 4s 1ms/step - loss: 128.6977 - r2: 0.1935\n",
            "Epoch 15/30\n",
            "3367/3367 [==============================] - 4s 1ms/step - loss: 115.6219 - r2: 0.2898\n",
            "Epoch 16/30\n",
            "3367/3367 [==============================] - 4s 1ms/step - loss: 103.4312 - r2: 0.3828\n",
            "Epoch 17/30\n",
            "3367/3367 [==============================] - 4s 1ms/step - loss: 91.6362 - r2: 0.4689\n",
            "Epoch 18/30\n",
            "3367/3367 [==============================] - 4s 1ms/step - loss: 85.0296 - r2: 0.5176\n",
            "Epoch 19/30\n",
            "3367/3367 [==============================] - 4s 1ms/step - loss: 82.5686 - r2: 0.5352\n",
            "Epoch 20/30\n",
            "3367/3367 [==============================] - 4s 1ms/step - loss: 80.4238 - r2: 0.5366\n",
            "Epoch 21/30\n",
            "3367/3367 [==============================] - 4s 1ms/step - loss: 77.3241 - r2: 0.5654\n",
            "Epoch 22/30\n",
            "3367/3367 [==============================] - 4s 1ms/step - loss: 74.3979 - r2: 0.5928\n",
            "Epoch 23/30\n",
            "3367/3367 [==============================] - 4s 1ms/step - loss: 73.3339 - r2: 0.5883\n",
            "Epoch 24/30\n",
            "3367/3367 [==============================] - 4s 1ms/step - loss: 71.4029 - r2: 0.6017\n",
            "Epoch 25/30\n",
            "3367/3367 [==============================] - 4s 1ms/step - loss: 71.6969 - r2: 0.5924\n",
            "Epoch 26/30\n",
            "3367/3367 [==============================] - 4s 1ms/step - loss: 70.0902 - r2: 0.6003\n",
            "Epoch 27/30\n",
            "3367/3367 [==============================] - 4s 1ms/step - loss: 68.8446 - r2: 0.6038\n",
            "Epoch 28/30\n",
            "3367/3367 [==============================] - 4s 1ms/step - loss: 68.0339 - r2: 0.6159\n",
            "Epoch 29/30\n",
            "3367/3367 [==============================] - 4s 1ms/step - loss: 69.4057 - r2: 0.6024\n",
            "Epoch 30/30\n",
            "3367/3367 [==============================] - 4s 1ms/step - loss: 66.3652 - r2: 0.6244\n",
            "842/842 [==============================] - 10s 12ms/step\n",
            "3367/3367 [==============================] - 2s 499us/step\n",
            "Epoch 1/30\n",
            "3368/3368 [==============================] - 27s 8ms/step - loss: 8732.5961 - r2: -68.4656\n",
            "Epoch 2/30\n",
            "3368/3368 [==============================] - 4s 1ms/step - loss: 5259.7661 - r2: -39.6488\n",
            "Epoch 3/30\n",
            "3368/3368 [==============================] - 4s 1ms/step - loss: 1912.9765 - r2: -13.8544\n",
            "Epoch 4/30\n",
            "3368/3368 [==============================] - 4s 1ms/step - loss: 911.5284 - r2: -5.8551\n",
            "Epoch 5/30\n",
            "3368/3368 [==============================] - 4s 1ms/step - loss: 459.8965 - r2: -2.2939\n",
            "Epoch 6/30\n",
            "3368/3368 [==============================] - 4s 1ms/step - loss: 268.3910 - r2: -0.8428\n",
            "Epoch 7/30\n",
            "3368/3368 [==============================] - 4s 1ms/step - loss: 196.1335 - r2: -0.2830\n",
            "Epoch 8/30\n",
            "3368/3368 [==============================] - 4s 1ms/step - loss: 169.8800 - r2: -0.0754\n",
            "Epoch 9/30\n",
            "3368/3368 [==============================] - 4s 1ms/step - loss: 151.0981 - r2: 0.0327\n",
            "Epoch 10/30\n",
            "3368/3368 [==============================] - 4s 1ms/step - loss: 140.9902 - r2: 0.0976\n",
            "Epoch 11/30\n",
            "3368/3368 [==============================] - 4s 1ms/step - loss: 138.8921 - r2: 0.1124\n",
            "Epoch 12/30\n",
            "3368/3368 [==============================] - 4s 1ms/step - loss: 139.3974 - r2: 0.1026\n",
            "Epoch 13/30\n",
            "3368/3368 [==============================] - 4s 1ms/step - loss: 134.7139 - r2: 0.1304\n",
            "Epoch 14/30\n",
            "3368/3368 [==============================] - 4s 1ms/step - loss: 116.2870 - r2: 0.2862\n",
            "Epoch 15/30\n",
            "3368/3368 [==============================] - 4s 1ms/step - loss: 100.9647 - r2: 0.3930\n",
            "Epoch 16/30\n",
            "3368/3368 [==============================] - 4s 1ms/step - loss: 93.8049 - r2: 0.4488\n",
            "Epoch 17/30\n",
            "3368/3368 [==============================] - 4s 1ms/step - loss: 88.1588 - r2: 0.4960\n",
            "Epoch 18/30\n",
            "3368/3368 [==============================] - 4s 1ms/step - loss: 84.8202 - r2: 0.5095\n",
            "Epoch 19/30\n",
            "3368/3368 [==============================] - 3s 1ms/step - loss: 80.8129 - r2: 0.5438\n",
            "Epoch 20/30\n",
            "3368/3368 [==============================] - 4s 1ms/step - loss: 78.4245 - r2: 0.5482\n",
            "Epoch 21/30\n",
            "3368/3368 [==============================] - 4s 1ms/step - loss: 74.3458 - r2: 0.5904\n",
            "Epoch 22/30\n",
            "3368/3368 [==============================] - 4s 1ms/step - loss: 74.7302 - r2: 0.5665\n",
            "Epoch 23/30\n",
            "3368/3368 [==============================] - 4s 1ms/step - loss: 73.7042 - r2: 0.5793\n",
            "Epoch 24/30\n",
            "3368/3368 [==============================] - 4s 1ms/step - loss: 78.3491 - r2: 0.5346\n",
            "Epoch 25/30\n",
            "3368/3368 [==============================] - 4s 1ms/step - loss: 71.9548 - r2: 0.6054\n",
            "Epoch 26/30\n",
            "3368/3368 [==============================] - 4s 1ms/step - loss: 73.0597 - r2: 0.5852\n",
            "Epoch 27/30\n",
            "3368/3368 [==============================] - 4s 1ms/step - loss: 74.0047 - r2: 0.5825\n",
            "Epoch 28/30\n",
            "3368/3368 [==============================] - 4s 1ms/step - loss: 70.2945 - r2: 0.6052\n",
            "Epoch 29/30\n",
            "3368/3368 [==============================] - 4s 1ms/step - loss: 69.6984 - r2: 0.6138\n",
            "Epoch 30/30\n",
            "3368/3368 [==============================] - 4s 1ms/step - loss: 69.4786 - r2: 0.5984\n",
            "841/841 [==============================] - 10s 11ms/step\n",
            "3368/3368 [==============================] - 2s 567us/step\n",
            "Test R2:  0.5835123439619243 Train R2:  0.6786805666969773\n",
            "Train on 3367 samples, validate on 842 samples\n",
            "Epoch 1/30\n",
            "3367/3367 [==============================] - 31s 9ms/step - loss: 8655.6619 - r2: -66.2429 - val_loss: 5392.6170 - val_r2: -45.4981\n",
            "Epoch 2/30\n",
            "3367/3367 [==============================] - 4s 1ms/step - loss: 3956.3348 - r2: -28.5247 - val_loss: 2417.6144 - val_r2: -19.7820\n",
            "Epoch 3/30\n",
            "3367/3367 [==============================] - 4s 1ms/step - loss: 1965.6233 - r2: -13.9184 - val_loss: 1232.6026 - val_r2: -9.4711\n",
            "Epoch 4/30\n",
            "3367/3367 [==============================] - 4s 1ms/step - loss: 1035.1458 - r2: -6.6174 - val_loss: 621.2586 - val_r2: -4.1608\n",
            "Epoch 5/30\n",
            "3367/3367 [==============================] - 4s 1ms/step - loss: 555.0844 - r2: -2.8705 - val_loss: 325.0117 - val_r2: -1.5952\n",
            "Epoch 6/30\n",
            "3367/3367 [==============================] - 4s 1ms/step - loss: 323.0361 - r2: -1.1841 - val_loss: 198.7169 - val_r2: -0.5080\n",
            "Epoch 7/30\n",
            "3367/3367 [==============================] - 4s 1ms/step - loss: 219.6666 - r2: -0.4147 - val_loss: 143.1042 - val_r2: -0.0432\n",
            "Epoch 8/30\n",
            "3367/3367 [==============================] - 4s 1ms/step - loss: 177.1124 - r2: -0.1055 - val_loss: 128.3134 - val_r2: 0.0767\n",
            "Epoch 9/30\n",
            "3367/3367 [==============================] - 4s 1ms/step - loss: 156.4448 - r2: 0.0275 - val_loss: 122.0014 - val_r2: 0.1223\n",
            "Epoch 10/30\n",
            "3367/3367 [==============================] - 4s 1ms/step - loss: 149.2903 - r2: 0.0674 - val_loss: 119.3981 - val_r2: 0.1438\n",
            "Epoch 11/30\n",
            "3367/3367 [==============================] - 4s 1ms/step - loss: 136.5954 - r2: 0.1712 - val_loss: 105.4801 - val_r2: 0.2591\n",
            "Epoch 12/30\n",
            "3367/3367 [==============================] - 4s 1ms/step - loss: 122.3972 - r2: 0.2720 - val_loss: 90.7439 - val_r2: 0.3832\n",
            "Epoch 13/30\n",
            "3367/3367 [==============================] - 4s 1ms/step - loss: 110.6474 - r2: 0.3515 - val_loss: 83.2029 - val_r2: 0.4452\n",
            "Epoch 14/30\n",
            "3367/3367 [==============================] - 4s 1ms/step - loss: 105.3282 - r2: 0.3842 - val_loss: 81.1730 - val_r2: 0.4604\n",
            "Epoch 15/30\n",
            "3367/3367 [==============================] - 4s 1ms/step - loss: 97.2078 - r2: 0.4443 - val_loss: 73.6457 - val_r2: 0.5208\n",
            "Epoch 16/30\n",
            "3367/3367 [==============================] - 4s 1ms/step - loss: 90.8968 - r2: 0.4933 - val_loss: 68.7038 - val_r2: 0.5593\n",
            "Epoch 17/30\n",
            "3367/3367 [==============================] - 4s 1ms/step - loss: 87.2534 - r2: 0.5164 - val_loss: 68.4745 - val_r2: 0.5585\n",
            "Epoch 18/30\n",
            "3367/3367 [==============================] - 4s 1ms/step - loss: 84.7609 - r2: 0.5291 - val_loss: 65.6601 - val_r2: 0.5808\n",
            "Epoch 19/30\n",
            "3367/3367 [==============================] - 4s 1ms/step - loss: 83.3305 - r2: 0.5342 - val_loss: 63.9680 - val_r2: 0.5909\n",
            "Epoch 20/30\n",
            "3367/3367 [==============================] - 4s 1ms/step - loss: 81.6102 - r2: 0.5484 - val_loss: 64.5950 - val_r2: 0.5859\n",
            "Epoch 21/30\n",
            "3367/3367 [==============================] - 4s 1ms/step - loss: 79.3739 - r2: 0.5685 - val_loss: 64.9844 - val_r2: 0.5814\n",
            "Epoch 22/30\n",
            "3367/3367 [==============================] - 4s 1ms/step - loss: 77.0034 - r2: 0.5808 - val_loss: 62.1905 - val_r2: 0.6015\n",
            "Epoch 23/30\n",
            "3367/3367 [==============================] - 4s 1ms/step - loss: 74.8749 - r2: 0.5847 - val_loss: 60.7176 - val_r2: 0.6115\n",
            "Epoch 24/30\n",
            "3367/3367 [==============================] - 4s 1ms/step - loss: 73.2484 - r2: 0.6003 - val_loss: 61.7137 - val_r2: 0.6016\n",
            "Epoch 25/30\n",
            "3367/3367 [==============================] - 4s 1ms/step - loss: 73.2196 - r2: 0.5939 - val_loss: 62.6146 - val_r2: 0.5947\n",
            "Epoch 26/30\n",
            "3367/3367 [==============================] - 4s 1ms/step - loss: 71.8043 - r2: 0.6029 - val_loss: 63.0882 - val_r2: 0.5878\n",
            "Epoch 27/30\n",
            "3367/3367 [==============================] - 4s 1ms/step - loss: 71.9443 - r2: 0.5988 - val_loss: 63.4113 - val_r2: 0.5845\n",
            "Epoch 28/30\n",
            "3367/3367 [==============================] - 4s 1ms/step - loss: 70.5043 - r2: 0.6088 - val_loss: 61.8914 - val_r2: 0.5947\n",
            "Epoch 29/30\n",
            "3367/3367 [==============================] - 4s 1ms/step - loss: 70.1237 - r2: 0.6151 - val_loss: 66.2796 - val_r2: 0.5573\n",
            "Epoch 30/30\n",
            "3367/3367 [==============================] - 4s 1ms/step - loss: 70.3179 - r2: 0.6104 - val_loss: 63.1493 - val_r2: 0.5840\n",
            "dict_keys(['val_loss', 'val_r2', 'loss', 'r2'])\n"
          ],
          "name": "stdout"
        },
        {
          "output_type": "display_data",
          "data": {
            "image/png": "[encoded data removed]",
            "text/plain": [
              "<Figure size 432x288 with 1 Axes>"
            ]
          },
          "metadata": {
            "tags": []
          }
        },
        {
          "output_type": "display_data",
          "data": {
            "image/png": "[encoded data removed]",
            "text/plain": [
              "<Figure size 432x288 with 1 Axes>"
            ]
          },
          "metadata": {
            "tags": []
          }
        },
        {
          "output_type": "stream",
          "text": [
            "4209/4209 [==============================] - 11s 3ms/step\n"
          ],
          "name": "stdout"
        }
      ]
    },
    {
      "cell_type": "markdown",
      "metadata": {
        "id": "wj1Ty2yMBMir",
        "colab_type": "text"
      },
      "source": [
        "LB(0.52588,0.52741),CV:.5835"
      ]
    },
    {
      "cell_type": "markdown",
      "metadata": {
        "id": "NMptY9BXBYJE",
        "colab_type": "text"
      },
      "source": [
        "**GridSearch for NN**"
      ]
    },
    {
      "cell_type": "code",
      "metadata": {
        "id": "9UCTBnphbnL8",
        "colab_type": "code",
        "colab": {}
      },
      "source": [
        "#https://stackoverflow.com/questions/48390601/explicitly-specifying-test-train-sets-in-gridsearchcv\n",
        "from sklearn.model_selection import PredefinedSplit\n",
        "train_indices = np.full((3368,), -1, dtype=int)\n",
        "test_indices = np.full((841,), 0, dtype=int)\n",
        "test_fold = np.append(train_indices, test_indices)\n",
        "#.2 split\n",
        "np.random.shuffle(test_fold)#shuffling of array done here\n",
        "ps = PredefinedSplit(test_fold)"
      ],
      "execution_count": 0,
      "outputs": []
    },
    {
      "cell_type": "code",
      "metadata": {
        "id": "EZa2-ogT1a5m",
        "colab_type": "code",
        "colab": {
          "base_uri": "https://localhost:8080/",
          "height": 1000
        },
        "outputId": "f568e187-e0fb-4a51-a60f-50a19b8c3b86"
      },
      "source": [
        "net=KerasRegressor(build_fn= simple_net,verbose=False,epochs=30)\n",
        "\n",
        "dropout_rate = [0.1, 0.2, 0.3, 0.4, ]\n",
        "init = ['glorot_uniform', 'normal', 'uniform']\n",
        "act=['tanh','relu']\n",
        "batches = [5, 10, 20]\n",
        "param_grid = dict(dropout=dropout_rate, \n",
        "                  batch_size=batches, \n",
        "                  act_func= act,\n",
        "                  init=init)\n",
        "\n",
        "grid = GridSearchCV(estimator=net, param_grid=param_grid,cv=ps,verbose=2,n_jobs=-1,scoring='r2')\n",
        "grid_result = grid.fit(ss_train, y_train)\n",
        "print(\"Best: %f using %s\" % (grid_result.best_score_, grid_result.best_params_))\n",
        "means = grid_result.cv_results_['mean_test_score']\n",
        "stds = grid_result.cv_results_['std_test_score']\n",
        "params = grid_result.cv_results_['params']\n",
        "for mean, stdev, param in zip(means, stds, params):\n",
        "    print(\"%f (%f) with: %r\" % (mean, stdev, param))"
      ],
      "execution_count": 24,
      "outputs": [
        {
          "output_type": "stream",
          "text": [
            "Fitting 1 folds for each of 72 candidates, totalling 72 fits\n"
          ],
          "name": "stdout"
        },
        {
          "output_type": "stream",
          "text": [
            "[Parallel(n_jobs=-1)]: Using backend LokyBackend with 2 concurrent workers.\n",
            "/usr/local/lib/python3.6/dist-packages/joblib/externals/loky/process_executor.py:706: UserWarning: A worker stopped while some jobs were given to the executor. This can be caused by a too short worker timeout or by a memory leak.\n",
            "  \"timeout or by a memory leak.\", UserWarning\n",
            "[Parallel(n_jobs=-1)]: Done  37 tasks      | elapsed: 58.1min\n",
            "[Parallel(n_jobs=-1)]: Done  72 out of  72 | elapsed: 105.6min finished\n"
          ],
          "name": "stderr"
        },
        {
          "output_type": "stream",
          "text": [
            "Best: 0.565752 using {'act_func': 'tanh', 'batch_size': 5, 'dropout': 0.4, 'init': 'glorot_uniform'}\n",
            "0.556514 (0.000000) with: {'act_func': 'tanh', 'batch_size': 5, 'dropout': 0.1, 'init': 'glorot_uniform'}\n",
            "0.557950 (0.000000) with: {'act_func': 'tanh', 'batch_size': 5, 'dropout': 0.1, 'init': 'normal'}\n",
            "0.550767 (0.000000) with: {'act_func': 'tanh', 'batch_size': 5, 'dropout': 0.1, 'init': 'uniform'}\n",
            "0.563773 (0.000000) with: {'act_func': 'tanh', 'batch_size': 5, 'dropout': 0.2, 'init': 'glorot_uniform'}\n",
            "0.555549 (0.000000) with: {'act_func': 'tanh', 'batch_size': 5, 'dropout': 0.2, 'init': 'normal'}\n",
            "0.551606 (0.000000) with: {'act_func': 'tanh', 'batch_size': 5, 'dropout': 0.2, 'init': 'uniform'}\n",
            "0.550896 (0.000000) with: {'act_func': 'tanh', 'batch_size': 5, 'dropout': 0.3, 'init': 'glorot_uniform'}\n",
            "0.562173 (0.000000) with: {'act_func': 'tanh', 'batch_size': 5, 'dropout': 0.3, 'init': 'normal'}\n",
            "0.552852 (0.000000) with: {'act_func': 'tanh', 'batch_size': 5, 'dropout': 0.3, 'init': 'uniform'}\n",
            "0.565752 (0.000000) with: {'act_func': 'tanh', 'batch_size': 5, 'dropout': 0.4, 'init': 'glorot_uniform'}\n",
            "0.553614 (0.000000) with: {'act_func': 'tanh', 'batch_size': 5, 'dropout': 0.4, 'init': 'normal'}\n",
            "0.552952 (0.000000) with: {'act_func': 'tanh', 'batch_size': 5, 'dropout': 0.4, 'init': 'uniform'}\n",
            "0.545485 (0.000000) with: {'act_func': 'tanh', 'batch_size': 10, 'dropout': 0.1, 'init': 'glorot_uniform'}\n",
            "0.505039 (0.000000) with: {'act_func': 'tanh', 'batch_size': 10, 'dropout': 0.1, 'init': 'normal'}\n",
            "0.553780 (0.000000) with: {'act_func': 'tanh', 'batch_size': 10, 'dropout': 0.1, 'init': 'uniform'}\n",
            "0.549157 (0.000000) with: {'act_func': 'tanh', 'batch_size': 10, 'dropout': 0.2, 'init': 'glorot_uniform'}\n",
            "0.547299 (0.000000) with: {'act_func': 'tanh', 'batch_size': 10, 'dropout': 0.2, 'init': 'normal'}\n",
            "0.545869 (0.000000) with: {'act_func': 'tanh', 'batch_size': 10, 'dropout': 0.2, 'init': 'uniform'}\n",
            "0.547616 (0.000000) with: {'act_func': 'tanh', 'batch_size': 10, 'dropout': 0.3, 'init': 'glorot_uniform'}\n",
            "0.555956 (0.000000) with: {'act_func': 'tanh', 'batch_size': 10, 'dropout': 0.3, 'init': 'normal'}\n",
            "0.548747 (0.000000) with: {'act_func': 'tanh', 'batch_size': 10, 'dropout': 0.3, 'init': 'uniform'}\n",
            "0.552946 (0.000000) with: {'act_func': 'tanh', 'batch_size': 10, 'dropout': 0.4, 'init': 'glorot_uniform'}\n",
            "0.550035 (0.000000) with: {'act_func': 'tanh', 'batch_size': 10, 'dropout': 0.4, 'init': 'normal'}\n",
            "0.550389 (0.000000) with: {'act_func': 'tanh', 'batch_size': 10, 'dropout': 0.4, 'init': 'uniform'}\n",
            "0.555831 (0.000000) with: {'act_func': 'tanh', 'batch_size': 20, 'dropout': 0.1, 'init': 'glorot_uniform'}\n",
            "0.539495 (0.000000) with: {'act_func': 'tanh', 'batch_size': 20, 'dropout': 0.1, 'init': 'normal'}\n",
            "0.548627 (0.000000) with: {'act_func': 'tanh', 'batch_size': 20, 'dropout': 0.1, 'init': 'uniform'}\n",
            "0.541174 (0.000000) with: {'act_func': 'tanh', 'batch_size': 20, 'dropout': 0.2, 'init': 'glorot_uniform'}\n",
            "0.558481 (0.000000) with: {'act_func': 'tanh', 'batch_size': 20, 'dropout': 0.2, 'init': 'normal'}\n",
            "0.497519 (0.000000) with: {'act_func': 'tanh', 'batch_size': 20, 'dropout': 0.2, 'init': 'uniform'}\n",
            "0.559311 (0.000000) with: {'act_func': 'tanh', 'batch_size': 20, 'dropout': 0.3, 'init': 'glorot_uniform'}\n",
            "0.554451 (0.000000) with: {'act_func': 'tanh', 'batch_size': 20, 'dropout': 0.3, 'init': 'normal'}\n",
            "0.553339 (0.000000) with: {'act_func': 'tanh', 'batch_size': 20, 'dropout': 0.3, 'init': 'uniform'}\n",
            "0.550692 (0.000000) with: {'act_func': 'tanh', 'batch_size': 20, 'dropout': 0.4, 'init': 'glorot_uniform'}\n",
            "0.557567 (0.000000) with: {'act_func': 'tanh', 'batch_size': 20, 'dropout': 0.4, 'init': 'normal'}\n",
            "0.544810 (0.000000) with: {'act_func': 'tanh', 'batch_size': 20, 'dropout': 0.4, 'init': 'uniform'}\n",
            "0.423350 (0.000000) with: {'act_func': 'relu', 'batch_size': 5, 'dropout': 0.1, 'init': 'glorot_uniform'}\n",
            "0.368515 (0.000000) with: {'act_func': 'relu', 'batch_size': 5, 'dropout': 0.1, 'init': 'normal'}\n",
            "0.466682 (0.000000) with: {'act_func': 'relu', 'batch_size': 5, 'dropout': 0.1, 'init': 'uniform'}\n",
            "0.291897 (0.000000) with: {'act_func': 'relu', 'batch_size': 5, 'dropout': 0.2, 'init': 'glorot_uniform'}\n",
            "0.474281 (0.000000) with: {'act_func': 'relu', 'batch_size': 5, 'dropout': 0.2, 'init': 'normal'}\n",
            "0.131836 (0.000000) with: {'act_func': 'relu', 'batch_size': 5, 'dropout': 0.2, 'init': 'uniform'}\n",
            "0.474855 (0.000000) with: {'act_func': 'relu', 'batch_size': 5, 'dropout': 0.3, 'init': 'glorot_uniform'}\n",
            "0.425045 (0.000000) with: {'act_func': 'relu', 'batch_size': 5, 'dropout': 0.3, 'init': 'normal'}\n",
            "0.482757 (0.000000) with: {'act_func': 'relu', 'batch_size': 5, 'dropout': 0.3, 'init': 'uniform'}\n",
            "0.517481 (0.000000) with: {'act_func': 'relu', 'batch_size': 5, 'dropout': 0.4, 'init': 'glorot_uniform'}\n",
            "0.390409 (0.000000) with: {'act_func': 'relu', 'batch_size': 5, 'dropout': 0.4, 'init': 'normal'}\n",
            "0.485513 (0.000000) with: {'act_func': 'relu', 'batch_size': 5, 'dropout': 0.4, 'init': 'uniform'}\n",
            "0.365072 (0.000000) with: {'act_func': 'relu', 'batch_size': 10, 'dropout': 0.1, 'init': 'glorot_uniform'}\n",
            "0.400959 (0.000000) with: {'act_func': 'relu', 'batch_size': 10, 'dropout': 0.1, 'init': 'normal'}\n",
            "0.348765 (0.000000) with: {'act_func': 'relu', 'batch_size': 10, 'dropout': 0.1, 'init': 'uniform'}\n",
            "0.436931 (0.000000) with: {'act_func': 'relu', 'batch_size': 10, 'dropout': 0.2, 'init': 'glorot_uniform'}\n",
            "0.436363 (0.000000) with: {'act_func': 'relu', 'batch_size': 10, 'dropout': 0.2, 'init': 'normal'}\n",
            "0.472437 (0.000000) with: {'act_func': 'relu', 'batch_size': 10, 'dropout': 0.2, 'init': 'uniform'}\n",
            "0.517868 (0.000000) with: {'act_func': 'relu', 'batch_size': 10, 'dropout': 0.3, 'init': 'glorot_uniform'}\n",
            "0.474401 (0.000000) with: {'act_func': 'relu', 'batch_size': 10, 'dropout': 0.3, 'init': 'normal'}\n",
            "0.485187 (0.000000) with: {'act_func': 'relu', 'batch_size': 10, 'dropout': 0.3, 'init': 'uniform'}\n",
            "0.527972 (0.000000) with: {'act_func': 'relu', 'batch_size': 10, 'dropout': 0.4, 'init': 'glorot_uniform'}\n",
            "0.496651 (0.000000) with: {'act_func': 'relu', 'batch_size': 10, 'dropout': 0.4, 'init': 'normal'}\n",
            "0.418151 (0.000000) with: {'act_func': 'relu', 'batch_size': 10, 'dropout': 0.4, 'init': 'uniform'}\n",
            "0.377919 (0.000000) with: {'act_func': 'relu', 'batch_size': 20, 'dropout': 0.1, 'init': 'glorot_uniform'}\n",
            "0.467957 (0.000000) with: {'act_func': 'relu', 'batch_size': 20, 'dropout': 0.1, 'init': 'normal'}\n",
            "0.273387 (0.000000) with: {'act_func': 'relu', 'batch_size': 20, 'dropout': 0.1, 'init': 'uniform'}\n",
            "0.433345 (0.000000) with: {'act_func': 'relu', 'batch_size': 20, 'dropout': 0.2, 'init': 'glorot_uniform'}\n",
            "0.418988 (0.000000) with: {'act_func': 'relu', 'batch_size': 20, 'dropout': 0.2, 'init': 'normal'}\n",
            "0.454751 (0.000000) with: {'act_func': 'relu', 'batch_size': 20, 'dropout': 0.2, 'init': 'uniform'}\n",
            "0.429461 (0.000000) with: {'act_func': 'relu', 'batch_size': 20, 'dropout': 0.3, 'init': 'glorot_uniform'}\n",
            "0.457475 (0.000000) with: {'act_func': 'relu', 'batch_size': 20, 'dropout': 0.3, 'init': 'normal'}\n",
            "0.502086 (0.000000) with: {'act_func': 'relu', 'batch_size': 20, 'dropout': 0.3, 'init': 'uniform'}\n",
            "0.527533 (0.000000) with: {'act_func': 'relu', 'batch_size': 20, 'dropout': 0.4, 'init': 'glorot_uniform'}\n",
            "0.422391 (0.000000) with: {'act_func': 'relu', 'batch_size': 20, 'dropout': 0.4, 'init': 'normal'}\n",
            "0.392919 (0.000000) with: {'act_func': 'relu', 'batch_size': 20, 'dropout': 0.4, 'init': 'uniform'}\n"
          ],
          "name": "stdout"
        }
      ]
    },
    {
      "cell_type": "markdown",
      "metadata": {
        "id": "1u6uCxfgb9Gb",
        "colab_type": "text"
      },
      "source": [
        "**Fitting the best NN model according to Gridsearch**"
      ]
    },
    {
      "cell_type": "code",
      "metadata": {
        "id": "f64sBE5WbNt-",
        "colab_type": "code",
        "colab": {}
      },
      "source": [
        "#gridsearch best params\n",
        "best={'act_func': 'tanh', 'batch_size': 5, 'dropout': 0.4, 'init': 'glorot_uniform'}\n",
        "net=KerasRegressor(build_fn= simple_net,verbose=False,epochs=30,**best)\n",
        "net.fit(ss_train,y_train)\n",
        "subm = pd.DataFrame()\n",
        "subm['ID'] =test.ID\n",
        "subm['y'] = net.predict(ss_test)\n",
        "subm.to_csv('NN_final.csv', index=False)"
      ],
      "execution_count": 0,
      "outputs": []
    },
    {
      "cell_type": "markdown",
      "metadata": {
        "id": "pl93_Zk-dXqU",
        "colab_type": "text"
      },
      "source": [
        "LB(0.53706,0.55288),CV:.5657"
      ]
    },
    {
      "cell_type": "markdown",
      "metadata": {
        "id": "IN682IMOfRxE",
        "colab_type": "text"
      },
      "source": [
        "**Storing the Best Model So Far**"
      ]
    },
    {
      "cell_type": "code",
      "metadata": {
        "id": "6PSovCO8N4wB",
        "colab_type": "code",
        "colab": {}
      },
      "source": [
        "pkl_filename = \"/content/drive/My Drive/mercedes-benz-greener-manufacturing/pickle_model.pkl\"\n",
        "with open(pkl_filename, 'wb') as file:\n",
        "    pickle.dump(stack, file)"
      ],
      "execution_count": 0,
      "outputs": []
    },
    {
      "cell_type": "markdown",
      "metadata": {
        "id": "JqEay7Q4RNfq",
        "colab_type": "text"
      },
      "source": [
        "### **Inference**"
      ]
    },
    {
      "cell_type": "code",
      "metadata": {
        "id": "H0jbPcdEQ6zh",
        "colab_type": "code",
        "outputId": "f208119f-93c1-4bf1-b32a-87d7c20b5980",
        "colab": {
          "base_uri": "https://localhost:8080/",
          "height": 51
        }
      },
      "source": [
        "pkl_filename = \"/content/drive/My Drive/mercedes-benz-greener-manufacturing/pickle_model.pkl\"\n",
        "with open(pkl_filename, 'rb') as file:\n",
        "    pickle_model = pickle.load(file)"
      ],
      "execution_count": 0,
      "outputs": [
        {
          "output_type": "stream",
          "text": [
            "[14:36:05] WARNING: /workspace/src/objective/regression_obj.cu:152: reg:linear is now deprecated in favor of reg:squarederror.\n",
            "[14:36:06] WARNING: /workspace/src/objective/regression_obj.cu:152: reg:linear is now deprecated in favor of reg:squarederror.\n"
          ],
          "name": "stdout"
        }
      ]
    },
    {
      "cell_type": "code",
      "metadata": {
        "id": "2XwHrIqJRqAp",
        "colab_type": "code",
        "colab": {}
      },
      "source": [
        "test= pd.read_csv('/content/drive/My Drive/mercedes-benz-greener-manufacturing/test_label.csv')\n",
        "train= pd.read_csv('/content/drive/My Drive/mercedes-benz-greener-manufacturing/train_label.csv')\n",
        "\n",
        "y_train= train.y.values\n",
        "targets= y_train\n",
        "train.drop(['y'],inplace= True,axis=1)"
      ],
      "execution_count": 0,
      "outputs": []
    },
    {
      "cell_type": "code",
      "metadata": {
        "id": "30HhvO6WRC2A",
        "colab_type": "code",
        "colab": {}
      },
      "source": [
        "x_test= np.array(test)\n",
        "ids_test= test.ID\n",
        "y_pred = pickle_model.predict(x_test)\n",
        "subm = pd.DataFrame()\n",
        "subm['ID'] = ids_test\n",
        "subm['y'] = y_pred\n",
        "subm.to_csv('pickle_submission.csv', index=False)"
      ],
      "execution_count": 0,
      "outputs": []
    },
    {
      "cell_type": "markdown",
      "metadata": {
        "id": "_aoZZNNpslEZ",
        "colab_type": "text"
      },
      "source": [
        "### **Conclusion**"
      ]
    },
    {
      "cell_type": "code",
      "metadata": {
        "id": "SqXgC1Q8Y1It",
        "colab_type": "code",
        "outputId": "0eb33718-700c-4a37-f412-147bd4609b09",
        "colab": {
          "base_uri": "https://localhost:8080/",
          "height": 323
        }
      },
      "source": [
        "from prettytable import PrettyTable\n",
        "x = PrettyTable()\n",
        "x.field_names = [\"Model\", \"Categorical_encoding\",'CV', \"PublicLB\",\"PrivateLB\"]\n",
        "x.add_row([\"XGB_pca\",'label',.5972, .5615,.5463])\n",
        "x.add_row([\"LinearReg\",'one_hot',.5830, .5325,.5378])\n",
        "x.add_row([\"LinearReg\",'mean/tar',.5838, .5438,.5379])\n",
        "x.add_row([\"RandomForest\",'mean/tar',.6055, .5586,.5489])\n",
        "x.add_row([\"XGboost\",'mean/tar',.6081, .5570,.5483])\n",
        "x.add_row([\"ExtraTrees\",'mean/tar',.6009, .5554,.5483])\n",
        "x.add_row([\"RandomForest\",'label',.6023, .5568,.5498])\n",
        "x.add_row([\"XGboost\",'label',.6042, .5555,.5503])\n",
        "x.add_row([\"ExtraTrees\",'label',.5986, .5537,.5470])\n",
        "x.add_row([\"***Stacked(et,rf,xgb)***\",'label',.6052, .5579,.5522])\n",
        "x.add_row([\"Stack+interactions(et,rf,xgb)\",'label',.6044, .5573,.5519])\n",
        "x.add_row(['SVR+TSVD','one_hot',.5567,.5157,.5021])\n",
        "x.add_row(['SVR+selectKBest','one_hot',.5639,.5167,.5079])\n",
        "x.add_row(['NeuralNet','one_hot',.5657,0.5528,0.5370])\n",
        "print(x)"
      ],
      "execution_count": 34,
      "outputs": [
        {
          "output_type": "stream",
          "text": [
            "+-------------------------------+----------------------+--------+----------+-----------+\n",
            "|             Model             | Categorical_encoding |   CV   | PublicLB | PrivateLB |\n",
            "+-------------------------------+----------------------+--------+----------+-----------+\n",
            "|            XGB_pca            |        label         | 0.5972 |  0.5615  |   0.5463  |\n",
            "|           LinearReg           |       one_hot        | 0.583  |  0.5325  |   0.5378  |\n",
            "|           LinearReg           |       mean/tar       | 0.5838 |  0.5438  |   0.5379  |\n",
            "|          RandomForest         |       mean/tar       | 0.6055 |  0.5586  |   0.5489  |\n",
            "|            XGboost            |       mean/tar       | 0.6081 |  0.557   |   0.5483  |\n",
            "|           ExtraTrees          |       mean/tar       | 0.6009 |  0.5554  |   0.5483  |\n",
            "|          RandomForest         |        label         | 0.6023 |  0.5568  |   0.5498  |\n",
            "|            XGboost            |        label         | 0.6042 |  0.5555  |   0.5503  |\n",
            "|           ExtraTrees          |        label         | 0.5986 |  0.5537  |   0.547   |\n",
            "|    ***Stacked(et,rf,xgb)***   |        label         | 0.6052 |  0.5579  |   0.5522  |\n",
            "| Stack+interactions(et,rf,xgb) |        label         | 0.6044 |  0.5573  |   0.5519  |\n",
            "|            SVR+TSVD           |       one_hot        | 0.5567 |  0.5157  |   0.5021  |\n",
            "|        SVR+selectKBest        |       one_hot        | 0.5639 |  0.5167  |   0.5079  |\n",
            "|           NeuralNet           |       one_hot        | 0.5657 |  0.5528  |   0.537   |\n",
            "+-------------------------------+----------------------+--------+----------+-----------+\n"
          ],
          "name": "stdout"
        }
      ]
    },
    {
      "cell_type": "markdown",
      "metadata": {
        "id": "U8WdB2bQyVSD",
        "colab_type": "text"
      },
      "source": [
        "### **Overview of the Project** \n",
        "**DataExploration observations**\n",
        "\n",
        "369columns ,4209 rows,no missing values present\n",
        "There are 20-25 outliers,duplicate rows,along with columns present.Correlation between some features is really high,Pca seems to be of some Importance.\n",
        "\n",
        "**DataPreperation**\n",
        "\n",
        "Removal of features with <.01 variance,clipping of outliers to 150,dataset with label encoding ,one-hot,mean encoding of categorical variables done.\n",
        "\n",
        "**Modelling**\n",
        "\n",
        "CV used was of 15 folds with 5 fold,3 repeats\n",
        "random_seed with 3 used throughout for reproducibility.\n",
        "\n",
        "1.   Baseline was with 12 pca components appended to label encoded datasetwith xgboost on top, averaging of 15 cv models is done along with one trained on whole dataset.\n",
        "2.   LinearRegression with one-hot encoding and mean enconding done.\n",
        "t-test was used to check on cv folds whether ID feature really made any statistical significance on CV folds or not. Found out it doesen't.\n",
        "3.   Mean encoding was done on RandomForestRegressor,XGBRegressor,ExtraTreesRegressor with their respective hyperparameter tuning.\n",
        "4.   Label encoding dataset used with all the three models with tuning(RF,XGB,ExtraTrees)\n",
        "5.   Stacking done on above tree based models with a ridge Regressor on top.\n",
        "6.   New features are tried based on their Spearman correlation with the target variable. \n",
        "\n",
        "7.   Linear SVR and kernel SVR are modelled on one_hot encoding, here to reduce dimensionality TSVD and SelectKBest, both were tried out.\n",
        "8.   Bayesian  Optimization library has been used to further finely tune the tree based models. \n",
        "7.   A Deeplearning model with a simple architecture has  been created on the one-hot encoded dataset. \n",
        "8.   Storing the best model of all the above.\n",
        "7.   Checking for reproducibility of results.\n",
        "8.   Conclusion with pretty table with PublicLB,PrivateLB,CV scores of above mentioned models.\n",
        "\n",
        "\n",
        "\n",
        "\n",
        "\n",
        "\n"
      ]
    },
    {
      "cell_type": "code",
      "metadata": {
        "id": "TkkFJkWRyca6",
        "colab_type": "code",
        "colab": {}
      },
      "source": [
        ""
      ],
      "execution_count": 0,
      "outputs": []
    }
  ]
}